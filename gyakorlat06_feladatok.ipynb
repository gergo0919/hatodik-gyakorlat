{
    "metadata": {
        "kernelspec": {
            "name": "SQL",
            "display_name": "SQL",
            "language": "sql"
        },
        "language_info": {
            "name": "sql",
            "version": ""
        }
    },
    "nbformat_minor": 2,
    "nbformat": 4,
    "cells": [
        {
            "cell_type": "markdown",
            "source": [
                "1. <span style=\"background-color: rgb(255, 255, 255); color: rgb(0, 0, 0); font-family: &quot;Open Sans&quot;, sans-serif; font-size: 14.44px;\">Készítsünk sorszámozott listát a szálláshelyek adatairól!&nbsp;</span> \n",
                "\n",
                "a. A lista legyen a szálláshely típusa szerint, azon belül hely szerint, majd a neve szerint növekvően rendezve! \n",
                "\n",
                "b. A számozás típusonként kezdődjön újra!"
            ],
            "metadata": {
                "azdata_cell_guid": "363cd270-6577-449b-9c89-d4b7c7972d52"
            },
            "attachments": {}
        },
        {
            "cell_type": "code",
            "source": [
                ""
            ],
            "metadata": {
                "azdata_cell_guid": "6ab9f633-a3b5-48c9-a1dc-4fb8235ae85b",
                "language": "sql"
            },
            "outputs": [],
            "execution_count": null
        },
        {
            "cell_type": "markdown",
            "source": [
                "2. <span style=\"background-color: rgb(255, 255, 255); color: rgb(0, 0, 0); font-family: &quot;Open Sans&quot;, sans-serif; font-size: 14.44px;\">Készítsünk lekérdezést, amely a foglalások adatait jeleníti meg!&nbsp;</span> \n",
                "\n",
                "a. A lista tartalmazzon két új oszlopot, amelyek az adott ügyfél legrövidebb, illetve leghosszabb foglalásának hosszát (a foglalt napok számát) mutatják meg! \n",
                "\n",
                "b. Az oszlopokat nevezzük el értelemszerűen!"
            ],
            "metadata": {
                "azdata_cell_guid": "ea75c103-911f-41a3-a32c-3d40fb3e4e4a"
            },
            "attachments": {}
        },
        {
            "cell_type": "code",
            "source": [
                ""
            ],
            "metadata": {
                "azdata_cell_guid": "222b9618-a8e8-42b4-a8e8-d002257122b7",
                "language": "sql"
            },
            "outputs": [],
            "execution_count": null
        },
        {
            "cell_type": "markdown",
            "source": [
                "```\n",
                "3. Készítsük listát, amely megjeleníti az ügyfelek azonosítóját, nevét és a foglalásainak kezdő- és befejező dátumát, valamint azt, hogy a foglalás összesen hány főre történt! \n",
                "```\n",
                "\n",
                "a. Egy új oszlopban jelenítsük meg azt is, hogy az ügyfél előző három foglalása összesen hány főre történt!\n",
                "\n",
                "![](https://moodle.uni-corvinus.hu/theme/image.php/adaptable/atto_h5p/1709548862/icon)"
            ],
            "metadata": {
                "azdata_cell_guid": "d7876bb9-76d0-4d07-baed-3cb17b2f96c3"
            },
            "attachments": {}
        },
        {
            "cell_type": "code",
            "source": [
                "SELECT v.usernev, v.nev, f.mettol, f.meddig,\r\n",
                "f.FELNOTT_SZAM+F.GYERMEK_SZAM AS 'fő',\r\n",
                "sum(f.FELNOTT_SZAM+f.GYERMEK_SZAM) over(PARTITION BY f.ugyfel_fk\r\n",
                "ORDER by f.foglalas_pk\r\n",
                "rows BETWEEN 3 preceding and 1 preceding)\r\n",
                "FROM vendeg v\r\n",
                "JOIN foglalas f on  f.ugyfel_fk=v.usernev\r\n",
                ""
            ],
            "metadata": {
                "azdata_cell_guid": "56ec19ce-e249-4551-b2a8-f17569765acc",
                "language": "sql",
                "tags": []
            },
            "outputs": [
                {
                    "output_type": "display_data",
                    "data": {
                        "text/html": "(1027 rows affected)"
                    },
                    "metadata": {}
                },
                {
                    "output_type": "display_data",
                    "data": {
                        "text/html": "Total execution time: 00:00:00.022"
                    },
                    "metadata": {}
                },
                {
                    "output_type": "execute_result",
                    "metadata": {},
                    "execution_count": 24,
                    "data": {
                        "application/vnd.dataresource+json": {
                            "schema": {
                                "fields": [
                                    {
                                        "name": "usernev"
                                    },
                                    {
                                        "name": "nev"
                                    },
                                    {
                                        "name": "mettol"
                                    },
                                    {
                                        "name": "meddig"
                                    },
                                    {
                                        "name": "fő"
                                    },
                                    {
                                        "name": "(No column name)"
                                    }
                                ]
                            },
                            "data": [
                                {
                                    "usernev": "adam1",
                                    "nev": "Kiss Ádám",
                                    "mettol": "2016-08-20",
                                    "meddig": "2016-08-24",
                                    "fő": "1",
                                    "(No column name)": "NULL"
                                },
                                {
                                    "usernev": "adam1",
                                    "nev": "Kiss Ádám",
                                    "mettol": "2016-05-28",
                                    "meddig": "2016-06-03",
                                    "fő": "3",
                                    "(No column name)": "1"
                                },
                                {
                                    "usernev": "adam1",
                                    "nev": "Kiss Ádám",
                                    "mettol": "2016-10-19",
                                    "meddig": "2016-10-24",
                                    "fő": "2",
                                    "(No column name)": "4"
                                },
                                {
                                    "usernev": "adam3",
                                    "nev": "Barkóci Ádám",
                                    "mettol": "2016-09-12",
                                    "meddig": "2016-09-16",
                                    "fő": "2",
                                    "(No column name)": "NULL"
                                },
                                {
                                    "usernev": "adam3",
                                    "nev": "Barkóci Ádám",
                                    "mettol": "2017-02-06",
                                    "meddig": "2017-02-10",
                                    "fő": "1",
                                    "(No column name)": "2"
                                },
                                {
                                    "usernev": "adam4",
                                    "nev": "Bieniek Ádám",
                                    "mettol": "2016-08-28",
                                    "meddig": "2016-08-30",
                                    "fő": "3",
                                    "(No column name)": "NULL"
                                },
                                {
                                    "usernev": "adam4",
                                    "nev": "Bieniek Ádám",
                                    "mettol": "2016-10-27",
                                    "meddig": "2016-11-02",
                                    "fő": "3",
                                    "(No column name)": "3"
                                },
                                {
                                    "usernev": "adam4",
                                    "nev": "Bieniek Ádám",
                                    "mettol": "2016-11-15",
                                    "meddig": "2016-11-18",
                                    "fő": "2",
                                    "(No column name)": "6"
                                },
                                {
                                    "usernev": "adam4",
                                    "nev": "Bieniek Ádám",
                                    "mettol": "2016-12-06",
                                    "meddig": "2016-12-09",
                                    "fő": "3",
                                    "(No column name)": "8"
                                },
                                {
                                    "usernev": "adam4",
                                    "nev": "Bieniek Ádám",
                                    "mettol": "2017-01-12",
                                    "meddig": "2017-01-19",
                                    "fő": "2",
                                    "(No column name)": "8"
                                },
                                {
                                    "usernev": "adam4",
                                    "nev": "Bieniek Ádám",
                                    "mettol": "2017-02-23",
                                    "meddig": "2017-02-27",
                                    "fő": "3",
                                    "(No column name)": "7"
                                },
                                {
                                    "usernev": "agnes",
                                    "nev": "Lengyel Ágnes",
                                    "mettol": "2016-05-09",
                                    "meddig": "2016-05-11",
                                    "fő": "3",
                                    "(No column name)": "NULL"
                                },
                                {
                                    "usernev": "agnes",
                                    "nev": "Lengyel Ágnes",
                                    "mettol": "2016-07-13",
                                    "meddig": "2016-07-19",
                                    "fő": "3",
                                    "(No column name)": "3"
                                },
                                {
                                    "usernev": "agnes",
                                    "nev": "Lengyel Ágnes",
                                    "mettol": "2016-07-30",
                                    "meddig": "2016-08-06",
                                    "fő": "3",
                                    "(No column name)": "6"
                                },
                                {
                                    "usernev": "agnes",
                                    "nev": "Lengyel Ágnes",
                                    "mettol": "2016-05-25",
                                    "meddig": "2016-05-30",
                                    "fő": "1",
                                    "(No column name)": "9"
                                },
                                {
                                    "usernev": "agnes",
                                    "nev": "Lengyel Ágnes",
                                    "mettol": "2016-11-07",
                                    "meddig": "2016-11-13",
                                    "fő": "2",
                                    "(No column name)": "7"
                                },
                                {
                                    "usernev": "agnes3",
                                    "nev": "Hartyánszky Ágnes",
                                    "mettol": "2016-08-04",
                                    "meddig": "2016-08-10",
                                    "fő": "1",
                                    "(No column name)": "NULL"
                                },
                                {
                                    "usernev": "agnes3",
                                    "nev": "Hartyánszky Ágnes",
                                    "mettol": "2016-10-22",
                                    "meddig": "2016-10-23",
                                    "fő": "3",
                                    "(No column name)": "1"
                                },
                                {
                                    "usernev": "agnes3",
                                    "nev": "Hartyánszky Ágnes",
                                    "mettol": "2017-02-16",
                                    "meddig": "2017-02-21",
                                    "fő": "3",
                                    "(No column name)": "4"
                                },
                                {
                                    "usernev": "AGNESH",
                                    "nev": "Horváth Ágnes",
                                    "mettol": "2016-04-10",
                                    "meddig": "2016-04-12",
                                    "fő": "2",
                                    "(No column name)": "NULL"
                                },
                                {
                                    "usernev": "AGNESH",
                                    "nev": "Horváth Ágnes",
                                    "mettol": "2016-04-27",
                                    "meddig": "2016-04-28",
                                    "fő": "4",
                                    "(No column name)": "2"
                                },
                                {
                                    "usernev": "AGNESH",
                                    "nev": "Horváth Ágnes",
                                    "mettol": "2016-06-23",
                                    "meddig": "2016-06-26",
                                    "fő": "1",
                                    "(No column name)": "6"
                                },
                                {
                                    "usernev": "AGNESH",
                                    "nev": "Horváth Ágnes",
                                    "mettol": "2016-10-30",
                                    "meddig": "2016-11-04",
                                    "fő": "1",
                                    "(No column name)": "7"
                                },
                                {
                                    "usernev": "AGNESH",
                                    "nev": "Horváth Ágnes",
                                    "mettol": "2017-01-03",
                                    "meddig": "2017-01-10",
                                    "fő": "2",
                                    "(No column name)": "6"
                                },
                                {
                                    "usernev": "AGNESH",
                                    "nev": "Horváth Ágnes",
                                    "mettol": "2017-01-16",
                                    "meddig": "2017-01-23",
                                    "fő": "3",
                                    "(No column name)": "4"
                                },
                                {
                                    "usernev": "AGNESK",
                                    "nev": "Kovács Ágnes",
                                    "mettol": "2016-07-29",
                                    "meddig": "2016-08-01",
                                    "fő": "3",
                                    "(No column name)": "NULL"
                                },
                                {
                                    "usernev": "AGNESK",
                                    "nev": "Kovács Ágnes",
                                    "mettol": "2016-10-17",
                                    "meddig": "2016-10-19",
                                    "fő": "2",
                                    "(No column name)": "3"
                                },
                                {
                                    "usernev": "AGNESK",
                                    "nev": "Kovács Ágnes",
                                    "mettol": "2016-12-17",
                                    "meddig": "2016-12-18",
                                    "fő": "2",
                                    "(No column name)": "5"
                                },
                                {
                                    "usernev": "akos",
                                    "nev": "Bíró Ákos",
                                    "mettol": "2016-05-18",
                                    "meddig": "2016-05-19",
                                    "fő": "2",
                                    "(No column name)": "NULL"
                                },
                                {
                                    "usernev": "akos",
                                    "nev": "Bíró Ákos",
                                    "mettol": "2016-07-14",
                                    "meddig": "2016-07-19",
                                    "fő": "2",
                                    "(No column name)": "2"
                                },
                                {
                                    "usernev": "akos",
                                    "nev": "Bíró Ákos",
                                    "mettol": "2016-07-16",
                                    "meddig": "2016-07-18",
                                    "fő": "2",
                                    "(No column name)": "4"
                                },
                                {
                                    "usernev": "akos",
                                    "nev": "Bíró Ákos",
                                    "mettol": "2016-07-22",
                                    "meddig": "2016-07-26",
                                    "fő": "1",
                                    "(No column name)": "6"
                                },
                                {
                                    "usernev": "akos",
                                    "nev": "Bíró Ákos",
                                    "mettol": "2016-09-06",
                                    "meddig": "2016-09-12",
                                    "fő": "1",
                                    "(No column name)": "5"
                                },
                                {
                                    "usernev": "akos",
                                    "nev": "Bíró Ákos",
                                    "mettol": "2016-10-05",
                                    "meddig": "2016-10-09",
                                    "fő": "2",
                                    "(No column name)": "4"
                                },
                                {
                                    "usernev": "akos",
                                    "nev": "Bíró Ákos",
                                    "mettol": "2016-10-18",
                                    "meddig": "2016-10-23",
                                    "fő": "2",
                                    "(No column name)": "4"
                                },
                                {
                                    "usernev": "akos",
                                    "nev": "Bíró Ákos",
                                    "mettol": "2016-11-21",
                                    "meddig": "2016-11-27",
                                    "fő": "2",
                                    "(No column name)": "5"
                                },
                                {
                                    "usernev": "akos",
                                    "nev": "Bíró Ákos",
                                    "mettol": "2016-12-15",
                                    "meddig": "2016-12-21",
                                    "fő": "2",
                                    "(No column name)": "6"
                                },
                                {
                                    "usernev": "akos",
                                    "nev": "Bíró Ákos",
                                    "mettol": "2016-12-29",
                                    "meddig": "2016-12-30",
                                    "fő": "3",
                                    "(No column name)": "6"
                                },
                                {
                                    "usernev": "aladar",
                                    "nev": "Dunai Aladár",
                                    "mettol": "2016-05-17",
                                    "meddig": "2016-05-24",
                                    "fő": "1",
                                    "(No column name)": "NULL"
                                },
                                {
                                    "usernev": "aladar",
                                    "nev": "Dunai Aladár",
                                    "mettol": "2016-09-24",
                                    "meddig": "2016-09-28",
                                    "fő": "1",
                                    "(No column name)": "1"
                                },
                                {
                                    "usernev": "aladar",
                                    "nev": "Dunai Aladár",
                                    "mettol": "2016-11-22",
                                    "meddig": "2016-11-23",
                                    "fő": "2",
                                    "(No column name)": "2"
                                },
                                {
                                    "usernev": "alexandra",
                                    "nev": "Bagóczki Alexandra",
                                    "mettol": "2016-05-21",
                                    "meddig": "2016-05-27",
                                    "fő": "3",
                                    "(No column name)": "NULL"
                                },
                                {
                                    "usernev": "alexandra",
                                    "nev": "Bagóczki Alexandra",
                                    "mettol": "2016-07-27",
                                    "meddig": "2016-07-30",
                                    "fő": "2",
                                    "(No column name)": "3"
                                },
                                {
                                    "usernev": "alexandra",
                                    "nev": "Bagóczki Alexandra",
                                    "mettol": "2016-06-08",
                                    "meddig": "2016-06-11",
                                    "fő": "3",
                                    "(No column name)": "5"
                                },
                                {
                                    "usernev": "alexandra",
                                    "nev": "Bagóczki Alexandra",
                                    "mettol": "2016-10-21",
                                    "meddig": "2016-10-25",
                                    "fő": "2",
                                    "(No column name)": "8"
                                },
                                {
                                    "usernev": "alexandra",
                                    "nev": "Bagóczki Alexandra",
                                    "mettol": "2016-11-29",
                                    "meddig": "2016-12-05",
                                    "fő": "2",
                                    "(No column name)": "7"
                                },
                                {
                                    "usernev": "alexandra",
                                    "nev": "Bagóczki Alexandra",
                                    "mettol": "2017-01-13",
                                    "meddig": "2017-01-14",
                                    "fő": "1",
                                    "(No column name)": "7"
                                },
                                {
                                    "usernev": "alexandra",
                                    "nev": "Bagóczki Alexandra",
                                    "mettol": "2017-01-19",
                                    "meddig": "2017-01-26",
                                    "fő": "2",
                                    "(No column name)": "5"
                                },
                                {
                                    "usernev": "andi",
                                    "nev": "Maródi Andrea",
                                    "mettol": "2016-05-08",
                                    "meddig": "2016-05-14",
                                    "fő": "4",
                                    "(No column name)": "NULL"
                                },
                                {
                                    "usernev": "andi",
                                    "nev": "Maródi Andrea",
                                    "mettol": "2016-06-13",
                                    "meddig": "2016-06-14",
                                    "fő": "1",
                                    "(No column name)": "4"
                                },
                                {
                                    "usernev": "andi",
                                    "nev": "Maródi Andrea",
                                    "mettol": "2016-09-13",
                                    "meddig": "2016-09-16",
                                    "fő": "2",
                                    "(No column name)": "5"
                                },
                                {
                                    "usernev": "andi",
                                    "nev": "Maródi Andrea",
                                    "mettol": "2016-11-16",
                                    "meddig": "2016-11-17",
                                    "fő": "3",
                                    "(No column name)": "7"
                                },
                                {
                                    "usernev": "andi",
                                    "nev": "Maródi Andrea",
                                    "mettol": "2017-01-13",
                                    "meddig": "2017-01-17",
                                    "fő": "3",
                                    "(No column name)": "6"
                                },
                                {
                                    "usernev": "andras2",
                                    "nev": "Tóth András",
                                    "mettol": "2016-07-20",
                                    "meddig": "2016-07-22",
                                    "fő": "2",
                                    "(No column name)": "NULL"
                                },
                                {
                                    "usernev": "andras2",
                                    "nev": "Tóth András",
                                    "mettol": "2016-05-30",
                                    "meddig": "2016-06-04",
                                    "fő": "1",
                                    "(No column name)": "2"
                                },
                                {
                                    "usernev": "andras2",
                                    "nev": "Tóth András",
                                    "mettol": "2016-09-30",
                                    "meddig": "2016-10-03",
                                    "fő": "2",
                                    "(No column name)": "3"
                                },
                                {
                                    "usernev": "andras2",
                                    "nev": "Tóth András",
                                    "mettol": "2016-10-07",
                                    "meddig": "2016-10-10",
                                    "fő": "3",
                                    "(No column name)": "5"
                                },
                                {
                                    "usernev": "andras2",
                                    "nev": "Tóth András",
                                    "mettol": "2017-02-08",
                                    "meddig": "2017-02-10",
                                    "fő": "4",
                                    "(No column name)": "6"
                                },
                                {
                                    "usernev": "andras21",
                                    "nev": "Molnár András",
                                    "mettol": "2016-07-20",
                                    "meddig": "2016-07-22",
                                    "fő": "1",
                                    "(No column name)": "NULL"
                                },
                                {
                                    "usernev": "andras21",
                                    "nev": "Molnár András",
                                    "mettol": "2016-06-21",
                                    "meddig": "2016-06-26",
                                    "fő": "2",
                                    "(No column name)": "1"
                                },
                                {
                                    "usernev": "andras21",
                                    "nev": "Molnár András",
                                    "mettol": "2016-07-04",
                                    "meddig": "2016-07-05",
                                    "fő": "3",
                                    "(No column name)": "3"
                                },
                                {
                                    "usernev": "andras21",
                                    "nev": "Molnár András",
                                    "mettol": "2016-10-01",
                                    "meddig": "2016-10-06",
                                    "fő": "3",
                                    "(No column name)": "6"
                                },
                                {
                                    "usernev": "andras21",
                                    "nev": "Molnár András",
                                    "mettol": "2016-10-04",
                                    "meddig": "2016-10-11",
                                    "fő": "3",
                                    "(No column name)": "8"
                                },
                                {
                                    "usernev": "andras21",
                                    "nev": "Molnár András",
                                    "mettol": "2016-11-23",
                                    "meddig": "2016-11-24",
                                    "fő": "4",
                                    "(No column name)": "9"
                                },
                                {
                                    "usernev": "andras21",
                                    "nev": "Molnár András",
                                    "mettol": "2017-01-28",
                                    "meddig": "2017-02-01",
                                    "fő": "2",
                                    "(No column name)": "10"
                                },
                                {
                                    "usernev": "andras3",
                                    "nev": "Vígh András",
                                    "mettol": "2016-05-01",
                                    "meddig": "2016-05-06",
                                    "fő": "2",
                                    "(No column name)": "NULL"
                                },
                                {
                                    "usernev": "andras3",
                                    "nev": "Vígh András",
                                    "mettol": "2016-07-15",
                                    "meddig": "2016-07-19",
                                    "fő": "3",
                                    "(No column name)": "2"
                                },
                                {
                                    "usernev": "andras3",
                                    "nev": "Vígh András",
                                    "mettol": "2016-07-21",
                                    "meddig": "2016-07-23",
                                    "fő": "2",
                                    "(No column name)": "5"
                                },
                                {
                                    "usernev": "andras3",
                                    "nev": "Vígh András",
                                    "mettol": "2016-08-29",
                                    "meddig": "2016-09-02",
                                    "fő": "3",
                                    "(No column name)": "7"
                                },
                                {
                                    "usernev": "andras3",
                                    "nev": "Vígh András",
                                    "mettol": "2016-05-30",
                                    "meddig": "2016-06-03",
                                    "fő": "1",
                                    "(No column name)": "8"
                                },
                                {
                                    "usernev": "andras3",
                                    "nev": "Vígh András",
                                    "mettol": "2016-06-10",
                                    "meddig": "2016-06-11",
                                    "fő": "1",
                                    "(No column name)": "6"
                                },
                                {
                                    "usernev": "andras3",
                                    "nev": "Vígh András",
                                    "mettol": "2016-11-28",
                                    "meddig": "2016-12-02",
                                    "fő": "2",
                                    "(No column name)": "5"
                                },
                                {
                                    "usernev": "andras3",
                                    "nev": "Vígh András",
                                    "mettol": "2017-02-02",
                                    "meddig": "2017-02-08",
                                    "fő": "2",
                                    "(No column name)": "4"
                                },
                                {
                                    "usernev": "andras4",
                                    "nev": "Back András",
                                    "mettol": "2016-09-17",
                                    "meddig": "2016-09-20",
                                    "fő": "2",
                                    "(No column name)": "NULL"
                                },
                                {
                                    "usernev": "andras4",
                                    "nev": "Back András",
                                    "mettol": "2016-11-25",
                                    "meddig": "2016-11-28",
                                    "fő": "2",
                                    "(No column name)": "2"
                                },
                                {
                                    "usernev": "andras4",
                                    "nev": "Back András",
                                    "mettol": "2017-01-09",
                                    "meddig": "2017-01-10",
                                    "fő": "2",
                                    "(No column name)": "4"
                                },
                                {
                                    "usernev": "andras41",
                                    "nev": "Komjáti András",
                                    "mettol": "2016-05-14",
                                    "meddig": "2016-05-16",
                                    "fő": "2",
                                    "(No column name)": "NULL"
                                },
                                {
                                    "usernev": "andras41",
                                    "nev": "Komjáti András",
                                    "mettol": "2016-05-21",
                                    "meddig": "2016-05-23",
                                    "fő": "4",
                                    "(No column name)": "2"
                                },
                                {
                                    "usernev": "andras41",
                                    "nev": "Komjáti András",
                                    "mettol": "2016-07-28",
                                    "meddig": "2016-08-03",
                                    "fő": "3",
                                    "(No column name)": "6"
                                },
                                {
                                    "usernev": "andras41",
                                    "nev": "Komjáti András",
                                    "mettol": "2016-08-17",
                                    "meddig": "2016-08-21",
                                    "fő": "3",
                                    "(No column name)": "9"
                                },
                                {
                                    "usernev": "andras41",
                                    "nev": "Komjáti András",
                                    "mettol": "2016-08-19",
                                    "meddig": "2016-08-23",
                                    "fő": "1",
                                    "(No column name)": "10"
                                },
                                {
                                    "usernev": "andras41",
                                    "nev": "Komjáti András",
                                    "mettol": "2016-06-07",
                                    "meddig": "2016-06-11",
                                    "fő": "3",
                                    "(No column name)": "7"
                                },
                                {
                                    "usernev": "andras41",
                                    "nev": "Komjáti András",
                                    "mettol": "2016-06-23",
                                    "meddig": "2016-06-29",
                                    "fő": "2",
                                    "(No column name)": "7"
                                },
                                {
                                    "usernev": "andras41",
                                    "nev": "Komjáti András",
                                    "mettol": "2016-09-22",
                                    "meddig": "2016-09-29",
                                    "fő": "1",
                                    "(No column name)": "6"
                                },
                                {
                                    "usernev": "andras41",
                                    "nev": "Komjáti András",
                                    "mettol": "2016-09-30",
                                    "meddig": "2016-10-05",
                                    "fő": "2",
                                    "(No column name)": "6"
                                },
                                {
                                    "usernev": "andras41",
                                    "nev": "Komjáti András",
                                    "mettol": "2016-10-09",
                                    "meddig": "2016-10-13",
                                    "fő": "2",
                                    "(No column name)": "5"
                                },
                                {
                                    "usernev": "andras41",
                                    "nev": "Komjáti András",
                                    "mettol": "2016-10-15",
                                    "meddig": "2016-10-18",
                                    "fő": "3",
                                    "(No column name)": "5"
                                },
                                {
                                    "usernev": "andras41",
                                    "nev": "Komjáti András",
                                    "mettol": "2016-11-20",
                                    "meddig": "2016-11-24",
                                    "fő": "3",
                                    "(No column name)": "7"
                                },
                                {
                                    "usernev": "andras41",
                                    "nev": "Komjáti András",
                                    "mettol": "2016-11-23",
                                    "meddig": "2016-11-24",
                                    "fő": "1",
                                    "(No column name)": "8"
                                },
                                {
                                    "usernev": "ANDRASE",
                                    "nev": "Erdei András",
                                    "mettol": "2016-04-24",
                                    "meddig": "2016-05-01",
                                    "fő": "1",
                                    "(No column name)": "NULL"
                                },
                                {
                                    "usernev": "ANDRASE",
                                    "nev": "Erdei András",
                                    "mettol": "2016-08-16",
                                    "meddig": "2016-08-20",
                                    "fő": "2",
                                    "(No column name)": "1"
                                },
                                {
                                    "usernev": "ANDRASE",
                                    "nev": "Erdei András",
                                    "mettol": "2016-07-06",
                                    "meddig": "2016-07-07",
                                    "fő": "2",
                                    "(No column name)": "3"
                                },
                                {
                                    "usernev": "ANDRASE",
                                    "nev": "Erdei András",
                                    "mettol": "2016-11-19",
                                    "meddig": "2016-11-20",
                                    "fő": "4",
                                    "(No column name)": "5"
                                },
                                {
                                    "usernev": "ANDRASE",
                                    "nev": "Erdei András",
                                    "mettol": "2016-11-29",
                                    "meddig": "2016-12-06",
                                    "fő": "3",
                                    "(No column name)": "8"
                                },
                                {
                                    "usernev": "ANDRASN",
                                    "nev": "Nagy András",
                                    "mettol": "2016-11-25",
                                    "meddig": "2016-12-01",
                                    "fő": "2",
                                    "(No column name)": "NULL"
                                },
                                {
                                    "usernev": "andrea",
                                    "nev": "Kiss Andrea",
                                    "mettol": "2016-07-27",
                                    "meddig": "2016-07-28",
                                    "fő": "2",
                                    "(No column name)": "NULL"
                                },
                                {
                                    "usernev": "andrea",
                                    "nev": "Kiss Andrea",
                                    "mettol": "2016-08-01",
                                    "meddig": "2016-08-02",
                                    "fő": "2",
                                    "(No column name)": "2"
                                },
                                {
                                    "usernev": "andrea",
                                    "nev": "Kiss Andrea",
                                    "mettol": "2016-08-23",
                                    "meddig": "2016-08-26",
                                    "fő": "3",
                                    "(No column name)": "4"
                                },
                                {
                                    "usernev": "andrea",
                                    "nev": "Kiss Andrea",
                                    "mettol": "2016-08-26",
                                    "meddig": "2016-08-30",
                                    "fő": "2",
                                    "(No column name)": "7"
                                },
                                {
                                    "usernev": "andrea",
                                    "nev": "Kiss Andrea",
                                    "mettol": "2016-10-21",
                                    "meddig": "2016-10-27",
                                    "fő": "4",
                                    "(No column name)": "7"
                                },
                                {
                                    "usernev": "andrea",
                                    "nev": "Kiss Andrea",
                                    "mettol": "2017-02-09",
                                    "meddig": "2017-02-14",
                                    "fő": "2",
                                    "(No column name)": "9"
                                },
                                {
                                    "usernev": "andrea3",
                                    "nev": "Szomor Andrea",
                                    "mettol": "2016-11-19",
                                    "meddig": "2016-11-21",
                                    "fő": "3",
                                    "(No column name)": "NULL"
                                },
                                {
                                    "usernev": "andrea4",
                                    "nev": "Neizer Andrea",
                                    "mettol": "2016-05-27",
                                    "meddig": "2016-05-29",
                                    "fő": "1",
                                    "(No column name)": "NULL"
                                },
                                {
                                    "usernev": "andrea4",
                                    "nev": "Neizer Andrea",
                                    "mettol": "2016-09-13",
                                    "meddig": "2016-09-17",
                                    "fő": "2",
                                    "(No column name)": "1"
                                },
                                {
                                    "usernev": "andrea4",
                                    "nev": "Neizer Andrea",
                                    "mettol": "2016-10-30",
                                    "meddig": "2016-11-06",
                                    "fő": "3",
                                    "(No column name)": "3"
                                },
                                {
                                    "usernev": "andrea4",
                                    "nev": "Neizer Andrea",
                                    "mettol": "2017-01-22",
                                    "meddig": "2017-01-29",
                                    "fő": "2",
                                    "(No column name)": "6"
                                },
                                {
                                    "usernev": "ANDREAT",
                                    "nev": "Tornyos Andrea",
                                    "mettol": "2016-07-27",
                                    "meddig": "2016-08-01",
                                    "fő": "2",
                                    "(No column name)": "NULL"
                                },
                                {
                                    "usernev": "ANDREAT",
                                    "nev": "Tornyos Andrea",
                                    "mettol": "2016-09-15",
                                    "meddig": "2016-09-16",
                                    "fő": "2",
                                    "(No column name)": "2"
                                },
                                {
                                    "usernev": "ANDREAT",
                                    "nev": "Tornyos Andrea",
                                    "mettol": "2016-10-08",
                                    "meddig": "2016-10-12",
                                    "fő": "3",
                                    "(No column name)": "4"
                                },
                                {
                                    "usernev": "anett3",
                                    "nev": "Pivarcsi Anett",
                                    "mettol": "2016-04-10",
                                    "meddig": "2016-04-17",
                                    "fő": "1",
                                    "(No column name)": "NULL"
                                },
                                {
                                    "usernev": "anett3",
                                    "nev": "Pivarcsi Anett",
                                    "mettol": "2016-04-13",
                                    "meddig": "2016-04-19",
                                    "fő": "3",
                                    "(No column name)": "1"
                                },
                                {
                                    "usernev": "anett3",
                                    "nev": "Pivarcsi Anett",
                                    "mettol": "2016-04-15",
                                    "meddig": "2016-04-19",
                                    "fő": "3",
                                    "(No column name)": "4"
                                },
                                {
                                    "usernev": "anett3",
                                    "nev": "Pivarcsi Anett",
                                    "mettol": "2016-04-28",
                                    "meddig": "2016-05-02",
                                    "fő": "3",
                                    "(No column name)": "7"
                                },
                                {
                                    "usernev": "anett3",
                                    "nev": "Pivarcsi Anett",
                                    "mettol": "2016-08-15",
                                    "meddig": "2016-08-16",
                                    "fő": "2",
                                    "(No column name)": "9"
                                },
                                {
                                    "usernev": "anett3",
                                    "nev": "Pivarcsi Anett",
                                    "mettol": "2016-08-17",
                                    "meddig": "2016-08-23",
                                    "fő": "3",
                                    "(No column name)": "8"
                                },
                                {
                                    "usernev": "anett3",
                                    "nev": "Pivarcsi Anett",
                                    "mettol": "2016-10-12",
                                    "meddig": "2016-10-19",
                                    "fő": "3",
                                    "(No column name)": "8"
                                },
                                {
                                    "usernev": "anett3",
                                    "nev": "Pivarcsi Anett",
                                    "mettol": "2016-10-16",
                                    "meddig": "2016-10-21",
                                    "fő": "1",
                                    "(No column name)": "8"
                                },
                                {
                                    "usernev": "aniko",
                                    "nev": "Tóth Anikó",
                                    "mettol": "2016-06-25",
                                    "meddig": "2016-06-30",
                                    "fő": "3",
                                    "(No column name)": "NULL"
                                },
                                {
                                    "usernev": "aniko",
                                    "nev": "Tóth Anikó",
                                    "mettol": "2017-02-12",
                                    "meddig": "2017-02-14",
                                    "fő": "3",
                                    "(No column name)": "3"
                                },
                                {
                                    "usernev": "aniko",
                                    "nev": "Tóth Anikó",
                                    "mettol": "2017-02-23",
                                    "meddig": "2017-02-24",
                                    "fő": "2",
                                    "(No column name)": "6"
                                },
                                {
                                    "usernev": "aniko4",
                                    "nev": "Böröcz Anikó",
                                    "mettol": "2016-07-22",
                                    "meddig": "2016-07-25",
                                    "fő": "3",
                                    "(No column name)": "NULL"
                                },
                                {
                                    "usernev": "aniko4",
                                    "nev": "Böröcz Anikó",
                                    "mettol": "2016-07-02",
                                    "meddig": "2016-07-09",
                                    "fő": "1",
                                    "(No column name)": "3"
                                },
                                {
                                    "usernev": "aniko4",
                                    "nev": "Böröcz Anikó",
                                    "mettol": "2016-09-05",
                                    "meddig": "2016-09-07",
                                    "fő": "4",
                                    "(No column name)": "4"
                                },
                                {
                                    "usernev": "aniko4",
                                    "nev": "Böröcz Anikó",
                                    "mettol": "2016-10-16",
                                    "meddig": "2016-10-18",
                                    "fő": "3",
                                    "(No column name)": "8"
                                },
                                {
                                    "usernev": "ANIKOS",
                                    "nev": "Simon Anikó",
                                    "mettol": "2016-04-19",
                                    "meddig": "2016-04-24",
                                    "fő": "2",
                                    "(No column name)": "NULL"
                                },
                                {
                                    "usernev": "ANIKOS",
                                    "nev": "Simon Anikó",
                                    "mettol": "2016-07-17",
                                    "meddig": "2016-07-22",
                                    "fő": "3",
                                    "(No column name)": "2"
                                },
                                {
                                    "usernev": "ANIKOS",
                                    "nev": "Simon Anikó",
                                    "mettol": "2016-08-26",
                                    "meddig": "2016-09-02",
                                    "fő": "2",
                                    "(No column name)": "5"
                                },
                                {
                                    "usernev": "ANIKOS",
                                    "nev": "Simon Anikó",
                                    "mettol": "2016-05-24",
                                    "meddig": "2016-05-25",
                                    "fő": "3",
                                    "(No column name)": "7"
                                },
                                {
                                    "usernev": "ANIKOS",
                                    "nev": "Simon Anikó",
                                    "mettol": "2016-06-16",
                                    "meddig": "2016-06-23",
                                    "fő": "1",
                                    "(No column name)": "8"
                                },
                                {
                                    "usernev": "ANIKOS",
                                    "nev": "Simon Anikó",
                                    "mettol": "2016-06-27",
                                    "meddig": "2016-06-30",
                                    "fő": "2",
                                    "(No column name)": "6"
                                },
                                {
                                    "usernev": "ANIKOS",
                                    "nev": "Simon Anikó",
                                    "mettol": "2016-10-08",
                                    "meddig": "2016-10-14",
                                    "fő": "2",
                                    "(No column name)": "6"
                                },
                                {
                                    "usernev": "ANIKOS",
                                    "nev": "Simon Anikó",
                                    "mettol": "2016-10-29",
                                    "meddig": "2016-11-05",
                                    "fő": "3",
                                    "(No column name)": "5"
                                },
                                {
                                    "usernev": "ANIKOS",
                                    "nev": "Simon Anikó",
                                    "mettol": "2016-11-10",
                                    "meddig": "2016-11-15",
                                    "fő": "2",
                                    "(No column name)": "7"
                                },
                                {
                                    "usernev": "anita",
                                    "nev": "Hamvay-Kovács Anita",
                                    "mettol": "2016-09-28",
                                    "meddig": "2016-10-02",
                                    "fő": "4",
                                    "(No column name)": "NULL"
                                },
                                {
                                    "usernev": "anita",
                                    "nev": "Hamvay-Kovács Anita",
                                    "mettol": "2016-10-01",
                                    "meddig": "2016-10-04",
                                    "fő": "2",
                                    "(No column name)": "4"
                                },
                                {
                                    "usernev": "anita",
                                    "nev": "Hamvay-Kovács Anita",
                                    "mettol": "2017-02-19",
                                    "meddig": "2017-02-22",
                                    "fő": "2",
                                    "(No column name)": "6"
                                },
                                {
                                    "usernev": "anita",
                                    "nev": "Hamvay-Kovács Anita",
                                    "mettol": "2017-02-20",
                                    "meddig": "2017-02-25",
                                    "fő": "2",
                                    "(No column name)": "8"
                                },
                                {
                                    "usernev": "annamaria1",
                                    "nev": "Szűcs Annamária",
                                    "mettol": "2016-06-06",
                                    "meddig": "2016-06-07",
                                    "fő": "3",
                                    "(No column name)": "NULL"
                                },
                                {
                                    "usernev": "annamaria1",
                                    "nev": "Szűcs Annamária",
                                    "mettol": "2017-01-30",
                                    "meddig": "2017-01-31",
                                    "fő": "4",
                                    "(No column name)": "3"
                                },
                                {
                                    "usernev": "ANNAMARIAR",
                                    "nev": "Regős Annamária",
                                    "mettol": "2016-07-18",
                                    "meddig": "2016-07-21",
                                    "fő": "1",
                                    "(No column name)": "NULL"
                                },
                                {
                                    "usernev": "ANNAMARIAR",
                                    "nev": "Regős Annamária",
                                    "mettol": "2016-06-08",
                                    "meddig": "2016-06-11",
                                    "fő": "2",
                                    "(No column name)": "1"
                                },
                                {
                                    "usernev": "ANNAMARIAR",
                                    "nev": "Regős Annamária",
                                    "mettol": "2016-09-23",
                                    "meddig": "2016-09-27",
                                    "fő": "2",
                                    "(No column name)": "3"
                                },
                                {
                                    "usernev": "ANNAMARIAR",
                                    "nev": "Regős Annamária",
                                    "mettol": "2016-11-11",
                                    "meddig": "2016-11-12",
                                    "fő": "3",
                                    "(No column name)": "5"
                                },
                                {
                                    "usernev": "ANNAMARIAR",
                                    "nev": "Regős Annamária",
                                    "mettol": "2017-01-10",
                                    "meddig": "2017-01-13",
                                    "fő": "2",
                                    "(No column name)": "7"
                                },
                                {
                                    "usernev": "ANNAMARIAR",
                                    "nev": "Regős Annamária",
                                    "mettol": "2017-02-16",
                                    "meddig": "2017-02-18",
                                    "fő": "2",
                                    "(No column name)": "7"
                                },
                                {
                                    "usernev": "aron2",
                                    "nev": "Jakab Áron",
                                    "mettol": "2016-04-11",
                                    "meddig": "2016-04-12",
                                    "fő": "3",
                                    "(No column name)": "NULL"
                                },
                                {
                                    "usernev": "aron2",
                                    "nev": "Jakab Áron",
                                    "mettol": "2016-07-04",
                                    "meddig": "2016-07-06",
                                    "fő": "3",
                                    "(No column name)": "3"
                                },
                                {
                                    "usernev": "aron2",
                                    "nev": "Jakab Áron",
                                    "mettol": "2016-10-23",
                                    "meddig": "2016-10-27",
                                    "fő": "2",
                                    "(No column name)": "6"
                                },
                                {
                                    "usernev": "aron2",
                                    "nev": "Jakab Áron",
                                    "mettol": "2016-11-05",
                                    "meddig": "2016-11-09",
                                    "fő": "2",
                                    "(No column name)": "8"
                                },
                                {
                                    "usernev": "aron2",
                                    "nev": "Jakab Áron",
                                    "mettol": "2017-01-17",
                                    "meddig": "2017-01-18",
                                    "fő": "3",
                                    "(No column name)": "7"
                                },
                                {
                                    "usernev": "aron2",
                                    "nev": "Jakab Áron",
                                    "mettol": "2017-02-26",
                                    "meddig": "2017-02-27",
                                    "fő": "3",
                                    "(No column name)": "7"
                                },
                                {
                                    "usernev": "ARONK",
                                    "nev": "Kelemen Áron",
                                    "mettol": "2016-04-06",
                                    "meddig": "2016-04-08",
                                    "fő": "2",
                                    "(No column name)": "NULL"
                                },
                                {
                                    "usernev": "ARONK",
                                    "nev": "Kelemen Áron",
                                    "mettol": "2016-05-14",
                                    "meddig": "2016-05-20",
                                    "fő": "4",
                                    "(No column name)": "2"
                                },
                                {
                                    "usernev": "ARONK",
                                    "nev": "Kelemen Áron",
                                    "mettol": "2016-08-05",
                                    "meddig": "2016-08-08",
                                    "fő": "4",
                                    "(No column name)": "6"
                                },
                                {
                                    "usernev": "ARONK",
                                    "nev": "Kelemen Áron",
                                    "mettol": "2016-06-04",
                                    "meddig": "2016-06-09",
                                    "fő": "2",
                                    "(No column name)": "10"
                                },
                                {
                                    "usernev": "ARONK",
                                    "nev": "Kelemen Áron",
                                    "mettol": "2016-06-07",
                                    "meddig": "2016-06-13",
                                    "fő": "3",
                                    "(No column name)": "10"
                                },
                                {
                                    "usernev": "ARONK",
                                    "nev": "Kelemen Áron",
                                    "mettol": "2016-07-03",
                                    "meddig": "2016-07-07",
                                    "fő": "2",
                                    "(No column name)": "9"
                                },
                                {
                                    "usernev": "ARONK",
                                    "nev": "Kelemen Áron",
                                    "mettol": "2016-09-08",
                                    "meddig": "2016-09-15",
                                    "fő": "2",
                                    "(No column name)": "7"
                                },
                                {
                                    "usernev": "ARONK",
                                    "nev": "Kelemen Áron",
                                    "mettol": "2016-11-03",
                                    "meddig": "2016-11-10",
                                    "fő": "2",
                                    "(No column name)": "7"
                                },
                                {
                                    "usernev": "ARONK",
                                    "nev": "Kelemen Áron",
                                    "mettol": "2016-11-05",
                                    "meddig": "2016-11-07",
                                    "fő": "2",
                                    "(No column name)": "6"
                                },
                                {
                                    "usernev": "ARONK",
                                    "nev": "Kelemen Áron",
                                    "mettol": "2016-12-07",
                                    "meddig": "2016-12-12",
                                    "fő": "3",
                                    "(No column name)": "6"
                                },
                                {
                                    "usernev": "ARONK",
                                    "nev": "Kelemen Áron",
                                    "mettol": "2017-01-01",
                                    "meddig": "2017-01-03",
                                    "fő": "2",
                                    "(No column name)": "7"
                                },
                                {
                                    "usernev": "ARONK",
                                    "nev": "Kelemen Áron",
                                    "mettol": "2017-01-30",
                                    "meddig": "2017-02-03",
                                    "fő": "2",
                                    "(No column name)": "7"
                                },
                                {
                                    "usernev": "ARONK",
                                    "nev": "Kelemen Áron",
                                    "mettol": "2017-02-21",
                                    "meddig": "2017-02-23",
                                    "fő": "2",
                                    "(No column name)": "7"
                                },
                                {
                                    "usernev": "arpad2",
                                    "nev": "Ötvös Árpád",
                                    "mettol": "2016-08-23",
                                    "meddig": "2016-08-25",
                                    "fő": "2",
                                    "(No column name)": "NULL"
                                },
                                {
                                    "usernev": "arpad2",
                                    "nev": "Ötvös Árpád",
                                    "mettol": "2016-06-05",
                                    "meddig": "2016-06-07",
                                    "fő": "2",
                                    "(No column name)": "2"
                                },
                                {
                                    "usernev": "arpad2",
                                    "nev": "Ötvös Árpád",
                                    "mettol": "2016-09-28",
                                    "meddig": "2016-09-30",
                                    "fő": "2",
                                    "(No column name)": "4"
                                },
                                {
                                    "usernev": "arpad2",
                                    "nev": "Ötvös Árpád",
                                    "mettol": "2016-10-13",
                                    "meddig": "2016-10-19",
                                    "fő": "3",
                                    "(No column name)": "6"
                                },
                                {
                                    "usernev": "arpad2",
                                    "nev": "Ötvös Árpád",
                                    "mettol": "2016-11-06",
                                    "meddig": "2016-11-10",
                                    "fő": "2",
                                    "(No column name)": "7"
                                },
                                {
                                    "usernev": "arpad2",
                                    "nev": "Ötvös Árpád",
                                    "mettol": "2016-12-24",
                                    "meddig": "2016-12-27",
                                    "fő": "3",
                                    "(No column name)": "7"
                                },
                                {
                                    "usernev": "arpad2",
                                    "nev": "Ötvös Árpád",
                                    "mettol": "2017-02-18",
                                    "meddig": "2017-02-19",
                                    "fő": "4",
                                    "(No column name)": "8"
                                },
                                {
                                    "usernev": "ARPADH",
                                    "nev": "Horváth Árpád",
                                    "mettol": "2016-07-14",
                                    "meddig": "2016-07-18",
                                    "fő": "2",
                                    "(No column name)": "NULL"
                                },
                                {
                                    "usernev": "ARPADH",
                                    "nev": "Horváth Árpád",
                                    "mettol": "2016-06-06",
                                    "meddig": "2016-06-07",
                                    "fő": "3",
                                    "(No column name)": "2"
                                },
                                {
                                    "usernev": "ARPADH",
                                    "nev": "Horváth Árpád",
                                    "mettol": "2016-09-16",
                                    "meddig": "2016-09-23",
                                    "fő": "1",
                                    "(No column name)": "5"
                                },
                                {
                                    "usernev": "ARPADH",
                                    "nev": "Horváth Árpád",
                                    "mettol": "2016-09-18",
                                    "meddig": "2016-09-25",
                                    "fő": "1",
                                    "(No column name)": "6"
                                },
                                {
                                    "usernev": "ARPADH",
                                    "nev": "Horváth Árpád",
                                    "mettol": "2016-12-04",
                                    "meddig": "2016-12-10",
                                    "fő": "1",
                                    "(No column name)": "5"
                                },
                                {
                                    "usernev": "ARPADH",
                                    "nev": "Horváth Árpád",
                                    "mettol": "2016-12-18",
                                    "meddig": "2016-12-19",
                                    "fő": "3",
                                    "(No column name)": "3"
                                },
                                {
                                    "usernev": "ARPADH",
                                    "nev": "Horváth Árpád",
                                    "mettol": "2017-02-16",
                                    "meddig": "2017-02-18",
                                    "fő": "2",
                                    "(No column name)": "5"
                                },
                                {
                                    "usernev": "ARPADM",
                                    "nev": "Móricz Árpád",
                                    "mettol": "2016-08-12",
                                    "meddig": "2016-08-16",
                                    "fő": "2",
                                    "(No column name)": "NULL"
                                },
                                {
                                    "usernev": "ARPADM",
                                    "nev": "Móricz Árpád",
                                    "mettol": "2016-05-29",
                                    "meddig": "2016-06-01",
                                    "fő": "2",
                                    "(No column name)": "2"
                                },
                                {
                                    "usernev": "ARPADM",
                                    "nev": "Móricz Árpád",
                                    "mettol": "2016-11-09",
                                    "meddig": "2016-11-11",
                                    "fő": "2",
                                    "(No column name)": "4"
                                },
                                {
                                    "usernev": "ARPADM",
                                    "nev": "Móricz Árpád",
                                    "mettol": "2016-12-14",
                                    "meddig": "2016-12-17",
                                    "fő": "3",
                                    "(No column name)": "6"
                                },
                                {
                                    "usernev": "ARPADM",
                                    "nev": "Móricz Árpád",
                                    "mettol": "2017-01-05",
                                    "meddig": "2017-01-10",
                                    "fő": "1",
                                    "(No column name)": "7"
                                },
                                {
                                    "usernev": "ARPADM",
                                    "nev": "Móricz Árpád",
                                    "mettol": "2017-02-12",
                                    "meddig": "2017-02-14",
                                    "fő": "3",
                                    "(No column name)": "6"
                                },
                                {
                                    "usernev": "attila",
                                    "nev": "Csóti Attila",
                                    "mettol": "2016-09-30",
                                    "meddig": "2016-10-07",
                                    "fő": "3",
                                    "(No column name)": "NULL"
                                },
                                {
                                    "usernev": "attila",
                                    "nev": "Csóti Attila",
                                    "mettol": "2016-10-15",
                                    "meddig": "2016-10-19",
                                    "fő": "1",
                                    "(No column name)": "3"
                                },
                                {
                                    "usernev": "attila",
                                    "nev": "Csóti Attila",
                                    "mettol": "2016-12-22",
                                    "meddig": "2016-12-26",
                                    "fő": "2",
                                    "(No column name)": "4"
                                },
                                {
                                    "usernev": "attila1",
                                    "nev": "Gulyás Attila",
                                    "mettol": "2016-05-20",
                                    "meddig": "2016-05-26",
                                    "fő": "1",
                                    "(No column name)": "NULL"
                                },
                                {
                                    "usernev": "attila1",
                                    "nev": "Gulyás Attila",
                                    "mettol": "2016-10-09",
                                    "meddig": "2016-10-12",
                                    "fő": "2",
                                    "(No column name)": "1"
                                },
                                {
                                    "usernev": "attila1",
                                    "nev": "Gulyás Attila",
                                    "mettol": "2016-10-15",
                                    "meddig": "2016-10-16",
                                    "fő": "3",
                                    "(No column name)": "3"
                                },
                                {
                                    "usernev": "attila1",
                                    "nev": "Gulyás Attila",
                                    "mettol": "2016-10-30",
                                    "meddig": "2016-11-05",
                                    "fő": "2",
                                    "(No column name)": "6"
                                },
                                {
                                    "usernev": "attila1",
                                    "nev": "Gulyás Attila",
                                    "mettol": "2016-11-10",
                                    "meddig": "2016-11-14",
                                    "fő": "2",
                                    "(No column name)": "7"
                                },
                                {
                                    "usernev": "attila1",
                                    "nev": "Gulyás Attila",
                                    "mettol": "2017-01-23",
                                    "meddig": "2017-01-30",
                                    "fő": "4",
                                    "(No column name)": "7"
                                },
                                {
                                    "usernev": "attila4",
                                    "nev": "Baróti Attila",
                                    "mettol": "2016-08-18",
                                    "meddig": "2016-08-23",
                                    "fő": "4",
                                    "(No column name)": "NULL"
                                },
                                {
                                    "usernev": "attila4",
                                    "nev": "Baróti Attila",
                                    "mettol": "2016-12-31",
                                    "meddig": "2017-01-01",
                                    "fő": "2",
                                    "(No column name)": "4"
                                },
                                {
                                    "usernev": "attila4",
                                    "nev": "Baróti Attila",
                                    "mettol": "2017-02-15",
                                    "meddig": "2017-02-22",
                                    "fő": "2",
                                    "(No column name)": "6"
                                },
                                {
                                    "usernev": "ATTILAO",
                                    "nev": "Opra Attila",
                                    "mettol": "2016-05-21",
                                    "meddig": "2016-05-26",
                                    "fő": "3",
                                    "(No column name)": "NULL"
                                },
                                {
                                    "usernev": "ATTILAO",
                                    "nev": "Opra Attila",
                                    "mettol": "2016-06-04",
                                    "meddig": "2016-06-11",
                                    "fő": "3",
                                    "(No column name)": "3"
                                },
                                {
                                    "usernev": "ATTILAO",
                                    "nev": "Opra Attila",
                                    "mettol": "2016-10-30",
                                    "meddig": "2016-11-03",
                                    "fő": "2",
                                    "(No column name)": "6"
                                },
                                {
                                    "usernev": "ATTILAO",
                                    "nev": "Opra Attila",
                                    "mettol": "2017-02-22",
                                    "meddig": "2017-02-25",
                                    "fő": "3",
                                    "(No column name)": "8"
                                },
                                {
                                    "usernev": "balazs1",
                                    "nev": "Bozsik Balázs",
                                    "mettol": "2016-05-07",
                                    "meddig": "2016-05-14",
                                    "fő": "2",
                                    "(No column name)": "NULL"
                                },
                                {
                                    "usernev": "balazs1",
                                    "nev": "Bozsik Balázs",
                                    "mettol": "2016-07-22",
                                    "meddig": "2016-07-26",
                                    "fő": "4",
                                    "(No column name)": "2"
                                },
                                {
                                    "usernev": "balazs1",
                                    "nev": "Bozsik Balázs",
                                    "mettol": "2016-12-26",
                                    "meddig": "2016-12-28",
                                    "fő": "3",
                                    "(No column name)": "6"
                                },
                                {
                                    "usernev": "balazs1",
                                    "nev": "Bozsik Balázs",
                                    "mettol": "2017-01-01",
                                    "meddig": "2017-01-05",
                                    "fő": "2",
                                    "(No column name)": "9"
                                },
                                {
                                    "usernev": "balazs1",
                                    "nev": "Bozsik Balázs",
                                    "mettol": "2017-02-10",
                                    "meddig": "2017-02-14",
                                    "fő": "3",
                                    "(No column name)": "9"
                                },
                                {
                                    "usernev": "balazs1",
                                    "nev": "Bozsik Balázs",
                                    "mettol": "2017-02-12",
                                    "meddig": "2017-02-14",
                                    "fő": "2",
                                    "(No column name)": "8"
                                },
                                {
                                    "usernev": "balazs2",
                                    "nev": "Szűcs Balázs",
                                    "mettol": "2016-04-16",
                                    "meddig": "2016-04-19",
                                    "fő": "2",
                                    "(No column name)": "NULL"
                                },
                                {
                                    "usernev": "balazs2",
                                    "nev": "Szűcs Balázs",
                                    "mettol": "2016-07-20",
                                    "meddig": "2016-07-25",
                                    "fő": "2",
                                    "(No column name)": "2"
                                },
                                {
                                    "usernev": "balazs2",
                                    "nev": "Szűcs Balázs",
                                    "mettol": "2016-08-21",
                                    "meddig": "2016-08-22",
                                    "fő": "3",
                                    "(No column name)": "4"
                                },
                                {
                                    "usernev": "balazs2",
                                    "nev": "Szűcs Balázs",
                                    "mettol": "2016-05-22",
                                    "meddig": "2016-05-29",
                                    "fő": "3",
                                    "(No column name)": "7"
                                },
                                {
                                    "usernev": "balazs2",
                                    "nev": "Szűcs Balázs",
                                    "mettol": "2016-05-28",
                                    "meddig": "2016-06-01",
                                    "fő": "3",
                                    "(No column name)": "8"
                                },
                                {
                                    "usernev": "balazs2",
                                    "nev": "Szűcs Balázs",
                                    "mettol": "2016-07-08",
                                    "meddig": "2016-07-12",
                                    "fő": "3",
                                    "(No column name)": "9"
                                },
                                {
                                    "usernev": "balazs2",
                                    "nev": "Szűcs Balázs",
                                    "mettol": "2016-07-10",
                                    "meddig": "2016-07-17",
                                    "fő": "3",
                                    "(No column name)": "9"
                                },
                                {
                                    "usernev": "balazs2",
                                    "nev": "Szűcs Balázs",
                                    "mettol": "2016-09-12",
                                    "meddig": "2016-09-14",
                                    "fő": "3",
                                    "(No column name)": "9"
                                },
                                {
                                    "usernev": "balazs2",
                                    "nev": "Szűcs Balázs",
                                    "mettol": "2016-11-03",
                                    "meddig": "2016-11-05",
                                    "fő": "3",
                                    "(No column name)": "9"
                                },
                                {
                                    "usernev": "balazs2",
                                    "nev": "Szűcs Balázs",
                                    "mettol": "2017-02-27",
                                    "meddig": "2017-03-06",
                                    "fő": "1",
                                    "(No column name)": "9"
                                },
                                {
                                    "usernev": "balazs3",
                                    "nev": "Bakódy Balázs",
                                    "mettol": "2016-07-17",
                                    "meddig": "2016-07-21",
                                    "fő": "2",
                                    "(No column name)": "NULL"
                                },
                                {
                                    "usernev": "balazs3",
                                    "nev": "Bakódy Balázs",
                                    "mettol": "2016-07-27",
                                    "meddig": "2016-07-31",
                                    "fő": "4",
                                    "(No column name)": "2"
                                },
                                {
                                    "usernev": "balazs3",
                                    "nev": "Bakódy Balázs",
                                    "mettol": "2016-08-24",
                                    "meddig": "2016-08-28",
                                    "fő": "3",
                                    "(No column name)": "6"
                                },
                                {
                                    "usernev": "balazs3",
                                    "nev": "Bakódy Balázs",
                                    "mettol": "2016-09-15",
                                    "meddig": "2016-09-16",
                                    "fő": "3",
                                    "(No column name)": "9"
                                },
                                {
                                    "usernev": "balazs3",
                                    "nev": "Bakódy Balázs",
                                    "mettol": "2016-12-05",
                                    "meddig": "2016-12-11",
                                    "fő": "3",
                                    "(No column name)": "10"
                                },
                                {
                                    "usernev": "balazs3",
                                    "nev": "Bakódy Balázs",
                                    "mettol": "2017-01-20",
                                    "meddig": "2017-01-22",
                                    "fő": "2",
                                    "(No column name)": "9"
                                },
                                {
                                    "usernev": "balint",
                                    "nev": "Horváth Bálint",
                                    "mettol": "2016-04-22",
                                    "meddig": "2016-04-29",
                                    "fő": "2",
                                    "(No column name)": "NULL"
                                },
                                {
                                    "usernev": "balint",
                                    "nev": "Horváth Bálint",
                                    "mettol": "2016-10-09",
                                    "meddig": "2016-10-11",
                                    "fő": "2",
                                    "(No column name)": "2"
                                },
                                {
                                    "usernev": "balint",
                                    "nev": "Horváth Bálint",
                                    "mettol": "2016-11-24",
                                    "meddig": "2016-11-29",
                                    "fő": "3",
                                    "(No column name)": "4"
                                },
                                {
                                    "usernev": "balint1",
                                    "nev": "Molnár Bálint",
                                    "mettol": "2016-07-26",
                                    "meddig": "2016-07-28",
                                    "fő": "2",
                                    "(No column name)": "NULL"
                                },
                                {
                                    "usernev": "balint1",
                                    "nev": "Molnár Bálint",
                                    "mettol": "2016-08-03",
                                    "meddig": "2016-08-08",
                                    "fő": "2",
                                    "(No column name)": "2"
                                },
                                {
                                    "usernev": "balint1",
                                    "nev": "Molnár Bálint",
                                    "mettol": "2016-06-07",
                                    "meddig": "2016-06-12",
                                    "fő": "3",
                                    "(No column name)": "4"
                                },
                                {
                                    "usernev": "balint1",
                                    "nev": "Molnár Bálint",
                                    "mettol": "2016-06-07",
                                    "meddig": "2016-06-11",
                                    "fő": "3",
                                    "(No column name)": "7"
                                },
                                {
                                    "usernev": "balint1",
                                    "nev": "Molnár Bálint",
                                    "mettol": "2016-06-10",
                                    "meddig": "2016-06-12",
                                    "fő": "1",
                                    "(No column name)": "8"
                                },
                                {
                                    "usernev": "balint1",
                                    "nev": "Molnár Bálint",
                                    "mettol": "2016-09-16",
                                    "meddig": "2016-09-21",
                                    "fő": "1",
                                    "(No column name)": "7"
                                },
                                {
                                    "usernev": "balint1",
                                    "nev": "Molnár Bálint",
                                    "mettol": "2016-11-07",
                                    "meddig": "2016-11-10",
                                    "fő": "2",
                                    "(No column name)": "5"
                                },
                                {
                                    "usernev": "balint1",
                                    "nev": "Molnár Bálint",
                                    "mettol": "2016-12-17",
                                    "meddig": "2016-12-22",
                                    "fő": "3",
                                    "(No column name)": "4"
                                },
                                {
                                    "usernev": "balint1",
                                    "nev": "Molnár Bálint",
                                    "mettol": "2016-12-29",
                                    "meddig": "2016-12-31",
                                    "fő": "3",
                                    "(No column name)": "6"
                                },
                                {
                                    "usernev": "balint1",
                                    "nev": "Molnár Bálint",
                                    "mettol": "2017-01-03",
                                    "meddig": "2017-01-08",
                                    "fő": "2",
                                    "(No column name)": "8"
                                },
                                {
                                    "usernev": "balint2",
                                    "nev": "Vukasinovity Bálint",
                                    "mettol": "2016-07-21",
                                    "meddig": "2016-07-26",
                                    "fő": "1",
                                    "(No column name)": "NULL"
                                },
                                {
                                    "usernev": "balint2",
                                    "nev": "Vukasinovity Bálint",
                                    "mettol": "2016-12-04",
                                    "meddig": "2016-12-06",
                                    "fő": "3",
                                    "(No column name)": "1"
                                },
                                {
                                    "usernev": "balu",
                                    "nev": "Endresz Bálint",
                                    "mettol": "2016-08-06",
                                    "meddig": "2016-08-10",
                                    "fő": "2",
                                    "(No column name)": "NULL"
                                },
                                {
                                    "usernev": "balu",
                                    "nev": "Endresz Bálint",
                                    "mettol": "2016-12-22",
                                    "meddig": "2016-12-23",
                                    "fő": "2",
                                    "(No column name)": "2"
                                },
                                {
                                    "usernev": "beata4",
                                    "nev": "Bagi Beáta",
                                    "mettol": "2016-04-20",
                                    "meddig": "2016-04-21",
                                    "fő": "2",
                                    "(No column name)": "NULL"
                                },
                                {
                                    "usernev": "beata4",
                                    "nev": "Bagi Beáta",
                                    "mettol": "2016-08-25",
                                    "meddig": "2016-08-27",
                                    "fő": "3",
                                    "(No column name)": "2"
                                },
                                {
                                    "usernev": "beata4",
                                    "nev": "Bagi Beáta",
                                    "mettol": "2016-06-03",
                                    "meddig": "2016-06-04",
                                    "fő": "2",
                                    "(No column name)": "5"
                                },
                                {
                                    "usernev": "beata4",
                                    "nev": "Bagi Beáta",
                                    "mettol": "2016-07-03",
                                    "meddig": "2016-07-06",
                                    "fő": "1",
                                    "(No column name)": "7"
                                },
                                {
                                    "usernev": "beata4",
                                    "nev": "Bagi Beáta",
                                    "mettol": "2016-10-01",
                                    "meddig": "2016-10-05",
                                    "fő": "1",
                                    "(No column name)": "6"
                                },
                                {
                                    "usernev": "beata4",
                                    "nev": "Bagi Beáta",
                                    "mettol": "2016-10-03",
                                    "meddig": "2016-10-06",
                                    "fő": "3",
                                    "(No column name)": "4"
                                },
                                {
                                    "usernev": "BEATRIXK",
                                    "nev": "Kerényi Beatrix",
                                    "mettol": "2016-08-12",
                                    "meddig": "2016-08-18",
                                    "fő": "4",
                                    "(No column name)": "NULL"
                                },
                                {
                                    "usernev": "BEATRIXK",
                                    "nev": "Kerényi Beatrix",
                                    "mettol": "2016-06-10",
                                    "meddig": "2016-06-11",
                                    "fő": "2",
                                    "(No column name)": "4"
                                },
                                {
                                    "usernev": "BEATRIXK",
                                    "nev": "Kerényi Beatrix",
                                    "mettol": "2016-06-10",
                                    "meddig": "2016-06-14",
                                    "fő": "2",
                                    "(No column name)": "6"
                                },
                                {
                                    "usernev": "BEATRIXK",
                                    "nev": "Kerényi Beatrix",
                                    "mettol": "2016-06-19",
                                    "meddig": "2016-06-21",
                                    "fő": "3",
                                    "(No column name)": "8"
                                },
                                {
                                    "usernev": "BEATRIXK",
                                    "nev": "Kerényi Beatrix",
                                    "mettol": "2016-10-23",
                                    "meddig": "2016-10-28",
                                    "fő": "2",
                                    "(No column name)": "7"
                                },
                                {
                                    "usernev": "BEATRIXK",
                                    "nev": "Kerényi Beatrix",
                                    "mettol": "2016-11-14",
                                    "meddig": "2016-11-19",
                                    "fő": "2",
                                    "(No column name)": "7"
                                },
                                {
                                    "usernev": "BEATRIXK",
                                    "nev": "Kerényi Beatrix",
                                    "mettol": "2016-12-12",
                                    "meddig": "2016-12-14",
                                    "fő": "3",
                                    "(No column name)": "7"
                                },
                                {
                                    "usernev": "BEATRIXK",
                                    "nev": "Kerényi Beatrix",
                                    "mettol": "2016-12-17",
                                    "meddig": "2016-12-22",
                                    "fő": "4",
                                    "(No column name)": "7"
                                },
                                {
                                    "usernev": "BEATRIXK",
                                    "nev": "Kerényi Beatrix",
                                    "mettol": "2017-02-08",
                                    "meddig": "2017-02-09",
                                    "fő": "3",
                                    "(No column name)": "9"
                                },
                                {
                                    "usernev": "BEATRIXS",
                                    "nev": "Szekendi Beatrix",
                                    "mettol": "2016-04-18",
                                    "meddig": "2016-04-24",
                                    "fő": "1",
                                    "(No column name)": "NULL"
                                },
                                {
                                    "usernev": "BEATRIXS",
                                    "nev": "Szekendi Beatrix",
                                    "mettol": "2016-06-11",
                                    "meddig": "2016-06-14",
                                    "fő": "3",
                                    "(No column name)": "1"
                                },
                                {
                                    "usernev": "BEATRIXS",
                                    "nev": "Szekendi Beatrix",
                                    "mettol": "2016-10-01",
                                    "meddig": "2016-10-03",
                                    "fő": "3",
                                    "(No column name)": "4"
                                },
                                {
                                    "usernev": "BEATRIXS",
                                    "nev": "Szekendi Beatrix",
                                    "mettol": "2016-10-01",
                                    "meddig": "2016-10-05",
                                    "fő": "3",
                                    "(No column name)": "7"
                                },
                                {
                                    "usernev": "BEATRIXS",
                                    "nev": "Szekendi Beatrix",
                                    "mettol": "2016-12-21",
                                    "meddig": "2016-12-27",
                                    "fő": "2",
                                    "(No column name)": "9"
                                },
                                {
                                    "usernev": "BEATRIXS",
                                    "nev": "Szekendi Beatrix",
                                    "mettol": "2017-02-03",
                                    "meddig": "2017-02-04",
                                    "fő": "2",
                                    "(No column name)": "8"
                                },
                                {
                                    "usernev": "BELAF",
                                    "nev": "Farkas Béla",
                                    "mettol": "2016-07-27",
                                    "meddig": "2016-07-30",
                                    "fő": "3",
                                    "(No column name)": "NULL"
                                },
                                {
                                    "usernev": "BELAF",
                                    "nev": "Farkas Béla",
                                    "mettol": "2016-07-29",
                                    "meddig": "2016-07-31",
                                    "fő": "2",
                                    "(No column name)": "3"
                                },
                                {
                                    "usernev": "BELAF",
                                    "nev": "Farkas Béla",
                                    "mettol": "2016-08-29",
                                    "meddig": "2016-08-31",
                                    "fő": "2",
                                    "(No column name)": "5"
                                },
                                {
                                    "usernev": "BELAF",
                                    "nev": "Farkas Béla",
                                    "mettol": "2016-11-03",
                                    "meddig": "2016-11-09",
                                    "fő": "4",
                                    "(No column name)": "7"
                                },
                                {
                                    "usernev": "BELAF",
                                    "nev": "Farkas Béla",
                                    "mettol": "2016-12-02",
                                    "meddig": "2016-12-04",
                                    "fő": "3",
                                    "(No column name)": "8"
                                },
                                {
                                    "usernev": "BELAF",
                                    "nev": "Farkas Béla",
                                    "mettol": "2016-12-06",
                                    "meddig": "2016-12-09",
                                    "fő": "1",
                                    "(No column name)": "9"
                                },
                                {
                                    "usernev": "bence",
                                    "nev": "Győrffy Bence",
                                    "mettol": "2016-05-08",
                                    "meddig": "2016-05-11",
                                    "fő": "2",
                                    "(No column name)": "NULL"
                                },
                                {
                                    "usernev": "bence",
                                    "nev": "Győrffy Bence",
                                    "mettol": "2016-07-24",
                                    "meddig": "2016-07-30",
                                    "fő": "2",
                                    "(No column name)": "2"
                                },
                                {
                                    "usernev": "bence",
                                    "nev": "Győrffy Bence",
                                    "mettol": "2016-07-25",
                                    "meddig": "2016-08-01",
                                    "fő": "3",
                                    "(No column name)": "4"
                                },
                                {
                                    "usernev": "bence",
                                    "nev": "Győrffy Bence",
                                    "mettol": "2016-09-03",
                                    "meddig": "2016-09-06",
                                    "fő": "3",
                                    "(No column name)": "7"
                                },
                                {
                                    "usernev": "bence",
                                    "nev": "Győrffy Bence",
                                    "mettol": "2016-05-29",
                                    "meddig": "2016-06-03",
                                    "fő": "1",
                                    "(No column name)": "8"
                                },
                                {
                                    "usernev": "bence",
                                    "nev": "Győrffy Bence",
                                    "mettol": "2016-10-30",
                                    "meddig": "2016-11-02",
                                    "fő": "4",
                                    "(No column name)": "7"
                                },
                                {
                                    "usernev": "bence",
                                    "nev": "Győrffy Bence",
                                    "mettol": "2016-12-17",
                                    "meddig": "2016-12-18",
                                    "fő": "2",
                                    "(No column name)": "8"
                                },
                                {
                                    "usernev": "bence",
                                    "nev": "Győrffy Bence",
                                    "mettol": "2016-12-26",
                                    "meddig": "2016-12-27",
                                    "fő": "2",
                                    "(No column name)": "7"
                                },
                                {
                                    "usernev": "bence",
                                    "nev": "Győrffy Bence",
                                    "mettol": "2017-02-05",
                                    "meddig": "2017-02-09",
                                    "fő": "3",
                                    "(No column name)": "8"
                                },
                                {
                                    "usernev": "BENCEB",
                                    "nev": "Bajusz Bence",
                                    "mettol": "2016-05-14",
                                    "meddig": "2016-05-17",
                                    "fő": "3",
                                    "(No column name)": "NULL"
                                },
                                {
                                    "usernev": "BENCEB",
                                    "nev": "Bajusz Bence",
                                    "mettol": "2016-08-01",
                                    "meddig": "2016-08-02",
                                    "fő": "2",
                                    "(No column name)": "3"
                                },
                                {
                                    "usernev": "BENCEB",
                                    "nev": "Bajusz Bence",
                                    "mettol": "2016-06-03",
                                    "meddig": "2016-06-09",
                                    "fő": "2",
                                    "(No column name)": "5"
                                },
                                {
                                    "usernev": "BENCEB",
                                    "nev": "Bajusz Bence",
                                    "mettol": "2016-10-22",
                                    "meddig": "2016-10-29",
                                    "fő": "3",
                                    "(No column name)": "7"
                                },
                                {
                                    "usernev": "BENCEB",
                                    "nev": "Bajusz Bence",
                                    "mettol": "2016-11-28",
                                    "meddig": "2016-12-02",
                                    "fő": "2",
                                    "(No column name)": "7"
                                },
                                {
                                    "usernev": "BENCEB",
                                    "nev": "Bajusz Bence",
                                    "mettol": "2017-02-12",
                                    "meddig": "2017-02-19",
                                    "fő": "3",
                                    "(No column name)": "7"
                                },
                                {
                                    "usernev": "bernadett1",
                                    "nev": "Simon Bernadett",
                                    "mettol": "2016-06-12",
                                    "meddig": "2016-06-17",
                                    "fő": "3",
                                    "(No column name)": "NULL"
                                },
                                {
                                    "usernev": "bernadett1",
                                    "nev": "Simon Bernadett",
                                    "mettol": "2016-10-08",
                                    "meddig": "2016-10-09",
                                    "fő": "4",
                                    "(No column name)": "3"
                                },
                                {
                                    "usernev": "bernadett1",
                                    "nev": "Simon Bernadett",
                                    "mettol": "2016-10-15",
                                    "meddig": "2016-10-22",
                                    "fő": "3",
                                    "(No column name)": "7"
                                },
                                {
                                    "usernev": "bernadett1",
                                    "nev": "Simon Bernadett",
                                    "mettol": "2016-10-26",
                                    "meddig": "2016-11-02",
                                    "fő": "3",
                                    "(No column name)": "10"
                                },
                                {
                                    "usernev": "bernadett1",
                                    "nev": "Simon Bernadett",
                                    "mettol": "2016-10-28",
                                    "meddig": "2016-11-01",
                                    "fő": "3",
                                    "(No column name)": "10"
                                },
                                {
                                    "usernev": "bernadett1",
                                    "nev": "Simon Bernadett",
                                    "mettol": "2017-02-14",
                                    "meddig": "2017-02-15",
                                    "fő": "3",
                                    "(No column name)": "9"
                                },
                                {
                                    "usernev": "bernadett1",
                                    "nev": "Simon Bernadett",
                                    "mettol": "2017-02-24",
                                    "meddig": "2017-03-03",
                                    "fő": "1",
                                    "(No column name)": "9"
                                },
                                {
                                    "usernev": "bernadett2",
                                    "nev": "Kovács Bernadett",
                                    "mettol": "2016-05-01",
                                    "meddig": "2016-05-03",
                                    "fő": "2",
                                    "(No column name)": "NULL"
                                },
                                {
                                    "usernev": "bernadett2",
                                    "nev": "Kovács Bernadett",
                                    "mettol": "2016-08-23",
                                    "meddig": "2016-08-29",
                                    "fő": "2",
                                    "(No column name)": "2"
                                },
                                {
                                    "usernev": "bernadett2",
                                    "nev": "Kovács Bernadett",
                                    "mettol": "2016-08-25",
                                    "meddig": "2016-08-27",
                                    "fő": "3",
                                    "(No column name)": "4"
                                },
                                {
                                    "usernev": "bernadett2",
                                    "nev": "Kovács Bernadett",
                                    "mettol": "2016-06-17",
                                    "meddig": "2016-06-23",
                                    "fő": "3",
                                    "(No column name)": "7"
                                },
                                {
                                    "usernev": "bernadett2",
                                    "nev": "Kovács Bernadett",
                                    "mettol": "2016-09-07",
                                    "meddig": "2016-09-13",
                                    "fő": "3",
                                    "(No column name)": "8"
                                },
                                {
                                    "usernev": "bernadett2",
                                    "nev": "Kovács Bernadett",
                                    "mettol": "2016-10-30",
                                    "meddig": "2016-11-06",
                                    "fő": "3",
                                    "(No column name)": "9"
                                },
                                {
                                    "usernev": "bernadett2",
                                    "nev": "Kovács Bernadett",
                                    "mettol": "2016-12-17",
                                    "meddig": "2016-12-20",
                                    "fő": "1",
                                    "(No column name)": "9"
                                },
                                {
                                    "usernev": "bernadett2",
                                    "nev": "Kovács Bernadett",
                                    "mettol": "2017-01-24",
                                    "meddig": "2017-01-30",
                                    "fő": "3",
                                    "(No column name)": "7"
                                },
                                {
                                    "usernev": "BERNADETTO",
                                    "nev": "Orbán Bernadett",
                                    "mettol": "2016-04-10",
                                    "meddig": "2016-04-17",
                                    "fő": "2",
                                    "(No column name)": "NULL"
                                },
                                {
                                    "usernev": "BERNADETTO",
                                    "nev": "Orbán Bernadett",
                                    "mettol": "2016-04-17",
                                    "meddig": "2016-04-19",
                                    "fő": "2",
                                    "(No column name)": "2"
                                },
                                {
                                    "usernev": "BERNADETTO",
                                    "nev": "Orbán Bernadett",
                                    "mettol": "2016-06-07",
                                    "meddig": "2016-06-13",
                                    "fő": "3",
                                    "(No column name)": "4"
                                },
                                {
                                    "usernev": "BERNADETTO",
                                    "nev": "Orbán Bernadett",
                                    "mettol": "2016-06-10",
                                    "meddig": "2016-06-16",
                                    "fő": "4",
                                    "(No column name)": "7"
                                },
                                {
                                    "usernev": "BERNADETTO",
                                    "nev": "Orbán Bernadett",
                                    "mettol": "2016-10-04",
                                    "meddig": "2016-10-05",
                                    "fő": "2",
                                    "(No column name)": "9"
                                },
                                {
                                    "usernev": "BERNADETTO",
                                    "nev": "Orbán Bernadett",
                                    "mettol": "2017-01-01",
                                    "meddig": "2017-01-02",
                                    "fő": "3",
                                    "(No column name)": "9"
                                },
                                {
                                    "usernev": "BERNADETTO",
                                    "nev": "Orbán Bernadett",
                                    "mettol": "2017-01-28",
                                    "meddig": "2017-02-03",
                                    "fő": "2",
                                    "(No column name)": "9"
                                },
                                {
                                    "usernev": "bertalan",
                                    "nev": "Csiger Bertalan",
                                    "mettol": "2016-05-18",
                                    "meddig": "2016-05-23",
                                    "fő": "2",
                                    "(No column name)": "NULL"
                                },
                                {
                                    "usernev": "bertalan",
                                    "nev": "Csiger Bertalan",
                                    "mettol": "2016-06-20",
                                    "meddig": "2016-06-21",
                                    "fő": "1",
                                    "(No column name)": "2"
                                },
                                {
                                    "usernev": "bertalan",
                                    "nev": "Csiger Bertalan",
                                    "mettol": "2016-11-03",
                                    "meddig": "2016-11-10",
                                    "fő": "2",
                                    "(No column name)": "3"
                                },
                                {
                                    "usernev": "bertalan",
                                    "nev": "Csiger Bertalan",
                                    "mettol": "2016-11-26",
                                    "meddig": "2016-11-29",
                                    "fő": "3",
                                    "(No column name)": "5"
                                },
                                {
                                    "usernev": "bertalan",
                                    "nev": "Csiger Bertalan",
                                    "mettol": "2017-02-16",
                                    "meddig": "2017-02-22",
                                    "fő": "2",
                                    "(No column name)": "6"
                                },
                                {
                                    "usernev": "bertalan",
                                    "nev": "Csiger Bertalan",
                                    "mettol": "2017-02-20",
                                    "meddig": "2017-02-24",
                                    "fő": "4",
                                    "(No column name)": "7"
                                },
                                {
                                    "usernev": "brigitta",
                                    "nev": "Székely Brigitta",
                                    "mettol": "2016-08-28",
                                    "meddig": "2016-09-01",
                                    "fő": "3",
                                    "(No column name)": "NULL"
                                },
                                {
                                    "usernev": "brigitta",
                                    "nev": "Székely Brigitta",
                                    "mettol": "2016-05-30",
                                    "meddig": "2016-06-06",
                                    "fő": "3",
                                    "(No column name)": "3"
                                },
                                {
                                    "usernev": "brigitta",
                                    "nev": "Székely Brigitta",
                                    "mettol": "2016-10-21",
                                    "meddig": "2016-10-28",
                                    "fő": "3",
                                    "(No column name)": "6"
                                },
                                {
                                    "usernev": "brigitta",
                                    "nev": "Székely Brigitta",
                                    "mettol": "2016-12-17",
                                    "meddig": "2016-12-22",
                                    "fő": "2",
                                    "(No column name)": "9"
                                },
                                {
                                    "usernev": "brigitta",
                                    "nev": "Székely Brigitta",
                                    "mettol": "2017-01-23",
                                    "meddig": "2017-01-25",
                                    "fő": "1",
                                    "(No column name)": "8"
                                },
                                {
                                    "usernev": "brigitta3",
                                    "nev": "Pataki Brigitta",
                                    "mettol": "2016-06-01",
                                    "meddig": "2016-06-05",
                                    "fő": "2",
                                    "(No column name)": "NULL"
                                },
                                {
                                    "usernev": "brigitta3",
                                    "nev": "Pataki Brigitta",
                                    "mettol": "2016-06-13",
                                    "meddig": "2016-06-17",
                                    "fő": "3",
                                    "(No column name)": "2"
                                },
                                {
                                    "usernev": "brigitta3",
                                    "nev": "Pataki Brigitta",
                                    "mettol": "2016-10-10",
                                    "meddig": "2016-10-14",
                                    "fő": "2",
                                    "(No column name)": "5"
                                },
                                {
                                    "usernev": "brigitta3",
                                    "nev": "Pataki Brigitta",
                                    "mettol": "2016-11-03",
                                    "meddig": "2016-11-09",
                                    "fő": "3",
                                    "(No column name)": "7"
                                },
                                {
                                    "usernev": "brigitta3",
                                    "nev": "Pataki Brigitta",
                                    "mettol": "2017-02-09",
                                    "meddig": "2017-02-16",
                                    "fő": "2",
                                    "(No column name)": "8"
                                },
                                {
                                    "usernev": "csongor3",
                                    "nev": "Nagymihály Csongor",
                                    "mettol": "2016-05-01",
                                    "meddig": "2016-05-04",
                                    "fő": "2",
                                    "(No column name)": "NULL"
                                },
                                {
                                    "usernev": "csongor3",
                                    "nev": "Nagymihály Csongor",
                                    "mettol": "2016-05-08",
                                    "meddig": "2016-05-15",
                                    "fő": "3",
                                    "(No column name)": "2"
                                },
                                {
                                    "usernev": "csongor3",
                                    "nev": "Nagymihály Csongor",
                                    "mettol": "2016-06-04",
                                    "meddig": "2016-06-05",
                                    "fő": "2",
                                    "(No column name)": "5"
                                },
                                {
                                    "usernev": "csongor3",
                                    "nev": "Nagymihály Csongor",
                                    "mettol": "2016-06-10",
                                    "meddig": "2016-06-17",
                                    "fő": "3",
                                    "(No column name)": "7"
                                },
                                {
                                    "usernev": "csongor3",
                                    "nev": "Nagymihály Csongor",
                                    "mettol": "2016-06-11",
                                    "meddig": "2016-06-14",
                                    "fő": "2",
                                    "(No column name)": "8"
                                },
                                {
                                    "usernev": "csongor3",
                                    "nev": "Nagymihály Csongor",
                                    "mettol": "2016-07-09",
                                    "meddig": "2016-07-10",
                                    "fő": "4",
                                    "(No column name)": "7"
                                },
                                {
                                    "usernev": "csongor3",
                                    "nev": "Nagymihály Csongor",
                                    "mettol": "2016-11-12",
                                    "meddig": "2016-11-17",
                                    "fő": "3",
                                    "(No column name)": "9"
                                },
                                {
                                    "usernev": "csongor3",
                                    "nev": "Nagymihály Csongor",
                                    "mettol": "2017-02-13",
                                    "meddig": "2017-02-19",
                                    "fő": "3",
                                    "(No column name)": "9"
                                },
                                {
                                    "usernev": "dani",
                                    "nev": "Vörös Dániel",
                                    "mettol": "2016-08-06",
                                    "meddig": "2016-08-09",
                                    "fő": "2",
                                    "(No column name)": "NULL"
                                },
                                {
                                    "usernev": "dani",
                                    "nev": "Vörös Dániel",
                                    "mettol": "2016-06-06",
                                    "meddig": "2016-06-10",
                                    "fő": "3",
                                    "(No column name)": "2"
                                },
                                {
                                    "usernev": "dani",
                                    "nev": "Vörös Dániel",
                                    "mettol": "2016-07-11",
                                    "meddig": "2016-07-12",
                                    "fő": "3",
                                    "(No column name)": "5"
                                },
                                {
                                    "usernev": "dani",
                                    "nev": "Vörös Dániel",
                                    "mettol": "2016-09-19",
                                    "meddig": "2016-09-25",
                                    "fő": "4",
                                    "(No column name)": "8"
                                },
                                {
                                    "usernev": "dani",
                                    "nev": "Vörös Dániel",
                                    "mettol": "2016-10-01",
                                    "meddig": "2016-10-02",
                                    "fő": "1",
                                    "(No column name)": "10"
                                },
                                {
                                    "usernev": "dani",
                                    "nev": "Vörös Dániel",
                                    "mettol": "2016-11-22",
                                    "meddig": "2016-11-24",
                                    "fő": "2",
                                    "(No column name)": "8"
                                },
                                {
                                    "usernev": "dani",
                                    "nev": "Vörös Dániel",
                                    "mettol": "2017-01-17",
                                    "meddig": "2017-01-23",
                                    "fő": "2",
                                    "(No column name)": "7"
                                },
                                {
                                    "usernev": "dani",
                                    "nev": "Vörös Dániel",
                                    "mettol": "2017-01-22",
                                    "meddig": "2017-01-29",
                                    "fő": "1",
                                    "(No column name)": "5"
                                },
                                {
                                    "usernev": "dani",
                                    "nev": "Vörös Dániel",
                                    "mettol": "2017-02-25",
                                    "meddig": "2017-03-01",
                                    "fő": "3",
                                    "(No column name)": "5"
                                },
                                {
                                    "usernev": "daniel",
                                    "nev": "Rácz Dániel",
                                    "mettol": "2016-04-10",
                                    "meddig": "2016-04-11",
                                    "fő": "4",
                                    "(No column name)": "NULL"
                                },
                                {
                                    "usernev": "daniel",
                                    "nev": "Rácz Dániel",
                                    "mettol": "2016-04-22",
                                    "meddig": "2016-04-25",
                                    "fő": "2",
                                    "(No column name)": "4"
                                },
                                {
                                    "usernev": "daniel",
                                    "nev": "Rácz Dániel",
                                    "mettol": "2016-05-09",
                                    "meddig": "2016-05-13",
                                    "fő": "3",
                                    "(No column name)": "6"
                                },
                                {
                                    "usernev": "daniel",
                                    "nev": "Rácz Dániel",
                                    "mettol": "2016-09-08",
                                    "meddig": "2016-09-10",
                                    "fő": "4",
                                    "(No column name)": "9"
                                },
                                {
                                    "usernev": "daniel",
                                    "nev": "Rácz Dániel",
                                    "mettol": "2016-11-13",
                                    "meddig": "2016-11-19",
                                    "fő": "3",
                                    "(No column name)": "9"
                                },
                                {
                                    "usernev": "daniel",
                                    "nev": "Rácz Dániel",
                                    "mettol": "2016-12-25",
                                    "meddig": "2016-12-26",
                                    "fő": "3",
                                    "(No column name)": "10"
                                },
                                {
                                    "usernev": "daniel",
                                    "nev": "Rácz Dániel",
                                    "mettol": "2017-01-09",
                                    "meddig": "2017-01-11",
                                    "fő": "1",
                                    "(No column name)": "10"
                                },
                                {
                                    "usernev": "daniel",
                                    "nev": "Rácz Dániel",
                                    "mettol": "2017-02-12",
                                    "meddig": "2017-02-13",
                                    "fő": "3",
                                    "(No column name)": "7"
                                },
                                {
                                    "usernev": "daniel",
                                    "nev": "Rácz Dániel",
                                    "mettol": "2017-02-20",
                                    "meddig": "2017-02-23",
                                    "fő": "3",
                                    "(No column name)": "7"
                                },
                                {
                                    "usernev": "daniel1",
                                    "nev": "Keszler Dániel",
                                    "mettol": "2016-04-10",
                                    "meddig": "2016-04-15",
                                    "fő": "2",
                                    "(No column name)": "NULL"
                                },
                                {
                                    "usernev": "daniel1",
                                    "nev": "Keszler Dániel",
                                    "mettol": "2016-05-10",
                                    "meddig": "2016-05-13",
                                    "fő": "4",
                                    "(No column name)": "2"
                                },
                                {
                                    "usernev": "daniel1",
                                    "nev": "Keszler Dániel",
                                    "mettol": "2016-05-26",
                                    "meddig": "2016-05-27",
                                    "fő": "3",
                                    "(No column name)": "6"
                                },
                                {
                                    "usernev": "daniel1",
                                    "nev": "Keszler Dániel",
                                    "mettol": "2016-11-09",
                                    "meddig": "2016-11-11",
                                    "fő": "2",
                                    "(No column name)": "9"
                                },
                                {
                                    "usernev": "daniel1",
                                    "nev": "Keszler Dániel",
                                    "mettol": "2016-11-23",
                                    "meddig": "2016-11-25",
                                    "fő": "2",
                                    "(No column name)": "9"
                                },
                                {
                                    "usernev": "daniel1",
                                    "nev": "Keszler Dániel",
                                    "mettol": "2017-01-05",
                                    "meddig": "2017-01-08",
                                    "fő": "3",
                                    "(No column name)": "7"
                                },
                                {
                                    "usernev": "daniel1",
                                    "nev": "Keszler Dániel",
                                    "mettol": "2017-03-01",
                                    "meddig": "2017-03-06",
                                    "fő": "4",
                                    "(No column name)": "7"
                                },
                                {
                                    "usernev": "david",
                                    "nev": "Ambrus Dávid",
                                    "mettol": "2016-05-18",
                                    "meddig": "2016-05-25",
                                    "fő": "2",
                                    "(No column name)": "NULL"
                                },
                                {
                                    "usernev": "david",
                                    "nev": "Ambrus Dávid",
                                    "mettol": "2016-07-18",
                                    "meddig": "2016-07-21",
                                    "fő": "2",
                                    "(No column name)": "2"
                                },
                                {
                                    "usernev": "david",
                                    "nev": "Ambrus Dávid",
                                    "mettol": "2016-08-05",
                                    "meddig": "2016-08-12",
                                    "fő": "1",
                                    "(No column name)": "4"
                                },
                                {
                                    "usernev": "david",
                                    "nev": "Ambrus Dávid",
                                    "mettol": "2016-08-20",
                                    "meddig": "2016-08-25",
                                    "fő": "3",
                                    "(No column name)": "5"
                                },
                                {
                                    "usernev": "david",
                                    "nev": "Ambrus Dávid",
                                    "mettol": "2016-08-22",
                                    "meddig": "2016-08-24",
                                    "fő": "3",
                                    "(No column name)": "6"
                                },
                                {
                                    "usernev": "david",
                                    "nev": "Ambrus Dávid",
                                    "mettol": "2016-06-09",
                                    "meddig": "2016-06-10",
                                    "fő": "2",
                                    "(No column name)": "7"
                                },
                                {
                                    "usernev": "david",
                                    "nev": "Ambrus Dávid",
                                    "mettol": "2016-06-30",
                                    "meddig": "2016-07-07",
                                    "fő": "2",
                                    "(No column name)": "8"
                                },
                                {
                                    "usernev": "david",
                                    "nev": "Ambrus Dávid",
                                    "mettol": "2016-10-30",
                                    "meddig": "2016-11-04",
                                    "fő": "2",
                                    "(No column name)": "7"
                                },
                                {
                                    "usernev": "david",
                                    "nev": "Ambrus Dávid",
                                    "mettol": "2017-01-18",
                                    "meddig": "2017-01-19",
                                    "fő": "2",
                                    "(No column name)": "6"
                                },
                                {
                                    "usernev": "david1",
                                    "nev": "Sobják Dávid",
                                    "mettol": "2016-09-20",
                                    "meddig": "2016-09-21",
                                    "fő": "2",
                                    "(No column name)": "NULL"
                                },
                                {
                                    "usernev": "david1",
                                    "nev": "Sobják Dávid",
                                    "mettol": "2016-10-01",
                                    "meddig": "2016-10-02",
                                    "fő": "2",
                                    "(No column name)": "2"
                                },
                                {
                                    "usernev": "david1",
                                    "nev": "Sobják Dávid",
                                    "mettol": "2016-11-19",
                                    "meddig": "2016-11-22",
                                    "fő": "2",
                                    "(No column name)": "4"
                                },
                                {
                                    "usernev": "david1",
                                    "nev": "Sobják Dávid",
                                    "mettol": "2016-12-30",
                                    "meddig": "2017-01-06",
                                    "fő": "2",
                                    "(No column name)": "6"
                                },
                                {
                                    "usernev": "david1",
                                    "nev": "Sobják Dávid",
                                    "mettol": "2017-02-17",
                                    "meddig": "2017-02-20",
                                    "fő": "3",
                                    "(No column name)": "6"
                                },
                                {
                                    "usernev": "david1",
                                    "nev": "Sobják Dávid",
                                    "mettol": "2017-02-25",
                                    "meddig": "2017-02-27",
                                    "fő": "4",
                                    "(No column name)": "7"
                                },
                                {
                                    "usernev": "david4",
                                    "nev": "Berta Dávid",
                                    "mettol": "2017-02-16",
                                    "meddig": "2017-02-19",
                                    "fő": "3",
                                    "(No column name)": "NULL"
                                },
                                {
                                    "usernev": "debora",
                                    "nev": "Barna Debóra",
                                    "mettol": "2016-06-22",
                                    "meddig": "2016-06-24",
                                    "fő": "5",
                                    "(No column name)": "NULL"
                                },
                                {
                                    "usernev": "debora",
                                    "nev": "Barna Debóra",
                                    "mettol": "2016-10-29",
                                    "meddig": "2016-11-03",
                                    "fő": "2",
                                    "(No column name)": "5"
                                },
                                {
                                    "usernev": "debora",
                                    "nev": "Barna Debóra",
                                    "mettol": "2017-01-23",
                                    "meddig": "2017-01-28",
                                    "fő": "3",
                                    "(No column name)": "7"
                                },
                                {
                                    "usernev": "debora",
                                    "nev": "Barna Debóra",
                                    "mettol": "2017-02-04",
                                    "meddig": "2017-02-06",
                                    "fő": "3",
                                    "(No column name)": "10"
                                },
                                {
                                    "usernev": "denes",
                                    "nev": "Tömböly Dénes",
                                    "mettol": "2016-07-19",
                                    "meddig": "2016-07-23",
                                    "fő": "2",
                                    "(No column name)": "NULL"
                                },
                                {
                                    "usernev": "denes",
                                    "nev": "Tömböly Dénes",
                                    "mettol": "2016-08-01",
                                    "meddig": "2016-08-08",
                                    "fő": "3",
                                    "(No column name)": "2"
                                },
                                {
                                    "usernev": "denes",
                                    "nev": "Tömböly Dénes",
                                    "mettol": "2016-08-16",
                                    "meddig": "2016-08-23",
                                    "fő": "2",
                                    "(No column name)": "5"
                                },
                                {
                                    "usernev": "denes",
                                    "nev": "Tömböly Dénes",
                                    "mettol": "2016-08-20",
                                    "meddig": "2016-08-27",
                                    "fő": "3",
                                    "(No column name)": "7"
                                },
                                {
                                    "usernev": "denes",
                                    "nev": "Tömböly Dénes",
                                    "mettol": "2016-05-27",
                                    "meddig": "2016-05-31",
                                    "fő": "3",
                                    "(No column name)": "8"
                                },
                                {
                                    "usernev": "denes",
                                    "nev": "Tömböly Dénes",
                                    "mettol": "2016-11-06",
                                    "meddig": "2016-11-10",
                                    "fő": "2",
                                    "(No column name)": "8"
                                },
                                {
                                    "usernev": "dora3",
                                    "nev": "Sarodi Dóra",
                                    "mettol": "2016-08-16",
                                    "meddig": "2016-08-19",
                                    "fő": "4",
                                    "(No column name)": "NULL"
                                },
                                {
                                    "usernev": "dora3",
                                    "nev": "Sarodi Dóra",
                                    "mettol": "2016-08-25",
                                    "meddig": "2016-08-29",
                                    "fő": "3",
                                    "(No column name)": "4"
                                },
                                {
                                    "usernev": "dora3",
                                    "nev": "Sarodi Dóra",
                                    "mettol": "2016-10-09",
                                    "meddig": "2016-10-12",
                                    "fő": "3",
                                    "(No column name)": "7"
                                },
                                {
                                    "usernev": "dora3",
                                    "nev": "Sarodi Dóra",
                                    "mettol": "2016-10-29",
                                    "meddig": "2016-11-02",
                                    "fő": "3",
                                    "(No column name)": "10"
                                },
                                {
                                    "usernev": "dora3",
                                    "nev": "Sarodi Dóra",
                                    "mettol": "2016-11-22",
                                    "meddig": "2016-11-29",
                                    "fő": "3",
                                    "(No column name)": "9"
                                },
                                {
                                    "usernev": "edit",
                                    "nev": "Bittmann Edit",
                                    "mettol": "2016-07-14",
                                    "meddig": "2016-07-17",
                                    "fő": "3",
                                    "(No column name)": "NULL"
                                },
                                {
                                    "usernev": "edit",
                                    "nev": "Bittmann Edit",
                                    "mettol": "2016-08-03",
                                    "meddig": "2016-08-09",
                                    "fő": "4",
                                    "(No column name)": "3"
                                },
                                {
                                    "usernev": "edit",
                                    "nev": "Bittmann Edit",
                                    "mettol": "2016-08-12",
                                    "meddig": "2016-08-14",
                                    "fő": "2",
                                    "(No column name)": "7"
                                },
                                {
                                    "usernev": "edit",
                                    "nev": "Bittmann Edit",
                                    "mettol": "2016-09-17",
                                    "meddig": "2016-09-24",
                                    "fő": "2",
                                    "(No column name)": "9"
                                },
                                {
                                    "usernev": "edit",
                                    "nev": "Bittmann Edit",
                                    "mettol": "2016-09-18",
                                    "meddig": "2016-09-21",
                                    "fő": "3",
                                    "(No column name)": "8"
                                },
                                {
                                    "usernev": "edit",
                                    "nev": "Bittmann Edit",
                                    "mettol": "2017-01-15",
                                    "meddig": "2017-01-18",
                                    "fő": "4",
                                    "(No column name)": "7"
                                },
                                {
                                    "usernev": "edit",
                                    "nev": "Bittmann Edit",
                                    "mettol": "2017-02-08",
                                    "meddig": "2017-02-14",
                                    "fő": "3",
                                    "(No column name)": "9"
                                },
                                {
                                    "usernev": "emese",
                                    "nev": "Kuruc Emese",
                                    "mettol": "2016-07-22",
                                    "meddig": "2016-07-24",
                                    "fő": "2",
                                    "(No column name)": "NULL"
                                },
                                {
                                    "usernev": "emese",
                                    "nev": "Kuruc Emese",
                                    "mettol": "2016-08-09",
                                    "meddig": "2016-08-12",
                                    "fő": "2",
                                    "(No column name)": "2"
                                },
                                {
                                    "usernev": "emese",
                                    "nev": "Kuruc Emese",
                                    "mettol": "2016-09-27",
                                    "meddig": "2016-09-28",
                                    "fő": "3",
                                    "(No column name)": "4"
                                },
                                {
                                    "usernev": "emese",
                                    "nev": "Kuruc Emese",
                                    "mettol": "2016-11-05",
                                    "meddig": "2016-11-09",
                                    "fő": "1",
                                    "(No column name)": "7"
                                },
                                {
                                    "usernev": "emese",
                                    "nev": "Kuruc Emese",
                                    "mettol": "2016-11-23",
                                    "meddig": "2016-11-27",
                                    "fő": "4",
                                    "(No column name)": "6"
                                },
                                {
                                    "usernev": "emese",
                                    "nev": "Kuruc Emese",
                                    "mettol": "2016-12-07",
                                    "meddig": "2016-12-08",
                                    "fő": "3",
                                    "(No column name)": "8"
                                },
                                {
                                    "usernev": "emese",
                                    "nev": "Kuruc Emese",
                                    "mettol": "2017-01-30",
                                    "meddig": "2017-01-31",
                                    "fő": "2",
                                    "(No column name)": "8"
                                },
                                {
                                    "usernev": "eszter",
                                    "nev": "Molnár Eszter",
                                    "mettol": "2016-08-12",
                                    "meddig": "2016-08-18",
                                    "fő": "3",
                                    "(No column name)": "NULL"
                                },
                                {
                                    "usernev": "eszter",
                                    "nev": "Molnár Eszter",
                                    "mettol": "2016-10-04",
                                    "meddig": "2016-10-10",
                                    "fő": "3",
                                    "(No column name)": "3"
                                },
                                {
                                    "usernev": "eszter",
                                    "nev": "Molnár Eszter",
                                    "mettol": "2016-10-26",
                                    "meddig": "2016-11-01",
                                    "fő": "3",
                                    "(No column name)": "6"
                                },
                                {
                                    "usernev": "eszter",
                                    "nev": "Molnár Eszter",
                                    "mettol": "2016-12-23",
                                    "meddig": "2016-12-28",
                                    "fő": "2",
                                    "(No column name)": "9"
                                },
                                {
                                    "usernev": "eszter2",
                                    "nev": "Balogh Eszter",
                                    "mettol": "2016-06-30",
                                    "meddig": "2016-07-07",
                                    "fő": "3",
                                    "(No column name)": "NULL"
                                },
                                {
                                    "usernev": "eszter2",
                                    "nev": "Balogh Eszter",
                                    "mettol": "2016-07-08",
                                    "meddig": "2016-07-09",
                                    "fő": "1",
                                    "(No column name)": "3"
                                },
                                {
                                    "usernev": "eszter2",
                                    "nev": "Balogh Eszter",
                                    "mettol": "2016-10-01",
                                    "meddig": "2016-10-05",
                                    "fő": "3",
                                    "(No column name)": "4"
                                },
                                {
                                    "usernev": "eszter2",
                                    "nev": "Balogh Eszter",
                                    "mettol": "2016-10-01",
                                    "meddig": "2016-10-06",
                                    "fő": "1",
                                    "(No column name)": "7"
                                },
                                {
                                    "usernev": "eszter2",
                                    "nev": "Balogh Eszter",
                                    "mettol": "2016-10-20",
                                    "meddig": "2016-10-25",
                                    "fő": "1",
                                    "(No column name)": "5"
                                },
                                {
                                    "usernev": "eszter2",
                                    "nev": "Balogh Eszter",
                                    "mettol": "2016-10-23",
                                    "meddig": "2016-10-30",
                                    "fő": "1",
                                    "(No column name)": "5"
                                },
                                {
                                    "usernev": "eszter2",
                                    "nev": "Balogh Eszter",
                                    "mettol": "2016-11-05",
                                    "meddig": "2016-11-12",
                                    "fő": "4",
                                    "(No column name)": "3"
                                },
                                {
                                    "usernev": "eszter2",
                                    "nev": "Balogh Eszter",
                                    "mettol": "2016-12-02",
                                    "meddig": "2016-12-07",
                                    "fő": "1",
                                    "(No column name)": "6"
                                },
                                {
                                    "usernev": "eszter2",
                                    "nev": "Balogh Eszter",
                                    "mettol": "2016-12-05",
                                    "meddig": "2016-12-08",
                                    "fő": "2",
                                    "(No column name)": "6"
                                },
                                {
                                    "usernev": "eszter2",
                                    "nev": "Balogh Eszter",
                                    "mettol": "2016-12-29",
                                    "meddig": "2017-02-04",
                                    "fő": "1",
                                    "(No column name)": "7"
                                },
                                {
                                    "usernev": "eszter4",
                                    "nev": "Fülöp Eszter",
                                    "mettol": "2017-01-05",
                                    "meddig": "2017-01-10",
                                    "fő": "2",
                                    "(No column name)": "NULL"
                                },
                                {
                                    "usernev": "eszter4",
                                    "nev": "Fülöp Eszter",
                                    "mettol": "2017-01-26",
                                    "meddig": "2017-02-02",
                                    "fő": "2",
                                    "(No column name)": "2"
                                },
                                {
                                    "usernev": "eszter4",
                                    "nev": "Fülöp Eszter",
                                    "mettol": "2017-02-26",
                                    "meddig": "2017-02-27",
                                    "fő": "3",
                                    "(No column name)": "4"
                                },
                                {
                                    "usernev": "ESZTERE",
                                    "nev": "Érsek Eszter",
                                    "mettol": "2016-07-19",
                                    "meddig": "2016-07-21",
                                    "fő": "2",
                                    "(No column name)": "NULL"
                                },
                                {
                                    "usernev": "ESZTERE",
                                    "nev": "Érsek Eszter",
                                    "mettol": "2016-05-30",
                                    "meddig": "2016-06-05",
                                    "fő": "2",
                                    "(No column name)": "2"
                                },
                                {
                                    "usernev": "ESZTERE",
                                    "nev": "Érsek Eszter",
                                    "mettol": "2016-11-01",
                                    "meddig": "2016-11-08",
                                    "fő": "2",
                                    "(No column name)": "4"
                                },
                                {
                                    "usernev": "ESZTERE",
                                    "nev": "Érsek Eszter",
                                    "mettol": "2017-02-10",
                                    "meddig": "2017-02-14",
                                    "fő": "2",
                                    "(No column name)": "6"
                                },
                                {
                                    "usernev": "eva",
                                    "nev": "Enyedi Éva",
                                    "mettol": "2016-10-06",
                                    "meddig": "2016-10-09",
                                    "fő": "3",
                                    "(No column name)": "NULL"
                                },
                                {
                                    "usernev": "eva",
                                    "nev": "Enyedi Éva",
                                    "mettol": "2017-01-14",
                                    "meddig": "2017-01-16",
                                    "fő": "2",
                                    "(No column name)": "3"
                                },
                                {
                                    "usernev": "eva2",
                                    "nev": "Perlinger Éva",
                                    "mettol": "2016-09-02",
                                    "meddig": "2016-09-03",
                                    "fő": "1",
                                    "(No column name)": "NULL"
                                },
                                {
                                    "usernev": "eva2",
                                    "nev": "Perlinger Éva",
                                    "mettol": "2016-11-06",
                                    "meddig": "2016-11-13",
                                    "fő": "2",
                                    "(No column name)": "1"
                                },
                                {
                                    "usernev": "eva2",
                                    "nev": "Perlinger Éva",
                                    "mettol": "2016-12-06",
                                    "meddig": "2016-12-11",
                                    "fő": "2",
                                    "(No column name)": "3"
                                },
                                {
                                    "usernev": "eva2",
                                    "nev": "Perlinger Éva",
                                    "mettol": "2017-01-06",
                                    "meddig": "2017-01-09",
                                    "fő": "4",
                                    "(No column name)": "5"
                                },
                                {
                                    "usernev": "EVAV",
                                    "nev": "Viktor Éva",
                                    "mettol": "2016-05-01",
                                    "meddig": "2016-05-05",
                                    "fő": "3",
                                    "(No column name)": "NULL"
                                },
                                {
                                    "usernev": "EVAV",
                                    "nev": "Viktor Éva",
                                    "mettol": "2016-08-31",
                                    "meddig": "2016-09-04",
                                    "fő": "2",
                                    "(No column name)": "3"
                                },
                                {
                                    "usernev": "EVAV",
                                    "nev": "Viktor Éva",
                                    "mettol": "2016-10-15",
                                    "meddig": "2016-10-21",
                                    "fő": "3",
                                    "(No column name)": "5"
                                },
                                {
                                    "usernev": "EVAV",
                                    "nev": "Viktor Éva",
                                    "mettol": "2016-10-16",
                                    "meddig": "2016-10-23",
                                    "fő": "2",
                                    "(No column name)": "8"
                                },
                                {
                                    "usernev": "EVAV",
                                    "nev": "Viktor Éva",
                                    "mettol": "2017-02-04",
                                    "meddig": "2017-02-11",
                                    "fő": "5",
                                    "(No column name)": "7"
                                },
                                {
                                    "usernev": "ferenc1",
                                    "nev": "Orosz Ferenc",
                                    "mettol": "2016-05-08",
                                    "meddig": "2016-05-11",
                                    "fő": "2",
                                    "(No column name)": "NULL"
                                },
                                {
                                    "usernev": "ferenc1",
                                    "nev": "Orosz Ferenc",
                                    "mettol": "2016-06-16",
                                    "meddig": "2016-06-22",
                                    "fő": "2",
                                    "(No column name)": "2"
                                },
                                {
                                    "usernev": "ferenc1",
                                    "nev": "Orosz Ferenc",
                                    "mettol": "2016-10-08",
                                    "meddig": "2016-10-09",
                                    "fő": "2",
                                    "(No column name)": "4"
                                },
                                {
                                    "usernev": "ferenc1",
                                    "nev": "Orosz Ferenc",
                                    "mettol": "2016-11-07",
                                    "meddig": "2016-11-08",
                                    "fő": "3",
                                    "(No column name)": "6"
                                },
                                {
                                    "usernev": "fruzsina4",
                                    "nev": "Frank Fruzsina",
                                    "mettol": "2016-07-13",
                                    "meddig": "2016-07-19",
                                    "fő": "3",
                                    "(No column name)": "NULL"
                                },
                                {
                                    "usernev": "fruzsina4",
                                    "nev": "Frank Fruzsina",
                                    "mettol": "2016-08-27",
                                    "meddig": "2016-08-30",
                                    "fő": "4",
                                    "(No column name)": "3"
                                },
                                {
                                    "usernev": "fruzsina4",
                                    "nev": "Frank Fruzsina",
                                    "mettol": "2016-06-02",
                                    "meddig": "2016-06-04",
                                    "fő": "2",
                                    "(No column name)": "7"
                                },
                                {
                                    "usernev": "fruzsina4",
                                    "nev": "Frank Fruzsina",
                                    "mettol": "2016-07-01",
                                    "meddig": "2016-07-04",
                                    "fő": "3",
                                    "(No column name)": "9"
                                },
                                {
                                    "usernev": "fruzsina4",
                                    "nev": "Frank Fruzsina",
                                    "mettol": "2016-09-29",
                                    "meddig": "2016-10-01",
                                    "fő": "3",
                                    "(No column name)": "9"
                                },
                                {
                                    "usernev": "fruzsina4",
                                    "nev": "Frank Fruzsina",
                                    "mettol": "2016-11-22",
                                    "meddig": "2016-11-24",
                                    "fő": "2",
                                    "(No column name)": "8"
                                },
                                {
                                    "usernev": "fruzsina4",
                                    "nev": "Frank Fruzsina",
                                    "mettol": "2016-12-16",
                                    "meddig": "2016-12-21",
                                    "fő": "1",
                                    "(No column name)": "8"
                                },
                                {
                                    "usernev": "fruzsina4",
                                    "nev": "Frank Fruzsina",
                                    "mettol": "2017-01-22",
                                    "meddig": "2017-01-25",
                                    "fő": "4",
                                    "(No column name)": "6"
                                },
                                {
                                    "usernev": "gabor1",
                                    "nev": "Köves Gábor",
                                    "mettol": "2016-07-28",
                                    "meddig": "2016-07-30",
                                    "fő": "2",
                                    "(No column name)": "NULL"
                                },
                                {
                                    "usernev": "gabor1",
                                    "nev": "Köves Gábor",
                                    "mettol": "2016-09-02",
                                    "meddig": "2016-09-03",
                                    "fő": "3",
                                    "(No column name)": "2"
                                },
                                {
                                    "usernev": "gabor1",
                                    "nev": "Köves Gábor",
                                    "mettol": "2016-06-20",
                                    "meddig": "2016-06-21",
                                    "fő": "4",
                                    "(No column name)": "5"
                                },
                                {
                                    "usernev": "gabor1",
                                    "nev": "Köves Gábor",
                                    "mettol": "2016-07-12",
                                    "meddig": "2016-07-15",
                                    "fő": "1",
                                    "(No column name)": "9"
                                },
                                {
                                    "usernev": "gabor1",
                                    "nev": "Köves Gábor",
                                    "mettol": "2016-10-20",
                                    "meddig": "2016-10-24",
                                    "fő": "1",
                                    "(No column name)": "8"
                                },
                                {
                                    "usernev": "gabor1",
                                    "nev": "Köves Gábor",
                                    "mettol": "2016-11-19",
                                    "meddig": "2016-11-22",
                                    "fő": "2",
                                    "(No column name)": "6"
                                },
                                {
                                    "usernev": "gabor4",
                                    "nev": "Telek Gábor",
                                    "mettol": "2016-04-26",
                                    "meddig": "2016-04-29",
                                    "fő": "3",
                                    "(No column name)": "NULL"
                                },
                                {
                                    "usernev": "gabor4",
                                    "nev": "Telek Gábor",
                                    "mettol": "2016-08-31",
                                    "meddig": "2016-09-06",
                                    "fő": "4",
                                    "(No column name)": "3"
                                },
                                {
                                    "usernev": "gabor4",
                                    "nev": "Telek Gábor",
                                    "mettol": "2016-05-30",
                                    "meddig": "2016-06-05",
                                    "fő": "1",
                                    "(No column name)": "7"
                                },
                                {
                                    "usernev": "gabor4",
                                    "nev": "Telek Gábor",
                                    "mettol": "2016-11-07",
                                    "meddig": "2016-11-13",
                                    "fő": "4",
                                    "(No column name)": "8"
                                },
                                {
                                    "usernev": "gabriella1",
                                    "nev": "Nagy Gabriella",
                                    "mettol": "2016-04-21",
                                    "meddig": "2016-04-24",
                                    "fő": "3",
                                    "(No column name)": "NULL"
                                },
                                {
                                    "usernev": "gabriella1",
                                    "nev": "Nagy Gabriella",
                                    "mettol": "2016-07-24",
                                    "meddig": "2016-07-31",
                                    "fő": "2",
                                    "(No column name)": "3"
                                },
                                {
                                    "usernev": "gabriella1",
                                    "nev": "Nagy Gabriella",
                                    "mettol": "2016-07-10",
                                    "meddig": "2016-07-11",
                                    "fő": "3",
                                    "(No column name)": "5"
                                },
                                {
                                    "usernev": "gabriella1",
                                    "nev": "Nagy Gabriella",
                                    "mettol": "2017-02-04",
                                    "meddig": "2017-02-11",
                                    "fő": "3",
                                    "(No column name)": "8"
                                },
                                {
                                    "usernev": "gabriella1",
                                    "nev": "Nagy Gabriella",
                                    "mettol": "2017-02-12",
                                    "meddig": "2017-02-13",
                                    "fő": "2",
                                    "(No column name)": "8"
                                },
                                {
                                    "usernev": "gabriella1",
                                    "nev": "Nagy Gabriella",
                                    "mettol": "2017-02-21",
                                    "meddig": "2017-02-27",
                                    "fő": "3",
                                    "(No column name)": "8"
                                },
                                {
                                    "usernev": "gabriella10",
                                    "nev": "Vida Gabriella",
                                    "mettol": "2016-10-01",
                                    "meddig": "2016-10-06",
                                    "fő": "3",
                                    "(No column name)": "NULL"
                                },
                                {
                                    "usernev": "georgij",
                                    "nev": "Nyíri Georgij",
                                    "mettol": "2016-08-16",
                                    "meddig": "2016-08-22",
                                    "fő": "4",
                                    "(No column name)": "NULL"
                                },
                                {
                                    "usernev": "georgij",
                                    "nev": "Nyíri Georgij",
                                    "mettol": "2016-08-28",
                                    "meddig": "2016-09-04",
                                    "fő": "2",
                                    "(No column name)": "4"
                                },
                                {
                                    "usernev": "georgij",
                                    "nev": "Nyíri Georgij",
                                    "mettol": "2016-06-16",
                                    "meddig": "2016-06-20",
                                    "fő": "3",
                                    "(No column name)": "6"
                                },
                                {
                                    "usernev": "georgij",
                                    "nev": "Nyíri Georgij",
                                    "mettol": "2016-09-18",
                                    "meddig": "2016-09-24",
                                    "fő": "3",
                                    "(No column name)": "9"
                                },
                                {
                                    "usernev": "gusztav",
                                    "nev": "Bárci Gusztáv",
                                    "mettol": "2016-05-06",
                                    "meddig": "2016-05-13",
                                    "fő": "2",
                                    "(No column name)": "NULL"
                                },
                                {
                                    "usernev": "gusztav",
                                    "nev": "Bárci Gusztáv",
                                    "mettol": "2016-08-05",
                                    "meddig": "2016-08-11",
                                    "fő": "3",
                                    "(No column name)": "2"
                                },
                                {
                                    "usernev": "gusztav",
                                    "nev": "Bárci Gusztáv",
                                    "mettol": "2016-10-01",
                                    "meddig": "2016-10-03",
                                    "fő": "3",
                                    "(No column name)": "5"
                                },
                                {
                                    "usernev": "gusztav",
                                    "nev": "Bárci Gusztáv",
                                    "mettol": "2017-02-03",
                                    "meddig": "2017-02-09",
                                    "fő": "2",
                                    "(No column name)": "8"
                                },
                                {
                                    "usernev": "gusztav",
                                    "nev": "Bárci Gusztáv",
                                    "mettol": "2017-02-23",
                                    "meddig": "2017-03-01",
                                    "fő": "4",
                                    "(No column name)": "8"
                                },
                                {
                                    "usernev": "GYONGYIK",
                                    "nev": "Kornseé Gyöngyi",
                                    "mettol": "2016-08-17",
                                    "meddig": "2016-08-21",
                                    "fő": "3",
                                    "(No column name)": "NULL"
                                },
                                {
                                    "usernev": "GYONGYIK",
                                    "nev": "Kornseé Gyöngyi",
                                    "mettol": "2016-06-02",
                                    "meddig": "2016-06-05",
                                    "fő": "3",
                                    "(No column name)": "3"
                                },
                                {
                                    "usernev": "GYONGYIK",
                                    "nev": "Kornseé Gyöngyi",
                                    "mettol": "2016-06-10",
                                    "meddig": "2016-06-17",
                                    "fő": "1",
                                    "(No column name)": "6"
                                },
                                {
                                    "usernev": "GYONGYIK",
                                    "nev": "Kornseé Gyöngyi",
                                    "mettol": "2016-07-01",
                                    "meddig": "2016-07-05",
                                    "fő": "2",
                                    "(No column name)": "7"
                                },
                                {
                                    "usernev": "GYONGYIK",
                                    "nev": "Kornseé Gyöngyi",
                                    "mettol": "2016-11-08",
                                    "meddig": "2016-11-13",
                                    "fő": "2",
                                    "(No column name)": "6"
                                },
                                {
                                    "usernev": "GYONGYIK",
                                    "nev": "Kornseé Gyöngyi",
                                    "mettol": "2016-12-01",
                                    "meddig": "2016-12-08",
                                    "fő": "2",
                                    "(No column name)": "5"
                                },
                                {
                                    "usernev": "GYONGYIK",
                                    "nev": "Kornseé Gyöngyi",
                                    "mettol": "2017-01-22",
                                    "meddig": "2017-01-29",
                                    "fő": "3",
                                    "(No column name)": "6"
                                },
                                {
                                    "usernev": "GYORGYO",
                                    "nev": "Oroszi György",
                                    "mettol": "2016-07-18",
                                    "meddig": "2016-07-25",
                                    "fő": "2",
                                    "(No column name)": "NULL"
                                },
                                {
                                    "usernev": "GYORGYO",
                                    "nev": "Oroszi György",
                                    "mettol": "2016-07-28",
                                    "meddig": "2016-08-03",
                                    "fő": "3",
                                    "(No column name)": "2"
                                },
                                {
                                    "usernev": "GYORGYO",
                                    "nev": "Oroszi György",
                                    "mettol": "2016-05-27",
                                    "meddig": "2016-05-28",
                                    "fő": "3",
                                    "(No column name)": "5"
                                },
                                {
                                    "usernev": "GYORGYO",
                                    "nev": "Oroszi György",
                                    "mettol": "2016-06-01",
                                    "meddig": "2016-06-07",
                                    "fő": "2",
                                    "(No column name)": "8"
                                },
                                {
                                    "usernev": "GYORGYO",
                                    "nev": "Oroszi György",
                                    "mettol": "2016-06-10",
                                    "meddig": "2016-06-15",
                                    "fő": "2",
                                    "(No column name)": "8"
                                },
                                {
                                    "usernev": "GYORGYO",
                                    "nev": "Oroszi György",
                                    "mettol": "2016-10-28",
                                    "meddig": "2016-10-31",
                                    "fő": "1",
                                    "(No column name)": "7"
                                },
                                {
                                    "usernev": "GYORGYO",
                                    "nev": "Oroszi György",
                                    "mettol": "2017-02-13",
                                    "meddig": "2017-02-15",
                                    "fő": "2",
                                    "(No column name)": "5"
                                },
                                {
                                    "usernev": "GYORGYO",
                                    "nev": "Oroszi György",
                                    "mettol": "2017-02-24",
                                    "meddig": "2017-02-25",
                                    "fő": "3",
                                    "(No column name)": "5"
                                },
                                {
                                    "usernev": "henrik3",
                                    "nev": "Nádudvari Henrik",
                                    "mettol": "2016-08-24",
                                    "meddig": "2016-08-28",
                                    "fő": "1",
                                    "(No column name)": "NULL"
                                },
                                {
                                    "usernev": "henrik3",
                                    "nev": "Nádudvari Henrik",
                                    "mettol": "2016-12-29",
                                    "meddig": "2017-01-03",
                                    "fő": "3",
                                    "(No column name)": "1"
                                },
                                {
                                    "usernev": "henrik3",
                                    "nev": "Nádudvari Henrik",
                                    "mettol": "2017-01-27",
                                    "meddig": "2017-01-28",
                                    "fő": "3",
                                    "(No column name)": "4"
                                },
                                {
                                    "usernev": "IBOLYAA",
                                    "nev": "Andor Ibolya",
                                    "mettol": "2016-08-29",
                                    "meddig": "2016-08-31",
                                    "fő": "5",
                                    "(No column name)": "NULL"
                                },
                                {
                                    "usernev": "IBOLYAA",
                                    "nev": "Andor Ibolya",
                                    "mettol": "2016-10-23",
                                    "meddig": "2016-10-28",
                                    "fő": "2",
                                    "(No column name)": "5"
                                },
                                {
                                    "usernev": "IBOLYAA",
                                    "nev": "Andor Ibolya",
                                    "mettol": "2017-01-17",
                                    "meddig": "2017-01-23",
                                    "fő": "3",
                                    "(No column name)": "7"
                                },
                                {
                                    "usernev": "ilona3",
                                    "nev": "Bosnyák Ilona",
                                    "mettol": "2016-07-31",
                                    "meddig": "2016-08-06",
                                    "fő": "2",
                                    "(No column name)": "NULL"
                                },
                                {
                                    "usernev": "ilona3",
                                    "nev": "Bosnyák Ilona",
                                    "mettol": "2016-08-04",
                                    "meddig": "2016-08-08",
                                    "fő": "3",
                                    "(No column name)": "2"
                                },
                                {
                                    "usernev": "ilona3",
                                    "nev": "Bosnyák Ilona",
                                    "mettol": "2016-11-04",
                                    "meddig": "2016-11-06",
                                    "fő": "4",
                                    "(No column name)": "5"
                                },
                                {
                                    "usernev": "ilona3",
                                    "nev": "Bosnyák Ilona",
                                    "mettol": "2016-12-25",
                                    "meddig": "2016-12-31",
                                    "fő": "3",
                                    "(No column name)": "9"
                                },
                                {
                                    "usernev": "imre",
                                    "nev": "Búza Imre",
                                    "mettol": "2016-09-17",
                                    "meddig": "2016-09-19",
                                    "fő": "3",
                                    "(No column name)": "NULL"
                                },
                                {
                                    "usernev": "imre",
                                    "nev": "Búza Imre",
                                    "mettol": "2016-10-28",
                                    "meddig": "2016-10-29",
                                    "fő": "4",
                                    "(No column name)": "3"
                                },
                                {
                                    "usernev": "imre1",
                                    "nev": "Papp Imre",
                                    "mettol": "2016-08-21",
                                    "meddig": "2016-08-27",
                                    "fő": "2",
                                    "(No column name)": "NULL"
                                },
                                {
                                    "usernev": "imre1",
                                    "nev": "Papp Imre",
                                    "mettol": "2016-08-23",
                                    "meddig": "2016-08-25",
                                    "fő": "3",
                                    "(No column name)": "2"
                                },
                                {
                                    "usernev": "imre1",
                                    "nev": "Papp Imre",
                                    "mettol": "2016-08-29",
                                    "meddig": "2016-08-31",
                                    "fő": "2",
                                    "(No column name)": "5"
                                },
                                {
                                    "usernev": "imre1",
                                    "nev": "Papp Imre",
                                    "mettol": "2016-06-23",
                                    "meddig": "2016-06-26",
                                    "fő": "4",
                                    "(No column name)": "7"
                                },
                                {
                                    "usernev": "imre1",
                                    "nev": "Papp Imre",
                                    "mettol": "2016-06-27",
                                    "meddig": "2016-06-28",
                                    "fő": "2",
                                    "(No column name)": "9"
                                },
                                {
                                    "usernev": "imre1",
                                    "nev": "Papp Imre",
                                    "mettol": "2017-02-01",
                                    "meddig": "2017-02-04",
                                    "fő": "2",
                                    "(No column name)": "8"
                                },
                                {
                                    "usernev": "imre1",
                                    "nev": "Papp Imre",
                                    "mettol": "2017-02-05",
                                    "meddig": "2017-02-07",
                                    "fő": "4",
                                    "(No column name)": "8"
                                },
                                {
                                    "usernev": "istvan",
                                    "nev": "Soós István",
                                    "mettol": "2016-10-07",
                                    "meddig": "2016-10-10",
                                    "fő": "2",
                                    "(No column name)": "NULL"
                                },
                                {
                                    "usernev": "istvan",
                                    "nev": "Soós István",
                                    "mettol": "2016-11-22",
                                    "meddig": "2016-11-24",
                                    "fő": "3",
                                    "(No column name)": "2"
                                },
                                {
                                    "usernev": "istvan",
                                    "nev": "Soós István",
                                    "mettol": "2017-01-02",
                                    "meddig": "2017-01-05",
                                    "fő": "2",
                                    "(No column name)": "5"
                                },
                                {
                                    "usernev": "istvan1",
                                    "nev": "Vizi István",
                                    "mettol": "2016-04-16",
                                    "meddig": "2016-04-22",
                                    "fő": "3",
                                    "(No column name)": "NULL"
                                },
                                {
                                    "usernev": "istvan1",
                                    "nev": "Vizi István",
                                    "mettol": "2016-04-24",
                                    "meddig": "2016-04-28",
                                    "fő": "3",
                                    "(No column name)": "3"
                                },
                                {
                                    "usernev": "istvan1",
                                    "nev": "Vizi István",
                                    "mettol": "2016-07-19",
                                    "meddig": "2016-07-24",
                                    "fő": "1",
                                    "(No column name)": "6"
                                },
                                {
                                    "usernev": "istvan1",
                                    "nev": "Vizi István",
                                    "mettol": "2017-02-07",
                                    "meddig": "2017-02-10",
                                    "fő": "3",
                                    "(No column name)": "7"
                                },
                                {
                                    "usernev": "ISTVANV",
                                    "nev": "Varga István",
                                    "mettol": "2016-07-01",
                                    "meddig": "2016-07-04",
                                    "fő": "4",
                                    "(No column name)": "NULL"
                                },
                                {
                                    "usernev": "ISTVANV",
                                    "nev": "Varga István",
                                    "mettol": "2016-09-29",
                                    "meddig": "2016-10-01",
                                    "fő": "3",
                                    "(No column name)": "4"
                                },
                                {
                                    "usernev": "janos3",
                                    "nev": "Harangozó János",
                                    "mettol": "2016-08-24",
                                    "meddig": "2016-08-25",
                                    "fő": "3",
                                    "(No column name)": "NULL"
                                },
                                {
                                    "usernev": "janos3",
                                    "nev": "Harangozó János",
                                    "mettol": "2016-06-04",
                                    "meddig": "2016-06-06",
                                    "fő": "1",
                                    "(No column name)": "3"
                                },
                                {
                                    "usernev": "janos3",
                                    "nev": "Harangozó János",
                                    "mettol": "2016-10-03",
                                    "meddig": "2016-10-08",
                                    "fő": "3",
                                    "(No column name)": "4"
                                },
                                {
                                    "usernev": "janos3",
                                    "nev": "Harangozó János",
                                    "mettol": "2016-10-22",
                                    "meddig": "2016-10-23",
                                    "fő": "1",
                                    "(No column name)": "7"
                                },
                                {
                                    "usernev": "janos3",
                                    "nev": "Harangozó János",
                                    "mettol": "2017-02-12",
                                    "meddig": "2017-02-14",
                                    "fő": "3",
                                    "(No column name)": "5"
                                },
                                {
                                    "usernev": "JANOSG",
                                    "nev": "Giliga János",
                                    "mettol": "2016-05-09",
                                    "meddig": "2016-05-15",
                                    "fő": "1",
                                    "(No column name)": "NULL"
                                },
                                {
                                    "usernev": "JANOSG",
                                    "nev": "Giliga János",
                                    "mettol": "2016-08-16",
                                    "meddig": "2016-08-23",
                                    "fő": "3",
                                    "(No column name)": "1"
                                },
                                {
                                    "usernev": "JANOSG",
                                    "nev": "Giliga János",
                                    "mettol": "2016-08-30",
                                    "meddig": "2016-09-03",
                                    "fő": "3",
                                    "(No column name)": "4"
                                },
                                {
                                    "usernev": "JANOSG",
                                    "nev": "Giliga János",
                                    "mettol": "2016-11-07",
                                    "meddig": "2016-11-14",
                                    "fő": "3",
                                    "(No column name)": "7"
                                },
                                {
                                    "usernev": "JANOSG",
                                    "nev": "Giliga János",
                                    "mettol": "2016-12-28",
                                    "meddig": "2016-12-30",
                                    "fő": "2",
                                    "(No column name)": "9"
                                },
                                {
                                    "usernev": "JANOSG",
                                    "nev": "Giliga János",
                                    "mettol": "2017-01-10",
                                    "meddig": "2017-01-15",
                                    "fő": "2",
                                    "(No column name)": "8"
                                },
                                {
                                    "usernev": "JANOSG",
                                    "nev": "Giliga János",
                                    "mettol": "2017-01-31",
                                    "meddig": "2017-02-05",
                                    "fő": "2",
                                    "(No column name)": "7"
                                },
                                {
                                    "usernev": "JANOSP",
                                    "nev": "Pálinkás János",
                                    "mettol": "2016-07-04",
                                    "meddig": "2016-07-11",
                                    "fő": "3",
                                    "(No column name)": "NULL"
                                },
                                {
                                    "usernev": "JANOSP",
                                    "nev": "Pálinkás János",
                                    "mettol": "2016-11-23",
                                    "meddig": "2016-11-28",
                                    "fő": "2",
                                    "(No column name)": "3"
                                },
                                {
                                    "usernev": "JANOSP",
                                    "nev": "Pálinkás János",
                                    "mettol": "2016-11-25",
                                    "meddig": "2016-11-27",
                                    "fő": "2",
                                    "(No column name)": "5"
                                },
                                {
                                    "usernev": "JANOSP",
                                    "nev": "Pálinkás János",
                                    "mettol": "2016-12-18",
                                    "meddig": "2016-12-21",
                                    "fő": "2",
                                    "(No column name)": "7"
                                },
                                {
                                    "usernev": "jozsef",
                                    "nev": "Gergely József",
                                    "mettol": "2016-09-13",
                                    "meddig": "2016-09-19",
                                    "fő": "2",
                                    "(No column name)": "NULL"
                                },
                                {
                                    "usernev": "jozsef",
                                    "nev": "Gergely József",
                                    "mettol": "2016-10-08",
                                    "meddig": "2016-10-10",
                                    "fő": "2",
                                    "(No column name)": "2"
                                },
                                {
                                    "usernev": "jozsef",
                                    "nev": "Gergely József",
                                    "mettol": "2016-12-06",
                                    "meddig": "2016-12-07",
                                    "fő": "2",
                                    "(No column name)": "4"
                                },
                                {
                                    "usernev": "jozsef2",
                                    "nev": "Vajda József",
                                    "mettol": "2016-07-16",
                                    "meddig": "2016-07-20",
                                    "fő": "3",
                                    "(No column name)": "NULL"
                                },
                                {
                                    "usernev": "jozsef2",
                                    "nev": "Vajda József",
                                    "mettol": "2016-07-06",
                                    "meddig": "2016-07-11",
                                    "fő": "2",
                                    "(No column name)": "3"
                                },
                                {
                                    "usernev": "jozsef2",
                                    "nev": "Vajda József",
                                    "mettol": "2016-09-09",
                                    "meddig": "2016-09-15",
                                    "fő": "2",
                                    "(No column name)": "5"
                                },
                                {
                                    "usernev": "jozsef2",
                                    "nev": "Vajda József",
                                    "mettol": "2016-11-23",
                                    "meddig": "2016-11-29",
                                    "fő": "3",
                                    "(No column name)": "7"
                                },
                                {
                                    "usernev": "jozsef2",
                                    "nev": "Vajda József",
                                    "mettol": "2016-11-25",
                                    "meddig": "2016-11-29",
                                    "fő": "3",
                                    "(No column name)": "7"
                                },
                                {
                                    "usernev": "JOZSEFG",
                                    "nev": "Gyuris József",
                                    "mettol": "2016-05-02",
                                    "meddig": "2016-05-06",
                                    "fő": "2",
                                    "(No column name)": "NULL"
                                },
                                {
                                    "usernev": "JOZSEFG",
                                    "nev": "Gyuris József",
                                    "mettol": "2016-08-24",
                                    "meddig": "2016-08-27",
                                    "fő": "3",
                                    "(No column name)": "2"
                                },
                                {
                                    "usernev": "JOZSEFG",
                                    "nev": "Gyuris József",
                                    "mettol": "2016-05-23",
                                    "meddig": "2016-05-25",
                                    "fő": "1",
                                    "(No column name)": "5"
                                },
                                {
                                    "usernev": "JOZSEFG",
                                    "nev": "Gyuris József",
                                    "mettol": "2016-06-04",
                                    "meddig": "2016-06-09",
                                    "fő": "4",
                                    "(No column name)": "6"
                                },
                                {
                                    "usernev": "JOZSEFG",
                                    "nev": "Gyuris József",
                                    "mettol": "2017-01-09",
                                    "meddig": "2017-01-13",
                                    "fő": "2",
                                    "(No column name)": "8"
                                },
                                {
                                    "usernev": "JOZSEFG",
                                    "nev": "Gyuris József",
                                    "mettol": "2017-01-22",
                                    "meddig": "2017-01-26",
                                    "fő": "1",
                                    "(No column name)": "7"
                                },
                                {
                                    "usernev": "JOZSEFG",
                                    "nev": "Gyuris József",
                                    "mettol": "2017-02-24",
                                    "meddig": "2017-03-03",
                                    "fő": "3",
                                    "(No column name)": "7"
                                },
                                {
                                    "usernev": "JUDITH",
                                    "nev": "Hídasi Judit",
                                    "mettol": "2016-07-28",
                                    "meddig": "2016-07-30",
                                    "fő": "2",
                                    "(No column name)": "NULL"
                                },
                                {
                                    "usernev": "JUDITH",
                                    "nev": "Hídasi Judit",
                                    "mettol": "2016-06-06",
                                    "meddig": "2016-06-10",
                                    "fő": "2",
                                    "(No column name)": "2"
                                },
                                {
                                    "usernev": "JUDITH",
                                    "nev": "Hídasi Judit",
                                    "mettol": "2016-12-19",
                                    "meddig": "2016-12-26",
                                    "fő": "1",
                                    "(No column name)": "4"
                                },
                                {
                                    "usernev": "julia",
                                    "nev": "Tóth Júlia",
                                    "mettol": "2016-04-21",
                                    "meddig": "2016-04-26",
                                    "fő": "2",
                                    "(No column name)": "NULL"
                                },
                                {
                                    "usernev": "julia",
                                    "nev": "Tóth Júlia",
                                    "mettol": "2016-05-12",
                                    "meddig": "2016-05-17",
                                    "fő": "1",
                                    "(No column name)": "2"
                                },
                                {
                                    "usernev": "julia",
                                    "nev": "Tóth Júlia",
                                    "mettol": "2016-07-20",
                                    "meddig": "2016-07-22",
                                    "fő": "2",
                                    "(No column name)": "3"
                                },
                                {
                                    "usernev": "julia",
                                    "nev": "Tóth Júlia",
                                    "mettol": "2016-06-07",
                                    "meddig": "2016-06-08",
                                    "fő": "5",
                                    "(No column name)": "5"
                                },
                                {
                                    "usernev": "julia",
                                    "nev": "Tóth Júlia",
                                    "mettol": "2017-02-27",
                                    "meddig": "2017-03-06",
                                    "fő": "3",
                                    "(No column name)": "8"
                                },
                                {
                                    "usernev": "julia4",
                                    "nev": "Nagy Júlia",
                                    "mettol": "2016-11-07",
                                    "meddig": "2016-11-12",
                                    "fő": "1",
                                    "(No column name)": "NULL"
                                },
                                {
                                    "usernev": "julia4",
                                    "nev": "Nagy Júlia",
                                    "mettol": "2017-02-04",
                                    "meddig": "2017-02-11",
                                    "fő": "4",
                                    "(No column name)": "1"
                                },
                                {
                                    "usernev": "julianna4",
                                    "nev": "Szabó Julianna",
                                    "mettol": "2016-07-20",
                                    "meddig": "2016-07-26",
                                    "fő": "2",
                                    "(No column name)": "NULL"
                                },
                                {
                                    "usernev": "julianna4",
                                    "nev": "Szabó Julianna",
                                    "mettol": "2016-10-29",
                                    "meddig": "2016-10-31",
                                    "fő": "3",
                                    "(No column name)": "2"
                                },
                                {
                                    "usernev": "julianna4",
                                    "nev": "Szabó Julianna",
                                    "mettol": "2016-11-03",
                                    "meddig": "2016-11-04",
                                    "fő": "2",
                                    "(No column name)": "5"
                                },
                                {
                                    "usernev": "julianna4",
                                    "nev": "Szabó Julianna",
                                    "mettol": "2016-11-27",
                                    "meddig": "2016-12-04",
                                    "fő": "3",
                                    "(No column name)": "7"
                                },
                                {
                                    "usernev": "kata",
                                    "nev": "Gondos Katalin",
                                    "mettol": "2016-04-10",
                                    "meddig": "2016-04-11",
                                    "fő": "2",
                                    "(No column name)": "NULL"
                                },
                                {
                                    "usernev": "kata",
                                    "nev": "Gondos Katalin",
                                    "mettol": "2016-04-25",
                                    "meddig": "2016-05-01",
                                    "fő": "1",
                                    "(No column name)": "2"
                                },
                                {
                                    "usernev": "kata",
                                    "nev": "Gondos Katalin",
                                    "mettol": "2016-08-24",
                                    "meddig": "2016-08-27",
                                    "fő": "3",
                                    "(No column name)": "3"
                                },
                                {
                                    "usernev": "kata",
                                    "nev": "Gondos Katalin",
                                    "mettol": "2016-05-31",
                                    "meddig": "2016-06-01",
                                    "fő": "3",
                                    "(No column name)": "6"
                                },
                                {
                                    "usernev": "kata",
                                    "nev": "Gondos Katalin",
                                    "mettol": "2016-06-07",
                                    "meddig": "2016-06-12",
                                    "fő": "2",
                                    "(No column name)": "7"
                                },
                                {
                                    "usernev": "kata",
                                    "nev": "Gondos Katalin",
                                    "mettol": "2016-07-01",
                                    "meddig": "2016-07-07",
                                    "fő": "2",
                                    "(No column name)": "8"
                                },
                                {
                                    "usernev": "kata",
                                    "nev": "Gondos Katalin",
                                    "mettol": "2016-07-03",
                                    "meddig": "2016-07-06",
                                    "fő": "1",
                                    "(No column name)": "7"
                                },
                                {
                                    "usernev": "kata",
                                    "nev": "Gondos Katalin",
                                    "mettol": "2016-07-07",
                                    "meddig": "2016-07-09",
                                    "fő": "3",
                                    "(No column name)": "5"
                                },
                                {
                                    "usernev": "kata",
                                    "nev": "Gondos Katalin",
                                    "mettol": "2016-09-19",
                                    "meddig": "2016-09-20",
                                    "fő": "3",
                                    "(No column name)": "6"
                                },
                                {
                                    "usernev": "kata",
                                    "nev": "Gondos Katalin",
                                    "mettol": "2017-01-15",
                                    "meddig": "2017-01-21",
                                    "fő": "3",
                                    "(No column name)": "7"
                                },
                                {
                                    "usernev": "katalin",
                                    "nev": "Horváth Katalin",
                                    "mettol": "2016-04-10",
                                    "meddig": "2016-04-17",
                                    "fő": "2",
                                    "(No column name)": "NULL"
                                },
                                {
                                    "usernev": "katalin",
                                    "nev": "Horváth Katalin",
                                    "mettol": "2016-05-21",
                                    "meddig": "2016-05-26",
                                    "fő": "1",
                                    "(No column name)": "2"
                                },
                                {
                                    "usernev": "katalin",
                                    "nev": "Horváth Katalin",
                                    "mettol": "2016-07-28",
                                    "meddig": "2016-07-29",
                                    "fő": "1",
                                    "(No column name)": "3"
                                },
                                {
                                    "usernev": "katalin",
                                    "nev": "Horváth Katalin",
                                    "mettol": "2016-07-06",
                                    "meddig": "2016-07-11",
                                    "fő": "1",
                                    "(No column name)": "4"
                                },
                                {
                                    "usernev": "katalin",
                                    "nev": "Horváth Katalin",
                                    "mettol": "2016-10-26",
                                    "meddig": "2016-10-30",
                                    "fő": "2",
                                    "(No column name)": "3"
                                },
                                {
                                    "usernev": "katalin",
                                    "nev": "Horváth Katalin",
                                    "mettol": "2016-12-13",
                                    "meddig": "2016-12-19",
                                    "fő": "2",
                                    "(No column name)": "4"
                                },
                                {
                                    "usernev": "katalin",
                                    "nev": "Horváth Katalin",
                                    "mettol": "2016-12-17",
                                    "meddig": "2016-12-24",
                                    "fő": "1",
                                    "(No column name)": "5"
                                },
                                {
                                    "usernev": "katalin",
                                    "nev": "Horváth Katalin",
                                    "mettol": "2016-12-24",
                                    "meddig": "2016-12-27",
                                    "fő": "2",
                                    "(No column name)": "5"
                                },
                                {
                                    "usernev": "katalin",
                                    "nev": "Horváth Katalin",
                                    "mettol": "2017-02-24",
                                    "meddig": "2017-02-27",
                                    "fő": "3",
                                    "(No column name)": "5"
                                },
                                {
                                    "usernev": "katalin4",
                                    "nev": "Kertész Katalin",
                                    "mettol": "2016-07-01",
                                    "meddig": "2016-07-07",
                                    "fő": "1",
                                    "(No column name)": "NULL"
                                },
                                {
                                    "usernev": "katalin4",
                                    "nev": "Kertész Katalin",
                                    "mettol": "2016-07-03",
                                    "meddig": "2016-07-04",
                                    "fő": "4",
                                    "(No column name)": "1"
                                },
                                {
                                    "usernev": "katalin4",
                                    "nev": "Kertész Katalin",
                                    "mettol": "2016-11-27",
                                    "meddig": "2016-12-04",
                                    "fő": "3",
                                    "(No column name)": "5"
                                },
                                {
                                    "usernev": "katalin4",
                                    "nev": "Kertész Katalin",
                                    "mettol": "2016-12-04",
                                    "meddig": "2016-12-09",
                                    "fő": "3",
                                    "(No column name)": "8"
                                },
                                {
                                    "usernev": "katalin4",
                                    "nev": "Kertész Katalin",
                                    "mettol": "2017-01-18",
                                    "meddig": "2017-01-20",
                                    "fő": "2",
                                    "(No column name)": "10"
                                },
                                {
                                    "usernev": "katalin4",
                                    "nev": "Kertész Katalin",
                                    "mettol": "2017-01-24",
                                    "meddig": "2017-01-31",
                                    "fő": "2",
                                    "(No column name)": "8"
                                },
                                {
                                    "usernev": "kati",
                                    "nev": "Zatykó Katalin",
                                    "mettol": "2016-07-13",
                                    "meddig": "2016-07-20",
                                    "fő": "2",
                                    "(No column name)": "NULL"
                                },
                                {
                                    "usernev": "kati",
                                    "nev": "Zatykó Katalin",
                                    "mettol": "2016-07-27",
                                    "meddig": "2016-08-03",
                                    "fő": "2",
                                    "(No column name)": "2"
                                },
                                {
                                    "usernev": "kati",
                                    "nev": "Zatykó Katalin",
                                    "mettol": "2016-08-03",
                                    "meddig": "2016-08-07",
                                    "fő": "2",
                                    "(No column name)": "4"
                                },
                                {
                                    "usernev": "kati",
                                    "nev": "Zatykó Katalin",
                                    "mettol": "2016-06-06",
                                    "meddig": "2016-06-10",
                                    "fő": "2",
                                    "(No column name)": "6"
                                },
                                {
                                    "usernev": "kati",
                                    "nev": "Zatykó Katalin",
                                    "mettol": "2016-06-06",
                                    "meddig": "2016-06-11",
                                    "fő": "3",
                                    "(No column name)": "6"
                                },
                                {
                                    "usernev": "kati",
                                    "nev": "Zatykó Katalin",
                                    "mettol": "2016-10-26",
                                    "meddig": "2016-10-28",
                                    "fő": "2",
                                    "(No column name)": "7"
                                },
                                {
                                    "usernev": "kati",
                                    "nev": "Zatykó Katalin",
                                    "mettol": "2016-10-30",
                                    "meddig": "2016-11-01",
                                    "fő": "3",
                                    "(No column name)": "7"
                                },
                                {
                                    "usernev": "katka",
                                    "nev": "Kovács Katalin",
                                    "mettol": "2016-04-10",
                                    "meddig": "2016-04-12",
                                    "fő": "2",
                                    "(No column name)": "NULL"
                                },
                                {
                                    "usernev": "katka",
                                    "nev": "Kovács Katalin",
                                    "mettol": "2016-05-09",
                                    "meddig": "2016-05-15",
                                    "fő": "3",
                                    "(No column name)": "2"
                                },
                                {
                                    "usernev": "katka",
                                    "nev": "Kovács Katalin",
                                    "mettol": "2016-08-24",
                                    "meddig": "2016-08-26",
                                    "fő": "2",
                                    "(No column name)": "5"
                                },
                                {
                                    "usernev": "katka",
                                    "nev": "Kovács Katalin",
                                    "mettol": "2016-06-13",
                                    "meddig": "2016-06-18",
                                    "fő": "1",
                                    "(No column name)": "7"
                                },
                                {
                                    "usernev": "katka",
                                    "nev": "Kovács Katalin",
                                    "mettol": "2016-06-13",
                                    "meddig": "2016-06-19",
                                    "fő": "4",
                                    "(No column name)": "6"
                                },
                                {
                                    "usernev": "katka",
                                    "nev": "Kovács Katalin",
                                    "mettol": "2016-09-05",
                                    "meddig": "2016-09-10",
                                    "fő": "4",
                                    "(No column name)": "7"
                                },
                                {
                                    "usernev": "katka",
                                    "nev": "Kovács Katalin",
                                    "mettol": "2016-11-05",
                                    "meddig": "2016-11-08",
                                    "fő": "3",
                                    "(No column name)": "9"
                                },
                                {
                                    "usernev": "katka",
                                    "nev": "Kovács Katalin",
                                    "mettol": "2017-01-02",
                                    "meddig": "2017-01-05",
                                    "fő": "3",
                                    "(No column name)": "11"
                                },
                                {
                                    "usernev": "katka",
                                    "nev": "Kovács Katalin",
                                    "mettol": "2017-01-19",
                                    "meddig": "2017-01-20",
                                    "fő": "3",
                                    "(No column name)": "10"
                                },
                                {
                                    "usernev": "klaudia2",
                                    "nev": "Bakó Klaudia",
                                    "mettol": "2016-06-06",
                                    "meddig": "2016-06-08",
                                    "fő": "4",
                                    "(No column name)": "NULL"
                                },
                                {
                                    "usernev": "klaudia2",
                                    "nev": "Bakó Klaudia",
                                    "mettol": "2016-10-01",
                                    "meddig": "2016-10-02",
                                    "fő": "2",
                                    "(No column name)": "4"
                                },
                                {
                                    "usernev": "klaudia2",
                                    "nev": "Bakó Klaudia",
                                    "mettol": "2016-10-02",
                                    "meddig": "2016-10-05",
                                    "fő": "2",
                                    "(No column name)": "6"
                                },
                                {
                                    "usernev": "kornel4",
                                    "nev": "Lukács Kornél",
                                    "mettol": "2016-05-08",
                                    "meddig": "2016-05-14",
                                    "fő": "3",
                                    "(No column name)": "NULL"
                                },
                                {
                                    "usernev": "kornel4",
                                    "nev": "Lukács Kornél",
                                    "mettol": "2016-06-02",
                                    "meddig": "2016-06-09",
                                    "fő": "3",
                                    "(No column name)": "3"
                                },
                                {
                                    "usernev": "kornel4",
                                    "nev": "Lukács Kornél",
                                    "mettol": "2016-09-23",
                                    "meddig": "2016-09-24",
                                    "fő": "3",
                                    "(No column name)": "6"
                                },
                                {
                                    "usernev": "kristof4",
                                    "nev": "Poprádi Kristóf",
                                    "mettol": "2016-04-08",
                                    "meddig": "2016-04-14",
                                    "fő": "2",
                                    "(No column name)": "NULL"
                                },
                                {
                                    "usernev": "kristof4",
                                    "nev": "Poprádi Kristóf",
                                    "mettol": "2016-09-30",
                                    "meddig": "2016-10-04",
                                    "fő": "2",
                                    "(No column name)": "2"
                                },
                                {
                                    "usernev": "kriszti",
                                    "nev": "Horváth Krisztina",
                                    "mettol": "2016-05-19",
                                    "meddig": "2016-05-26",
                                    "fő": "2",
                                    "(No column name)": "NULL"
                                },
                                {
                                    "usernev": "kriszti",
                                    "nev": "Horváth Krisztina",
                                    "mettol": "2016-08-24",
                                    "meddig": "2016-08-25",
                                    "fő": "3",
                                    "(No column name)": "2"
                                },
                                {
                                    "usernev": "kriszti",
                                    "nev": "Horváth Krisztina",
                                    "mettol": "2016-09-30",
                                    "meddig": "2016-10-05",
                                    "fő": "3",
                                    "(No column name)": "5"
                                },
                                {
                                    "usernev": "kriszti",
                                    "nev": "Horváth Krisztina",
                                    "mettol": "2016-10-01",
                                    "meddig": "2016-10-02",
                                    "fő": "3",
                                    "(No column name)": "8"
                                },
                                {
                                    "usernev": "kriszti",
                                    "nev": "Horváth Krisztina",
                                    "mettol": "2017-02-04",
                                    "meddig": "2017-02-11",
                                    "fő": "3",
                                    "(No column name)": "9"
                                },
                                {
                                    "usernev": "kriszti",
                                    "nev": "Horváth Krisztina",
                                    "mettol": "2017-03-03",
                                    "meddig": "2017-03-04",
                                    "fő": "3",
                                    "(No column name)": "9"
                                },
                                {
                                    "usernev": "krisztian4",
                                    "nev": "Czérna Krisztián",
                                    "mettol": "2016-07-28",
                                    "meddig": "2016-08-01",
                                    "fő": "2",
                                    "(No column name)": "NULL"
                                },
                                {
                                    "usernev": "krisztian4",
                                    "nev": "Czérna Krisztián",
                                    "mettol": "2016-08-01",
                                    "meddig": "2016-08-04",
                                    "fő": "3",
                                    "(No column name)": "2"
                                },
                                {
                                    "usernev": "krisztian4",
                                    "nev": "Czérna Krisztián",
                                    "mettol": "2016-08-16",
                                    "meddig": "2016-08-19",
                                    "fő": "1",
                                    "(No column name)": "5"
                                },
                                {
                                    "usernev": "krisztian4",
                                    "nev": "Czérna Krisztián",
                                    "mettol": "2016-08-29",
                                    "meddig": "2016-09-03",
                                    "fő": "1",
                                    "(No column name)": "6"
                                },
                                {
                                    "usernev": "krisztian4",
                                    "nev": "Czérna Krisztián",
                                    "mettol": "2016-06-03",
                                    "meddig": "2016-06-04",
                                    "fő": "2",
                                    "(No column name)": "5"
                                },
                                {
                                    "usernev": "krisztian4",
                                    "nev": "Czérna Krisztián",
                                    "mettol": "2016-06-07",
                                    "meddig": "2016-06-09",
                                    "fő": "2",
                                    "(No column name)": "4"
                                },
                                {
                                    "usernev": "krisztian4",
                                    "nev": "Czérna Krisztián",
                                    "mettol": "2016-10-17",
                                    "meddig": "2016-10-22",
                                    "fő": "3",
                                    "(No column name)": "5"
                                },
                                {
                                    "usernev": "krisztian4",
                                    "nev": "Czérna Krisztián",
                                    "mettol": "2016-11-02",
                                    "meddig": "2016-11-03",
                                    "fő": "2",
                                    "(No column name)": "7"
                                },
                                {
                                    "usernev": "krisztian4",
                                    "nev": "Czérna Krisztián",
                                    "mettol": "2016-12-11",
                                    "meddig": "2016-12-18",
                                    "fő": "2",
                                    "(No column name)": "7"
                                },
                                {
                                    "usernev": "krisztian4",
                                    "nev": "Czérna Krisztián",
                                    "mettol": "2017-01-06",
                                    "meddig": "2017-01-09",
                                    "fő": "1",
                                    "(No column name)": "7"
                                },
                                {
                                    "usernev": "krisztian4",
                                    "nev": "Czérna Krisztián",
                                    "mettol": "2017-01-16",
                                    "meddig": "2017-01-23",
                                    "fő": "3",
                                    "(No column name)": "5"
                                },
                                {
                                    "usernev": "krisztian4",
                                    "nev": "Czérna Krisztián",
                                    "mettol": "2017-02-23",
                                    "meddig": "2017-03-02",
                                    "fő": "2",
                                    "(No column name)": "6"
                                },
                                {
                                    "usernev": "KRISZTIANM",
                                    "nev": "Mogyródi Krisztián",
                                    "mettol": "2016-04-09",
                                    "meddig": "2016-04-15",
                                    "fő": "2",
                                    "(No column name)": "NULL"
                                },
                                {
                                    "usernev": "KRISZTIANM",
                                    "nev": "Mogyródi Krisztián",
                                    "mettol": "2016-08-02",
                                    "meddig": "2016-08-08",
                                    "fő": "4",
                                    "(No column name)": "2"
                                },
                                {
                                    "usernev": "KRISZTIANM",
                                    "nev": "Mogyródi Krisztián",
                                    "mettol": "2016-06-04",
                                    "meddig": "2016-06-08",
                                    "fő": "2",
                                    "(No column name)": "6"
                                },
                                {
                                    "usernev": "KRISZTIANM",
                                    "nev": "Mogyródi Krisztián",
                                    "mettol": "2016-07-09",
                                    "meddig": "2016-07-14",
                                    "fő": "3",
                                    "(No column name)": "8"
                                },
                                {
                                    "usernev": "KRISZTIANM",
                                    "nev": "Mogyródi Krisztián",
                                    "mettol": "2016-12-25",
                                    "meddig": "2016-12-31",
                                    "fő": "2",
                                    "(No column name)": "9"
                                },
                                {
                                    "usernev": "KRISZTIANM",
                                    "nev": "Mogyródi Krisztián",
                                    "mettol": "2017-01-16",
                                    "meddig": "2017-01-23",
                                    "fő": "1",
                                    "(No column name)": "7"
                                },
                                {
                                    "usernev": "krisztina",
                                    "nev": "Szedlár Krisztina",
                                    "mettol": "2016-05-21",
                                    "meddig": "2016-05-27",
                                    "fő": "2",
                                    "(No column name)": "NULL"
                                },
                                {
                                    "usernev": "krisztina",
                                    "nev": "Szedlár Krisztina",
                                    "mettol": "2016-07-05",
                                    "meddig": "2016-07-12",
                                    "fő": "3",
                                    "(No column name)": "2"
                                },
                                {
                                    "usernev": "krisztina",
                                    "nev": "Szedlár Krisztina",
                                    "mettol": "2016-09-13",
                                    "meddig": "2016-09-16",
                                    "fő": "1",
                                    "(No column name)": "5"
                                },
                                {
                                    "usernev": "krisztina",
                                    "nev": "Szedlár Krisztina",
                                    "mettol": "2016-09-19",
                                    "meddig": "2016-09-26",
                                    "fő": "2",
                                    "(No column name)": "6"
                                },
                                {
                                    "usernev": "krisztina",
                                    "nev": "Szedlár Krisztina",
                                    "mettol": "2016-11-08",
                                    "meddig": "2016-11-12",
                                    "fő": "2",
                                    "(No column name)": "6"
                                },
                                {
                                    "usernev": "krisztina",
                                    "nev": "Szedlár Krisztina",
                                    "mettol": "2016-11-22",
                                    "meddig": "2016-11-25",
                                    "fő": "1",
                                    "(No column name)": "5"
                                },
                                {
                                    "usernev": "krisztina",
                                    "nev": "Szedlár Krisztina",
                                    "mettol": "2017-02-05",
                                    "meddig": "2017-02-07",
                                    "fő": "2",
                                    "(No column name)": "5"
                                },
                                {
                                    "usernev": "krisztina",
                                    "nev": "Szedlár Krisztina",
                                    "mettol": "2017-02-16",
                                    "meddig": "2017-02-20",
                                    "fő": "4",
                                    "(No column name)": "5"
                                },
                                {
                                    "usernev": "krisztina1",
                                    "nev": "Bori Krisztina",
                                    "mettol": "2016-04-28",
                                    "meddig": "2016-04-30",
                                    "fő": "2",
                                    "(No column name)": "NULL"
                                },
                                {
                                    "usernev": "krisztina1",
                                    "nev": "Bori Krisztina",
                                    "mettol": "2016-05-16",
                                    "meddig": "2016-05-20",
                                    "fő": "1",
                                    "(No column name)": "2"
                                },
                                {
                                    "usernev": "krisztina1",
                                    "nev": "Bori Krisztina",
                                    "mettol": "2016-06-16",
                                    "meddig": "2016-06-22",
                                    "fő": "2",
                                    "(No column name)": "3"
                                },
                                {
                                    "usernev": "krisztina1",
                                    "nev": "Bori Krisztina",
                                    "mettol": "2016-09-15",
                                    "meddig": "2016-09-20",
                                    "fő": "3",
                                    "(No column name)": "5"
                                },
                                {
                                    "usernev": "krisztina1",
                                    "nev": "Bori Krisztina",
                                    "mettol": "2016-10-29",
                                    "meddig": "2016-10-30",
                                    "fő": "4",
                                    "(No column name)": "6"
                                },
                                {
                                    "usernev": "krisztina1",
                                    "nev": "Bori Krisztina",
                                    "mettol": "2017-01-21",
                                    "meddig": "2017-01-24",
                                    "fő": "2",
                                    "(No column name)": "9"
                                },
                                {
                                    "usernev": "KRISZTINAG",
                                    "nev": "Gyárfás Krisztina",
                                    "mettol": "2016-04-23",
                                    "meddig": "2016-04-24",
                                    "fő": "2",
                                    "(No column name)": "NULL"
                                },
                                {
                                    "usernev": "KRISZTINAG",
                                    "nev": "Gyárfás Krisztina",
                                    "mettol": "2016-08-08",
                                    "meddig": "2016-08-12",
                                    "fő": "3",
                                    "(No column name)": "2"
                                },
                                {
                                    "usernev": "KRISZTINAG",
                                    "nev": "Gyárfás Krisztina",
                                    "mettol": "2016-05-24",
                                    "meddig": "2016-05-31",
                                    "fő": "1",
                                    "(No column name)": "5"
                                },
                                {
                                    "usernev": "KRISZTINAG",
                                    "nev": "Gyárfás Krisztina",
                                    "mettol": "2016-06-08",
                                    "meddig": "2016-06-12",
                                    "fő": "1",
                                    "(No column name)": "6"
                                },
                                {
                                    "usernev": "KRISZTINAG",
                                    "nev": "Gyárfás Krisztina",
                                    "mettol": "2017-01-25",
                                    "meddig": "2017-01-30",
                                    "fő": "2",
                                    "(No column name)": "5"
                                },
                                {
                                    "usernev": "lajos",
                                    "nev": "Kiss Lajos",
                                    "mettol": "2016-07-18",
                                    "meddig": "2016-07-21",
                                    "fő": "2",
                                    "(No column name)": "NULL"
                                },
                                {
                                    "usernev": "lajos",
                                    "nev": "Kiss Lajos",
                                    "mettol": "2016-12-25",
                                    "meddig": "2016-12-28",
                                    "fő": "4",
                                    "(No column name)": "2"
                                },
                                {
                                    "usernev": "lajos",
                                    "nev": "Kiss Lajos",
                                    "mettol": "2017-02-12",
                                    "meddig": "2017-02-13",
                                    "fő": "1",
                                    "(No column name)": "6"
                                },
                                {
                                    "usernev": "lala",
                                    "nev": "Nagymihály Lajos",
                                    "mettol": "2016-07-20",
                                    "meddig": "2016-07-21",
                                    "fő": "3",
                                    "(No column name)": "NULL"
                                },
                                {
                                    "usernev": "lala",
                                    "nev": "Nagymihály Lajos",
                                    "mettol": "2016-07-26",
                                    "meddig": "2016-07-27",
                                    "fő": "3",
                                    "(No column name)": "3"
                                },
                                {
                                    "usernev": "lala",
                                    "nev": "Nagymihály Lajos",
                                    "mettol": "2016-06-16",
                                    "meddig": "2016-06-22",
                                    "fő": "2",
                                    "(No column name)": "6"
                                },
                                {
                                    "usernev": "lala",
                                    "nev": "Nagymihály Lajos",
                                    "mettol": "2016-10-30",
                                    "meddig": "2016-10-31",
                                    "fő": "3",
                                    "(No column name)": "8"
                                },
                                {
                                    "usernev": "lala",
                                    "nev": "Nagymihály Lajos",
                                    "mettol": "2017-01-08",
                                    "meddig": "2017-01-10",
                                    "fő": "3",
                                    "(No column name)": "8"
                                },
                                {
                                    "usernev": "lala",
                                    "nev": "Nagymihály Lajos",
                                    "mettol": "2017-01-17",
                                    "meddig": "2017-01-19",
                                    "fő": "2",
                                    "(No column name)": "8"
                                },
                                {
                                    "usernev": "laszlo1",
                                    "nev": "Farkas László",
                                    "mettol": "2016-09-23",
                                    "meddig": "2016-09-30",
                                    "fő": "3",
                                    "(No column name)": "NULL"
                                },
                                {
                                    "usernev": "laszlo2",
                                    "nev": "Móra László",
                                    "mettol": "2016-04-06",
                                    "meddig": "2016-04-10",
                                    "fő": "2",
                                    "(No column name)": "NULL"
                                },
                                {
                                    "usernev": "laszlo2",
                                    "nev": "Móra László",
                                    "mettol": "2016-04-27",
                                    "meddig": "2016-04-29",
                                    "fő": "2",
                                    "(No column name)": "2"
                                },
                                {
                                    "usernev": "laszlo2",
                                    "nev": "Móra László",
                                    "mettol": "2016-08-14",
                                    "meddig": "2016-08-15",
                                    "fő": "3",
                                    "(No column name)": "4"
                                },
                                {
                                    "usernev": "laszlo2",
                                    "nev": "Móra László",
                                    "mettol": "2016-09-05",
                                    "meddig": "2016-09-10",
                                    "fő": "3",
                                    "(No column name)": "7"
                                },
                                {
                                    "usernev": "laszlo2",
                                    "nev": "Móra László",
                                    "mettol": "2016-11-25",
                                    "meddig": "2016-11-26",
                                    "fő": "3",
                                    "(No column name)": "8"
                                },
                                {
                                    "usernev": "LASZLOA",
                                    "nev": "Antal László",
                                    "mettol": "2016-06-03",
                                    "meddig": "2016-06-09",
                                    "fő": "2",
                                    "(No column name)": "NULL"
                                },
                                {
                                    "usernev": "LASZLOA",
                                    "nev": "Antal László",
                                    "mettol": "2016-06-07",
                                    "meddig": "2016-06-11",
                                    "fő": "1",
                                    "(No column name)": "2"
                                },
                                {
                                    "usernev": "LASZLOA",
                                    "nev": "Antal László",
                                    "mettol": "2016-06-10",
                                    "meddig": "2016-06-13",
                                    "fő": "3",
                                    "(No column name)": "3"
                                },
                                {
                                    "usernev": "LASZLOA",
                                    "nev": "Antal László",
                                    "mettol": "2017-02-08",
                                    "meddig": "2017-02-14",
                                    "fő": "2",
                                    "(No column name)": "6"
                                },
                                {
                                    "usernev": "LASZLON",
                                    "nev": "Nagy László",
                                    "mettol": "2016-06-03",
                                    "meddig": "2016-06-06",
                                    "fő": "1",
                                    "(No column name)": "NULL"
                                },
                                {
                                    "usernev": "LASZLON",
                                    "nev": "Nagy László",
                                    "mettol": "2016-06-08",
                                    "meddig": "2016-06-09",
                                    "fő": "2",
                                    "(No column name)": "1"
                                },
                                {
                                    "usernev": "LASZLON",
                                    "nev": "Nagy László",
                                    "mettol": "2016-10-01",
                                    "meddig": "2016-10-04",
                                    "fő": "3",
                                    "(No column name)": "3"
                                },
                                {
                                    "usernev": "LASZLON",
                                    "nev": "Nagy László",
                                    "mettol": "2016-10-09",
                                    "meddig": "2016-10-14",
                                    "fő": "1",
                                    "(No column name)": "6"
                                },
                                {
                                    "usernev": "LASZLON",
                                    "nev": "Nagy László",
                                    "mettol": "2016-11-29",
                                    "meddig": "2016-12-04",
                                    "fő": "1",
                                    "(No column name)": "6"
                                },
                                {
                                    "usernev": "LASZLON",
                                    "nev": "Nagy László",
                                    "mettol": "2017-02-18",
                                    "meddig": "2017-02-25",
                                    "fő": "3",
                                    "(No column name)": "5"
                                },
                                {
                                    "usernev": "maria1",
                                    "nev": "Baráth Mária",
                                    "mettol": "2016-05-13",
                                    "meddig": "2016-05-18",
                                    "fő": "2",
                                    "(No column name)": "NULL"
                                },
                                {
                                    "usernev": "maria1",
                                    "nev": "Baráth Mária",
                                    "mettol": "2016-05-18",
                                    "meddig": "2016-05-19",
                                    "fő": "1",
                                    "(No column name)": "2"
                                },
                                {
                                    "usernev": "maria1",
                                    "nev": "Baráth Mária",
                                    "mettol": "2016-08-11",
                                    "meddig": "2016-08-14",
                                    "fő": "3",
                                    "(No column name)": "3"
                                },
                                {
                                    "usernev": "maria1",
                                    "nev": "Baráth Mária",
                                    "mettol": "2016-09-02",
                                    "meddig": "2016-09-05",
                                    "fő": "1",
                                    "(No column name)": "6"
                                },
                                {
                                    "usernev": "maria1",
                                    "nev": "Baráth Mária",
                                    "mettol": "2016-05-28",
                                    "meddig": "2016-06-03",
                                    "fő": "2",
                                    "(No column name)": "5"
                                },
                                {
                                    "usernev": "maria1",
                                    "nev": "Baráth Mária",
                                    "mettol": "2016-06-23",
                                    "meddig": "2016-06-27",
                                    "fő": "1",
                                    "(No column name)": "6"
                                },
                                {
                                    "usernev": "maria1",
                                    "nev": "Baráth Mária",
                                    "mettol": "2016-11-08",
                                    "meddig": "2016-11-12",
                                    "fő": "3",
                                    "(No column name)": "4"
                                },
                                {
                                    "usernev": "maria1",
                                    "nev": "Baráth Mária",
                                    "mettol": "2017-02-24",
                                    "meddig": "2017-03-02",
                                    "fő": "2",
                                    "(No column name)": "6"
                                },
                                {
                                    "usernev": "mark",
                                    "nev": "Kispál Márk",
                                    "mettol": "2016-04-19",
                                    "meddig": "2016-04-26",
                                    "fő": "4",
                                    "(No column name)": "NULL"
                                },
                                {
                                    "usernev": "mark",
                                    "nev": "Kispál Márk",
                                    "mettol": "2016-08-09",
                                    "meddig": "2016-08-16",
                                    "fő": "3",
                                    "(No column name)": "4"
                                },
                                {
                                    "usernev": "mark",
                                    "nev": "Kispál Márk",
                                    "mettol": "2016-06-13",
                                    "meddig": "2016-06-18",
                                    "fő": "3",
                                    "(No column name)": "7"
                                },
                                {
                                    "usernev": "mark",
                                    "nev": "Kispál Márk",
                                    "mettol": "2016-10-20",
                                    "meddig": "2016-10-27",
                                    "fő": "1",
                                    "(No column name)": "10"
                                },
                                {
                                    "usernev": "mark",
                                    "nev": "Kispál Márk",
                                    "mettol": "2016-11-19",
                                    "meddig": "2016-11-22",
                                    "fő": "2",
                                    "(No column name)": "7"
                                },
                                {
                                    "usernev": "MARKH",
                                    "nev": "Horváth Márk",
                                    "mettol": "2016-09-14",
                                    "meddig": "2016-09-17",
                                    "fő": "3",
                                    "(No column name)": "NULL"
                                },
                                {
                                    "usernev": "MARKH",
                                    "nev": "Horváth Márk",
                                    "mettol": "2016-09-23",
                                    "meddig": "2016-09-30",
                                    "fő": "2",
                                    "(No column name)": "3"
                                },
                                {
                                    "usernev": "MARKH",
                                    "nev": "Horváth Márk",
                                    "mettol": "2016-09-26",
                                    "meddig": "2016-10-01",
                                    "fő": "4",
                                    "(No column name)": "5"
                                },
                                {
                                    "usernev": "MARKH",
                                    "nev": "Horváth Márk",
                                    "mettol": "2017-01-22",
                                    "meddig": "2017-01-29",
                                    "fő": "4",
                                    "(No column name)": "9"
                                },
                                {
                                    "usernev": "marton",
                                    "nev": "Kalacsi Márton",
                                    "mettol": "2016-04-27",
                                    "meddig": "2016-05-04",
                                    "fő": "3",
                                    "(No column name)": "NULL"
                                },
                                {
                                    "usernev": "marton",
                                    "nev": "Kalacsi Márton",
                                    "mettol": "2016-05-05",
                                    "meddig": "2016-05-10",
                                    "fő": "1",
                                    "(No column name)": "3"
                                },
                                {
                                    "usernev": "marton",
                                    "nev": "Kalacsi Márton",
                                    "mettol": "2016-08-12",
                                    "meddig": "2016-08-17",
                                    "fő": "2",
                                    "(No column name)": "4"
                                },
                                {
                                    "usernev": "marton",
                                    "nev": "Kalacsi Márton",
                                    "mettol": "2016-06-06",
                                    "meddig": "2016-06-08",
                                    "fő": "3",
                                    "(No column name)": "6"
                                },
                                {
                                    "usernev": "marton",
                                    "nev": "Kalacsi Márton",
                                    "mettol": "2016-06-22",
                                    "meddig": "2016-06-29",
                                    "fő": "2",
                                    "(No column name)": "6"
                                },
                                {
                                    "usernev": "marton",
                                    "nev": "Kalacsi Márton",
                                    "mettol": "2016-09-10",
                                    "meddig": "2016-09-12",
                                    "fő": "2",
                                    "(No column name)": "7"
                                },
                                {
                                    "usernev": "marton",
                                    "nev": "Kalacsi Márton",
                                    "mettol": "2017-03-02",
                                    "meddig": "2017-03-03",
                                    "fő": "2",
                                    "(No column name)": "7"
                                },
                                {
                                    "usernev": "MATEK",
                                    "nev": "Koza Máté",
                                    "mettol": "2016-08-17",
                                    "meddig": "2016-08-21",
                                    "fő": "4",
                                    "(No column name)": "NULL"
                                },
                                {
                                    "usernev": "MATEK",
                                    "nev": "Koza Máté",
                                    "mettol": "2016-10-01",
                                    "meddig": "2016-10-04",
                                    "fő": "2",
                                    "(No column name)": "4"
                                },
                                {
                                    "usernev": "MATEK",
                                    "nev": "Koza Máté",
                                    "mettol": "2017-01-16",
                                    "meddig": "2017-01-22",
                                    "fő": "2",
                                    "(No column name)": "6"
                                },
                                {
                                    "usernev": "matyas2",
                                    "nev": "Botka Mátyás",
                                    "mettol": "2016-07-13",
                                    "meddig": "2016-07-16",
                                    "fő": "2",
                                    "(No column name)": "NULL"
                                },
                                {
                                    "usernev": "matyas2",
                                    "nev": "Botka Mátyás",
                                    "mettol": "2016-12-09",
                                    "meddig": "2016-12-13",
                                    "fő": "3",
                                    "(No column name)": "2"
                                },
                                {
                                    "usernev": "MATYASS",
                                    "nev": "Szilágyi Mátyás",
                                    "mettol": "2016-05-10",
                                    "meddig": "2016-05-16",
                                    "fő": "2",
                                    "(No column name)": "NULL"
                                },
                                {
                                    "usernev": "MATYASS",
                                    "nev": "Szilágyi Mátyás",
                                    "mettol": "2016-07-23",
                                    "meddig": "2016-07-25",
                                    "fő": "3",
                                    "(No column name)": "2"
                                },
                                {
                                    "usernev": "MATYASS",
                                    "nev": "Szilágyi Mátyás",
                                    "mettol": "2016-06-02",
                                    "meddig": "2016-06-08",
                                    "fő": "1",
                                    "(No column name)": "5"
                                },
                                {
                                    "usernev": "MATYASS",
                                    "nev": "Szilágyi Mátyás",
                                    "mettol": "2016-10-09",
                                    "meddig": "2016-10-15",
                                    "fő": "3",
                                    "(No column name)": "6"
                                },
                                {
                                    "usernev": "MATYASS",
                                    "nev": "Szilágyi Mátyás",
                                    "mettol": "2016-10-24",
                                    "meddig": "2016-10-31",
                                    "fő": "1",
                                    "(No column name)": "7"
                                },
                                {
                                    "usernev": "MATYASS",
                                    "nev": "Szilágyi Mátyás",
                                    "mettol": "2016-10-30",
                                    "meddig": "2016-11-04",
                                    "fő": "3",
                                    "(No column name)": "5"
                                },
                                {
                                    "usernev": "MATYASS",
                                    "nev": "Szilágyi Mátyás",
                                    "mettol": "2016-12-20",
                                    "meddig": "2016-12-25",
                                    "fő": "2",
                                    "(No column name)": "7"
                                },
                                {
                                    "usernev": "MATYASS",
                                    "nev": "Szilágyi Mátyás",
                                    "mettol": "2017-01-09",
                                    "meddig": "2017-01-13",
                                    "fő": "2",
                                    "(No column name)": "6"
                                },
                                {
                                    "usernev": "MIHALYJ",
                                    "nev": "Juhász Mihály",
                                    "mettol": "2016-08-29",
                                    "meddig": "2016-09-03",
                                    "fő": "1",
                                    "(No column name)": "NULL"
                                },
                                {
                                    "usernev": "MIHALYJ",
                                    "nev": "Juhász Mihály",
                                    "mettol": "2016-05-30",
                                    "meddig": "2016-06-01",
                                    "fő": "2",
                                    "(No column name)": "1"
                                },
                                {
                                    "usernev": "MIHALYJ",
                                    "nev": "Juhász Mihály",
                                    "mettol": "2016-06-27",
                                    "meddig": "2016-07-01",
                                    "fő": "1",
                                    "(No column name)": "3"
                                },
                                {
                                    "usernev": "MIHALYJ",
                                    "nev": "Juhász Mihály",
                                    "mettol": "2016-11-01",
                                    "meddig": "2016-11-04",
                                    "fő": "3",
                                    "(No column name)": "4"
                                },
                                {
                                    "usernev": "MIHALYJ",
                                    "nev": "Juhász Mihály",
                                    "mettol": "2017-02-06",
                                    "meddig": "2017-02-12",
                                    "fő": "4",
                                    "(No column name)": "6"
                                },
                                {
                                    "usernev": "miklos2",
                                    "nev": "Gondos Miklós",
                                    "mettol": "2016-04-19",
                                    "meddig": "2016-04-21",
                                    "fő": "3",
                                    "(No column name)": "NULL"
                                },
                                {
                                    "usernev": "miklos2",
                                    "nev": "Gondos Miklós",
                                    "mettol": "2016-10-08",
                                    "meddig": "2016-10-09",
                                    "fő": "1",
                                    "(No column name)": "3"
                                },
                                {
                                    "usernev": "miklos2",
                                    "nev": "Gondos Miklós",
                                    "mettol": "2016-11-16",
                                    "meddig": "2016-11-18",
                                    "fő": "3",
                                    "(No column name)": "4"
                                },
                                {
                                    "usernev": "MIKLOSB",
                                    "nev": "Balla Miklós",
                                    "mettol": "2016-07-18",
                                    "meddig": "2016-07-21",
                                    "fő": "2",
                                    "(No column name)": "NULL"
                                },
                                {
                                    "usernev": "MIKLOSB",
                                    "nev": "Balla Miklós",
                                    "mettol": "2016-06-26",
                                    "meddig": "2016-06-30",
                                    "fő": "2",
                                    "(No column name)": "2"
                                },
                                {
                                    "usernev": "MIKLOSB",
                                    "nev": "Balla Miklós",
                                    "mettol": "2016-12-05",
                                    "meddig": "2016-12-10",
                                    "fő": "2",
                                    "(No column name)": "4"
                                },
                                {
                                    "usernev": "MONIKAM",
                                    "nev": "Mohos Mónika",
                                    "mettol": "2016-04-29",
                                    "meddig": "2016-05-01",
                                    "fő": "2",
                                    "(No column name)": "NULL"
                                },
                                {
                                    "usernev": "MONIKAM",
                                    "nev": "Mohos Mónika",
                                    "mettol": "2016-07-23",
                                    "meddig": "2016-07-30",
                                    "fő": "1",
                                    "(No column name)": "2"
                                },
                                {
                                    "usernev": "MONIKAM",
                                    "nev": "Mohos Mónika",
                                    "mettol": "2016-11-09",
                                    "meddig": "2016-11-16",
                                    "fő": "2",
                                    "(No column name)": "3"
                                },
                                {
                                    "usernev": "MONIKAM",
                                    "nev": "Mohos Mónika",
                                    "mettol": "2017-01-17",
                                    "meddig": "2017-01-24",
                                    "fő": "1",
                                    "(No column name)": "5"
                                },
                                {
                                    "usernev": "MONIKAM",
                                    "nev": "Mohos Mónika",
                                    "mettol": "2017-02-06",
                                    "meddig": "2017-02-09",
                                    "fő": "2",
                                    "(No column name)": "4"
                                },
                                {
                                    "usernev": "MONIKAM",
                                    "nev": "Mohos Mónika",
                                    "mettol": "2017-02-23",
                                    "meddig": "2017-02-26",
                                    "fő": "2",
                                    "(No column name)": "5"
                                },
                                {
                                    "usernev": "NANDORF",
                                    "nev": "Fő Nándor",
                                    "mettol": "2016-04-06",
                                    "meddig": "2016-04-10",
                                    "fő": "3",
                                    "(No column name)": "NULL"
                                },
                                {
                                    "usernev": "NANDORF",
                                    "nev": "Fő Nándor",
                                    "mettol": "2016-11-03",
                                    "meddig": "2016-11-04",
                                    "fő": "3",
                                    "(No column name)": "3"
                                },
                                {
                                    "usernev": "NANDORF",
                                    "nev": "Fő Nándor",
                                    "mettol": "2017-02-05",
                                    "meddig": "2017-02-08",
                                    "fő": "3",
                                    "(No column name)": "6"
                                },
                                {
                                    "usernev": "nikolett3",
                                    "nev": "Horváth Nikolett",
                                    "mettol": "2016-05-24",
                                    "meddig": "2016-05-29",
                                    "fő": "2",
                                    "(No column name)": "NULL"
                                },
                                {
                                    "usernev": "nikolett3",
                                    "nev": "Horváth Nikolett",
                                    "mettol": "2016-06-03",
                                    "meddig": "2016-06-09",
                                    "fő": "1",
                                    "(No column name)": "2"
                                },
                                {
                                    "usernev": "nikolett3",
                                    "nev": "Horváth Nikolett",
                                    "mettol": "2016-06-22",
                                    "meddig": "2016-06-24",
                                    "fő": "1",
                                    "(No column name)": "3"
                                },
                                {
                                    "usernev": "nikolett3",
                                    "nev": "Horváth Nikolett",
                                    "mettol": "2016-10-22",
                                    "meddig": "2016-10-29",
                                    "fő": "3",
                                    "(No column name)": "4"
                                },
                                {
                                    "usernev": "nikoletta4",
                                    "nev": "Kő Nikoletta",
                                    "mettol": "2016-04-08",
                                    "meddig": "2016-04-10",
                                    "fő": "2",
                                    "(No column name)": "NULL"
                                },
                                {
                                    "usernev": "nikoletta4",
                                    "nev": "Kő Nikoletta",
                                    "mettol": "2016-05-09",
                                    "meddig": "2016-05-15",
                                    "fő": "2",
                                    "(No column name)": "2"
                                },
                                {
                                    "usernev": "nikoletta4",
                                    "nev": "Kő Nikoletta",
                                    "mettol": "2016-08-13",
                                    "meddig": "2016-08-17",
                                    "fő": "3",
                                    "(No column name)": "4"
                                },
                                {
                                    "usernev": "nikoletta4",
                                    "nev": "Kő Nikoletta",
                                    "mettol": "2016-05-30",
                                    "meddig": "2016-06-03",
                                    "fő": "3",
                                    "(No column name)": "7"
                                },
                                {
                                    "usernev": "nikoletta4",
                                    "nev": "Kő Nikoletta",
                                    "mettol": "2016-06-29",
                                    "meddig": "2016-07-06",
                                    "fő": "2",
                                    "(No column name)": "8"
                                },
                                {
                                    "usernev": "nikoletta4",
                                    "nev": "Kő Nikoletta",
                                    "mettol": "2016-12-08",
                                    "meddig": "2016-12-10",
                                    "fő": "5",
                                    "(No column name)": "8"
                                },
                                {
                                    "usernev": "nikoletta4",
                                    "nev": "Kő Nikoletta",
                                    "mettol": "2017-02-01",
                                    "meddig": "2017-02-04",
                                    "fő": "2",
                                    "(No column name)": "10"
                                },
                                {
                                    "usernev": "NIKOLETTAT",
                                    "nev": "Tatár Nikoletta",
                                    "mettol": "2016-05-22",
                                    "meddig": "2016-05-23",
                                    "fő": "4",
                                    "(No column name)": "NULL"
                                },
                                {
                                    "usernev": "NIKOLETTAT",
                                    "nev": "Tatár Nikoletta",
                                    "mettol": "2016-07-27",
                                    "meddig": "2016-07-29",
                                    "fő": "4",
                                    "(No column name)": "4"
                                },
                                {
                                    "usernev": "NIKOLETTAT",
                                    "nev": "Tatár Nikoletta",
                                    "mettol": "2016-06-07",
                                    "meddig": "2016-06-09",
                                    "fő": "2",
                                    "(No column name)": "8"
                                },
                                {
                                    "usernev": "NIKOLETTAT",
                                    "nev": "Tatár Nikoletta",
                                    "mettol": "2016-09-21",
                                    "meddig": "2016-09-26",
                                    "fő": "2",
                                    "(No column name)": "10"
                                },
                                {
                                    "usernev": "norbert",
                                    "nev": "Szűcs Norbert",
                                    "mettol": "2016-07-08",
                                    "meddig": "2016-07-13",
                                    "fő": "1",
                                    "(No column name)": "NULL"
                                },
                                {
                                    "usernev": "norbert",
                                    "nev": "Szűcs Norbert",
                                    "mettol": "2016-11-16",
                                    "meddig": "2016-11-23",
                                    "fő": "3",
                                    "(No column name)": "1"
                                },
                                {
                                    "usernev": "norbert",
                                    "nev": "Szűcs Norbert",
                                    "mettol": "2016-12-15",
                                    "meddig": "2016-12-18",
                                    "fő": "2",
                                    "(No column name)": "4"
                                },
                                {
                                    "usernev": "norbert",
                                    "nev": "Szűcs Norbert",
                                    "mettol": "2017-02-13",
                                    "meddig": "2017-02-15",
                                    "fő": "3",
                                    "(No column name)": "6"
                                },
                                {
                                    "usernev": "norbert",
                                    "nev": "Szűcs Norbert",
                                    "mettol": "2017-02-26",
                                    "meddig": "2017-03-01",
                                    "fő": "1",
                                    "(No column name)": "8"
                                },
                                {
                                    "usernev": "norbert2",
                                    "nev": "Hegedűs Norbert",
                                    "mettol": "2016-04-19",
                                    "meddig": "2016-04-26",
                                    "fő": "1",
                                    "(No column name)": "NULL"
                                },
                                {
                                    "usernev": "norbert2",
                                    "nev": "Hegedűs Norbert",
                                    "mettol": "2016-05-09",
                                    "meddig": "2016-05-10",
                                    "fő": "2",
                                    "(No column name)": "1"
                                },
                                {
                                    "usernev": "norbert2",
                                    "nev": "Hegedűs Norbert",
                                    "mettol": "2016-07-27",
                                    "meddig": "2016-08-02",
                                    "fő": "2",
                                    "(No column name)": "3"
                                },
                                {
                                    "usernev": "norbert2",
                                    "nev": "Hegedűs Norbert",
                                    "mettol": "2016-08-16",
                                    "meddig": "2016-08-19",
                                    "fő": "1",
                                    "(No column name)": "5"
                                },
                                {
                                    "usernev": "norbert2",
                                    "nev": "Hegedűs Norbert",
                                    "mettol": "2016-07-13",
                                    "meddig": "2016-07-15",
                                    "fő": "3",
                                    "(No column name)": "5"
                                },
                                {
                                    "usernev": "norbert2",
                                    "nev": "Hegedűs Norbert",
                                    "mettol": "2016-10-31",
                                    "meddig": "2016-11-07",
                                    "fő": "2",
                                    "(No column name)": "6"
                                },
                                {
                                    "usernev": "norbert2",
                                    "nev": "Hegedűs Norbert",
                                    "mettol": "2017-01-29",
                                    "meddig": "2017-02-05",
                                    "fő": "3",
                                    "(No column name)": "6"
                                },
                                {
                                    "usernev": "norbert4",
                                    "nev": "Mile Norbert",
                                    "mettol": "2016-04-10",
                                    "meddig": "2016-04-13",
                                    "fő": "2",
                                    "(No column name)": "NULL"
                                },
                                {
                                    "usernev": "norbert4",
                                    "nev": "Mile Norbert",
                                    "mettol": "2016-05-29",
                                    "meddig": "2016-06-03",
                                    "fő": "3",
                                    "(No column name)": "2"
                                },
                                {
                                    "usernev": "norbert4",
                                    "nev": "Mile Norbert",
                                    "mettol": "2016-06-16",
                                    "meddig": "2016-06-17",
                                    "fő": "4",
                                    "(No column name)": "5"
                                },
                                {
                                    "usernev": "norbert4",
                                    "nev": "Mile Norbert",
                                    "mettol": "2016-06-16",
                                    "meddig": "2016-06-21",
                                    "fő": "3",
                                    "(No column name)": "9"
                                },
                                {
                                    "usernev": "norbert4",
                                    "nev": "Mile Norbert",
                                    "mettol": "2016-10-05",
                                    "meddig": "2016-10-10",
                                    "fő": "3",
                                    "(No column name)": "10"
                                },
                                {
                                    "usernev": "norbert4",
                                    "nev": "Mile Norbert",
                                    "mettol": "2016-10-28",
                                    "meddig": "2016-10-31",
                                    "fő": "3",
                                    "(No column name)": "10"
                                },
                                {
                                    "usernev": "norbert4",
                                    "nev": "Mile Norbert",
                                    "mettol": "2016-11-30",
                                    "meddig": "2016-12-06",
                                    "fő": "3",
                                    "(No column name)": "9"
                                },
                                {
                                    "usernev": "norbert4",
                                    "nev": "Mile Norbert",
                                    "mettol": "2017-02-16",
                                    "meddig": "2017-02-17",
                                    "fő": "1",
                                    "(No column name)": "9"
                                },
                                {
                                    "usernev": "norbert4",
                                    "nev": "Mile Norbert",
                                    "mettol": "2017-03-03",
                                    "meddig": "2017-03-07",
                                    "fő": "2",
                                    "(No column name)": "7"
                                },
                                {
                                    "usernev": "norbert5",
                                    "nev": "Béres Norbert",
                                    "mettol": "2016-08-10",
                                    "meddig": "2016-08-11",
                                    "fő": "2",
                                    "(No column name)": "NULL"
                                },
                                {
                                    "usernev": "norbert5",
                                    "nev": "Béres Norbert",
                                    "mettol": "2016-06-24",
                                    "meddig": "2016-06-28",
                                    "fő": "2",
                                    "(No column name)": "2"
                                },
                                {
                                    "usernev": "norbert5",
                                    "nev": "Béres Norbert",
                                    "mettol": "2016-11-05",
                                    "meddig": "2016-11-07",
                                    "fő": "1",
                                    "(No column name)": "4"
                                },
                                {
                                    "usernev": "pal",
                                    "nev": "Barabás Pál",
                                    "mettol": "2016-08-14",
                                    "meddig": "2016-08-18",
                                    "fő": "3",
                                    "(No column name)": "NULL"
                                },
                                {
                                    "usernev": "pal",
                                    "nev": "Barabás Pál",
                                    "mettol": "2016-09-16",
                                    "meddig": "2016-09-19",
                                    "fő": "2",
                                    "(No column name)": "3"
                                },
                                {
                                    "usernev": "pal",
                                    "nev": "Barabás Pál",
                                    "mettol": "2016-12-17",
                                    "meddig": "2016-12-23",
                                    "fő": "3",
                                    "(No column name)": "5"
                                },
                                {
                                    "usernev": "pal",
                                    "nev": "Barabás Pál",
                                    "mettol": "2017-02-13",
                                    "meddig": "2017-02-19",
                                    "fő": "3",
                                    "(No column name)": "8"
                                },
                                {
                                    "usernev": "pal",
                                    "nev": "Barabás Pál",
                                    "mettol": "2017-02-20",
                                    "meddig": "2017-02-22",
                                    "fő": "3",
                                    "(No column name)": "8"
                                },
                                {
                                    "usernev": "peter1",
                                    "nev": "Kozma Péter",
                                    "mettol": "2016-07-14",
                                    "meddig": "2016-07-18",
                                    "fő": "3",
                                    "(No column name)": "NULL"
                                },
                                {
                                    "usernev": "peter1",
                                    "nev": "Kozma Péter",
                                    "mettol": "2016-10-26",
                                    "meddig": "2016-11-01",
                                    "fő": "3",
                                    "(No column name)": "3"
                                },
                                {
                                    "usernev": "peter1",
                                    "nev": "Kozma Péter",
                                    "mettol": "2017-02-23",
                                    "meddig": "2017-02-26",
                                    "fő": "3",
                                    "(No column name)": "6"
                                },
                                {
                                    "usernev": "peter1",
                                    "nev": "Kozma Péter",
                                    "mettol": "2017-02-28",
                                    "meddig": "2017-03-05",
                                    "fő": "3",
                                    "(No column name)": "9"
                                },
                                {
                                    "usernev": "peter2",
                                    "nev": "Bozsó Péter",
                                    "mettol": "2016-07-03",
                                    "meddig": "2016-07-08",
                                    "fő": "2",
                                    "(No column name)": "NULL"
                                },
                                {
                                    "usernev": "peter2",
                                    "nev": "Bozsó Péter",
                                    "mettol": "2016-10-10",
                                    "meddig": "2016-10-16",
                                    "fő": "2",
                                    "(No column name)": "2"
                                },
                                {
                                    "usernev": "peter2",
                                    "nev": "Bozsó Péter",
                                    "mettol": "2016-11-01",
                                    "meddig": "2016-11-02",
                                    "fő": "2",
                                    "(No column name)": "4"
                                },
                                {
                                    "usernev": "peter2",
                                    "nev": "Bozsó Péter",
                                    "mettol": "2016-11-15",
                                    "meddig": "2016-11-21",
                                    "fő": "3",
                                    "(No column name)": "6"
                                },
                                {
                                    "usernev": "peter3",
                                    "nev": "Szalai Péter",
                                    "mettol": "2016-07-27",
                                    "meddig": "2016-07-31",
                                    "fő": "4",
                                    "(No column name)": "NULL"
                                },
                                {
                                    "usernev": "peter3",
                                    "nev": "Szalai Péter",
                                    "mettol": "2016-06-30",
                                    "meddig": "2016-07-05",
                                    "fő": "3",
                                    "(No column name)": "4"
                                },
                                {
                                    "usernev": "peter3",
                                    "nev": "Szalai Péter",
                                    "mettol": "2016-10-30",
                                    "meddig": "2016-11-06",
                                    "fő": "2",
                                    "(No column name)": "7"
                                },
                                {
                                    "usernev": "peter3",
                                    "nev": "Szalai Péter",
                                    "mettol": "2016-12-25",
                                    "meddig": "2016-12-28",
                                    "fő": "1",
                                    "(No column name)": "9"
                                },
                                {
                                    "usernev": "peter3",
                                    "nev": "Szalai Péter",
                                    "mettol": "2017-01-12",
                                    "meddig": "2017-01-17",
                                    "fő": "1",
                                    "(No column name)": "6"
                                },
                                {
                                    "usernev": "peter3",
                                    "nev": "Szalai Péter",
                                    "mettol": "2017-02-21",
                                    "meddig": "2017-02-24",
                                    "fő": "2",
                                    "(No column name)": "4"
                                },
                                {
                                    "usernev": "peter4",
                                    "nev": "Bíró Péter",
                                    "mettol": "2016-04-12",
                                    "meddig": "2016-04-15",
                                    "fő": "3",
                                    "(No column name)": "NULL"
                                },
                                {
                                    "usernev": "peter4",
                                    "nev": "Bíró Péter",
                                    "mettol": "2016-08-06",
                                    "meddig": "2016-08-13",
                                    "fő": "2",
                                    "(No column name)": "3"
                                },
                                {
                                    "usernev": "peter4",
                                    "nev": "Bíró Péter",
                                    "mettol": "2016-08-24",
                                    "meddig": "2016-08-25",
                                    "fő": "3",
                                    "(No column name)": "5"
                                },
                                {
                                    "usernev": "peter4",
                                    "nev": "Bíró Péter",
                                    "mettol": "2016-09-11",
                                    "meddig": "2016-09-17",
                                    "fő": "4",
                                    "(No column name)": "8"
                                },
                                {
                                    "usernev": "peter4",
                                    "nev": "Bíró Péter",
                                    "mettol": "2016-09-25",
                                    "meddig": "2016-09-26",
                                    "fő": "3",
                                    "(No column name)": "9"
                                },
                                {
                                    "usernev": "peter4",
                                    "nev": "Bíró Péter",
                                    "mettol": "2016-09-30",
                                    "meddig": "2016-10-06",
                                    "fő": "3",
                                    "(No column name)": "10"
                                },
                                {
                                    "usernev": "peter4",
                                    "nev": "Bíró Péter",
                                    "mettol": "2016-10-09",
                                    "meddig": "2016-10-16",
                                    "fő": "3",
                                    "(No column name)": "10"
                                },
                                {
                                    "usernev": "peter4",
                                    "nev": "Bíró Péter",
                                    "mettol": "2016-10-24",
                                    "meddig": "2016-10-25",
                                    "fő": "2",
                                    "(No column name)": "9"
                                },
                                {
                                    "usernev": "peter4",
                                    "nev": "Bíró Péter",
                                    "mettol": "2016-10-30",
                                    "meddig": "2016-11-01",
                                    "fő": "3",
                                    "(No column name)": "8"
                                },
                                {
                                    "usernev": "peter4",
                                    "nev": "Bíró Péter",
                                    "mettol": "2016-11-10",
                                    "meddig": "2016-11-17",
                                    "fő": "3",
                                    "(No column name)": "8"
                                },
                                {
                                    "usernev": "peter4",
                                    "nev": "Bíró Péter",
                                    "mettol": "2016-11-25",
                                    "meddig": "2016-11-30",
                                    "fő": "3",
                                    "(No column name)": "8"
                                },
                                {
                                    "usernev": "peter4",
                                    "nev": "Bíró Péter",
                                    "mettol": "2017-02-05",
                                    "meddig": "2017-02-09",
                                    "fő": "3",
                                    "(No column name)": "9"
                                },
                                {
                                    "usernev": "PETERB",
                                    "nev": "Berendi Péter",
                                    "mettol": "2016-04-06",
                                    "meddig": "2016-04-10",
                                    "fő": "1",
                                    "(No column name)": "NULL"
                                },
                                {
                                    "usernev": "PETERB",
                                    "nev": "Berendi Péter",
                                    "mettol": "2016-07-20",
                                    "meddig": "2016-07-24",
                                    "fő": "2",
                                    "(No column name)": "1"
                                },
                                {
                                    "usernev": "PETERB",
                                    "nev": "Berendi Péter",
                                    "mettol": "2016-08-16",
                                    "meddig": "2016-08-23",
                                    "fő": "1",
                                    "(No column name)": "3"
                                },
                                {
                                    "usernev": "PETERB",
                                    "nev": "Berendi Péter",
                                    "mettol": "2016-10-19",
                                    "meddig": "2016-10-20",
                                    "fő": "4",
                                    "(No column name)": "4"
                                },
                                {
                                    "usernev": "PETERB",
                                    "nev": "Berendi Péter",
                                    "mettol": "2016-11-17",
                                    "meddig": "2016-11-20",
                                    "fő": "2",
                                    "(No column name)": "7"
                                },
                                {
                                    "usernev": "polla",
                                    "nev": "Palágyi Polla",
                                    "mettol": "2016-04-17",
                                    "meddig": "2016-04-22",
                                    "fő": "3",
                                    "(No column name)": "NULL"
                                },
                                {
                                    "usernev": "polla",
                                    "nev": "Palágyi Polla",
                                    "mettol": "2016-08-14",
                                    "meddig": "2016-08-17",
                                    "fő": "2",
                                    "(No column name)": "3"
                                },
                                {
                                    "usernev": "polla",
                                    "nev": "Palágyi Polla",
                                    "mettol": "2016-08-16",
                                    "meddig": "2016-08-19",
                                    "fő": "4",
                                    "(No column name)": "5"
                                },
                                {
                                    "usernev": "polla",
                                    "nev": "Palágyi Polla",
                                    "mettol": "2016-05-28",
                                    "meddig": "2016-06-04",
                                    "fő": "2",
                                    "(No column name)": "9"
                                },
                                {
                                    "usernev": "polla",
                                    "nev": "Palágyi Polla",
                                    "mettol": "2017-01-29",
                                    "meddig": "2017-02-01",
                                    "fő": "2",
                                    "(No column name)": "8"
                                },
                                {
                                    "usernev": "polla",
                                    "nev": "Palágyi Polla",
                                    "mettol": "2017-02-11",
                                    "meddig": "2017-02-16",
                                    "fő": "2",
                                    "(No column name)": "8"
                                },
                                {
                                    "usernev": "rajmond4",
                                    "nev": "Rácz Rajmond",
                                    "mettol": "2016-09-05",
                                    "meddig": "2016-09-07",
                                    "fő": "3",
                                    "(No column name)": "NULL"
                                },
                                {
                                    "usernev": "rajmond4",
                                    "nev": "Rácz Rajmond",
                                    "mettol": "2016-10-03",
                                    "meddig": "2016-10-04",
                                    "fő": "3",
                                    "(No column name)": "3"
                                },
                                {
                                    "usernev": "rajmond4",
                                    "nev": "Rácz Rajmond",
                                    "mettol": "2016-11-08",
                                    "meddig": "2016-11-09",
                                    "fő": "4",
                                    "(No column name)": "6"
                                },
                                {
                                    "usernev": "rajmond4",
                                    "nev": "Rácz Rajmond",
                                    "mettol": "2016-11-16",
                                    "meddig": "2016-11-20",
                                    "fő": "2",
                                    "(No column name)": "10"
                                },
                                {
                                    "usernev": "reka4",
                                    "nev": "Szikszai Réka",
                                    "mettol": "2016-07-27",
                                    "meddig": "2016-07-31",
                                    "fő": "2",
                                    "(No column name)": "NULL"
                                },
                                {
                                    "usernev": "reka4",
                                    "nev": "Szikszai Réka",
                                    "mettol": "2016-08-02",
                                    "meddig": "2016-08-04",
                                    "fő": "4",
                                    "(No column name)": "2"
                                },
                                {
                                    "usernev": "reka4",
                                    "nev": "Szikszai Réka",
                                    "mettol": "2016-09-05",
                                    "meddig": "2016-09-07",
                                    "fő": "3",
                                    "(No column name)": "6"
                                },
                                {
                                    "usernev": "reka4",
                                    "nev": "Szikszai Réka",
                                    "mettol": "2016-09-30",
                                    "meddig": "2016-10-06",
                                    "fő": "2",
                                    "(No column name)": "9"
                                },
                                {
                                    "usernev": "reka4",
                                    "nev": "Szikszai Réka",
                                    "mettol": "2017-02-26",
                                    "meddig": "2017-03-04",
                                    "fő": "2",
                                    "(No column name)": "9"
                                },
                                {
                                    "usernev": "RENATAK",
                                    "nev": "Kardos Renáta",
                                    "mettol": "2016-10-27",
                                    "meddig": "2016-10-29",
                                    "fő": "4",
                                    "(No column name)": "NULL"
                                },
                                {
                                    "usernev": "RENATAK",
                                    "nev": "Kardos Renáta",
                                    "mettol": "2016-10-30",
                                    "meddig": "2016-10-31",
                                    "fő": "1",
                                    "(No column name)": "4"
                                },
                                {
                                    "usernev": "RENATAK",
                                    "nev": "Kardos Renáta",
                                    "mettol": "2016-11-23",
                                    "meddig": "2016-11-26",
                                    "fő": "1",
                                    "(No column name)": "5"
                                },
                                {
                                    "usernev": "RENATAK",
                                    "nev": "Kardos Renáta",
                                    "mettol": "2017-01-23",
                                    "meddig": "2017-01-24",
                                    "fő": "3",
                                    "(No column name)": "6"
                                },
                                {
                                    "usernev": "RENATAK",
                                    "nev": "Kardos Renáta",
                                    "mettol": "2017-02-16",
                                    "meddig": "2017-02-23",
                                    "fő": "1",
                                    "(No column name)": "5"
                                },
                                {
                                    "usernev": "RENATAK",
                                    "nev": "Kardos Renáta",
                                    "mettol": "2017-03-01",
                                    "meddig": "2017-03-06",
                                    "fő": "1",
                                    "(No column name)": "5"
                                },
                                {
                                    "usernev": "RENATAS",
                                    "nev": "Szirmai Renáta",
                                    "mettol": "2016-05-04",
                                    "meddig": "2016-05-11",
                                    "fő": "2",
                                    "(No column name)": "NULL"
                                },
                                {
                                    "usernev": "RENATAS",
                                    "nev": "Szirmai Renáta",
                                    "mettol": "2016-05-11",
                                    "meddig": "2016-05-16",
                                    "fő": "2",
                                    "(No column name)": "2"
                                },
                                {
                                    "usernev": "RENATAS",
                                    "nev": "Szirmai Renáta",
                                    "mettol": "2016-06-24",
                                    "meddig": "2016-06-30",
                                    "fő": "5",
                                    "(No column name)": "4"
                                },
                                {
                                    "usernev": "RENATAS",
                                    "nev": "Szirmai Renáta",
                                    "mettol": "2017-02-13",
                                    "meddig": "2017-02-17",
                                    "fő": "1",
                                    "(No column name)": "9"
                                },
                                {
                                    "usernev": "RENATAS",
                                    "nev": "Szirmai Renáta",
                                    "mettol": "2017-02-14",
                                    "meddig": "2017-02-17",
                                    "fő": "2",
                                    "(No column name)": "8"
                                },
                                {
                                    "usernev": "robert2",
                                    "nev": "Patay Róbert",
                                    "mettol": "2016-05-15",
                                    "meddig": "2016-05-18",
                                    "fő": "2",
                                    "(No column name)": "NULL"
                                },
                                {
                                    "usernev": "robert2",
                                    "nev": "Patay Róbert",
                                    "mettol": "2016-08-20",
                                    "meddig": "2016-08-27",
                                    "fő": "2",
                                    "(No column name)": "2"
                                },
                                {
                                    "usernev": "robert2",
                                    "nev": "Patay Róbert",
                                    "mettol": "2016-10-23",
                                    "meddig": "2016-10-28",
                                    "fő": "3",
                                    "(No column name)": "4"
                                },
                                {
                                    "usernev": "robert2",
                                    "nev": "Patay Róbert",
                                    "mettol": "2016-12-17",
                                    "meddig": "2016-12-22",
                                    "fő": "1",
                                    "(No column name)": "7"
                                },
                                {
                                    "usernev": "ROBERTI",
                                    "nev": "Iván Róbert",
                                    "mettol": "2016-08-16",
                                    "meddig": "2016-08-21",
                                    "fő": "2",
                                    "(No column name)": "NULL"
                                },
                                {
                                    "usernev": "ROBERTI",
                                    "nev": "Iván Róbert",
                                    "mettol": "2016-08-23",
                                    "meddig": "2016-08-25",
                                    "fő": "2",
                                    "(No column name)": "2"
                                },
                                {
                                    "usernev": "ROBERTI",
                                    "nev": "Iván Róbert",
                                    "mettol": "2016-07-12",
                                    "meddig": "2016-07-19",
                                    "fő": "4",
                                    "(No column name)": "4"
                                },
                                {
                                    "usernev": "ROBERTI",
                                    "nev": "Iván Róbert",
                                    "mettol": "2016-10-08",
                                    "meddig": "2016-10-12",
                                    "fő": "3",
                                    "(No column name)": "8"
                                },
                                {
                                    "usernev": "ROBERTI",
                                    "nev": "Iván Róbert",
                                    "mettol": "2016-10-09",
                                    "meddig": "2016-10-10",
                                    "fő": "2",
                                    "(No column name)": "9"
                                },
                                {
                                    "usernev": "ROBERTI",
                                    "nev": "Iván Róbert",
                                    "mettol": "2016-10-23",
                                    "meddig": "2016-10-29",
                                    "fő": "1",
                                    "(No column name)": "9"
                                },
                                {
                                    "usernev": "ROBERTI",
                                    "nev": "Iván Róbert",
                                    "mettol": "2016-10-26",
                                    "meddig": "2016-11-01",
                                    "fő": "2",
                                    "(No column name)": "6"
                                },
                                {
                                    "usernev": "ROBERTI",
                                    "nev": "Iván Róbert",
                                    "mettol": "2017-02-17",
                                    "meddig": "2017-02-20",
                                    "fő": "2",
                                    "(No column name)": "5"
                                },
                                {
                                    "usernev": "ROBERTP",
                                    "nev": "Pásztor Róbert",
                                    "mettol": "2016-07-30",
                                    "meddig": "2016-08-05",
                                    "fő": "2",
                                    "(No column name)": "NULL"
                                },
                                {
                                    "usernev": "ROBERTP",
                                    "nev": "Pásztor Róbert",
                                    "mettol": "2016-09-08",
                                    "meddig": "2016-09-11",
                                    "fő": "4",
                                    "(No column name)": "2"
                                },
                                {
                                    "usernev": "roland",
                                    "nev": "Tóth Roland",
                                    "mettol": "2016-09-04",
                                    "meddig": "2016-09-05",
                                    "fő": "2",
                                    "(No column name)": "NULL"
                                },
                                {
                                    "usernev": "roland",
                                    "nev": "Tóth Roland",
                                    "mettol": "2016-06-09",
                                    "meddig": "2016-06-13",
                                    "fő": "3",
                                    "(No column name)": "2"
                                },
                                {
                                    "usernev": "roland",
                                    "nev": "Tóth Roland",
                                    "mettol": "2016-06-22",
                                    "meddig": "2016-06-23",
                                    "fő": "3",
                                    "(No column name)": "5"
                                },
                                {
                                    "usernev": "roland",
                                    "nev": "Tóth Roland",
                                    "mettol": "2016-11-19",
                                    "meddig": "2016-11-24",
                                    "fő": "2",
                                    "(No column name)": "8"
                                },
                                {
                                    "usernev": "roland1",
                                    "nev": "Ferencz Roland",
                                    "mettol": "2016-11-05",
                                    "meddig": "2016-11-07",
                                    "fő": "3",
                                    "(No column name)": "NULL"
                                },
                                {
                                    "usernev": "roland1",
                                    "nev": "Ferencz Roland",
                                    "mettol": "2016-12-22",
                                    "meddig": "2016-12-29",
                                    "fő": "1",
                                    "(No column name)": "3"
                                },
                                {
                                    "usernev": "roland1",
                                    "nev": "Ferencz Roland",
                                    "mettol": "2017-01-04",
                                    "meddig": "2017-01-08",
                                    "fő": "3",
                                    "(No column name)": "4"
                                },
                                {
                                    "usernev": "roland1",
                                    "nev": "Ferencz Roland",
                                    "mettol": "2017-01-16",
                                    "meddig": "2017-01-22",
                                    "fő": "2",
                                    "(No column name)": "7"
                                },
                                {
                                    "usernev": "roza2",
                                    "nev": "Bucskó Róza",
                                    "mettol": "2016-09-10",
                                    "meddig": "2016-09-13",
                                    "fő": "2",
                                    "(No column name)": "NULL"
                                },
                                {
                                    "usernev": "roza2",
                                    "nev": "Bucskó Róza",
                                    "mettol": "2017-01-11",
                                    "meddig": "2017-01-17",
                                    "fő": "3",
                                    "(No column name)": "2"
                                },
                                {
                                    "usernev": "roza2",
                                    "nev": "Bucskó Róza",
                                    "mettol": "2017-02-18",
                                    "meddig": "2017-02-21",
                                    "fő": "3",
                                    "(No column name)": "5"
                                },
                                {
                                    "usernev": "sandor",
                                    "nev": "Karasz Sándor",
                                    "mettol": "2016-07-18",
                                    "meddig": "2016-07-24",
                                    "fő": "2",
                                    "(No column name)": "NULL"
                                },
                                {
                                    "usernev": "sandor",
                                    "nev": "Karasz Sándor",
                                    "mettol": "2016-08-20",
                                    "meddig": "2016-08-25",
                                    "fő": "2",
                                    "(No column name)": "2"
                                },
                                {
                                    "usernev": "sandor",
                                    "nev": "Karasz Sándor",
                                    "mettol": "2016-07-04",
                                    "meddig": "2016-07-06",
                                    "fő": "2",
                                    "(No column name)": "4"
                                },
                                {
                                    "usernev": "sandor",
                                    "nev": "Karasz Sándor",
                                    "mettol": "2016-09-19",
                                    "meddig": "2016-09-26",
                                    "fő": "4",
                                    "(No column name)": "6"
                                },
                                {
                                    "usernev": "sandor3",
                                    "nev": "Farkas Sándor",
                                    "mettol": "2016-05-12",
                                    "meddig": "2016-05-15",
                                    "fő": "2",
                                    "(No column name)": "NULL"
                                },
                                {
                                    "usernev": "sandor3",
                                    "nev": "Farkas Sándor",
                                    "mettol": "2016-05-25",
                                    "meddig": "2016-05-30",
                                    "fő": "1",
                                    "(No column name)": "2"
                                },
                                {
                                    "usernev": "sandor3",
                                    "nev": "Farkas Sándor",
                                    "mettol": "2016-10-09",
                                    "meddig": "2016-10-14",
                                    "fő": "2",
                                    "(No column name)": "3"
                                },
                                {
                                    "usernev": "sandor3",
                                    "nev": "Farkas Sándor",
                                    "mettol": "2016-10-23",
                                    "meddig": "2016-10-29",
                                    "fő": "3",
                                    "(No column name)": "5"
                                },
                                {
                                    "usernev": "sandor3",
                                    "nev": "Farkas Sándor",
                                    "mettol": "2016-11-10",
                                    "meddig": "2016-11-11",
                                    "fő": "2",
                                    "(No column name)": "6"
                                },
                                {
                                    "usernev": "sandor4",
                                    "nev": "Nagy Sándor",
                                    "mettol": "2016-10-15",
                                    "meddig": "2016-10-18",
                                    "fő": "1",
                                    "(No column name)": "NULL"
                                },
                                {
                                    "usernev": "sandor4",
                                    "nev": "Nagy Sándor",
                                    "mettol": "2016-11-29",
                                    "meddig": "2016-12-03",
                                    "fő": "2",
                                    "(No column name)": "1"
                                },
                                {
                                    "usernev": "sandor4",
                                    "nev": "Nagy Sándor",
                                    "mettol": "2016-12-03",
                                    "meddig": "2016-12-09",
                                    "fő": "1",
                                    "(No column name)": "3"
                                },
                                {
                                    "usernev": "sandor4",
                                    "nev": "Nagy Sándor",
                                    "mettol": "2017-01-22",
                                    "meddig": "2017-01-26",
                                    "fő": "2",
                                    "(No column name)": "4"
                                },
                                {
                                    "usernev": "sara",
                                    "nev": "Farkas Sára",
                                    "mettol": "2016-07-15",
                                    "meddig": "2016-07-17",
                                    "fő": "3",
                                    "(No column name)": "NULL"
                                },
                                {
                                    "usernev": "sara",
                                    "nev": "Farkas Sára",
                                    "mettol": "2016-07-24",
                                    "meddig": "2016-07-27",
                                    "fő": "3",
                                    "(No column name)": "3"
                                },
                                {
                                    "usernev": "sara",
                                    "nev": "Farkas Sára",
                                    "mettol": "2016-05-28",
                                    "meddig": "2016-05-30",
                                    "fő": "2",
                                    "(No column name)": "6"
                                },
                                {
                                    "usernev": "sara",
                                    "nev": "Farkas Sára",
                                    "mettol": "2016-05-30",
                                    "meddig": "2016-05-31",
                                    "fő": "2",
                                    "(No column name)": "8"
                                },
                                {
                                    "usernev": "sara",
                                    "nev": "Farkas Sára",
                                    "mettol": "2016-06-06",
                                    "meddig": "2016-06-08",
                                    "fő": "2",
                                    "(No column name)": "7"
                                },
                                {
                                    "usernev": "sara",
                                    "nev": "Farkas Sára",
                                    "mettol": "2016-10-06",
                                    "meddig": "2016-10-12",
                                    "fő": "3",
                                    "(No column name)": "6"
                                },
                                {
                                    "usernev": "sara",
                                    "nev": "Farkas Sára",
                                    "mettol": "2016-10-11",
                                    "meddig": "2016-10-14",
                                    "fő": "3",
                                    "(No column name)": "7"
                                },
                                {
                                    "usernev": "sara",
                                    "nev": "Farkas Sára",
                                    "mettol": "2016-10-28",
                                    "meddig": "2016-11-03",
                                    "fő": "2",
                                    "(No column name)": "8"
                                },
                                {
                                    "usernev": "sara",
                                    "nev": "Farkas Sára",
                                    "mettol": "2016-11-18",
                                    "meddig": "2016-11-21",
                                    "fő": "3",
                                    "(No column name)": "8"
                                },
                                {
                                    "usernev": "sara",
                                    "nev": "Farkas Sára",
                                    "mettol": "2016-11-23",
                                    "meddig": "2016-11-30",
                                    "fő": "4",
                                    "(No column name)": "8"
                                },
                                {
                                    "usernev": "sara",
                                    "nev": "Farkas Sára",
                                    "mettol": "2016-12-06",
                                    "meddig": "2016-12-10",
                                    "fő": "1",
                                    "(No column name)": "9"
                                },
                                {
                                    "usernev": "sara",
                                    "nev": "Farkas Sára",
                                    "mettol": "2016-12-25",
                                    "meddig": "2016-12-30",
                                    "fő": "2",
                                    "(No column name)": "8"
                                },
                                {
                                    "usernev": "SEBASTIANF",
                                    "nev": "Foltényi Sebastián",
                                    "mettol": "2016-04-06",
                                    "meddig": "2016-04-12",
                                    "fő": "2",
                                    "(No column name)": "NULL"
                                },
                                {
                                    "usernev": "SEBASTIANF",
                                    "nev": "Foltényi Sebastián",
                                    "mettol": "2016-07-17",
                                    "meddig": "2016-07-21",
                                    "fő": "2",
                                    "(No column name)": "2"
                                },
                                {
                                    "usernev": "SEBASTIANF",
                                    "nev": "Foltényi Sebastián",
                                    "mettol": "2016-07-30",
                                    "meddig": "2016-08-06",
                                    "fő": "4",
                                    "(No column name)": "4"
                                },
                                {
                                    "usernev": "SEBASTIANF",
                                    "nev": "Foltényi Sebastián",
                                    "mettol": "2016-09-14",
                                    "meddig": "2016-09-15",
                                    "fő": "3",
                                    "(No column name)": "8"
                                },
                                {
                                    "usernev": "SEBASTIANF",
                                    "nev": "Foltényi Sebastián",
                                    "mettol": "2016-09-17",
                                    "meddig": "2016-09-20",
                                    "fő": "3",
                                    "(No column name)": "9"
                                },
                                {
                                    "usernev": "sebestyen",
                                    "nev": "Rab Sebestyén",
                                    "mettol": "2016-04-07",
                                    "meddig": "2016-04-12",
                                    "fő": "4",
                                    "(No column name)": "NULL"
                                },
                                {
                                    "usernev": "sebestyen",
                                    "nev": "Rab Sebestyén",
                                    "mettol": "2016-04-26",
                                    "meddig": "2016-05-02",
                                    "fő": "4",
                                    "(No column name)": "4"
                                },
                                {
                                    "usernev": "sebestyen",
                                    "nev": "Rab Sebestyén",
                                    "mettol": "2016-06-09",
                                    "meddig": "2016-06-14",
                                    "fő": "4",
                                    "(No column name)": "8"
                                },
                                {
                                    "usernev": "sebestyen",
                                    "nev": "Rab Sebestyén",
                                    "mettol": "2016-10-26",
                                    "meddig": "2016-11-01",
                                    "fő": "5",
                                    "(No column name)": "12"
                                },
                                {
                                    "usernev": "szabolcs",
                                    "nev": "Bodor Szabolcs",
                                    "mettol": "2016-12-05",
                                    "meddig": "2016-12-07",
                                    "fő": "2",
                                    "(No column name)": "NULL"
                                },
                                {
                                    "usernev": "SZABOLCSM",
                                    "nev": "Miklós Szabolcs",
                                    "mettol": "2016-07-28",
                                    "meddig": "2016-08-03",
                                    "fő": "2",
                                    "(No column name)": "NULL"
                                },
                                {
                                    "usernev": "SZABOLCSM",
                                    "nev": "Miklós Szabolcs",
                                    "mettol": "2016-06-18",
                                    "meddig": "2016-06-21",
                                    "fő": "3",
                                    "(No column name)": "2"
                                },
                                {
                                    "usernev": "SZABOLCSM",
                                    "nev": "Miklós Szabolcs",
                                    "mettol": "2016-10-17",
                                    "meddig": "2016-10-19",
                                    "fő": "2",
                                    "(No column name)": "5"
                                },
                                {
                                    "usernev": "SZABOLCSM",
                                    "nev": "Miklós Szabolcs",
                                    "mettol": "2016-10-28",
                                    "meddig": "2016-11-03",
                                    "fő": "3",
                                    "(No column name)": "7"
                                },
                                {
                                    "usernev": "SZABOLCSM",
                                    "nev": "Miklós Szabolcs",
                                    "mettol": "2016-11-12",
                                    "meddig": "2016-11-13",
                                    "fő": "2",
                                    "(No column name)": "8"
                                },
                                {
                                    "usernev": "SZABOLCSM",
                                    "nev": "Miklós Szabolcs",
                                    "mettol": "2017-01-07",
                                    "meddig": "2017-01-08",
                                    "fő": "2",
                                    "(No column name)": "7"
                                },
                                {
                                    "usernev": "SZABOLCSM",
                                    "nev": "Miklós Szabolcs",
                                    "mettol": "2017-02-04",
                                    "meddig": "2017-02-05",
                                    "fő": "3",
                                    "(No column name)": "7"
                                },
                                {
                                    "usernev": "SZILARDS",
                                    "nev": "Szalai Szilárd",
                                    "mettol": "2016-04-23",
                                    "meddig": "2016-04-30",
                                    "fő": "3",
                                    "(No column name)": "NULL"
                                },
                                {
                                    "usernev": "SZILARDS",
                                    "nev": "Szalai Szilárd",
                                    "mettol": "2016-07-27",
                                    "meddig": "2016-08-03",
                                    "fő": "5",
                                    "(No column name)": "3"
                                },
                                {
                                    "usernev": "SZILARDS",
                                    "nev": "Szalai Szilárd",
                                    "mettol": "2016-08-28",
                                    "meddig": "2016-08-29",
                                    "fő": "4",
                                    "(No column name)": "8"
                                },
                                {
                                    "usernev": "SZILARDS",
                                    "nev": "Szalai Szilárd",
                                    "mettol": "2016-09-20",
                                    "meddig": "2016-09-24",
                                    "fő": "3",
                                    "(No column name)": "12"
                                },
                                {
                                    "usernev": "SZILARDS",
                                    "nev": "Szalai Szilárd",
                                    "mettol": "2016-10-01",
                                    "meddig": "2016-10-08",
                                    "fő": "3",
                                    "(No column name)": "12"
                                },
                                {
                                    "usernev": "SZILARDS",
                                    "nev": "Szalai Szilárd",
                                    "mettol": "2017-01-16",
                                    "meddig": "2017-01-19",
                                    "fő": "3",
                                    "(No column name)": "10"
                                },
                                {
                                    "usernev": "SZILARDS",
                                    "nev": "Szalai Szilárd",
                                    "mettol": "2017-02-08",
                                    "meddig": "2017-02-15",
                                    "fő": "1",
                                    "(No column name)": "9"
                                },
                                {
                                    "usernev": "szilvia1",
                                    "nev": "Tari Szilvia",
                                    "mettol": "2016-05-14",
                                    "meddig": "2016-05-21",
                                    "fő": "2",
                                    "(No column name)": "NULL"
                                },
                                {
                                    "usernev": "szilvia1",
                                    "nev": "Tari Szilvia",
                                    "mettol": "2016-07-25",
                                    "meddig": "2016-07-28",
                                    "fő": "2",
                                    "(No column name)": "2"
                                },
                                {
                                    "usernev": "szilvia1",
                                    "nev": "Tari Szilvia",
                                    "mettol": "2016-05-28",
                                    "meddig": "2016-06-03",
                                    "fő": "2",
                                    "(No column name)": "4"
                                },
                                {
                                    "usernev": "szilvia1",
                                    "nev": "Tari Szilvia",
                                    "mettol": "2016-10-09",
                                    "meddig": "2016-10-10",
                                    "fő": "3",
                                    "(No column name)": "6"
                                },
                                {
                                    "usernev": "szilvia1",
                                    "nev": "Tari Szilvia",
                                    "mettol": "2016-10-25",
                                    "meddig": "2016-10-31",
                                    "fő": "3",
                                    "(No column name)": "7"
                                },
                                {
                                    "usernev": "szilvia1",
                                    "nev": "Tari Szilvia",
                                    "mettol": "2016-10-27",
                                    "meddig": "2016-10-28",
                                    "fő": "2",
                                    "(No column name)": "8"
                                },
                                {
                                    "usernev": "szilvia1",
                                    "nev": "Tari Szilvia",
                                    "mettol": "2016-12-25",
                                    "meddig": "2016-12-29",
                                    "fő": "5",
                                    "(No column name)": "8"
                                },
                                {
                                    "usernev": "szilvia1",
                                    "nev": "Tari Szilvia",
                                    "mettol": "2016-12-27",
                                    "meddig": "2017-01-02",
                                    "fő": "2",
                                    "(No column name)": "10"
                                },
                                {
                                    "usernev": "szilvia1",
                                    "nev": "Tari Szilvia",
                                    "mettol": "2017-01-28",
                                    "meddig": "2017-02-03",
                                    "fő": "2",
                                    "(No column name)": "9"
                                },
                                {
                                    "usernev": "tamara2",
                                    "nev": "Miklós Tamara",
                                    "mettol": "2016-08-12",
                                    "meddig": "2016-08-15",
                                    "fő": "3",
                                    "(No column name)": "NULL"
                                },
                                {
                                    "usernev": "tamara2",
                                    "nev": "Miklós Tamara",
                                    "mettol": "2016-11-15",
                                    "meddig": "2016-11-18",
                                    "fő": "2",
                                    "(No column name)": "3"
                                },
                                {
                                    "usernev": "tamas",
                                    "nev": "Antal Tamás",
                                    "mettol": "2016-05-17",
                                    "meddig": "2016-05-22",
                                    "fő": "2",
                                    "(No column name)": "NULL"
                                },
                                {
                                    "usernev": "tamas",
                                    "nev": "Antal Tamás",
                                    "mettol": "2016-08-24",
                                    "meddig": "2016-08-27",
                                    "fő": "3",
                                    "(No column name)": "2"
                                },
                                {
                                    "usernev": "tamas",
                                    "nev": "Antal Tamás",
                                    "mettol": "2016-06-14",
                                    "meddig": "2016-06-21",
                                    "fő": "2",
                                    "(No column name)": "5"
                                },
                                {
                                    "usernev": "tamas",
                                    "nev": "Antal Tamás",
                                    "mettol": "2017-02-14",
                                    "meddig": "2017-02-19",
                                    "fő": "3",
                                    "(No column name)": "7"
                                },
                                {
                                    "usernev": "TAMASF",
                                    "nev": "Fényes Tamás",
                                    "mettol": "2016-05-03",
                                    "meddig": "2016-05-04",
                                    "fő": "2",
                                    "(No column name)": "NULL"
                                },
                                {
                                    "usernev": "TAMASF",
                                    "nev": "Fényes Tamás",
                                    "mettol": "2016-06-10",
                                    "meddig": "2016-06-13",
                                    "fő": "3",
                                    "(No column name)": "2"
                                },
                                {
                                    "usernev": "TAMASF",
                                    "nev": "Fényes Tamás",
                                    "mettol": "2016-06-28",
                                    "meddig": "2016-07-05",
                                    "fő": "3",
                                    "(No column name)": "5"
                                },
                                {
                                    "usernev": "TAMASF",
                                    "nev": "Fényes Tamás",
                                    "mettol": "2016-07-04",
                                    "meddig": "2016-07-10",
                                    "fő": "2",
                                    "(No column name)": "8"
                                },
                                {
                                    "usernev": "TAMASF",
                                    "nev": "Fényes Tamás",
                                    "mettol": "2016-09-12",
                                    "meddig": "2016-09-18",
                                    "fő": "3",
                                    "(No column name)": "8"
                                },
                                {
                                    "usernev": "TAMASF",
                                    "nev": "Fényes Tamás",
                                    "mettol": "2016-12-02",
                                    "meddig": "2016-12-04",
                                    "fő": "1",
                                    "(No column name)": "8"
                                },
                                {
                                    "usernev": "TAMASF",
                                    "nev": "Fényes Tamás",
                                    "mettol": "2016-12-10",
                                    "meddig": "2016-12-14",
                                    "fő": "3",
                                    "(No column name)": "6"
                                },
                                {
                                    "usernev": "TAMASF",
                                    "nev": "Fényes Tamás",
                                    "mettol": "2017-02-12",
                                    "meddig": "2017-02-17",
                                    "fő": "2",
                                    "(No column name)": "7"
                                },
                                {
                                    "usernev": "TAMASF",
                                    "nev": "Fényes Tamás",
                                    "mettol": "2017-02-16",
                                    "meddig": "2017-02-19",
                                    "fő": "4",
                                    "(No column name)": "6"
                                },
                                {
                                    "usernev": "tibor",
                                    "nev": "Gombos Tibor",
                                    "mettol": "2016-10-09",
                                    "meddig": "2016-10-13",
                                    "fő": "2",
                                    "(No column name)": "NULL"
                                },
                                {
                                    "usernev": "tibor",
                                    "nev": "Gombos Tibor",
                                    "mettol": "2016-11-05",
                                    "meddig": "2016-11-09",
                                    "fő": "1",
                                    "(No column name)": "2"
                                },
                                {
                                    "usernev": "tibor2",
                                    "nev": "Dániel Tibor",
                                    "mettol": "2016-10-20",
                                    "meddig": "2016-10-25",
                                    "fő": "2",
                                    "(No column name)": "NULL"
                                },
                                {
                                    "usernev": "tihamer",
                                    "nev": "Kazy Tihamér",
                                    "mettol": "2016-07-20",
                                    "meddig": "2016-07-24",
                                    "fő": "3",
                                    "(No column name)": "NULL"
                                },
                                {
                                    "usernev": "tihamer",
                                    "nev": "Kazy Tihamér",
                                    "mettol": "2016-08-18",
                                    "meddig": "2016-08-22",
                                    "fő": "3",
                                    "(No column name)": "3"
                                },
                                {
                                    "usernev": "tihamer",
                                    "nev": "Kazy Tihamér",
                                    "mettol": "2016-05-30",
                                    "meddig": "2016-06-05",
                                    "fő": "1",
                                    "(No column name)": "6"
                                },
                                {
                                    "usernev": "tihamer",
                                    "nev": "Kazy Tihamér",
                                    "mettol": "2016-06-03",
                                    "meddig": "2016-06-08",
                                    "fő": "5",
                                    "(No column name)": "7"
                                },
                                {
                                    "usernev": "tihamer",
                                    "nev": "Kazy Tihamér",
                                    "mettol": "2016-10-19",
                                    "meddig": "2016-10-23",
                                    "fő": "2",
                                    "(No column name)": "9"
                                },
                                {
                                    "usernev": "tihamer",
                                    "nev": "Kazy Tihamér",
                                    "mettol": "2016-12-25",
                                    "meddig": "2016-12-26",
                                    "fő": "2",
                                    "(No column name)": "8"
                                },
                                {
                                    "usernev": "timea",
                                    "nev": "Papós Tímea",
                                    "mettol": "2016-12-26",
                                    "meddig": "2016-12-27",
                                    "fő": "2",
                                    "(No column name)": "NULL"
                                },
                                {
                                    "usernev": "timea2",
                                    "nev": "Dusha Tímea",
                                    "mettol": "2016-08-07",
                                    "meddig": "2016-08-10",
                                    "fő": "3",
                                    "(No column name)": "NULL"
                                },
                                {
                                    "usernev": "timea2",
                                    "nev": "Dusha Tímea",
                                    "mettol": "2016-06-06",
                                    "meddig": "2016-06-07",
                                    "fő": "2",
                                    "(No column name)": "3"
                                },
                                {
                                    "usernev": "timea2",
                                    "nev": "Dusha Tímea",
                                    "mettol": "2016-10-26",
                                    "meddig": "2016-10-29",
                                    "fő": "3",
                                    "(No column name)": "5"
                                },
                                {
                                    "usernev": "timea2",
                                    "nev": "Dusha Tímea",
                                    "mettol": "2016-11-27",
                                    "meddig": "2016-12-01",
                                    "fő": "4",
                                    "(No column name)": "8"
                                },
                                {
                                    "usernev": "timea2",
                                    "nev": "Dusha Tímea",
                                    "mettol": "2016-12-14",
                                    "meddig": "2016-12-16",
                                    "fő": "4",
                                    "(No column name)": "9"
                                },
                                {
                                    "usernev": "tunde",
                                    "nev": "Turcsik Tünde",
                                    "mettol": "2016-07-14",
                                    "meddig": "2016-07-21",
                                    "fő": "1",
                                    "(No column name)": "NULL"
                                },
                                {
                                    "usernev": "tunde",
                                    "nev": "Turcsik Tünde",
                                    "mettol": "2016-09-05",
                                    "meddig": "2016-09-12",
                                    "fő": "2",
                                    "(No column name)": "1"
                                },
                                {
                                    "usernev": "tunde",
                                    "nev": "Turcsik Tünde",
                                    "mettol": "2016-06-03",
                                    "meddig": "2016-06-07",
                                    "fő": "3",
                                    "(No column name)": "3"
                                },
                                {
                                    "usernev": "tunde",
                                    "nev": "Turcsik Tünde",
                                    "mettol": "2016-06-06",
                                    "meddig": "2016-06-12",
                                    "fő": "3",
                                    "(No column name)": "6"
                                },
                                {
                                    "usernev": "tunde",
                                    "nev": "Turcsik Tünde",
                                    "mettol": "2016-10-24",
                                    "meddig": "2016-10-30",
                                    "fő": "3",
                                    "(No column name)": "8"
                                },
                                {
                                    "usernev": "tunde",
                                    "nev": "Turcsik Tünde",
                                    "mettol": "2016-11-19",
                                    "meddig": "2016-11-20",
                                    "fő": "3",
                                    "(No column name)": "9"
                                },
                                {
                                    "usernev": "tunde",
                                    "nev": "Turcsik Tünde",
                                    "mettol": "2016-12-15",
                                    "meddig": "2016-12-20",
                                    "fő": "3",
                                    "(No column name)": "9"
                                },
                                {
                                    "usernev": "tunde",
                                    "nev": "Turcsik Tünde",
                                    "mettol": "2017-01-03",
                                    "meddig": "2017-01-06",
                                    "fő": "5",
                                    "(No column name)": "9"
                                },
                                {
                                    "usernev": "valentin",
                                    "nev": "Feró Valentin",
                                    "mettol": "2016-07-24",
                                    "meddig": "2016-07-29",
                                    "fő": "1",
                                    "(No column name)": "NULL"
                                },
                                {
                                    "usernev": "valentin",
                                    "nev": "Feró Valentin",
                                    "mettol": "2016-05-24",
                                    "meddig": "2016-05-30",
                                    "fő": "4",
                                    "(No column name)": "1"
                                },
                                {
                                    "usernev": "valentin",
                                    "nev": "Feró Valentin",
                                    "mettol": "2016-10-26",
                                    "meddig": "2016-10-30",
                                    "fő": "3",
                                    "(No column name)": "5"
                                },
                                {
                                    "usernev": "valentin",
                                    "nev": "Feró Valentin",
                                    "mettol": "2016-11-11",
                                    "meddig": "2016-11-17",
                                    "fő": "3",
                                    "(No column name)": "8"
                                },
                                {
                                    "usernev": "valentin",
                                    "nev": "Feró Valentin",
                                    "mettol": "2016-12-01",
                                    "meddig": "2016-12-05",
                                    "fő": "3",
                                    "(No column name)": "10"
                                },
                                {
                                    "usernev": "veronika4",
                                    "nev": "Tankó Veronika",
                                    "mettol": "2016-07-20",
                                    "meddig": "2016-07-26",
                                    "fő": "3",
                                    "(No column name)": "NULL"
                                },
                                {
                                    "usernev": "veronika4",
                                    "nev": "Tankó Veronika",
                                    "mettol": "2016-08-16",
                                    "meddig": "2016-08-21",
                                    "fő": "1",
                                    "(No column name)": "3"
                                },
                                {
                                    "usernev": "veronika4",
                                    "nev": "Tankó Veronika",
                                    "mettol": "2016-05-30",
                                    "meddig": "2016-06-04",
                                    "fő": "2",
                                    "(No column name)": "4"
                                },
                                {
                                    "usernev": "veronika4",
                                    "nev": "Tankó Veronika",
                                    "mettol": "2016-09-26",
                                    "meddig": "2016-10-03",
                                    "fő": "2",
                                    "(No column name)": "6"
                                },
                                {
                                    "usernev": "veronika4",
                                    "nev": "Tankó Veronika",
                                    "mettol": "2017-01-19",
                                    "meddig": "2017-01-24",
                                    "fő": "3",
                                    "(No column name)": "5"
                                },
                                {
                                    "usernev": "veronika4",
                                    "nev": "Tankó Veronika",
                                    "mettol": "2017-02-03",
                                    "meddig": "2017-02-05",
                                    "fő": "2",
                                    "(No column name)": "7"
                                },
                                {
                                    "usernev": "VIKTORIAU",
                                    "nev": "Urbán Viktoria",
                                    "mettol": "2016-04-30",
                                    "meddig": "2016-05-03",
                                    "fő": "1",
                                    "(No column name)": "NULL"
                                },
                                {
                                    "usernev": "VIKTORIAU",
                                    "nev": "Urbán Viktoria",
                                    "mettol": "2016-08-03",
                                    "meddig": "2016-08-04",
                                    "fő": "2",
                                    "(No column name)": "1"
                                },
                                {
                                    "usernev": "VIKTORIAU",
                                    "nev": "Urbán Viktoria",
                                    "mettol": "2016-10-14",
                                    "meddig": "2016-10-15",
                                    "fő": "3",
                                    "(No column name)": "3"
                                },
                                {
                                    "usernev": "VIKTORIAU",
                                    "nev": "Urbán Viktoria",
                                    "mettol": "2016-10-26",
                                    "meddig": "2016-11-02",
                                    "fő": "4",
                                    "(No column name)": "6"
                                },
                                {
                                    "usernev": "VIKTORK",
                                    "nev": "Keresztúri Viktor",
                                    "mettol": "2016-05-30",
                                    "meddig": "2016-06-01",
                                    "fő": "2",
                                    "(No column name)": "NULL"
                                },
                                {
                                    "usernev": "VIKTORK",
                                    "nev": "Keresztúri Viktor",
                                    "mettol": "2016-06-06",
                                    "meddig": "2016-06-07",
                                    "fő": "4",
                                    "(No column name)": "2"
                                },
                                {
                                    "usernev": "vivien3",
                                    "nev": "Boros Vivien",
                                    "mettol": "2016-05-02",
                                    "meddig": "2016-05-05",
                                    "fő": "3",
                                    "(No column name)": "NULL"
                                },
                                {
                                    "usernev": "vivien3",
                                    "nev": "Boros Vivien",
                                    "mettol": "2016-08-13",
                                    "meddig": "2016-08-18",
                                    "fő": "2",
                                    "(No column name)": "3"
                                },
                                {
                                    "usernev": "vivien3",
                                    "nev": "Boros Vivien",
                                    "mettol": "2016-09-01",
                                    "meddig": "2016-09-05",
                                    "fő": "2",
                                    "(No column name)": "5"
                                },
                                {
                                    "usernev": "vivien3",
                                    "nev": "Boros Vivien",
                                    "mettol": "2016-10-01",
                                    "meddig": "2016-10-04",
                                    "fő": "1",
                                    "(No column name)": "7"
                                },
                                {
                                    "usernev": "vivien3",
                                    "nev": "Boros Vivien",
                                    "mettol": "2016-11-17",
                                    "meddig": "2016-11-20",
                                    "fő": "2",
                                    "(No column name)": "5"
                                },
                                {
                                    "usernev": "vivien3",
                                    "nev": "Boros Vivien",
                                    "mettol": "2016-12-17",
                                    "meddig": "2016-12-21",
                                    "fő": "2",
                                    "(No column name)": "5"
                                },
                                {
                                    "usernev": "vivien3",
                                    "nev": "Boros Vivien",
                                    "mettol": "2016-12-24",
                                    "meddig": "2016-12-26",
                                    "fő": "3",
                                    "(No column name)": "5"
                                },
                                {
                                    "usernev": "zoltan",
                                    "nev": "Fodor Zoltán",
                                    "mettol": "2016-08-24",
                                    "meddig": "2016-08-31",
                                    "fő": "2",
                                    "(No column name)": "NULL"
                                },
                                {
                                    "usernev": "zoltan",
                                    "nev": "Fodor Zoltán",
                                    "mettol": "2016-09-05",
                                    "meddig": "2016-09-09",
                                    "fő": "3",
                                    "(No column name)": "2"
                                },
                                {
                                    "usernev": "zoltan4",
                                    "nev": "Barna Zoltán",
                                    "mettol": "2016-05-12",
                                    "meddig": "2016-05-16",
                                    "fő": "3",
                                    "(No column name)": "NULL"
                                },
                                {
                                    "usernev": "zoltan4",
                                    "nev": "Barna Zoltán",
                                    "mettol": "2016-05-13",
                                    "meddig": "2016-05-16",
                                    "fő": "3",
                                    "(No column name)": "3"
                                },
                                {
                                    "usernev": "zoltan4",
                                    "nev": "Barna Zoltán",
                                    "mettol": "2016-08-15",
                                    "meddig": "2016-08-21",
                                    "fő": "1",
                                    "(No column name)": "6"
                                },
                                {
                                    "usernev": "zoltan4",
                                    "nev": "Barna Zoltán",
                                    "mettol": "2016-08-16",
                                    "meddig": "2016-08-23",
                                    "fő": "2",
                                    "(No column name)": "7"
                                },
                                {
                                    "usernev": "zoltan4",
                                    "nev": "Barna Zoltán",
                                    "mettol": "2016-06-03",
                                    "meddig": "2016-06-06",
                                    "fő": "1",
                                    "(No column name)": "6"
                                },
                                {
                                    "usernev": "zoltan4",
                                    "nev": "Barna Zoltán",
                                    "mettol": "2016-09-30",
                                    "meddig": "2016-10-07",
                                    "fő": "3",
                                    "(No column name)": "4"
                                },
                                {
                                    "usernev": "zoltan4",
                                    "nev": "Barna Zoltán",
                                    "mettol": "2016-10-21",
                                    "meddig": "2016-10-24",
                                    "fő": "5",
                                    "(No column name)": "6"
                                },
                                {
                                    "usernev": "zoltan4",
                                    "nev": "Barna Zoltán",
                                    "mettol": "2016-10-26",
                                    "meddig": "2016-10-30",
                                    "fő": "2",
                                    "(No column name)": "9"
                                },
                                {
                                    "usernev": "zoltan4",
                                    "nev": "Barna Zoltán",
                                    "mettol": "2016-10-30",
                                    "meddig": "2016-11-06",
                                    "fő": "1",
                                    "(No column name)": "10"
                                },
                                {
                                    "usernev": "zoltan4",
                                    "nev": "Barna Zoltán",
                                    "mettol": "2016-11-19",
                                    "meddig": "2016-11-21",
                                    "fő": "2",
                                    "(No column name)": "8"
                                },
                                {
                                    "usernev": "zoltan4",
                                    "nev": "Barna Zoltán",
                                    "mettol": "2016-12-29",
                                    "meddig": "2017-01-04",
                                    "fő": "1",
                                    "(No column name)": "5"
                                },
                                {
                                    "usernev": "zoltan4",
                                    "nev": "Barna Zoltán",
                                    "mettol": "2017-01-01",
                                    "meddig": "2017-01-02",
                                    "fő": "3",
                                    "(No column name)": "4"
                                },
                                {
                                    "usernev": "ZOLTANP",
                                    "nev": "Pintér Zoltán",
                                    "mettol": "2016-07-20",
                                    "meddig": "2016-07-25",
                                    "fő": "3",
                                    "(No column name)": "NULL"
                                },
                                {
                                    "usernev": "ZOLTANP",
                                    "nev": "Pintér Zoltán",
                                    "mettol": "2016-06-05",
                                    "meddig": "2016-06-08",
                                    "fő": "2",
                                    "(No column name)": "3"
                                },
                                {
                                    "usernev": "ZOLTANP",
                                    "nev": "Pintér Zoltán",
                                    "mettol": "2016-06-06",
                                    "meddig": "2016-06-08",
                                    "fő": "2",
                                    "(No column name)": "5"
                                },
                                {
                                    "usernev": "ZOLTANP",
                                    "nev": "Pintér Zoltán",
                                    "mettol": "2016-10-19",
                                    "meddig": "2016-10-25",
                                    "fő": "2",
                                    "(No column name)": "7"
                                },
                                {
                                    "usernev": "ZOLTANP",
                                    "nev": "Pintér Zoltán",
                                    "mettol": "2016-12-07",
                                    "meddig": "2016-12-10",
                                    "fő": "3",
                                    "(No column name)": "6"
                                },
                                {
                                    "usernev": "ZOLTANP",
                                    "nev": "Pintér Zoltán",
                                    "mettol": "2016-12-25",
                                    "meddig": "2016-12-29",
                                    "fő": "2",
                                    "(No column name)": "7"
                                },
                                {
                                    "usernev": "ZOLTANT",
                                    "nev": "Tóth Zoltán",
                                    "mettol": "2016-05-01",
                                    "meddig": "2016-05-04",
                                    "fő": "3",
                                    "(No column name)": "NULL"
                                },
                                {
                                    "usernev": "ZOLTANT",
                                    "nev": "Tóth Zoltán",
                                    "mettol": "2016-07-14",
                                    "meddig": "2016-07-15",
                                    "fő": "3",
                                    "(No column name)": "3"
                                },
                                {
                                    "usernev": "ZOLTANT",
                                    "nev": "Tóth Zoltán",
                                    "mettol": "2017-01-16",
                                    "meddig": "2017-01-20",
                                    "fő": "2",
                                    "(No column name)": "6"
                                },
                                {
                                    "usernev": "zsofi1",
                                    "nev": "Molnár Zsófi",
                                    "mettol": "2016-06-16",
                                    "meddig": "2016-06-17",
                                    "fő": "2",
                                    "(No column name)": "NULL"
                                },
                                {
                                    "usernev": "zsofi1",
                                    "nev": "Molnár Zsófi",
                                    "mettol": "2017-02-18",
                                    "meddig": "2017-02-19",
                                    "fő": "3",
                                    "(No column name)": "2"
                                },
                                {
                                    "usernev": "zsolt1",
                                    "nev": "Pulai Zsolt",
                                    "mettol": "2016-04-14",
                                    "meddig": "2016-04-17",
                                    "fő": "2",
                                    "(No column name)": "NULL"
                                },
                                {
                                    "usernev": "zsolt1",
                                    "nev": "Pulai Zsolt",
                                    "mettol": "2016-07-31",
                                    "meddig": "2016-08-02",
                                    "fő": "2",
                                    "(No column name)": "2"
                                },
                                {
                                    "usernev": "zsolt1",
                                    "nev": "Pulai Zsolt",
                                    "mettol": "2016-06-06",
                                    "meddig": "2016-06-08",
                                    "fő": "2",
                                    "(No column name)": "4"
                                },
                                {
                                    "usernev": "zsolt1",
                                    "nev": "Pulai Zsolt",
                                    "mettol": "2016-06-07",
                                    "meddig": "2016-06-10",
                                    "fő": "4",
                                    "(No column name)": "6"
                                },
                                {
                                    "usernev": "ZSOLTJ",
                                    "nev": "Józsa Zsolt",
                                    "mettol": "2016-04-24",
                                    "meddig": "2016-04-26",
                                    "fő": "4",
                                    "(No column name)": "NULL"
                                },
                                {
                                    "usernev": "ZSOLTJ",
                                    "nev": "Józsa Zsolt",
                                    "mettol": "2016-05-09",
                                    "meddig": "2016-05-11",
                                    "fő": "2",
                                    "(No column name)": "4"
                                },
                                {
                                    "usernev": "ZSOLTJ",
                                    "nev": "Józsa Zsolt",
                                    "mettol": "2016-07-18",
                                    "meddig": "2016-07-19",
                                    "fő": "2",
                                    "(No column name)": "6"
                                },
                                {
                                    "usernev": "ZSOLTJ",
                                    "nev": "Józsa Zsolt",
                                    "mettol": "2016-05-28",
                                    "meddig": "2016-06-03",
                                    "fő": "1",
                                    "(No column name)": "8"
                                },
                                {
                                    "usernev": "ZSOLTJ",
                                    "nev": "Józsa Zsolt",
                                    "mettol": "2016-06-17",
                                    "meddig": "2016-06-19",
                                    "fő": "2",
                                    "(No column name)": "5"
                                },
                                {
                                    "usernev": "ZSOLTJ",
                                    "nev": "Józsa Zsolt",
                                    "mettol": "2016-10-01",
                                    "meddig": "2016-10-06",
                                    "fő": "2",
                                    "(No column name)": "5"
                                },
                                {
                                    "usernev": "zsuzsa",
                                    "nev": "Pusztai Zsuzsanna",
                                    "mettol": "2016-07-24",
                                    "meddig": "2016-07-25",
                                    "fő": "3",
                                    "(No column name)": "NULL"
                                },
                                {
                                    "usernev": "zsuzsa",
                                    "nev": "Pusztai Zsuzsanna",
                                    "mettol": "2016-08-28",
                                    "meddig": "2016-08-30",
                                    "fő": "2",
                                    "(No column name)": "3"
                                },
                                {
                                    "usernev": "zsuzsa",
                                    "nev": "Pusztai Zsuzsanna",
                                    "mettol": "2016-11-28",
                                    "meddig": "2016-12-04",
                                    "fő": "3",
                                    "(No column name)": "5"
                                },
                                {
                                    "usernev": "zsuzsa3",
                                    "nev": "Varsányi Zsuzsa",
                                    "mettol": "2016-07-30",
                                    "meddig": "2016-08-02",
                                    "fő": "2",
                                    "(No column name)": "NULL"
                                },
                                {
                                    "usernev": "zsuzsa3",
                                    "nev": "Varsányi Zsuzsa",
                                    "mettol": "2016-09-09",
                                    "meddig": "2016-09-10",
                                    "fő": "2",
                                    "(No column name)": "2"
                                },
                                {
                                    "usernev": "zsuzsa3",
                                    "nev": "Varsányi Zsuzsa",
                                    "mettol": "2016-09-28",
                                    "meddig": "2016-10-03",
                                    "fő": "2",
                                    "(No column name)": "4"
                                },
                                {
                                    "usernev": "zsuzsa3",
                                    "nev": "Varsányi Zsuzsa",
                                    "mettol": "2016-10-27",
                                    "meddig": "2016-11-03",
                                    "fő": "4",
                                    "(No column name)": "6"
                                },
                                {
                                    "usernev": "zsuzsanna",
                                    "nev": "Barta Zsuzsanna",
                                    "mettol": "2016-05-17",
                                    "meddig": "2016-05-23",
                                    "fő": "2",
                                    "(No column name)": "NULL"
                                },
                                {
                                    "usernev": "zsuzsanna",
                                    "nev": "Barta Zsuzsanna",
                                    "mettol": "2016-07-12",
                                    "meddig": "2016-07-15",
                                    "fő": "2",
                                    "(No column name)": "2"
                                },
                                {
                                    "usernev": "zsuzsanna",
                                    "nev": "Barta Zsuzsanna",
                                    "mettol": "2017-01-09",
                                    "meddig": "2017-01-16",
                                    "fő": "1",
                                    "(No column name)": "4"
                                },
                                {
                                    "usernev": "zsuzsanna",
                                    "nev": "Barta Zsuzsanna",
                                    "mettol": "2017-01-16",
                                    "meddig": "2017-01-22",
                                    "fő": "2",
                                    "(No column name)": "5"
                                },
                                {
                                    "usernev": "ZSUZSAV",
                                    "nev": "Vajda Zsuzsa",
                                    "mettol": "2016-04-14",
                                    "meddig": "2016-04-16",
                                    "fő": "2",
                                    "(No column name)": "NULL"
                                },
                                {
                                    "usernev": "ZSUZSAV",
                                    "nev": "Vajda Zsuzsa",
                                    "mettol": "2016-05-28",
                                    "meddig": "2016-06-01",
                                    "fő": "4",
                                    "(No column name)": "2"
                                },
                                {
                                    "usernev": "ZSUZSAV",
                                    "nev": "Vajda Zsuzsa",
                                    "mettol": "2016-06-15",
                                    "meddig": "2016-06-21",
                                    "fő": "3",
                                    "(No column name)": "6"
                                },
                                {
                                    "usernev": "ZSUZSAV",
                                    "nev": "Vajda Zsuzsa",
                                    "mettol": "2016-09-18",
                                    "meddig": "2016-09-20",
                                    "fő": "2",
                                    "(No column name)": "9"
                                },
                                {
                                    "usernev": "ZSUZSAV",
                                    "nev": "Vajda Zsuzsa",
                                    "mettol": "2016-10-26",
                                    "meddig": "2016-10-28",
                                    "fő": "1",
                                    "(No column name)": "9"
                                },
                                {
                                    "usernev": "ZSUZSAV",
                                    "nev": "Vajda Zsuzsa",
                                    "mettol": "2016-11-21",
                                    "meddig": "2016-11-24",
                                    "fő": "3",
                                    "(No column name)": "6"
                                }
                            ]
                        },
                        "text/html": [
                            "<table>",
                            "<tr><th>usernev</th><th>nev</th><th>mettol</th><th>meddig</th><th>fő</th><th>(No column name)</th></tr>",
                            "<tr><td>adam1</td><td>Kiss Ádám</td><td>2016-08-20</td><td>2016-08-24</td><td>1</td><td>NULL</td></tr>",
                            "<tr><td>adam1</td><td>Kiss Ádám</td><td>2016-05-28</td><td>2016-06-03</td><td>3</td><td>1</td></tr>",
                            "<tr><td>adam1</td><td>Kiss Ádám</td><td>2016-10-19</td><td>2016-10-24</td><td>2</td><td>4</td></tr>",
                            "<tr><td>adam3</td><td>Barkóci Ádám</td><td>2016-09-12</td><td>2016-09-16</td><td>2</td><td>NULL</td></tr>",
                            "<tr><td>adam3</td><td>Barkóci Ádám</td><td>2017-02-06</td><td>2017-02-10</td><td>1</td><td>2</td></tr>",
                            "<tr><td>adam4</td><td>Bieniek Ádám</td><td>2016-08-28</td><td>2016-08-30</td><td>3</td><td>NULL</td></tr>",
                            "<tr><td>adam4</td><td>Bieniek Ádám</td><td>2016-10-27</td><td>2016-11-02</td><td>3</td><td>3</td></tr>",
                            "<tr><td>adam4</td><td>Bieniek Ádám</td><td>2016-11-15</td><td>2016-11-18</td><td>2</td><td>6</td></tr>",
                            "<tr><td>adam4</td><td>Bieniek Ádám</td><td>2016-12-06</td><td>2016-12-09</td><td>3</td><td>8</td></tr>",
                            "<tr><td>adam4</td><td>Bieniek Ádám</td><td>2017-01-12</td><td>2017-01-19</td><td>2</td><td>8</td></tr>",
                            "<tr><td>adam4</td><td>Bieniek Ádám</td><td>2017-02-23</td><td>2017-02-27</td><td>3</td><td>7</td></tr>",
                            "<tr><td>agnes</td><td>Lengyel Ágnes</td><td>2016-05-09</td><td>2016-05-11</td><td>3</td><td>NULL</td></tr>",
                            "<tr><td>agnes</td><td>Lengyel Ágnes</td><td>2016-07-13</td><td>2016-07-19</td><td>3</td><td>3</td></tr>",
                            "<tr><td>agnes</td><td>Lengyel Ágnes</td><td>2016-07-30</td><td>2016-08-06</td><td>3</td><td>6</td></tr>",
                            "<tr><td>agnes</td><td>Lengyel Ágnes</td><td>2016-05-25</td><td>2016-05-30</td><td>1</td><td>9</td></tr>",
                            "<tr><td>agnes</td><td>Lengyel Ágnes</td><td>2016-11-07</td><td>2016-11-13</td><td>2</td><td>7</td></tr>",
                            "<tr><td>agnes3</td><td>Hartyánszky Ágnes</td><td>2016-08-04</td><td>2016-08-10</td><td>1</td><td>NULL</td></tr>",
                            "<tr><td>agnes3</td><td>Hartyánszky Ágnes</td><td>2016-10-22</td><td>2016-10-23</td><td>3</td><td>1</td></tr>",
                            "<tr><td>agnes3</td><td>Hartyánszky Ágnes</td><td>2017-02-16</td><td>2017-02-21</td><td>3</td><td>4</td></tr>",
                            "<tr><td>AGNESH</td><td>Horváth Ágnes</td><td>2016-04-10</td><td>2016-04-12</td><td>2</td><td>NULL</td></tr>",
                            "<tr><td>AGNESH</td><td>Horváth Ágnes</td><td>2016-04-27</td><td>2016-04-28</td><td>4</td><td>2</td></tr>",
                            "<tr><td>AGNESH</td><td>Horváth Ágnes</td><td>2016-06-23</td><td>2016-06-26</td><td>1</td><td>6</td></tr>",
                            "<tr><td>AGNESH</td><td>Horváth Ágnes</td><td>2016-10-30</td><td>2016-11-04</td><td>1</td><td>7</td></tr>",
                            "<tr><td>AGNESH</td><td>Horváth Ágnes</td><td>2017-01-03</td><td>2017-01-10</td><td>2</td><td>6</td></tr>",
                            "<tr><td>AGNESH</td><td>Horváth Ágnes</td><td>2017-01-16</td><td>2017-01-23</td><td>3</td><td>4</td></tr>",
                            "<tr><td>AGNESK</td><td>Kovács Ágnes</td><td>2016-07-29</td><td>2016-08-01</td><td>3</td><td>NULL</td></tr>",
                            "<tr><td>AGNESK</td><td>Kovács Ágnes</td><td>2016-10-17</td><td>2016-10-19</td><td>2</td><td>3</td></tr>",
                            "<tr><td>AGNESK</td><td>Kovács Ágnes</td><td>2016-12-17</td><td>2016-12-18</td><td>2</td><td>5</td></tr>",
                            "<tr><td>akos</td><td>Bíró Ákos</td><td>2016-05-18</td><td>2016-05-19</td><td>2</td><td>NULL</td></tr>",
                            "<tr><td>akos</td><td>Bíró Ákos</td><td>2016-07-14</td><td>2016-07-19</td><td>2</td><td>2</td></tr>",
                            "<tr><td>akos</td><td>Bíró Ákos</td><td>2016-07-16</td><td>2016-07-18</td><td>2</td><td>4</td></tr>",
                            "<tr><td>akos</td><td>Bíró Ákos</td><td>2016-07-22</td><td>2016-07-26</td><td>1</td><td>6</td></tr>",
                            "<tr><td>akos</td><td>Bíró Ákos</td><td>2016-09-06</td><td>2016-09-12</td><td>1</td><td>5</td></tr>",
                            "<tr><td>akos</td><td>Bíró Ákos</td><td>2016-10-05</td><td>2016-10-09</td><td>2</td><td>4</td></tr>",
                            "<tr><td>akos</td><td>Bíró Ákos</td><td>2016-10-18</td><td>2016-10-23</td><td>2</td><td>4</td></tr>",
                            "<tr><td>akos</td><td>Bíró Ákos</td><td>2016-11-21</td><td>2016-11-27</td><td>2</td><td>5</td></tr>",
                            "<tr><td>akos</td><td>Bíró Ákos</td><td>2016-12-15</td><td>2016-12-21</td><td>2</td><td>6</td></tr>",
                            "<tr><td>akos</td><td>Bíró Ákos</td><td>2016-12-29</td><td>2016-12-30</td><td>3</td><td>6</td></tr>",
                            "<tr><td>aladar</td><td>Dunai Aladár</td><td>2016-05-17</td><td>2016-05-24</td><td>1</td><td>NULL</td></tr>",
                            "<tr><td>aladar</td><td>Dunai Aladár</td><td>2016-09-24</td><td>2016-09-28</td><td>1</td><td>1</td></tr>",
                            "<tr><td>aladar</td><td>Dunai Aladár</td><td>2016-11-22</td><td>2016-11-23</td><td>2</td><td>2</td></tr>",
                            "<tr><td>alexandra</td><td>Bagóczki Alexandra</td><td>2016-05-21</td><td>2016-05-27</td><td>3</td><td>NULL</td></tr>",
                            "<tr><td>alexandra</td><td>Bagóczki Alexandra</td><td>2016-07-27</td><td>2016-07-30</td><td>2</td><td>3</td></tr>",
                            "<tr><td>alexandra</td><td>Bagóczki Alexandra</td><td>2016-06-08</td><td>2016-06-11</td><td>3</td><td>5</td></tr>",
                            "<tr><td>alexandra</td><td>Bagóczki Alexandra</td><td>2016-10-21</td><td>2016-10-25</td><td>2</td><td>8</td></tr>",
                            "<tr><td>alexandra</td><td>Bagóczki Alexandra</td><td>2016-11-29</td><td>2016-12-05</td><td>2</td><td>7</td></tr>",
                            "<tr><td>alexandra</td><td>Bagóczki Alexandra</td><td>2017-01-13</td><td>2017-01-14</td><td>1</td><td>7</td></tr>",
                            "<tr><td>alexandra</td><td>Bagóczki Alexandra</td><td>2017-01-19</td><td>2017-01-26</td><td>2</td><td>5</td></tr>",
                            "<tr><td>andi</td><td>Maródi Andrea</td><td>2016-05-08</td><td>2016-05-14</td><td>4</td><td>NULL</td></tr>",
                            "<tr><td>andi</td><td>Maródi Andrea</td><td>2016-06-13</td><td>2016-06-14</td><td>1</td><td>4</td></tr>",
                            "<tr><td>andi</td><td>Maródi Andrea</td><td>2016-09-13</td><td>2016-09-16</td><td>2</td><td>5</td></tr>",
                            "<tr><td>andi</td><td>Maródi Andrea</td><td>2016-11-16</td><td>2016-11-17</td><td>3</td><td>7</td></tr>",
                            "<tr><td>andi</td><td>Maródi Andrea</td><td>2017-01-13</td><td>2017-01-17</td><td>3</td><td>6</td></tr>",
                            "<tr><td>andras2</td><td>Tóth András</td><td>2016-07-20</td><td>2016-07-22</td><td>2</td><td>NULL</td></tr>",
                            "<tr><td>andras2</td><td>Tóth András</td><td>2016-05-30</td><td>2016-06-04</td><td>1</td><td>2</td></tr>",
                            "<tr><td>andras2</td><td>Tóth András</td><td>2016-09-30</td><td>2016-10-03</td><td>2</td><td>3</td></tr>",
                            "<tr><td>andras2</td><td>Tóth András</td><td>2016-10-07</td><td>2016-10-10</td><td>3</td><td>5</td></tr>",
                            "<tr><td>andras2</td><td>Tóth András</td><td>2017-02-08</td><td>2017-02-10</td><td>4</td><td>6</td></tr>",
                            "<tr><td>andras21</td><td>Molnár András</td><td>2016-07-20</td><td>2016-07-22</td><td>1</td><td>NULL</td></tr>",
                            "<tr><td>andras21</td><td>Molnár András</td><td>2016-06-21</td><td>2016-06-26</td><td>2</td><td>1</td></tr>",
                            "<tr><td>andras21</td><td>Molnár András</td><td>2016-07-04</td><td>2016-07-05</td><td>3</td><td>3</td></tr>",
                            "<tr><td>andras21</td><td>Molnár András</td><td>2016-10-01</td><td>2016-10-06</td><td>3</td><td>6</td></tr>",
                            "<tr><td>andras21</td><td>Molnár András</td><td>2016-10-04</td><td>2016-10-11</td><td>3</td><td>8</td></tr>",
                            "<tr><td>andras21</td><td>Molnár András</td><td>2016-11-23</td><td>2016-11-24</td><td>4</td><td>9</td></tr>",
                            "<tr><td>andras21</td><td>Molnár András</td><td>2017-01-28</td><td>2017-02-01</td><td>2</td><td>10</td></tr>",
                            "<tr><td>andras3</td><td>Vígh András</td><td>2016-05-01</td><td>2016-05-06</td><td>2</td><td>NULL</td></tr>",
                            "<tr><td>andras3</td><td>Vígh András</td><td>2016-07-15</td><td>2016-07-19</td><td>3</td><td>2</td></tr>",
                            "<tr><td>andras3</td><td>Vígh András</td><td>2016-07-21</td><td>2016-07-23</td><td>2</td><td>5</td></tr>",
                            "<tr><td>andras3</td><td>Vígh András</td><td>2016-08-29</td><td>2016-09-02</td><td>3</td><td>7</td></tr>",
                            "<tr><td>andras3</td><td>Vígh András</td><td>2016-05-30</td><td>2016-06-03</td><td>1</td><td>8</td></tr>",
                            "<tr><td>andras3</td><td>Vígh András</td><td>2016-06-10</td><td>2016-06-11</td><td>1</td><td>6</td></tr>",
                            "<tr><td>andras3</td><td>Vígh András</td><td>2016-11-28</td><td>2016-12-02</td><td>2</td><td>5</td></tr>",
                            "<tr><td>andras3</td><td>Vígh András</td><td>2017-02-02</td><td>2017-02-08</td><td>2</td><td>4</td></tr>",
                            "<tr><td>andras4</td><td>Back András</td><td>2016-09-17</td><td>2016-09-20</td><td>2</td><td>NULL</td></tr>",
                            "<tr><td>andras4</td><td>Back András</td><td>2016-11-25</td><td>2016-11-28</td><td>2</td><td>2</td></tr>",
                            "<tr><td>andras4</td><td>Back András</td><td>2017-01-09</td><td>2017-01-10</td><td>2</td><td>4</td></tr>",
                            "<tr><td>andras41</td><td>Komjáti András</td><td>2016-05-14</td><td>2016-05-16</td><td>2</td><td>NULL</td></tr>",
                            "<tr><td>andras41</td><td>Komjáti András</td><td>2016-05-21</td><td>2016-05-23</td><td>4</td><td>2</td></tr>",
                            "<tr><td>andras41</td><td>Komjáti András</td><td>2016-07-28</td><td>2016-08-03</td><td>3</td><td>6</td></tr>",
                            "<tr><td>andras41</td><td>Komjáti András</td><td>2016-08-17</td><td>2016-08-21</td><td>3</td><td>9</td></tr>",
                            "<tr><td>andras41</td><td>Komjáti András</td><td>2016-08-19</td><td>2016-08-23</td><td>1</td><td>10</td></tr>",
                            "<tr><td>andras41</td><td>Komjáti András</td><td>2016-06-07</td><td>2016-06-11</td><td>3</td><td>7</td></tr>",
                            "<tr><td>andras41</td><td>Komjáti András</td><td>2016-06-23</td><td>2016-06-29</td><td>2</td><td>7</td></tr>",
                            "<tr><td>andras41</td><td>Komjáti András</td><td>2016-09-22</td><td>2016-09-29</td><td>1</td><td>6</td></tr>",
                            "<tr><td>andras41</td><td>Komjáti András</td><td>2016-09-30</td><td>2016-10-05</td><td>2</td><td>6</td></tr>",
                            "<tr><td>andras41</td><td>Komjáti András</td><td>2016-10-09</td><td>2016-10-13</td><td>2</td><td>5</td></tr>",
                            "<tr><td>andras41</td><td>Komjáti András</td><td>2016-10-15</td><td>2016-10-18</td><td>3</td><td>5</td></tr>",
                            "<tr><td>andras41</td><td>Komjáti András</td><td>2016-11-20</td><td>2016-11-24</td><td>3</td><td>7</td></tr>",
                            "<tr><td>andras41</td><td>Komjáti András</td><td>2016-11-23</td><td>2016-11-24</td><td>1</td><td>8</td></tr>",
                            "<tr><td>ANDRASE</td><td>Erdei András</td><td>2016-04-24</td><td>2016-05-01</td><td>1</td><td>NULL</td></tr>",
                            "<tr><td>ANDRASE</td><td>Erdei András</td><td>2016-08-16</td><td>2016-08-20</td><td>2</td><td>1</td></tr>",
                            "<tr><td>ANDRASE</td><td>Erdei András</td><td>2016-07-06</td><td>2016-07-07</td><td>2</td><td>3</td></tr>",
                            "<tr><td>ANDRASE</td><td>Erdei András</td><td>2016-11-19</td><td>2016-11-20</td><td>4</td><td>5</td></tr>",
                            "<tr><td>ANDRASE</td><td>Erdei András</td><td>2016-11-29</td><td>2016-12-06</td><td>3</td><td>8</td></tr>",
                            "<tr><td>ANDRASN</td><td>Nagy András</td><td>2016-11-25</td><td>2016-12-01</td><td>2</td><td>NULL</td></tr>",
                            "<tr><td>andrea</td><td>Kiss Andrea</td><td>2016-07-27</td><td>2016-07-28</td><td>2</td><td>NULL</td></tr>",
                            "<tr><td>andrea</td><td>Kiss Andrea</td><td>2016-08-01</td><td>2016-08-02</td><td>2</td><td>2</td></tr>",
                            "<tr><td>andrea</td><td>Kiss Andrea</td><td>2016-08-23</td><td>2016-08-26</td><td>3</td><td>4</td></tr>",
                            "<tr><td>andrea</td><td>Kiss Andrea</td><td>2016-08-26</td><td>2016-08-30</td><td>2</td><td>7</td></tr>",
                            "<tr><td>andrea</td><td>Kiss Andrea</td><td>2016-10-21</td><td>2016-10-27</td><td>4</td><td>7</td></tr>",
                            "<tr><td>andrea</td><td>Kiss Andrea</td><td>2017-02-09</td><td>2017-02-14</td><td>2</td><td>9</td></tr>",
                            "<tr><td>andrea3</td><td>Szomor Andrea</td><td>2016-11-19</td><td>2016-11-21</td><td>3</td><td>NULL</td></tr>",
                            "<tr><td>andrea4</td><td>Neizer Andrea</td><td>2016-05-27</td><td>2016-05-29</td><td>1</td><td>NULL</td></tr>",
                            "<tr><td>andrea4</td><td>Neizer Andrea</td><td>2016-09-13</td><td>2016-09-17</td><td>2</td><td>1</td></tr>",
                            "<tr><td>andrea4</td><td>Neizer Andrea</td><td>2016-10-30</td><td>2016-11-06</td><td>3</td><td>3</td></tr>",
                            "<tr><td>andrea4</td><td>Neizer Andrea</td><td>2017-01-22</td><td>2017-01-29</td><td>2</td><td>6</td></tr>",
                            "<tr><td>ANDREAT</td><td>Tornyos Andrea</td><td>2016-07-27</td><td>2016-08-01</td><td>2</td><td>NULL</td></tr>",
                            "<tr><td>ANDREAT</td><td>Tornyos Andrea</td><td>2016-09-15</td><td>2016-09-16</td><td>2</td><td>2</td></tr>",
                            "<tr><td>ANDREAT</td><td>Tornyos Andrea</td><td>2016-10-08</td><td>2016-10-12</td><td>3</td><td>4</td></tr>",
                            "<tr><td>anett3</td><td>Pivarcsi Anett</td><td>2016-04-10</td><td>2016-04-17</td><td>1</td><td>NULL</td></tr>",
                            "<tr><td>anett3</td><td>Pivarcsi Anett</td><td>2016-04-13</td><td>2016-04-19</td><td>3</td><td>1</td></tr>",
                            "<tr><td>anett3</td><td>Pivarcsi Anett</td><td>2016-04-15</td><td>2016-04-19</td><td>3</td><td>4</td></tr>",
                            "<tr><td>anett3</td><td>Pivarcsi Anett</td><td>2016-04-28</td><td>2016-05-02</td><td>3</td><td>7</td></tr>",
                            "<tr><td>anett3</td><td>Pivarcsi Anett</td><td>2016-08-15</td><td>2016-08-16</td><td>2</td><td>9</td></tr>",
                            "<tr><td>anett3</td><td>Pivarcsi Anett</td><td>2016-08-17</td><td>2016-08-23</td><td>3</td><td>8</td></tr>",
                            "<tr><td>anett3</td><td>Pivarcsi Anett</td><td>2016-10-12</td><td>2016-10-19</td><td>3</td><td>8</td></tr>",
                            "<tr><td>anett3</td><td>Pivarcsi Anett</td><td>2016-10-16</td><td>2016-10-21</td><td>1</td><td>8</td></tr>",
                            "<tr><td>aniko</td><td>Tóth Anikó</td><td>2016-06-25</td><td>2016-06-30</td><td>3</td><td>NULL</td></tr>",
                            "<tr><td>aniko</td><td>Tóth Anikó</td><td>2017-02-12</td><td>2017-02-14</td><td>3</td><td>3</td></tr>",
                            "<tr><td>aniko</td><td>Tóth Anikó</td><td>2017-02-23</td><td>2017-02-24</td><td>2</td><td>6</td></tr>",
                            "<tr><td>aniko4</td><td>Böröcz Anikó</td><td>2016-07-22</td><td>2016-07-25</td><td>3</td><td>NULL</td></tr>",
                            "<tr><td>aniko4</td><td>Böröcz Anikó</td><td>2016-07-02</td><td>2016-07-09</td><td>1</td><td>3</td></tr>",
                            "<tr><td>aniko4</td><td>Böröcz Anikó</td><td>2016-09-05</td><td>2016-09-07</td><td>4</td><td>4</td></tr>",
                            "<tr><td>aniko4</td><td>Böröcz Anikó</td><td>2016-10-16</td><td>2016-10-18</td><td>3</td><td>8</td></tr>",
                            "<tr><td>ANIKOS</td><td>Simon Anikó</td><td>2016-04-19</td><td>2016-04-24</td><td>2</td><td>NULL</td></tr>",
                            "<tr><td>ANIKOS</td><td>Simon Anikó</td><td>2016-07-17</td><td>2016-07-22</td><td>3</td><td>2</td></tr>",
                            "<tr><td>ANIKOS</td><td>Simon Anikó</td><td>2016-08-26</td><td>2016-09-02</td><td>2</td><td>5</td></tr>",
                            "<tr><td>ANIKOS</td><td>Simon Anikó</td><td>2016-05-24</td><td>2016-05-25</td><td>3</td><td>7</td></tr>",
                            "<tr><td>ANIKOS</td><td>Simon Anikó</td><td>2016-06-16</td><td>2016-06-23</td><td>1</td><td>8</td></tr>",
                            "<tr><td>ANIKOS</td><td>Simon Anikó</td><td>2016-06-27</td><td>2016-06-30</td><td>2</td><td>6</td></tr>",
                            "<tr><td>ANIKOS</td><td>Simon Anikó</td><td>2016-10-08</td><td>2016-10-14</td><td>2</td><td>6</td></tr>",
                            "<tr><td>ANIKOS</td><td>Simon Anikó</td><td>2016-10-29</td><td>2016-11-05</td><td>3</td><td>5</td></tr>",
                            "<tr><td>ANIKOS</td><td>Simon Anikó</td><td>2016-11-10</td><td>2016-11-15</td><td>2</td><td>7</td></tr>",
                            "<tr><td>anita</td><td>Hamvay-Kovács Anita</td><td>2016-09-28</td><td>2016-10-02</td><td>4</td><td>NULL</td></tr>",
                            "<tr><td>anita</td><td>Hamvay-Kovács Anita</td><td>2016-10-01</td><td>2016-10-04</td><td>2</td><td>4</td></tr>",
                            "<tr><td>anita</td><td>Hamvay-Kovács Anita</td><td>2017-02-19</td><td>2017-02-22</td><td>2</td><td>6</td></tr>",
                            "<tr><td>anita</td><td>Hamvay-Kovács Anita</td><td>2017-02-20</td><td>2017-02-25</td><td>2</td><td>8</td></tr>",
                            "<tr><td>annamaria1</td><td>Szűcs Annamária</td><td>2016-06-06</td><td>2016-06-07</td><td>3</td><td>NULL</td></tr>",
                            "<tr><td>annamaria1</td><td>Szűcs Annamária</td><td>2017-01-30</td><td>2017-01-31</td><td>4</td><td>3</td></tr>",
                            "<tr><td>ANNAMARIAR</td><td>Regős Annamária</td><td>2016-07-18</td><td>2016-07-21</td><td>1</td><td>NULL</td></tr>",
                            "<tr><td>ANNAMARIAR</td><td>Regős Annamária</td><td>2016-06-08</td><td>2016-06-11</td><td>2</td><td>1</td></tr>",
                            "<tr><td>ANNAMARIAR</td><td>Regős Annamária</td><td>2016-09-23</td><td>2016-09-27</td><td>2</td><td>3</td></tr>",
                            "<tr><td>ANNAMARIAR</td><td>Regős Annamária</td><td>2016-11-11</td><td>2016-11-12</td><td>3</td><td>5</td></tr>",
                            "<tr><td>ANNAMARIAR</td><td>Regős Annamária</td><td>2017-01-10</td><td>2017-01-13</td><td>2</td><td>7</td></tr>",
                            "<tr><td>ANNAMARIAR</td><td>Regős Annamária</td><td>2017-02-16</td><td>2017-02-18</td><td>2</td><td>7</td></tr>",
                            "<tr><td>aron2</td><td>Jakab Áron</td><td>2016-04-11</td><td>2016-04-12</td><td>3</td><td>NULL</td></tr>",
                            "<tr><td>aron2</td><td>Jakab Áron</td><td>2016-07-04</td><td>2016-07-06</td><td>3</td><td>3</td></tr>",
                            "<tr><td>aron2</td><td>Jakab Áron</td><td>2016-10-23</td><td>2016-10-27</td><td>2</td><td>6</td></tr>",
                            "<tr><td>aron2</td><td>Jakab Áron</td><td>2016-11-05</td><td>2016-11-09</td><td>2</td><td>8</td></tr>",
                            "<tr><td>aron2</td><td>Jakab Áron</td><td>2017-01-17</td><td>2017-01-18</td><td>3</td><td>7</td></tr>",
                            "<tr><td>aron2</td><td>Jakab Áron</td><td>2017-02-26</td><td>2017-02-27</td><td>3</td><td>7</td></tr>",
                            "<tr><td>ARONK</td><td>Kelemen Áron</td><td>2016-04-06</td><td>2016-04-08</td><td>2</td><td>NULL</td></tr>",
                            "<tr><td>ARONK</td><td>Kelemen Áron</td><td>2016-05-14</td><td>2016-05-20</td><td>4</td><td>2</td></tr>",
                            "<tr><td>ARONK</td><td>Kelemen Áron</td><td>2016-08-05</td><td>2016-08-08</td><td>4</td><td>6</td></tr>",
                            "<tr><td>ARONK</td><td>Kelemen Áron</td><td>2016-06-04</td><td>2016-06-09</td><td>2</td><td>10</td></tr>",
                            "<tr><td>ARONK</td><td>Kelemen Áron</td><td>2016-06-07</td><td>2016-06-13</td><td>3</td><td>10</td></tr>",
                            "<tr><td>ARONK</td><td>Kelemen Áron</td><td>2016-07-03</td><td>2016-07-07</td><td>2</td><td>9</td></tr>",
                            "<tr><td>ARONK</td><td>Kelemen Áron</td><td>2016-09-08</td><td>2016-09-15</td><td>2</td><td>7</td></tr>",
                            "<tr><td>ARONK</td><td>Kelemen Áron</td><td>2016-11-03</td><td>2016-11-10</td><td>2</td><td>7</td></tr>",
                            "<tr><td>ARONK</td><td>Kelemen Áron</td><td>2016-11-05</td><td>2016-11-07</td><td>2</td><td>6</td></tr>",
                            "<tr><td>ARONK</td><td>Kelemen Áron</td><td>2016-12-07</td><td>2016-12-12</td><td>3</td><td>6</td></tr>",
                            "<tr><td>ARONK</td><td>Kelemen Áron</td><td>2017-01-01</td><td>2017-01-03</td><td>2</td><td>7</td></tr>",
                            "<tr><td>ARONK</td><td>Kelemen Áron</td><td>2017-01-30</td><td>2017-02-03</td><td>2</td><td>7</td></tr>",
                            "<tr><td>ARONK</td><td>Kelemen Áron</td><td>2017-02-21</td><td>2017-02-23</td><td>2</td><td>7</td></tr>",
                            "<tr><td>arpad2</td><td>Ötvös Árpád</td><td>2016-08-23</td><td>2016-08-25</td><td>2</td><td>NULL</td></tr>",
                            "<tr><td>arpad2</td><td>Ötvös Árpád</td><td>2016-06-05</td><td>2016-06-07</td><td>2</td><td>2</td></tr>",
                            "<tr><td>arpad2</td><td>Ötvös Árpád</td><td>2016-09-28</td><td>2016-09-30</td><td>2</td><td>4</td></tr>",
                            "<tr><td>arpad2</td><td>Ötvös Árpád</td><td>2016-10-13</td><td>2016-10-19</td><td>3</td><td>6</td></tr>",
                            "<tr><td>arpad2</td><td>Ötvös Árpád</td><td>2016-11-06</td><td>2016-11-10</td><td>2</td><td>7</td></tr>",
                            "<tr><td>arpad2</td><td>Ötvös Árpád</td><td>2016-12-24</td><td>2016-12-27</td><td>3</td><td>7</td></tr>",
                            "<tr><td>arpad2</td><td>Ötvös Árpád</td><td>2017-02-18</td><td>2017-02-19</td><td>4</td><td>8</td></tr>",
                            "<tr><td>ARPADH</td><td>Horváth Árpád</td><td>2016-07-14</td><td>2016-07-18</td><td>2</td><td>NULL</td></tr>",
                            "<tr><td>ARPADH</td><td>Horváth Árpád</td><td>2016-06-06</td><td>2016-06-07</td><td>3</td><td>2</td></tr>",
                            "<tr><td>ARPADH</td><td>Horváth Árpád</td><td>2016-09-16</td><td>2016-09-23</td><td>1</td><td>5</td></tr>",
                            "<tr><td>ARPADH</td><td>Horváth Árpád</td><td>2016-09-18</td><td>2016-09-25</td><td>1</td><td>6</td></tr>",
                            "<tr><td>ARPADH</td><td>Horváth Árpád</td><td>2016-12-04</td><td>2016-12-10</td><td>1</td><td>5</td></tr>",
                            "<tr><td>ARPADH</td><td>Horváth Árpád</td><td>2016-12-18</td><td>2016-12-19</td><td>3</td><td>3</td></tr>",
                            "<tr><td>ARPADH</td><td>Horváth Árpád</td><td>2017-02-16</td><td>2017-02-18</td><td>2</td><td>5</td></tr>",
                            "<tr><td>ARPADM</td><td>Móricz Árpád</td><td>2016-08-12</td><td>2016-08-16</td><td>2</td><td>NULL</td></tr>",
                            "<tr><td>ARPADM</td><td>Móricz Árpád</td><td>2016-05-29</td><td>2016-06-01</td><td>2</td><td>2</td></tr>",
                            "<tr><td>ARPADM</td><td>Móricz Árpád</td><td>2016-11-09</td><td>2016-11-11</td><td>2</td><td>4</td></tr>",
                            "<tr><td>ARPADM</td><td>Móricz Árpád</td><td>2016-12-14</td><td>2016-12-17</td><td>3</td><td>6</td></tr>",
                            "<tr><td>ARPADM</td><td>Móricz Árpád</td><td>2017-01-05</td><td>2017-01-10</td><td>1</td><td>7</td></tr>",
                            "<tr><td>ARPADM</td><td>Móricz Árpád</td><td>2017-02-12</td><td>2017-02-14</td><td>3</td><td>6</td></tr>",
                            "<tr><td>attila</td><td>Csóti Attila</td><td>2016-09-30</td><td>2016-10-07</td><td>3</td><td>NULL</td></tr>",
                            "<tr><td>attila</td><td>Csóti Attila</td><td>2016-10-15</td><td>2016-10-19</td><td>1</td><td>3</td></tr>",
                            "<tr><td>attila</td><td>Csóti Attila</td><td>2016-12-22</td><td>2016-12-26</td><td>2</td><td>4</td></tr>",
                            "<tr><td>attila1</td><td>Gulyás Attila</td><td>2016-05-20</td><td>2016-05-26</td><td>1</td><td>NULL</td></tr>",
                            "<tr><td>attila1</td><td>Gulyás Attila</td><td>2016-10-09</td><td>2016-10-12</td><td>2</td><td>1</td></tr>",
                            "<tr><td>attila1</td><td>Gulyás Attila</td><td>2016-10-15</td><td>2016-10-16</td><td>3</td><td>3</td></tr>",
                            "<tr><td>attila1</td><td>Gulyás Attila</td><td>2016-10-30</td><td>2016-11-05</td><td>2</td><td>6</td></tr>",
                            "<tr><td>attila1</td><td>Gulyás Attila</td><td>2016-11-10</td><td>2016-11-14</td><td>2</td><td>7</td></tr>",
                            "<tr><td>attila1</td><td>Gulyás Attila</td><td>2017-01-23</td><td>2017-01-30</td><td>4</td><td>7</td></tr>",
                            "<tr><td>attila4</td><td>Baróti Attila</td><td>2016-08-18</td><td>2016-08-23</td><td>4</td><td>NULL</td></tr>",
                            "<tr><td>attila4</td><td>Baróti Attila</td><td>2016-12-31</td><td>2017-01-01</td><td>2</td><td>4</td></tr>",
                            "<tr><td>attila4</td><td>Baróti Attila</td><td>2017-02-15</td><td>2017-02-22</td><td>2</td><td>6</td></tr>",
                            "<tr><td>ATTILAO</td><td>Opra Attila</td><td>2016-05-21</td><td>2016-05-26</td><td>3</td><td>NULL</td></tr>",
                            "<tr><td>ATTILAO</td><td>Opra Attila</td><td>2016-06-04</td><td>2016-06-11</td><td>3</td><td>3</td></tr>",
                            "<tr><td>ATTILAO</td><td>Opra Attila</td><td>2016-10-30</td><td>2016-11-03</td><td>2</td><td>6</td></tr>",
                            "<tr><td>ATTILAO</td><td>Opra Attila</td><td>2017-02-22</td><td>2017-02-25</td><td>3</td><td>8</td></tr>",
                            "<tr><td>balazs1</td><td>Bozsik Balázs</td><td>2016-05-07</td><td>2016-05-14</td><td>2</td><td>NULL</td></tr>",
                            "<tr><td>balazs1</td><td>Bozsik Balázs</td><td>2016-07-22</td><td>2016-07-26</td><td>4</td><td>2</td></tr>",
                            "<tr><td>balazs1</td><td>Bozsik Balázs</td><td>2016-12-26</td><td>2016-12-28</td><td>3</td><td>6</td></tr>",
                            "<tr><td>balazs1</td><td>Bozsik Balázs</td><td>2017-01-01</td><td>2017-01-05</td><td>2</td><td>9</td></tr>",
                            "<tr><td>balazs1</td><td>Bozsik Balázs</td><td>2017-02-10</td><td>2017-02-14</td><td>3</td><td>9</td></tr>",
                            "<tr><td>balazs1</td><td>Bozsik Balázs</td><td>2017-02-12</td><td>2017-02-14</td><td>2</td><td>8</td></tr>",
                            "<tr><td>balazs2</td><td>Szűcs Balázs</td><td>2016-04-16</td><td>2016-04-19</td><td>2</td><td>NULL</td></tr>",
                            "<tr><td>balazs2</td><td>Szűcs Balázs</td><td>2016-07-20</td><td>2016-07-25</td><td>2</td><td>2</td></tr>",
                            "<tr><td>balazs2</td><td>Szűcs Balázs</td><td>2016-08-21</td><td>2016-08-22</td><td>3</td><td>4</td></tr>",
                            "<tr><td>balazs2</td><td>Szűcs Balázs</td><td>2016-05-22</td><td>2016-05-29</td><td>3</td><td>7</td></tr>",
                            "<tr><td>balazs2</td><td>Szűcs Balázs</td><td>2016-05-28</td><td>2016-06-01</td><td>3</td><td>8</td></tr>",
                            "<tr><td>balazs2</td><td>Szűcs Balázs</td><td>2016-07-08</td><td>2016-07-12</td><td>3</td><td>9</td></tr>",
                            "<tr><td>balazs2</td><td>Szűcs Balázs</td><td>2016-07-10</td><td>2016-07-17</td><td>3</td><td>9</td></tr>",
                            "<tr><td>balazs2</td><td>Szűcs Balázs</td><td>2016-09-12</td><td>2016-09-14</td><td>3</td><td>9</td></tr>",
                            "<tr><td>balazs2</td><td>Szűcs Balázs</td><td>2016-11-03</td><td>2016-11-05</td><td>3</td><td>9</td></tr>",
                            "<tr><td>balazs2</td><td>Szűcs Balázs</td><td>2017-02-27</td><td>2017-03-06</td><td>1</td><td>9</td></tr>",
                            "<tr><td>balazs3</td><td>Bakódy Balázs</td><td>2016-07-17</td><td>2016-07-21</td><td>2</td><td>NULL</td></tr>",
                            "<tr><td>balazs3</td><td>Bakódy Balázs</td><td>2016-07-27</td><td>2016-07-31</td><td>4</td><td>2</td></tr>",
                            "<tr><td>balazs3</td><td>Bakódy Balázs</td><td>2016-08-24</td><td>2016-08-28</td><td>3</td><td>6</td></tr>",
                            "<tr><td>balazs3</td><td>Bakódy Balázs</td><td>2016-09-15</td><td>2016-09-16</td><td>3</td><td>9</td></tr>",
                            "<tr><td>balazs3</td><td>Bakódy Balázs</td><td>2016-12-05</td><td>2016-12-11</td><td>3</td><td>10</td></tr>",
                            "<tr><td>balazs3</td><td>Bakódy Balázs</td><td>2017-01-20</td><td>2017-01-22</td><td>2</td><td>9</td></tr>",
                            "<tr><td>balint</td><td>Horváth Bálint</td><td>2016-04-22</td><td>2016-04-29</td><td>2</td><td>NULL</td></tr>",
                            "<tr><td>balint</td><td>Horváth Bálint</td><td>2016-10-09</td><td>2016-10-11</td><td>2</td><td>2</td></tr>",
                            "<tr><td>balint</td><td>Horváth Bálint</td><td>2016-11-24</td><td>2016-11-29</td><td>3</td><td>4</td></tr>",
                            "<tr><td>balint1</td><td>Molnár Bálint</td><td>2016-07-26</td><td>2016-07-28</td><td>2</td><td>NULL</td></tr>",
                            "<tr><td>balint1</td><td>Molnár Bálint</td><td>2016-08-03</td><td>2016-08-08</td><td>2</td><td>2</td></tr>",
                            "<tr><td>balint1</td><td>Molnár Bálint</td><td>2016-06-07</td><td>2016-06-12</td><td>3</td><td>4</td></tr>",
                            "<tr><td>balint1</td><td>Molnár Bálint</td><td>2016-06-07</td><td>2016-06-11</td><td>3</td><td>7</td></tr>",
                            "<tr><td>balint1</td><td>Molnár Bálint</td><td>2016-06-10</td><td>2016-06-12</td><td>1</td><td>8</td></tr>",
                            "<tr><td>balint1</td><td>Molnár Bálint</td><td>2016-09-16</td><td>2016-09-21</td><td>1</td><td>7</td></tr>",
                            "<tr><td>balint1</td><td>Molnár Bálint</td><td>2016-11-07</td><td>2016-11-10</td><td>2</td><td>5</td></tr>",
                            "<tr><td>balint1</td><td>Molnár Bálint</td><td>2016-12-17</td><td>2016-12-22</td><td>3</td><td>4</td></tr>",
                            "<tr><td>balint1</td><td>Molnár Bálint</td><td>2016-12-29</td><td>2016-12-31</td><td>3</td><td>6</td></tr>",
                            "<tr><td>balint1</td><td>Molnár Bálint</td><td>2017-01-03</td><td>2017-01-08</td><td>2</td><td>8</td></tr>",
                            "<tr><td>balint2</td><td>Vukasinovity Bálint</td><td>2016-07-21</td><td>2016-07-26</td><td>1</td><td>NULL</td></tr>",
                            "<tr><td>balint2</td><td>Vukasinovity Bálint</td><td>2016-12-04</td><td>2016-12-06</td><td>3</td><td>1</td></tr>",
                            "<tr><td>balu</td><td>Endresz Bálint</td><td>2016-08-06</td><td>2016-08-10</td><td>2</td><td>NULL</td></tr>",
                            "<tr><td>balu</td><td>Endresz Bálint</td><td>2016-12-22</td><td>2016-12-23</td><td>2</td><td>2</td></tr>",
                            "<tr><td>beata4</td><td>Bagi Beáta</td><td>2016-04-20</td><td>2016-04-21</td><td>2</td><td>NULL</td></tr>",
                            "<tr><td>beata4</td><td>Bagi Beáta</td><td>2016-08-25</td><td>2016-08-27</td><td>3</td><td>2</td></tr>",
                            "<tr><td>beata4</td><td>Bagi Beáta</td><td>2016-06-03</td><td>2016-06-04</td><td>2</td><td>5</td></tr>",
                            "<tr><td>beata4</td><td>Bagi Beáta</td><td>2016-07-03</td><td>2016-07-06</td><td>1</td><td>7</td></tr>",
                            "<tr><td>beata4</td><td>Bagi Beáta</td><td>2016-10-01</td><td>2016-10-05</td><td>1</td><td>6</td></tr>",
                            "<tr><td>beata4</td><td>Bagi Beáta</td><td>2016-10-03</td><td>2016-10-06</td><td>3</td><td>4</td></tr>",
                            "<tr><td>BEATRIXK</td><td>Kerényi Beatrix</td><td>2016-08-12</td><td>2016-08-18</td><td>4</td><td>NULL</td></tr>",
                            "<tr><td>BEATRIXK</td><td>Kerényi Beatrix</td><td>2016-06-10</td><td>2016-06-11</td><td>2</td><td>4</td></tr>",
                            "<tr><td>BEATRIXK</td><td>Kerényi Beatrix</td><td>2016-06-10</td><td>2016-06-14</td><td>2</td><td>6</td></tr>",
                            "<tr><td>BEATRIXK</td><td>Kerényi Beatrix</td><td>2016-06-19</td><td>2016-06-21</td><td>3</td><td>8</td></tr>",
                            "<tr><td>BEATRIXK</td><td>Kerényi Beatrix</td><td>2016-10-23</td><td>2016-10-28</td><td>2</td><td>7</td></tr>",
                            "<tr><td>BEATRIXK</td><td>Kerényi Beatrix</td><td>2016-11-14</td><td>2016-11-19</td><td>2</td><td>7</td></tr>",
                            "<tr><td>BEATRIXK</td><td>Kerényi Beatrix</td><td>2016-12-12</td><td>2016-12-14</td><td>3</td><td>7</td></tr>",
                            "<tr><td>BEATRIXK</td><td>Kerényi Beatrix</td><td>2016-12-17</td><td>2016-12-22</td><td>4</td><td>7</td></tr>",
                            "<tr><td>BEATRIXK</td><td>Kerényi Beatrix</td><td>2017-02-08</td><td>2017-02-09</td><td>3</td><td>9</td></tr>",
                            "<tr><td>BEATRIXS</td><td>Szekendi Beatrix</td><td>2016-04-18</td><td>2016-04-24</td><td>1</td><td>NULL</td></tr>",
                            "<tr><td>BEATRIXS</td><td>Szekendi Beatrix</td><td>2016-06-11</td><td>2016-06-14</td><td>3</td><td>1</td></tr>",
                            "<tr><td>BEATRIXS</td><td>Szekendi Beatrix</td><td>2016-10-01</td><td>2016-10-03</td><td>3</td><td>4</td></tr>",
                            "<tr><td>BEATRIXS</td><td>Szekendi Beatrix</td><td>2016-10-01</td><td>2016-10-05</td><td>3</td><td>7</td></tr>",
                            "<tr><td>BEATRIXS</td><td>Szekendi Beatrix</td><td>2016-12-21</td><td>2016-12-27</td><td>2</td><td>9</td></tr>",
                            "<tr><td>BEATRIXS</td><td>Szekendi Beatrix</td><td>2017-02-03</td><td>2017-02-04</td><td>2</td><td>8</td></tr>",
                            "<tr><td>BELAF</td><td>Farkas Béla</td><td>2016-07-27</td><td>2016-07-30</td><td>3</td><td>NULL</td></tr>",
                            "<tr><td>BELAF</td><td>Farkas Béla</td><td>2016-07-29</td><td>2016-07-31</td><td>2</td><td>3</td></tr>",
                            "<tr><td>BELAF</td><td>Farkas Béla</td><td>2016-08-29</td><td>2016-08-31</td><td>2</td><td>5</td></tr>",
                            "<tr><td>BELAF</td><td>Farkas Béla</td><td>2016-11-03</td><td>2016-11-09</td><td>4</td><td>7</td></tr>",
                            "<tr><td>BELAF</td><td>Farkas Béla</td><td>2016-12-02</td><td>2016-12-04</td><td>3</td><td>8</td></tr>",
                            "<tr><td>BELAF</td><td>Farkas Béla</td><td>2016-12-06</td><td>2016-12-09</td><td>1</td><td>9</td></tr>",
                            "<tr><td>bence</td><td>Győrffy Bence</td><td>2016-05-08</td><td>2016-05-11</td><td>2</td><td>NULL</td></tr>",
                            "<tr><td>bence</td><td>Győrffy Bence</td><td>2016-07-24</td><td>2016-07-30</td><td>2</td><td>2</td></tr>",
                            "<tr><td>bence</td><td>Győrffy Bence</td><td>2016-07-25</td><td>2016-08-01</td><td>3</td><td>4</td></tr>",
                            "<tr><td>bence</td><td>Győrffy Bence</td><td>2016-09-03</td><td>2016-09-06</td><td>3</td><td>7</td></tr>",
                            "<tr><td>bence</td><td>Győrffy Bence</td><td>2016-05-29</td><td>2016-06-03</td><td>1</td><td>8</td></tr>",
                            "<tr><td>bence</td><td>Győrffy Bence</td><td>2016-10-30</td><td>2016-11-02</td><td>4</td><td>7</td></tr>",
                            "<tr><td>bence</td><td>Győrffy Bence</td><td>2016-12-17</td><td>2016-12-18</td><td>2</td><td>8</td></tr>",
                            "<tr><td>bence</td><td>Győrffy Bence</td><td>2016-12-26</td><td>2016-12-27</td><td>2</td><td>7</td></tr>",
                            "<tr><td>bence</td><td>Győrffy Bence</td><td>2017-02-05</td><td>2017-02-09</td><td>3</td><td>8</td></tr>",
                            "<tr><td>BENCEB</td><td>Bajusz Bence</td><td>2016-05-14</td><td>2016-05-17</td><td>3</td><td>NULL</td></tr>",
                            "<tr><td>BENCEB</td><td>Bajusz Bence</td><td>2016-08-01</td><td>2016-08-02</td><td>2</td><td>3</td></tr>",
                            "<tr><td>BENCEB</td><td>Bajusz Bence</td><td>2016-06-03</td><td>2016-06-09</td><td>2</td><td>5</td></tr>",
                            "<tr><td>BENCEB</td><td>Bajusz Bence</td><td>2016-10-22</td><td>2016-10-29</td><td>3</td><td>7</td></tr>",
                            "<tr><td>BENCEB</td><td>Bajusz Bence</td><td>2016-11-28</td><td>2016-12-02</td><td>2</td><td>7</td></tr>",
                            "<tr><td>BENCEB</td><td>Bajusz Bence</td><td>2017-02-12</td><td>2017-02-19</td><td>3</td><td>7</td></tr>",
                            "<tr><td>bernadett1</td><td>Simon Bernadett</td><td>2016-06-12</td><td>2016-06-17</td><td>3</td><td>NULL</td></tr>",
                            "<tr><td>bernadett1</td><td>Simon Bernadett</td><td>2016-10-08</td><td>2016-10-09</td><td>4</td><td>3</td></tr>",
                            "<tr><td>bernadett1</td><td>Simon Bernadett</td><td>2016-10-15</td><td>2016-10-22</td><td>3</td><td>7</td></tr>",
                            "<tr><td>bernadett1</td><td>Simon Bernadett</td><td>2016-10-26</td><td>2016-11-02</td><td>3</td><td>10</td></tr>",
                            "<tr><td>bernadett1</td><td>Simon Bernadett</td><td>2016-10-28</td><td>2016-11-01</td><td>3</td><td>10</td></tr>",
                            "<tr><td>bernadett1</td><td>Simon Bernadett</td><td>2017-02-14</td><td>2017-02-15</td><td>3</td><td>9</td></tr>",
                            "<tr><td>bernadett1</td><td>Simon Bernadett</td><td>2017-02-24</td><td>2017-03-03</td><td>1</td><td>9</td></tr>",
                            "<tr><td>bernadett2</td><td>Kovács Bernadett</td><td>2016-05-01</td><td>2016-05-03</td><td>2</td><td>NULL</td></tr>",
                            "<tr><td>bernadett2</td><td>Kovács Bernadett</td><td>2016-08-23</td><td>2016-08-29</td><td>2</td><td>2</td></tr>",
                            "<tr><td>bernadett2</td><td>Kovács Bernadett</td><td>2016-08-25</td><td>2016-08-27</td><td>3</td><td>4</td></tr>",
                            "<tr><td>bernadett2</td><td>Kovács Bernadett</td><td>2016-06-17</td><td>2016-06-23</td><td>3</td><td>7</td></tr>",
                            "<tr><td>bernadett2</td><td>Kovács Bernadett</td><td>2016-09-07</td><td>2016-09-13</td><td>3</td><td>8</td></tr>",
                            "<tr><td>bernadett2</td><td>Kovács Bernadett</td><td>2016-10-30</td><td>2016-11-06</td><td>3</td><td>9</td></tr>",
                            "<tr><td>bernadett2</td><td>Kovács Bernadett</td><td>2016-12-17</td><td>2016-12-20</td><td>1</td><td>9</td></tr>",
                            "<tr><td>bernadett2</td><td>Kovács Bernadett</td><td>2017-01-24</td><td>2017-01-30</td><td>3</td><td>7</td></tr>",
                            "<tr><td>BERNADETTO</td><td>Orbán Bernadett</td><td>2016-04-10</td><td>2016-04-17</td><td>2</td><td>NULL</td></tr>",
                            "<tr><td>BERNADETTO</td><td>Orbán Bernadett</td><td>2016-04-17</td><td>2016-04-19</td><td>2</td><td>2</td></tr>",
                            "<tr><td>BERNADETTO</td><td>Orbán Bernadett</td><td>2016-06-07</td><td>2016-06-13</td><td>3</td><td>4</td></tr>",
                            "<tr><td>BERNADETTO</td><td>Orbán Bernadett</td><td>2016-06-10</td><td>2016-06-16</td><td>4</td><td>7</td></tr>",
                            "<tr><td>BERNADETTO</td><td>Orbán Bernadett</td><td>2016-10-04</td><td>2016-10-05</td><td>2</td><td>9</td></tr>",
                            "<tr><td>BERNADETTO</td><td>Orbán Bernadett</td><td>2017-01-01</td><td>2017-01-02</td><td>3</td><td>9</td></tr>",
                            "<tr><td>BERNADETTO</td><td>Orbán Bernadett</td><td>2017-01-28</td><td>2017-02-03</td><td>2</td><td>9</td></tr>",
                            "<tr><td>bertalan</td><td>Csiger Bertalan</td><td>2016-05-18</td><td>2016-05-23</td><td>2</td><td>NULL</td></tr>",
                            "<tr><td>bertalan</td><td>Csiger Bertalan</td><td>2016-06-20</td><td>2016-06-21</td><td>1</td><td>2</td></tr>",
                            "<tr><td>bertalan</td><td>Csiger Bertalan</td><td>2016-11-03</td><td>2016-11-10</td><td>2</td><td>3</td></tr>",
                            "<tr><td>bertalan</td><td>Csiger Bertalan</td><td>2016-11-26</td><td>2016-11-29</td><td>3</td><td>5</td></tr>",
                            "<tr><td>bertalan</td><td>Csiger Bertalan</td><td>2017-02-16</td><td>2017-02-22</td><td>2</td><td>6</td></tr>",
                            "<tr><td>bertalan</td><td>Csiger Bertalan</td><td>2017-02-20</td><td>2017-02-24</td><td>4</td><td>7</td></tr>",
                            "<tr><td>brigitta</td><td>Székely Brigitta</td><td>2016-08-28</td><td>2016-09-01</td><td>3</td><td>NULL</td></tr>",
                            "<tr><td>brigitta</td><td>Székely Brigitta</td><td>2016-05-30</td><td>2016-06-06</td><td>3</td><td>3</td></tr>",
                            "<tr><td>brigitta</td><td>Székely Brigitta</td><td>2016-10-21</td><td>2016-10-28</td><td>3</td><td>6</td></tr>",
                            "<tr><td>brigitta</td><td>Székely Brigitta</td><td>2016-12-17</td><td>2016-12-22</td><td>2</td><td>9</td></tr>",
                            "<tr><td>brigitta</td><td>Székely Brigitta</td><td>2017-01-23</td><td>2017-01-25</td><td>1</td><td>8</td></tr>",
                            "<tr><td>brigitta3</td><td>Pataki Brigitta</td><td>2016-06-01</td><td>2016-06-05</td><td>2</td><td>NULL</td></tr>",
                            "<tr><td>brigitta3</td><td>Pataki Brigitta</td><td>2016-06-13</td><td>2016-06-17</td><td>3</td><td>2</td></tr>",
                            "<tr><td>brigitta3</td><td>Pataki Brigitta</td><td>2016-10-10</td><td>2016-10-14</td><td>2</td><td>5</td></tr>",
                            "<tr><td>brigitta3</td><td>Pataki Brigitta</td><td>2016-11-03</td><td>2016-11-09</td><td>3</td><td>7</td></tr>",
                            "<tr><td>brigitta3</td><td>Pataki Brigitta</td><td>2017-02-09</td><td>2017-02-16</td><td>2</td><td>8</td></tr>",
                            "<tr><td>csongor3</td><td>Nagymihály Csongor</td><td>2016-05-01</td><td>2016-05-04</td><td>2</td><td>NULL</td></tr>",
                            "<tr><td>csongor3</td><td>Nagymihály Csongor</td><td>2016-05-08</td><td>2016-05-15</td><td>3</td><td>2</td></tr>",
                            "<tr><td>csongor3</td><td>Nagymihály Csongor</td><td>2016-06-04</td><td>2016-06-05</td><td>2</td><td>5</td></tr>",
                            "<tr><td>csongor3</td><td>Nagymihály Csongor</td><td>2016-06-10</td><td>2016-06-17</td><td>3</td><td>7</td></tr>",
                            "<tr><td>csongor3</td><td>Nagymihály Csongor</td><td>2016-06-11</td><td>2016-06-14</td><td>2</td><td>8</td></tr>",
                            "<tr><td>csongor3</td><td>Nagymihály Csongor</td><td>2016-07-09</td><td>2016-07-10</td><td>4</td><td>7</td></tr>",
                            "<tr><td>csongor3</td><td>Nagymihály Csongor</td><td>2016-11-12</td><td>2016-11-17</td><td>3</td><td>9</td></tr>",
                            "<tr><td>csongor3</td><td>Nagymihály Csongor</td><td>2017-02-13</td><td>2017-02-19</td><td>3</td><td>9</td></tr>",
                            "<tr><td>dani</td><td>Vörös Dániel</td><td>2016-08-06</td><td>2016-08-09</td><td>2</td><td>NULL</td></tr>",
                            "<tr><td>dani</td><td>Vörös Dániel</td><td>2016-06-06</td><td>2016-06-10</td><td>3</td><td>2</td></tr>",
                            "<tr><td>dani</td><td>Vörös Dániel</td><td>2016-07-11</td><td>2016-07-12</td><td>3</td><td>5</td></tr>",
                            "<tr><td>dani</td><td>Vörös Dániel</td><td>2016-09-19</td><td>2016-09-25</td><td>4</td><td>8</td></tr>",
                            "<tr><td>dani</td><td>Vörös Dániel</td><td>2016-10-01</td><td>2016-10-02</td><td>1</td><td>10</td></tr>",
                            "<tr><td>dani</td><td>Vörös Dániel</td><td>2016-11-22</td><td>2016-11-24</td><td>2</td><td>8</td></tr>",
                            "<tr><td>dani</td><td>Vörös Dániel</td><td>2017-01-17</td><td>2017-01-23</td><td>2</td><td>7</td></tr>",
                            "<tr><td>dani</td><td>Vörös Dániel</td><td>2017-01-22</td><td>2017-01-29</td><td>1</td><td>5</td></tr>",
                            "<tr><td>dani</td><td>Vörös Dániel</td><td>2017-02-25</td><td>2017-03-01</td><td>3</td><td>5</td></tr>",
                            "<tr><td>daniel</td><td>Rácz Dániel</td><td>2016-04-10</td><td>2016-04-11</td><td>4</td><td>NULL</td></tr>",
                            "<tr><td>daniel</td><td>Rácz Dániel</td><td>2016-04-22</td><td>2016-04-25</td><td>2</td><td>4</td></tr>",
                            "<tr><td>daniel</td><td>Rácz Dániel</td><td>2016-05-09</td><td>2016-05-13</td><td>3</td><td>6</td></tr>",
                            "<tr><td>daniel</td><td>Rácz Dániel</td><td>2016-09-08</td><td>2016-09-10</td><td>4</td><td>9</td></tr>",
                            "<tr><td>daniel</td><td>Rácz Dániel</td><td>2016-11-13</td><td>2016-11-19</td><td>3</td><td>9</td></tr>",
                            "<tr><td>daniel</td><td>Rácz Dániel</td><td>2016-12-25</td><td>2016-12-26</td><td>3</td><td>10</td></tr>",
                            "<tr><td>daniel</td><td>Rácz Dániel</td><td>2017-01-09</td><td>2017-01-11</td><td>1</td><td>10</td></tr>",
                            "<tr><td>daniel</td><td>Rácz Dániel</td><td>2017-02-12</td><td>2017-02-13</td><td>3</td><td>7</td></tr>",
                            "<tr><td>daniel</td><td>Rácz Dániel</td><td>2017-02-20</td><td>2017-02-23</td><td>3</td><td>7</td></tr>",
                            "<tr><td>daniel1</td><td>Keszler Dániel</td><td>2016-04-10</td><td>2016-04-15</td><td>2</td><td>NULL</td></tr>",
                            "<tr><td>daniel1</td><td>Keszler Dániel</td><td>2016-05-10</td><td>2016-05-13</td><td>4</td><td>2</td></tr>",
                            "<tr><td>daniel1</td><td>Keszler Dániel</td><td>2016-05-26</td><td>2016-05-27</td><td>3</td><td>6</td></tr>",
                            "<tr><td>daniel1</td><td>Keszler Dániel</td><td>2016-11-09</td><td>2016-11-11</td><td>2</td><td>9</td></tr>",
                            "<tr><td>daniel1</td><td>Keszler Dániel</td><td>2016-11-23</td><td>2016-11-25</td><td>2</td><td>9</td></tr>",
                            "<tr><td>daniel1</td><td>Keszler Dániel</td><td>2017-01-05</td><td>2017-01-08</td><td>3</td><td>7</td></tr>",
                            "<tr><td>daniel1</td><td>Keszler Dániel</td><td>2017-03-01</td><td>2017-03-06</td><td>4</td><td>7</td></tr>",
                            "<tr><td>david</td><td>Ambrus Dávid</td><td>2016-05-18</td><td>2016-05-25</td><td>2</td><td>NULL</td></tr>",
                            "<tr><td>david</td><td>Ambrus Dávid</td><td>2016-07-18</td><td>2016-07-21</td><td>2</td><td>2</td></tr>",
                            "<tr><td>david</td><td>Ambrus Dávid</td><td>2016-08-05</td><td>2016-08-12</td><td>1</td><td>4</td></tr>",
                            "<tr><td>david</td><td>Ambrus Dávid</td><td>2016-08-20</td><td>2016-08-25</td><td>3</td><td>5</td></tr>",
                            "<tr><td>david</td><td>Ambrus Dávid</td><td>2016-08-22</td><td>2016-08-24</td><td>3</td><td>6</td></tr>",
                            "<tr><td>david</td><td>Ambrus Dávid</td><td>2016-06-09</td><td>2016-06-10</td><td>2</td><td>7</td></tr>",
                            "<tr><td>david</td><td>Ambrus Dávid</td><td>2016-06-30</td><td>2016-07-07</td><td>2</td><td>8</td></tr>",
                            "<tr><td>david</td><td>Ambrus Dávid</td><td>2016-10-30</td><td>2016-11-04</td><td>2</td><td>7</td></tr>",
                            "<tr><td>david</td><td>Ambrus Dávid</td><td>2017-01-18</td><td>2017-01-19</td><td>2</td><td>6</td></tr>",
                            "<tr><td>david1</td><td>Sobják Dávid</td><td>2016-09-20</td><td>2016-09-21</td><td>2</td><td>NULL</td></tr>",
                            "<tr><td>david1</td><td>Sobják Dávid</td><td>2016-10-01</td><td>2016-10-02</td><td>2</td><td>2</td></tr>",
                            "<tr><td>david1</td><td>Sobják Dávid</td><td>2016-11-19</td><td>2016-11-22</td><td>2</td><td>4</td></tr>",
                            "<tr><td>david1</td><td>Sobják Dávid</td><td>2016-12-30</td><td>2017-01-06</td><td>2</td><td>6</td></tr>",
                            "<tr><td>david1</td><td>Sobják Dávid</td><td>2017-02-17</td><td>2017-02-20</td><td>3</td><td>6</td></tr>",
                            "<tr><td>david1</td><td>Sobják Dávid</td><td>2017-02-25</td><td>2017-02-27</td><td>4</td><td>7</td></tr>",
                            "<tr><td>david4</td><td>Berta Dávid</td><td>2017-02-16</td><td>2017-02-19</td><td>3</td><td>NULL</td></tr>",
                            "<tr><td>debora</td><td>Barna Debóra</td><td>2016-06-22</td><td>2016-06-24</td><td>5</td><td>NULL</td></tr>",
                            "<tr><td>debora</td><td>Barna Debóra</td><td>2016-10-29</td><td>2016-11-03</td><td>2</td><td>5</td></tr>",
                            "<tr><td>debora</td><td>Barna Debóra</td><td>2017-01-23</td><td>2017-01-28</td><td>3</td><td>7</td></tr>",
                            "<tr><td>debora</td><td>Barna Debóra</td><td>2017-02-04</td><td>2017-02-06</td><td>3</td><td>10</td></tr>",
                            "<tr><td>denes</td><td>Tömböly Dénes</td><td>2016-07-19</td><td>2016-07-23</td><td>2</td><td>NULL</td></tr>",
                            "<tr><td>denes</td><td>Tömböly Dénes</td><td>2016-08-01</td><td>2016-08-08</td><td>3</td><td>2</td></tr>",
                            "<tr><td>denes</td><td>Tömböly Dénes</td><td>2016-08-16</td><td>2016-08-23</td><td>2</td><td>5</td></tr>",
                            "<tr><td>denes</td><td>Tömböly Dénes</td><td>2016-08-20</td><td>2016-08-27</td><td>3</td><td>7</td></tr>",
                            "<tr><td>denes</td><td>Tömböly Dénes</td><td>2016-05-27</td><td>2016-05-31</td><td>3</td><td>8</td></tr>",
                            "<tr><td>denes</td><td>Tömböly Dénes</td><td>2016-11-06</td><td>2016-11-10</td><td>2</td><td>8</td></tr>",
                            "<tr><td>dora3</td><td>Sarodi Dóra</td><td>2016-08-16</td><td>2016-08-19</td><td>4</td><td>NULL</td></tr>",
                            "<tr><td>dora3</td><td>Sarodi Dóra</td><td>2016-08-25</td><td>2016-08-29</td><td>3</td><td>4</td></tr>",
                            "<tr><td>dora3</td><td>Sarodi Dóra</td><td>2016-10-09</td><td>2016-10-12</td><td>3</td><td>7</td></tr>",
                            "<tr><td>dora3</td><td>Sarodi Dóra</td><td>2016-10-29</td><td>2016-11-02</td><td>3</td><td>10</td></tr>",
                            "<tr><td>dora3</td><td>Sarodi Dóra</td><td>2016-11-22</td><td>2016-11-29</td><td>3</td><td>9</td></tr>",
                            "<tr><td>edit</td><td>Bittmann Edit</td><td>2016-07-14</td><td>2016-07-17</td><td>3</td><td>NULL</td></tr>",
                            "<tr><td>edit</td><td>Bittmann Edit</td><td>2016-08-03</td><td>2016-08-09</td><td>4</td><td>3</td></tr>",
                            "<tr><td>edit</td><td>Bittmann Edit</td><td>2016-08-12</td><td>2016-08-14</td><td>2</td><td>7</td></tr>",
                            "<tr><td>edit</td><td>Bittmann Edit</td><td>2016-09-17</td><td>2016-09-24</td><td>2</td><td>9</td></tr>",
                            "<tr><td>edit</td><td>Bittmann Edit</td><td>2016-09-18</td><td>2016-09-21</td><td>3</td><td>8</td></tr>",
                            "<tr><td>edit</td><td>Bittmann Edit</td><td>2017-01-15</td><td>2017-01-18</td><td>4</td><td>7</td></tr>",
                            "<tr><td>edit</td><td>Bittmann Edit</td><td>2017-02-08</td><td>2017-02-14</td><td>3</td><td>9</td></tr>",
                            "<tr><td>emese</td><td>Kuruc Emese</td><td>2016-07-22</td><td>2016-07-24</td><td>2</td><td>NULL</td></tr>",
                            "<tr><td>emese</td><td>Kuruc Emese</td><td>2016-08-09</td><td>2016-08-12</td><td>2</td><td>2</td></tr>",
                            "<tr><td>emese</td><td>Kuruc Emese</td><td>2016-09-27</td><td>2016-09-28</td><td>3</td><td>4</td></tr>",
                            "<tr><td>emese</td><td>Kuruc Emese</td><td>2016-11-05</td><td>2016-11-09</td><td>1</td><td>7</td></tr>",
                            "<tr><td>emese</td><td>Kuruc Emese</td><td>2016-11-23</td><td>2016-11-27</td><td>4</td><td>6</td></tr>",
                            "<tr><td>emese</td><td>Kuruc Emese</td><td>2016-12-07</td><td>2016-12-08</td><td>3</td><td>8</td></tr>",
                            "<tr><td>emese</td><td>Kuruc Emese</td><td>2017-01-30</td><td>2017-01-31</td><td>2</td><td>8</td></tr>",
                            "<tr><td>eszter</td><td>Molnár Eszter</td><td>2016-08-12</td><td>2016-08-18</td><td>3</td><td>NULL</td></tr>",
                            "<tr><td>eszter</td><td>Molnár Eszter</td><td>2016-10-04</td><td>2016-10-10</td><td>3</td><td>3</td></tr>",
                            "<tr><td>eszter</td><td>Molnár Eszter</td><td>2016-10-26</td><td>2016-11-01</td><td>3</td><td>6</td></tr>",
                            "<tr><td>eszter</td><td>Molnár Eszter</td><td>2016-12-23</td><td>2016-12-28</td><td>2</td><td>9</td></tr>",
                            "<tr><td>eszter2</td><td>Balogh Eszter</td><td>2016-06-30</td><td>2016-07-07</td><td>3</td><td>NULL</td></tr>",
                            "<tr><td>eszter2</td><td>Balogh Eszter</td><td>2016-07-08</td><td>2016-07-09</td><td>1</td><td>3</td></tr>",
                            "<tr><td>eszter2</td><td>Balogh Eszter</td><td>2016-10-01</td><td>2016-10-05</td><td>3</td><td>4</td></tr>",
                            "<tr><td>eszter2</td><td>Balogh Eszter</td><td>2016-10-01</td><td>2016-10-06</td><td>1</td><td>7</td></tr>",
                            "<tr><td>eszter2</td><td>Balogh Eszter</td><td>2016-10-20</td><td>2016-10-25</td><td>1</td><td>5</td></tr>",
                            "<tr><td>eszter2</td><td>Balogh Eszter</td><td>2016-10-23</td><td>2016-10-30</td><td>1</td><td>5</td></tr>",
                            "<tr><td>eszter2</td><td>Balogh Eszter</td><td>2016-11-05</td><td>2016-11-12</td><td>4</td><td>3</td></tr>",
                            "<tr><td>eszter2</td><td>Balogh Eszter</td><td>2016-12-02</td><td>2016-12-07</td><td>1</td><td>6</td></tr>",
                            "<tr><td>eszter2</td><td>Balogh Eszter</td><td>2016-12-05</td><td>2016-12-08</td><td>2</td><td>6</td></tr>",
                            "<tr><td>eszter2</td><td>Balogh Eszter</td><td>2016-12-29</td><td>2017-02-04</td><td>1</td><td>7</td></tr>",
                            "<tr><td>eszter4</td><td>Fülöp Eszter</td><td>2017-01-05</td><td>2017-01-10</td><td>2</td><td>NULL</td></tr>",
                            "<tr><td>eszter4</td><td>Fülöp Eszter</td><td>2017-01-26</td><td>2017-02-02</td><td>2</td><td>2</td></tr>",
                            "<tr><td>eszter4</td><td>Fülöp Eszter</td><td>2017-02-26</td><td>2017-02-27</td><td>3</td><td>4</td></tr>",
                            "<tr><td>ESZTERE</td><td>Érsek Eszter</td><td>2016-07-19</td><td>2016-07-21</td><td>2</td><td>NULL</td></tr>",
                            "<tr><td>ESZTERE</td><td>Érsek Eszter</td><td>2016-05-30</td><td>2016-06-05</td><td>2</td><td>2</td></tr>",
                            "<tr><td>ESZTERE</td><td>Érsek Eszter</td><td>2016-11-01</td><td>2016-11-08</td><td>2</td><td>4</td></tr>",
                            "<tr><td>ESZTERE</td><td>Érsek Eszter</td><td>2017-02-10</td><td>2017-02-14</td><td>2</td><td>6</td></tr>",
                            "<tr><td>eva</td><td>Enyedi Éva</td><td>2016-10-06</td><td>2016-10-09</td><td>3</td><td>NULL</td></tr>",
                            "<tr><td>eva</td><td>Enyedi Éva</td><td>2017-01-14</td><td>2017-01-16</td><td>2</td><td>3</td></tr>",
                            "<tr><td>eva2</td><td>Perlinger Éva</td><td>2016-09-02</td><td>2016-09-03</td><td>1</td><td>NULL</td></tr>",
                            "<tr><td>eva2</td><td>Perlinger Éva</td><td>2016-11-06</td><td>2016-11-13</td><td>2</td><td>1</td></tr>",
                            "<tr><td>eva2</td><td>Perlinger Éva</td><td>2016-12-06</td><td>2016-12-11</td><td>2</td><td>3</td></tr>",
                            "<tr><td>eva2</td><td>Perlinger Éva</td><td>2017-01-06</td><td>2017-01-09</td><td>4</td><td>5</td></tr>",
                            "<tr><td>EVAV</td><td>Viktor Éva</td><td>2016-05-01</td><td>2016-05-05</td><td>3</td><td>NULL</td></tr>",
                            "<tr><td>EVAV</td><td>Viktor Éva</td><td>2016-08-31</td><td>2016-09-04</td><td>2</td><td>3</td></tr>",
                            "<tr><td>EVAV</td><td>Viktor Éva</td><td>2016-10-15</td><td>2016-10-21</td><td>3</td><td>5</td></tr>",
                            "<tr><td>EVAV</td><td>Viktor Éva</td><td>2016-10-16</td><td>2016-10-23</td><td>2</td><td>8</td></tr>",
                            "<tr><td>EVAV</td><td>Viktor Éva</td><td>2017-02-04</td><td>2017-02-11</td><td>5</td><td>7</td></tr>",
                            "<tr><td>ferenc1</td><td>Orosz Ferenc</td><td>2016-05-08</td><td>2016-05-11</td><td>2</td><td>NULL</td></tr>",
                            "<tr><td>ferenc1</td><td>Orosz Ferenc</td><td>2016-06-16</td><td>2016-06-22</td><td>2</td><td>2</td></tr>",
                            "<tr><td>ferenc1</td><td>Orosz Ferenc</td><td>2016-10-08</td><td>2016-10-09</td><td>2</td><td>4</td></tr>",
                            "<tr><td>ferenc1</td><td>Orosz Ferenc</td><td>2016-11-07</td><td>2016-11-08</td><td>3</td><td>6</td></tr>",
                            "<tr><td>fruzsina4</td><td>Frank Fruzsina</td><td>2016-07-13</td><td>2016-07-19</td><td>3</td><td>NULL</td></tr>",
                            "<tr><td>fruzsina4</td><td>Frank Fruzsina</td><td>2016-08-27</td><td>2016-08-30</td><td>4</td><td>3</td></tr>",
                            "<tr><td>fruzsina4</td><td>Frank Fruzsina</td><td>2016-06-02</td><td>2016-06-04</td><td>2</td><td>7</td></tr>",
                            "<tr><td>fruzsina4</td><td>Frank Fruzsina</td><td>2016-07-01</td><td>2016-07-04</td><td>3</td><td>9</td></tr>",
                            "<tr><td>fruzsina4</td><td>Frank Fruzsina</td><td>2016-09-29</td><td>2016-10-01</td><td>3</td><td>9</td></tr>",
                            "<tr><td>fruzsina4</td><td>Frank Fruzsina</td><td>2016-11-22</td><td>2016-11-24</td><td>2</td><td>8</td></tr>",
                            "<tr><td>fruzsina4</td><td>Frank Fruzsina</td><td>2016-12-16</td><td>2016-12-21</td><td>1</td><td>8</td></tr>",
                            "<tr><td>fruzsina4</td><td>Frank Fruzsina</td><td>2017-01-22</td><td>2017-01-25</td><td>4</td><td>6</td></tr>",
                            "<tr><td>gabor1</td><td>Köves Gábor</td><td>2016-07-28</td><td>2016-07-30</td><td>2</td><td>NULL</td></tr>",
                            "<tr><td>gabor1</td><td>Köves Gábor</td><td>2016-09-02</td><td>2016-09-03</td><td>3</td><td>2</td></tr>",
                            "<tr><td>gabor1</td><td>Köves Gábor</td><td>2016-06-20</td><td>2016-06-21</td><td>4</td><td>5</td></tr>",
                            "<tr><td>gabor1</td><td>Köves Gábor</td><td>2016-07-12</td><td>2016-07-15</td><td>1</td><td>9</td></tr>",
                            "<tr><td>gabor1</td><td>Köves Gábor</td><td>2016-10-20</td><td>2016-10-24</td><td>1</td><td>8</td></tr>",
                            "<tr><td>gabor1</td><td>Köves Gábor</td><td>2016-11-19</td><td>2016-11-22</td><td>2</td><td>6</td></tr>",
                            "<tr><td>gabor4</td><td>Telek Gábor</td><td>2016-04-26</td><td>2016-04-29</td><td>3</td><td>NULL</td></tr>",
                            "<tr><td>gabor4</td><td>Telek Gábor</td><td>2016-08-31</td><td>2016-09-06</td><td>4</td><td>3</td></tr>",
                            "<tr><td>gabor4</td><td>Telek Gábor</td><td>2016-05-30</td><td>2016-06-05</td><td>1</td><td>7</td></tr>",
                            "<tr><td>gabor4</td><td>Telek Gábor</td><td>2016-11-07</td><td>2016-11-13</td><td>4</td><td>8</td></tr>",
                            "<tr><td>gabriella1</td><td>Nagy Gabriella</td><td>2016-04-21</td><td>2016-04-24</td><td>3</td><td>NULL</td></tr>",
                            "<tr><td>gabriella1</td><td>Nagy Gabriella</td><td>2016-07-24</td><td>2016-07-31</td><td>2</td><td>3</td></tr>",
                            "<tr><td>gabriella1</td><td>Nagy Gabriella</td><td>2016-07-10</td><td>2016-07-11</td><td>3</td><td>5</td></tr>",
                            "<tr><td>gabriella1</td><td>Nagy Gabriella</td><td>2017-02-04</td><td>2017-02-11</td><td>3</td><td>8</td></tr>",
                            "<tr><td>gabriella1</td><td>Nagy Gabriella</td><td>2017-02-12</td><td>2017-02-13</td><td>2</td><td>8</td></tr>",
                            "<tr><td>gabriella1</td><td>Nagy Gabriella</td><td>2017-02-21</td><td>2017-02-27</td><td>3</td><td>8</td></tr>",
                            "<tr><td>gabriella10</td><td>Vida Gabriella</td><td>2016-10-01</td><td>2016-10-06</td><td>3</td><td>NULL</td></tr>",
                            "<tr><td>georgij</td><td>Nyíri Georgij</td><td>2016-08-16</td><td>2016-08-22</td><td>4</td><td>NULL</td></tr>",
                            "<tr><td>georgij</td><td>Nyíri Georgij</td><td>2016-08-28</td><td>2016-09-04</td><td>2</td><td>4</td></tr>",
                            "<tr><td>georgij</td><td>Nyíri Georgij</td><td>2016-06-16</td><td>2016-06-20</td><td>3</td><td>6</td></tr>",
                            "<tr><td>georgij</td><td>Nyíri Georgij</td><td>2016-09-18</td><td>2016-09-24</td><td>3</td><td>9</td></tr>",
                            "<tr><td>gusztav</td><td>Bárci Gusztáv</td><td>2016-05-06</td><td>2016-05-13</td><td>2</td><td>NULL</td></tr>",
                            "<tr><td>gusztav</td><td>Bárci Gusztáv</td><td>2016-08-05</td><td>2016-08-11</td><td>3</td><td>2</td></tr>",
                            "<tr><td>gusztav</td><td>Bárci Gusztáv</td><td>2016-10-01</td><td>2016-10-03</td><td>3</td><td>5</td></tr>",
                            "<tr><td>gusztav</td><td>Bárci Gusztáv</td><td>2017-02-03</td><td>2017-02-09</td><td>2</td><td>8</td></tr>",
                            "<tr><td>gusztav</td><td>Bárci Gusztáv</td><td>2017-02-23</td><td>2017-03-01</td><td>4</td><td>8</td></tr>",
                            "<tr><td>GYONGYIK</td><td>Kornseé Gyöngyi</td><td>2016-08-17</td><td>2016-08-21</td><td>3</td><td>NULL</td></tr>",
                            "<tr><td>GYONGYIK</td><td>Kornseé Gyöngyi</td><td>2016-06-02</td><td>2016-06-05</td><td>3</td><td>3</td></tr>",
                            "<tr><td>GYONGYIK</td><td>Kornseé Gyöngyi</td><td>2016-06-10</td><td>2016-06-17</td><td>1</td><td>6</td></tr>",
                            "<tr><td>GYONGYIK</td><td>Kornseé Gyöngyi</td><td>2016-07-01</td><td>2016-07-05</td><td>2</td><td>7</td></tr>",
                            "<tr><td>GYONGYIK</td><td>Kornseé Gyöngyi</td><td>2016-11-08</td><td>2016-11-13</td><td>2</td><td>6</td></tr>",
                            "<tr><td>GYONGYIK</td><td>Kornseé Gyöngyi</td><td>2016-12-01</td><td>2016-12-08</td><td>2</td><td>5</td></tr>",
                            "<tr><td>GYONGYIK</td><td>Kornseé Gyöngyi</td><td>2017-01-22</td><td>2017-01-29</td><td>3</td><td>6</td></tr>",
                            "<tr><td>GYORGYO</td><td>Oroszi György</td><td>2016-07-18</td><td>2016-07-25</td><td>2</td><td>NULL</td></tr>",
                            "<tr><td>GYORGYO</td><td>Oroszi György</td><td>2016-07-28</td><td>2016-08-03</td><td>3</td><td>2</td></tr>",
                            "<tr><td>GYORGYO</td><td>Oroszi György</td><td>2016-05-27</td><td>2016-05-28</td><td>3</td><td>5</td></tr>",
                            "<tr><td>GYORGYO</td><td>Oroszi György</td><td>2016-06-01</td><td>2016-06-07</td><td>2</td><td>8</td></tr>",
                            "<tr><td>GYORGYO</td><td>Oroszi György</td><td>2016-06-10</td><td>2016-06-15</td><td>2</td><td>8</td></tr>",
                            "<tr><td>GYORGYO</td><td>Oroszi György</td><td>2016-10-28</td><td>2016-10-31</td><td>1</td><td>7</td></tr>",
                            "<tr><td>GYORGYO</td><td>Oroszi György</td><td>2017-02-13</td><td>2017-02-15</td><td>2</td><td>5</td></tr>",
                            "<tr><td>GYORGYO</td><td>Oroszi György</td><td>2017-02-24</td><td>2017-02-25</td><td>3</td><td>5</td></tr>",
                            "<tr><td>henrik3</td><td>Nádudvari Henrik</td><td>2016-08-24</td><td>2016-08-28</td><td>1</td><td>NULL</td></tr>",
                            "<tr><td>henrik3</td><td>Nádudvari Henrik</td><td>2016-12-29</td><td>2017-01-03</td><td>3</td><td>1</td></tr>",
                            "<tr><td>henrik3</td><td>Nádudvari Henrik</td><td>2017-01-27</td><td>2017-01-28</td><td>3</td><td>4</td></tr>",
                            "<tr><td>IBOLYAA</td><td>Andor Ibolya</td><td>2016-08-29</td><td>2016-08-31</td><td>5</td><td>NULL</td></tr>",
                            "<tr><td>IBOLYAA</td><td>Andor Ibolya</td><td>2016-10-23</td><td>2016-10-28</td><td>2</td><td>5</td></tr>",
                            "<tr><td>IBOLYAA</td><td>Andor Ibolya</td><td>2017-01-17</td><td>2017-01-23</td><td>3</td><td>7</td></tr>",
                            "<tr><td>ilona3</td><td>Bosnyák Ilona</td><td>2016-07-31</td><td>2016-08-06</td><td>2</td><td>NULL</td></tr>",
                            "<tr><td>ilona3</td><td>Bosnyák Ilona</td><td>2016-08-04</td><td>2016-08-08</td><td>3</td><td>2</td></tr>",
                            "<tr><td>ilona3</td><td>Bosnyák Ilona</td><td>2016-11-04</td><td>2016-11-06</td><td>4</td><td>5</td></tr>",
                            "<tr><td>ilona3</td><td>Bosnyák Ilona</td><td>2016-12-25</td><td>2016-12-31</td><td>3</td><td>9</td></tr>",
                            "<tr><td>imre</td><td>Búza Imre</td><td>2016-09-17</td><td>2016-09-19</td><td>3</td><td>NULL</td></tr>",
                            "<tr><td>imre</td><td>Búza Imre</td><td>2016-10-28</td><td>2016-10-29</td><td>4</td><td>3</td></tr>",
                            "<tr><td>imre1</td><td>Papp Imre</td><td>2016-08-21</td><td>2016-08-27</td><td>2</td><td>NULL</td></tr>",
                            "<tr><td>imre1</td><td>Papp Imre</td><td>2016-08-23</td><td>2016-08-25</td><td>3</td><td>2</td></tr>",
                            "<tr><td>imre1</td><td>Papp Imre</td><td>2016-08-29</td><td>2016-08-31</td><td>2</td><td>5</td></tr>",
                            "<tr><td>imre1</td><td>Papp Imre</td><td>2016-06-23</td><td>2016-06-26</td><td>4</td><td>7</td></tr>",
                            "<tr><td>imre1</td><td>Papp Imre</td><td>2016-06-27</td><td>2016-06-28</td><td>2</td><td>9</td></tr>",
                            "<tr><td>imre1</td><td>Papp Imre</td><td>2017-02-01</td><td>2017-02-04</td><td>2</td><td>8</td></tr>",
                            "<tr><td>imre1</td><td>Papp Imre</td><td>2017-02-05</td><td>2017-02-07</td><td>4</td><td>8</td></tr>",
                            "<tr><td>istvan</td><td>Soós István</td><td>2016-10-07</td><td>2016-10-10</td><td>2</td><td>NULL</td></tr>",
                            "<tr><td>istvan</td><td>Soós István</td><td>2016-11-22</td><td>2016-11-24</td><td>3</td><td>2</td></tr>",
                            "<tr><td>istvan</td><td>Soós István</td><td>2017-01-02</td><td>2017-01-05</td><td>2</td><td>5</td></tr>",
                            "<tr><td>istvan1</td><td>Vizi István</td><td>2016-04-16</td><td>2016-04-22</td><td>3</td><td>NULL</td></tr>",
                            "<tr><td>istvan1</td><td>Vizi István</td><td>2016-04-24</td><td>2016-04-28</td><td>3</td><td>3</td></tr>",
                            "<tr><td>istvan1</td><td>Vizi István</td><td>2016-07-19</td><td>2016-07-24</td><td>1</td><td>6</td></tr>",
                            "<tr><td>istvan1</td><td>Vizi István</td><td>2017-02-07</td><td>2017-02-10</td><td>3</td><td>7</td></tr>",
                            "<tr><td>ISTVANV</td><td>Varga István</td><td>2016-07-01</td><td>2016-07-04</td><td>4</td><td>NULL</td></tr>",
                            "<tr><td>ISTVANV</td><td>Varga István</td><td>2016-09-29</td><td>2016-10-01</td><td>3</td><td>4</td></tr>",
                            "<tr><td>janos3</td><td>Harangozó János</td><td>2016-08-24</td><td>2016-08-25</td><td>3</td><td>NULL</td></tr>",
                            "<tr><td>janos3</td><td>Harangozó János</td><td>2016-06-04</td><td>2016-06-06</td><td>1</td><td>3</td></tr>",
                            "<tr><td>janos3</td><td>Harangozó János</td><td>2016-10-03</td><td>2016-10-08</td><td>3</td><td>4</td></tr>",
                            "<tr><td>janos3</td><td>Harangozó János</td><td>2016-10-22</td><td>2016-10-23</td><td>1</td><td>7</td></tr>",
                            "<tr><td>janos3</td><td>Harangozó János</td><td>2017-02-12</td><td>2017-02-14</td><td>3</td><td>5</td></tr>",
                            "<tr><td>JANOSG</td><td>Giliga János</td><td>2016-05-09</td><td>2016-05-15</td><td>1</td><td>NULL</td></tr>",
                            "<tr><td>JANOSG</td><td>Giliga János</td><td>2016-08-16</td><td>2016-08-23</td><td>3</td><td>1</td></tr>",
                            "<tr><td>JANOSG</td><td>Giliga János</td><td>2016-08-30</td><td>2016-09-03</td><td>3</td><td>4</td></tr>",
                            "<tr><td>JANOSG</td><td>Giliga János</td><td>2016-11-07</td><td>2016-11-14</td><td>3</td><td>7</td></tr>",
                            "<tr><td>JANOSG</td><td>Giliga János</td><td>2016-12-28</td><td>2016-12-30</td><td>2</td><td>9</td></tr>",
                            "<tr><td>JANOSG</td><td>Giliga János</td><td>2017-01-10</td><td>2017-01-15</td><td>2</td><td>8</td></tr>",
                            "<tr><td>JANOSG</td><td>Giliga János</td><td>2017-01-31</td><td>2017-02-05</td><td>2</td><td>7</td></tr>",
                            "<tr><td>JANOSP</td><td>Pálinkás János</td><td>2016-07-04</td><td>2016-07-11</td><td>3</td><td>NULL</td></tr>",
                            "<tr><td>JANOSP</td><td>Pálinkás János</td><td>2016-11-23</td><td>2016-11-28</td><td>2</td><td>3</td></tr>",
                            "<tr><td>JANOSP</td><td>Pálinkás János</td><td>2016-11-25</td><td>2016-11-27</td><td>2</td><td>5</td></tr>",
                            "<tr><td>JANOSP</td><td>Pálinkás János</td><td>2016-12-18</td><td>2016-12-21</td><td>2</td><td>7</td></tr>",
                            "<tr><td>jozsef</td><td>Gergely József</td><td>2016-09-13</td><td>2016-09-19</td><td>2</td><td>NULL</td></tr>",
                            "<tr><td>jozsef</td><td>Gergely József</td><td>2016-10-08</td><td>2016-10-10</td><td>2</td><td>2</td></tr>",
                            "<tr><td>jozsef</td><td>Gergely József</td><td>2016-12-06</td><td>2016-12-07</td><td>2</td><td>4</td></tr>",
                            "<tr><td>jozsef2</td><td>Vajda József</td><td>2016-07-16</td><td>2016-07-20</td><td>3</td><td>NULL</td></tr>",
                            "<tr><td>jozsef2</td><td>Vajda József</td><td>2016-07-06</td><td>2016-07-11</td><td>2</td><td>3</td></tr>",
                            "<tr><td>jozsef2</td><td>Vajda József</td><td>2016-09-09</td><td>2016-09-15</td><td>2</td><td>5</td></tr>",
                            "<tr><td>jozsef2</td><td>Vajda József</td><td>2016-11-23</td><td>2016-11-29</td><td>3</td><td>7</td></tr>",
                            "<tr><td>jozsef2</td><td>Vajda József</td><td>2016-11-25</td><td>2016-11-29</td><td>3</td><td>7</td></tr>",
                            "<tr><td>JOZSEFG</td><td>Gyuris József</td><td>2016-05-02</td><td>2016-05-06</td><td>2</td><td>NULL</td></tr>",
                            "<tr><td>JOZSEFG</td><td>Gyuris József</td><td>2016-08-24</td><td>2016-08-27</td><td>3</td><td>2</td></tr>",
                            "<tr><td>JOZSEFG</td><td>Gyuris József</td><td>2016-05-23</td><td>2016-05-25</td><td>1</td><td>5</td></tr>",
                            "<tr><td>JOZSEFG</td><td>Gyuris József</td><td>2016-06-04</td><td>2016-06-09</td><td>4</td><td>6</td></tr>",
                            "<tr><td>JOZSEFG</td><td>Gyuris József</td><td>2017-01-09</td><td>2017-01-13</td><td>2</td><td>8</td></tr>",
                            "<tr><td>JOZSEFG</td><td>Gyuris József</td><td>2017-01-22</td><td>2017-01-26</td><td>1</td><td>7</td></tr>",
                            "<tr><td>JOZSEFG</td><td>Gyuris József</td><td>2017-02-24</td><td>2017-03-03</td><td>3</td><td>7</td></tr>",
                            "<tr><td>JUDITH</td><td>Hídasi Judit</td><td>2016-07-28</td><td>2016-07-30</td><td>2</td><td>NULL</td></tr>",
                            "<tr><td>JUDITH</td><td>Hídasi Judit</td><td>2016-06-06</td><td>2016-06-10</td><td>2</td><td>2</td></tr>",
                            "<tr><td>JUDITH</td><td>Hídasi Judit</td><td>2016-12-19</td><td>2016-12-26</td><td>1</td><td>4</td></tr>",
                            "<tr><td>julia</td><td>Tóth Júlia</td><td>2016-04-21</td><td>2016-04-26</td><td>2</td><td>NULL</td></tr>",
                            "<tr><td>julia</td><td>Tóth Júlia</td><td>2016-05-12</td><td>2016-05-17</td><td>1</td><td>2</td></tr>",
                            "<tr><td>julia</td><td>Tóth Júlia</td><td>2016-07-20</td><td>2016-07-22</td><td>2</td><td>3</td></tr>",
                            "<tr><td>julia</td><td>Tóth Júlia</td><td>2016-06-07</td><td>2016-06-08</td><td>5</td><td>5</td></tr>",
                            "<tr><td>julia</td><td>Tóth Júlia</td><td>2017-02-27</td><td>2017-03-06</td><td>3</td><td>8</td></tr>",
                            "<tr><td>julia4</td><td>Nagy Júlia</td><td>2016-11-07</td><td>2016-11-12</td><td>1</td><td>NULL</td></tr>",
                            "<tr><td>julia4</td><td>Nagy Júlia</td><td>2017-02-04</td><td>2017-02-11</td><td>4</td><td>1</td></tr>",
                            "<tr><td>julianna4</td><td>Szabó Julianna</td><td>2016-07-20</td><td>2016-07-26</td><td>2</td><td>NULL</td></tr>",
                            "<tr><td>julianna4</td><td>Szabó Julianna</td><td>2016-10-29</td><td>2016-10-31</td><td>3</td><td>2</td></tr>",
                            "<tr><td>julianna4</td><td>Szabó Julianna</td><td>2016-11-03</td><td>2016-11-04</td><td>2</td><td>5</td></tr>",
                            "<tr><td>julianna4</td><td>Szabó Julianna</td><td>2016-11-27</td><td>2016-12-04</td><td>3</td><td>7</td></tr>",
                            "<tr><td>kata</td><td>Gondos Katalin</td><td>2016-04-10</td><td>2016-04-11</td><td>2</td><td>NULL</td></tr>",
                            "<tr><td>kata</td><td>Gondos Katalin</td><td>2016-04-25</td><td>2016-05-01</td><td>1</td><td>2</td></tr>",
                            "<tr><td>kata</td><td>Gondos Katalin</td><td>2016-08-24</td><td>2016-08-27</td><td>3</td><td>3</td></tr>",
                            "<tr><td>kata</td><td>Gondos Katalin</td><td>2016-05-31</td><td>2016-06-01</td><td>3</td><td>6</td></tr>",
                            "<tr><td>kata</td><td>Gondos Katalin</td><td>2016-06-07</td><td>2016-06-12</td><td>2</td><td>7</td></tr>",
                            "<tr><td>kata</td><td>Gondos Katalin</td><td>2016-07-01</td><td>2016-07-07</td><td>2</td><td>8</td></tr>",
                            "<tr><td>kata</td><td>Gondos Katalin</td><td>2016-07-03</td><td>2016-07-06</td><td>1</td><td>7</td></tr>",
                            "<tr><td>kata</td><td>Gondos Katalin</td><td>2016-07-07</td><td>2016-07-09</td><td>3</td><td>5</td></tr>",
                            "<tr><td>kata</td><td>Gondos Katalin</td><td>2016-09-19</td><td>2016-09-20</td><td>3</td><td>6</td></tr>",
                            "<tr><td>kata</td><td>Gondos Katalin</td><td>2017-01-15</td><td>2017-01-21</td><td>3</td><td>7</td></tr>",
                            "<tr><td>katalin</td><td>Horváth Katalin</td><td>2016-04-10</td><td>2016-04-17</td><td>2</td><td>NULL</td></tr>",
                            "<tr><td>katalin</td><td>Horváth Katalin</td><td>2016-05-21</td><td>2016-05-26</td><td>1</td><td>2</td></tr>",
                            "<tr><td>katalin</td><td>Horváth Katalin</td><td>2016-07-28</td><td>2016-07-29</td><td>1</td><td>3</td></tr>",
                            "<tr><td>katalin</td><td>Horváth Katalin</td><td>2016-07-06</td><td>2016-07-11</td><td>1</td><td>4</td></tr>",
                            "<tr><td>katalin</td><td>Horváth Katalin</td><td>2016-10-26</td><td>2016-10-30</td><td>2</td><td>3</td></tr>",
                            "<tr><td>katalin</td><td>Horváth Katalin</td><td>2016-12-13</td><td>2016-12-19</td><td>2</td><td>4</td></tr>",
                            "<tr><td>katalin</td><td>Horváth Katalin</td><td>2016-12-17</td><td>2016-12-24</td><td>1</td><td>5</td></tr>",
                            "<tr><td>katalin</td><td>Horváth Katalin</td><td>2016-12-24</td><td>2016-12-27</td><td>2</td><td>5</td></tr>",
                            "<tr><td>katalin</td><td>Horváth Katalin</td><td>2017-02-24</td><td>2017-02-27</td><td>3</td><td>5</td></tr>",
                            "<tr><td>katalin4</td><td>Kertész Katalin</td><td>2016-07-01</td><td>2016-07-07</td><td>1</td><td>NULL</td></tr>",
                            "<tr><td>katalin4</td><td>Kertész Katalin</td><td>2016-07-03</td><td>2016-07-04</td><td>4</td><td>1</td></tr>",
                            "<tr><td>katalin4</td><td>Kertész Katalin</td><td>2016-11-27</td><td>2016-12-04</td><td>3</td><td>5</td></tr>",
                            "<tr><td>katalin4</td><td>Kertész Katalin</td><td>2016-12-04</td><td>2016-12-09</td><td>3</td><td>8</td></tr>",
                            "<tr><td>katalin4</td><td>Kertész Katalin</td><td>2017-01-18</td><td>2017-01-20</td><td>2</td><td>10</td></tr>",
                            "<tr><td>katalin4</td><td>Kertész Katalin</td><td>2017-01-24</td><td>2017-01-31</td><td>2</td><td>8</td></tr>",
                            "<tr><td>kati</td><td>Zatykó Katalin</td><td>2016-07-13</td><td>2016-07-20</td><td>2</td><td>NULL</td></tr>",
                            "<tr><td>kati</td><td>Zatykó Katalin</td><td>2016-07-27</td><td>2016-08-03</td><td>2</td><td>2</td></tr>",
                            "<tr><td>kati</td><td>Zatykó Katalin</td><td>2016-08-03</td><td>2016-08-07</td><td>2</td><td>4</td></tr>",
                            "<tr><td>kati</td><td>Zatykó Katalin</td><td>2016-06-06</td><td>2016-06-10</td><td>2</td><td>6</td></tr>",
                            "<tr><td>kati</td><td>Zatykó Katalin</td><td>2016-06-06</td><td>2016-06-11</td><td>3</td><td>6</td></tr>",
                            "<tr><td>kati</td><td>Zatykó Katalin</td><td>2016-10-26</td><td>2016-10-28</td><td>2</td><td>7</td></tr>",
                            "<tr><td>kati</td><td>Zatykó Katalin</td><td>2016-10-30</td><td>2016-11-01</td><td>3</td><td>7</td></tr>",
                            "<tr><td>katka</td><td>Kovács Katalin</td><td>2016-04-10</td><td>2016-04-12</td><td>2</td><td>NULL</td></tr>",
                            "<tr><td>katka</td><td>Kovács Katalin</td><td>2016-05-09</td><td>2016-05-15</td><td>3</td><td>2</td></tr>",
                            "<tr><td>katka</td><td>Kovács Katalin</td><td>2016-08-24</td><td>2016-08-26</td><td>2</td><td>5</td></tr>",
                            "<tr><td>katka</td><td>Kovács Katalin</td><td>2016-06-13</td><td>2016-06-18</td><td>1</td><td>7</td></tr>",
                            "<tr><td>katka</td><td>Kovács Katalin</td><td>2016-06-13</td><td>2016-06-19</td><td>4</td><td>6</td></tr>",
                            "<tr><td>katka</td><td>Kovács Katalin</td><td>2016-09-05</td><td>2016-09-10</td><td>4</td><td>7</td></tr>",
                            "<tr><td>katka</td><td>Kovács Katalin</td><td>2016-11-05</td><td>2016-11-08</td><td>3</td><td>9</td></tr>",
                            "<tr><td>katka</td><td>Kovács Katalin</td><td>2017-01-02</td><td>2017-01-05</td><td>3</td><td>11</td></tr>",
                            "<tr><td>katka</td><td>Kovács Katalin</td><td>2017-01-19</td><td>2017-01-20</td><td>3</td><td>10</td></tr>",
                            "<tr><td>klaudia2</td><td>Bakó Klaudia</td><td>2016-06-06</td><td>2016-06-08</td><td>4</td><td>NULL</td></tr>",
                            "<tr><td>klaudia2</td><td>Bakó Klaudia</td><td>2016-10-01</td><td>2016-10-02</td><td>2</td><td>4</td></tr>",
                            "<tr><td>klaudia2</td><td>Bakó Klaudia</td><td>2016-10-02</td><td>2016-10-05</td><td>2</td><td>6</td></tr>",
                            "<tr><td>kornel4</td><td>Lukács Kornél</td><td>2016-05-08</td><td>2016-05-14</td><td>3</td><td>NULL</td></tr>",
                            "<tr><td>kornel4</td><td>Lukács Kornél</td><td>2016-06-02</td><td>2016-06-09</td><td>3</td><td>3</td></tr>",
                            "<tr><td>kornel4</td><td>Lukács Kornél</td><td>2016-09-23</td><td>2016-09-24</td><td>3</td><td>6</td></tr>",
                            "<tr><td>kristof4</td><td>Poprádi Kristóf</td><td>2016-04-08</td><td>2016-04-14</td><td>2</td><td>NULL</td></tr>",
                            "<tr><td>kristof4</td><td>Poprádi Kristóf</td><td>2016-09-30</td><td>2016-10-04</td><td>2</td><td>2</td></tr>",
                            "<tr><td>kriszti</td><td>Horváth Krisztina</td><td>2016-05-19</td><td>2016-05-26</td><td>2</td><td>NULL</td></tr>",
                            "<tr><td>kriszti</td><td>Horváth Krisztina</td><td>2016-08-24</td><td>2016-08-25</td><td>3</td><td>2</td></tr>",
                            "<tr><td>kriszti</td><td>Horváth Krisztina</td><td>2016-09-30</td><td>2016-10-05</td><td>3</td><td>5</td></tr>",
                            "<tr><td>kriszti</td><td>Horváth Krisztina</td><td>2016-10-01</td><td>2016-10-02</td><td>3</td><td>8</td></tr>",
                            "<tr><td>kriszti</td><td>Horváth Krisztina</td><td>2017-02-04</td><td>2017-02-11</td><td>3</td><td>9</td></tr>",
                            "<tr><td>kriszti</td><td>Horváth Krisztina</td><td>2017-03-03</td><td>2017-03-04</td><td>3</td><td>9</td></tr>",
                            "<tr><td>krisztian4</td><td>Czérna Krisztián</td><td>2016-07-28</td><td>2016-08-01</td><td>2</td><td>NULL</td></tr>",
                            "<tr><td>krisztian4</td><td>Czérna Krisztián</td><td>2016-08-01</td><td>2016-08-04</td><td>3</td><td>2</td></tr>",
                            "<tr><td>krisztian4</td><td>Czérna Krisztián</td><td>2016-08-16</td><td>2016-08-19</td><td>1</td><td>5</td></tr>",
                            "<tr><td>krisztian4</td><td>Czérna Krisztián</td><td>2016-08-29</td><td>2016-09-03</td><td>1</td><td>6</td></tr>",
                            "<tr><td>krisztian4</td><td>Czérna Krisztián</td><td>2016-06-03</td><td>2016-06-04</td><td>2</td><td>5</td></tr>",
                            "<tr><td>krisztian4</td><td>Czérna Krisztián</td><td>2016-06-07</td><td>2016-06-09</td><td>2</td><td>4</td></tr>",
                            "<tr><td>krisztian4</td><td>Czérna Krisztián</td><td>2016-10-17</td><td>2016-10-22</td><td>3</td><td>5</td></tr>",
                            "<tr><td>krisztian4</td><td>Czérna Krisztián</td><td>2016-11-02</td><td>2016-11-03</td><td>2</td><td>7</td></tr>",
                            "<tr><td>krisztian4</td><td>Czérna Krisztián</td><td>2016-12-11</td><td>2016-12-18</td><td>2</td><td>7</td></tr>",
                            "<tr><td>krisztian4</td><td>Czérna Krisztián</td><td>2017-01-06</td><td>2017-01-09</td><td>1</td><td>7</td></tr>",
                            "<tr><td>krisztian4</td><td>Czérna Krisztián</td><td>2017-01-16</td><td>2017-01-23</td><td>3</td><td>5</td></tr>",
                            "<tr><td>krisztian4</td><td>Czérna Krisztián</td><td>2017-02-23</td><td>2017-03-02</td><td>2</td><td>6</td></tr>",
                            "<tr><td>KRISZTIANM</td><td>Mogyródi Krisztián</td><td>2016-04-09</td><td>2016-04-15</td><td>2</td><td>NULL</td></tr>",
                            "<tr><td>KRISZTIANM</td><td>Mogyródi Krisztián</td><td>2016-08-02</td><td>2016-08-08</td><td>4</td><td>2</td></tr>",
                            "<tr><td>KRISZTIANM</td><td>Mogyródi Krisztián</td><td>2016-06-04</td><td>2016-06-08</td><td>2</td><td>6</td></tr>",
                            "<tr><td>KRISZTIANM</td><td>Mogyródi Krisztián</td><td>2016-07-09</td><td>2016-07-14</td><td>3</td><td>8</td></tr>",
                            "<tr><td>KRISZTIANM</td><td>Mogyródi Krisztián</td><td>2016-12-25</td><td>2016-12-31</td><td>2</td><td>9</td></tr>",
                            "<tr><td>KRISZTIANM</td><td>Mogyródi Krisztián</td><td>2017-01-16</td><td>2017-01-23</td><td>1</td><td>7</td></tr>",
                            "<tr><td>krisztina</td><td>Szedlár Krisztina</td><td>2016-05-21</td><td>2016-05-27</td><td>2</td><td>NULL</td></tr>",
                            "<tr><td>krisztina</td><td>Szedlár Krisztina</td><td>2016-07-05</td><td>2016-07-12</td><td>3</td><td>2</td></tr>",
                            "<tr><td>krisztina</td><td>Szedlár Krisztina</td><td>2016-09-13</td><td>2016-09-16</td><td>1</td><td>5</td></tr>",
                            "<tr><td>krisztina</td><td>Szedlár Krisztina</td><td>2016-09-19</td><td>2016-09-26</td><td>2</td><td>6</td></tr>",
                            "<tr><td>krisztina</td><td>Szedlár Krisztina</td><td>2016-11-08</td><td>2016-11-12</td><td>2</td><td>6</td></tr>",
                            "<tr><td>krisztina</td><td>Szedlár Krisztina</td><td>2016-11-22</td><td>2016-11-25</td><td>1</td><td>5</td></tr>",
                            "<tr><td>krisztina</td><td>Szedlár Krisztina</td><td>2017-02-05</td><td>2017-02-07</td><td>2</td><td>5</td></tr>",
                            "<tr><td>krisztina</td><td>Szedlár Krisztina</td><td>2017-02-16</td><td>2017-02-20</td><td>4</td><td>5</td></tr>",
                            "<tr><td>krisztina1</td><td>Bori Krisztina</td><td>2016-04-28</td><td>2016-04-30</td><td>2</td><td>NULL</td></tr>",
                            "<tr><td>krisztina1</td><td>Bori Krisztina</td><td>2016-05-16</td><td>2016-05-20</td><td>1</td><td>2</td></tr>",
                            "<tr><td>krisztina1</td><td>Bori Krisztina</td><td>2016-06-16</td><td>2016-06-22</td><td>2</td><td>3</td></tr>",
                            "<tr><td>krisztina1</td><td>Bori Krisztina</td><td>2016-09-15</td><td>2016-09-20</td><td>3</td><td>5</td></tr>",
                            "<tr><td>krisztina1</td><td>Bori Krisztina</td><td>2016-10-29</td><td>2016-10-30</td><td>4</td><td>6</td></tr>",
                            "<tr><td>krisztina1</td><td>Bori Krisztina</td><td>2017-01-21</td><td>2017-01-24</td><td>2</td><td>9</td></tr>",
                            "<tr><td>KRISZTINAG</td><td>Gyárfás Krisztina</td><td>2016-04-23</td><td>2016-04-24</td><td>2</td><td>NULL</td></tr>",
                            "<tr><td>KRISZTINAG</td><td>Gyárfás Krisztina</td><td>2016-08-08</td><td>2016-08-12</td><td>3</td><td>2</td></tr>",
                            "<tr><td>KRISZTINAG</td><td>Gyárfás Krisztina</td><td>2016-05-24</td><td>2016-05-31</td><td>1</td><td>5</td></tr>",
                            "<tr><td>KRISZTINAG</td><td>Gyárfás Krisztina</td><td>2016-06-08</td><td>2016-06-12</td><td>1</td><td>6</td></tr>",
                            "<tr><td>KRISZTINAG</td><td>Gyárfás Krisztina</td><td>2017-01-25</td><td>2017-01-30</td><td>2</td><td>5</td></tr>",
                            "<tr><td>lajos</td><td>Kiss Lajos</td><td>2016-07-18</td><td>2016-07-21</td><td>2</td><td>NULL</td></tr>",
                            "<tr><td>lajos</td><td>Kiss Lajos</td><td>2016-12-25</td><td>2016-12-28</td><td>4</td><td>2</td></tr>",
                            "<tr><td>lajos</td><td>Kiss Lajos</td><td>2017-02-12</td><td>2017-02-13</td><td>1</td><td>6</td></tr>",
                            "<tr><td>lala</td><td>Nagymihály Lajos</td><td>2016-07-20</td><td>2016-07-21</td><td>3</td><td>NULL</td></tr>",
                            "<tr><td>lala</td><td>Nagymihály Lajos</td><td>2016-07-26</td><td>2016-07-27</td><td>3</td><td>3</td></tr>",
                            "<tr><td>lala</td><td>Nagymihály Lajos</td><td>2016-06-16</td><td>2016-06-22</td><td>2</td><td>6</td></tr>",
                            "<tr><td>lala</td><td>Nagymihály Lajos</td><td>2016-10-30</td><td>2016-10-31</td><td>3</td><td>8</td></tr>",
                            "<tr><td>lala</td><td>Nagymihály Lajos</td><td>2017-01-08</td><td>2017-01-10</td><td>3</td><td>8</td></tr>",
                            "<tr><td>lala</td><td>Nagymihály Lajos</td><td>2017-01-17</td><td>2017-01-19</td><td>2</td><td>8</td></tr>",
                            "<tr><td>laszlo1</td><td>Farkas László</td><td>2016-09-23</td><td>2016-09-30</td><td>3</td><td>NULL</td></tr>",
                            "<tr><td>laszlo2</td><td>Móra László</td><td>2016-04-06</td><td>2016-04-10</td><td>2</td><td>NULL</td></tr>",
                            "<tr><td>laszlo2</td><td>Móra László</td><td>2016-04-27</td><td>2016-04-29</td><td>2</td><td>2</td></tr>",
                            "<tr><td>laszlo2</td><td>Móra László</td><td>2016-08-14</td><td>2016-08-15</td><td>3</td><td>4</td></tr>",
                            "<tr><td>laszlo2</td><td>Móra László</td><td>2016-09-05</td><td>2016-09-10</td><td>3</td><td>7</td></tr>",
                            "<tr><td>laszlo2</td><td>Móra László</td><td>2016-11-25</td><td>2016-11-26</td><td>3</td><td>8</td></tr>",
                            "<tr><td>LASZLOA</td><td>Antal László</td><td>2016-06-03</td><td>2016-06-09</td><td>2</td><td>NULL</td></tr>",
                            "<tr><td>LASZLOA</td><td>Antal László</td><td>2016-06-07</td><td>2016-06-11</td><td>1</td><td>2</td></tr>",
                            "<tr><td>LASZLOA</td><td>Antal László</td><td>2016-06-10</td><td>2016-06-13</td><td>3</td><td>3</td></tr>",
                            "<tr><td>LASZLOA</td><td>Antal László</td><td>2017-02-08</td><td>2017-02-14</td><td>2</td><td>6</td></tr>",
                            "<tr><td>LASZLON</td><td>Nagy László</td><td>2016-06-03</td><td>2016-06-06</td><td>1</td><td>NULL</td></tr>",
                            "<tr><td>LASZLON</td><td>Nagy László</td><td>2016-06-08</td><td>2016-06-09</td><td>2</td><td>1</td></tr>",
                            "<tr><td>LASZLON</td><td>Nagy László</td><td>2016-10-01</td><td>2016-10-04</td><td>3</td><td>3</td></tr>",
                            "<tr><td>LASZLON</td><td>Nagy László</td><td>2016-10-09</td><td>2016-10-14</td><td>1</td><td>6</td></tr>",
                            "<tr><td>LASZLON</td><td>Nagy László</td><td>2016-11-29</td><td>2016-12-04</td><td>1</td><td>6</td></tr>",
                            "<tr><td>LASZLON</td><td>Nagy László</td><td>2017-02-18</td><td>2017-02-25</td><td>3</td><td>5</td></tr>",
                            "<tr><td>maria1</td><td>Baráth Mária</td><td>2016-05-13</td><td>2016-05-18</td><td>2</td><td>NULL</td></tr>",
                            "<tr><td>maria1</td><td>Baráth Mária</td><td>2016-05-18</td><td>2016-05-19</td><td>1</td><td>2</td></tr>",
                            "<tr><td>maria1</td><td>Baráth Mária</td><td>2016-08-11</td><td>2016-08-14</td><td>3</td><td>3</td></tr>",
                            "<tr><td>maria1</td><td>Baráth Mária</td><td>2016-09-02</td><td>2016-09-05</td><td>1</td><td>6</td></tr>",
                            "<tr><td>maria1</td><td>Baráth Mária</td><td>2016-05-28</td><td>2016-06-03</td><td>2</td><td>5</td></tr>",
                            "<tr><td>maria1</td><td>Baráth Mária</td><td>2016-06-23</td><td>2016-06-27</td><td>1</td><td>6</td></tr>",
                            "<tr><td>maria1</td><td>Baráth Mária</td><td>2016-11-08</td><td>2016-11-12</td><td>3</td><td>4</td></tr>",
                            "<tr><td>maria1</td><td>Baráth Mária</td><td>2017-02-24</td><td>2017-03-02</td><td>2</td><td>6</td></tr>",
                            "<tr><td>mark</td><td>Kispál Márk</td><td>2016-04-19</td><td>2016-04-26</td><td>4</td><td>NULL</td></tr>",
                            "<tr><td>mark</td><td>Kispál Márk</td><td>2016-08-09</td><td>2016-08-16</td><td>3</td><td>4</td></tr>",
                            "<tr><td>mark</td><td>Kispál Márk</td><td>2016-06-13</td><td>2016-06-18</td><td>3</td><td>7</td></tr>",
                            "<tr><td>mark</td><td>Kispál Márk</td><td>2016-10-20</td><td>2016-10-27</td><td>1</td><td>10</td></tr>",
                            "<tr><td>mark</td><td>Kispál Márk</td><td>2016-11-19</td><td>2016-11-22</td><td>2</td><td>7</td></tr>",
                            "<tr><td>MARKH</td><td>Horváth Márk</td><td>2016-09-14</td><td>2016-09-17</td><td>3</td><td>NULL</td></tr>",
                            "<tr><td>MARKH</td><td>Horváth Márk</td><td>2016-09-23</td><td>2016-09-30</td><td>2</td><td>3</td></tr>",
                            "<tr><td>MARKH</td><td>Horváth Márk</td><td>2016-09-26</td><td>2016-10-01</td><td>4</td><td>5</td></tr>",
                            "<tr><td>MARKH</td><td>Horváth Márk</td><td>2017-01-22</td><td>2017-01-29</td><td>4</td><td>9</td></tr>",
                            "<tr><td>marton</td><td>Kalacsi Márton</td><td>2016-04-27</td><td>2016-05-04</td><td>3</td><td>NULL</td></tr>",
                            "<tr><td>marton</td><td>Kalacsi Márton</td><td>2016-05-05</td><td>2016-05-10</td><td>1</td><td>3</td></tr>",
                            "<tr><td>marton</td><td>Kalacsi Márton</td><td>2016-08-12</td><td>2016-08-17</td><td>2</td><td>4</td></tr>",
                            "<tr><td>marton</td><td>Kalacsi Márton</td><td>2016-06-06</td><td>2016-06-08</td><td>3</td><td>6</td></tr>",
                            "<tr><td>marton</td><td>Kalacsi Márton</td><td>2016-06-22</td><td>2016-06-29</td><td>2</td><td>6</td></tr>",
                            "<tr><td>marton</td><td>Kalacsi Márton</td><td>2016-09-10</td><td>2016-09-12</td><td>2</td><td>7</td></tr>",
                            "<tr><td>marton</td><td>Kalacsi Márton</td><td>2017-03-02</td><td>2017-03-03</td><td>2</td><td>7</td></tr>",
                            "<tr><td>MATEK</td><td>Koza Máté</td><td>2016-08-17</td><td>2016-08-21</td><td>4</td><td>NULL</td></tr>",
                            "<tr><td>MATEK</td><td>Koza Máté</td><td>2016-10-01</td><td>2016-10-04</td><td>2</td><td>4</td></tr>",
                            "<tr><td>MATEK</td><td>Koza Máté</td><td>2017-01-16</td><td>2017-01-22</td><td>2</td><td>6</td></tr>",
                            "<tr><td>matyas2</td><td>Botka Mátyás</td><td>2016-07-13</td><td>2016-07-16</td><td>2</td><td>NULL</td></tr>",
                            "<tr><td>matyas2</td><td>Botka Mátyás</td><td>2016-12-09</td><td>2016-12-13</td><td>3</td><td>2</td></tr>",
                            "<tr><td>MATYASS</td><td>Szilágyi Mátyás</td><td>2016-05-10</td><td>2016-05-16</td><td>2</td><td>NULL</td></tr>",
                            "<tr><td>MATYASS</td><td>Szilágyi Mátyás</td><td>2016-07-23</td><td>2016-07-25</td><td>3</td><td>2</td></tr>",
                            "<tr><td>MATYASS</td><td>Szilágyi Mátyás</td><td>2016-06-02</td><td>2016-06-08</td><td>1</td><td>5</td></tr>",
                            "<tr><td>MATYASS</td><td>Szilágyi Mátyás</td><td>2016-10-09</td><td>2016-10-15</td><td>3</td><td>6</td></tr>",
                            "<tr><td>MATYASS</td><td>Szilágyi Mátyás</td><td>2016-10-24</td><td>2016-10-31</td><td>1</td><td>7</td></tr>",
                            "<tr><td>MATYASS</td><td>Szilágyi Mátyás</td><td>2016-10-30</td><td>2016-11-04</td><td>3</td><td>5</td></tr>",
                            "<tr><td>MATYASS</td><td>Szilágyi Mátyás</td><td>2016-12-20</td><td>2016-12-25</td><td>2</td><td>7</td></tr>",
                            "<tr><td>MATYASS</td><td>Szilágyi Mátyás</td><td>2017-01-09</td><td>2017-01-13</td><td>2</td><td>6</td></tr>",
                            "<tr><td>MIHALYJ</td><td>Juhász Mihály</td><td>2016-08-29</td><td>2016-09-03</td><td>1</td><td>NULL</td></tr>",
                            "<tr><td>MIHALYJ</td><td>Juhász Mihály</td><td>2016-05-30</td><td>2016-06-01</td><td>2</td><td>1</td></tr>",
                            "<tr><td>MIHALYJ</td><td>Juhász Mihály</td><td>2016-06-27</td><td>2016-07-01</td><td>1</td><td>3</td></tr>",
                            "<tr><td>MIHALYJ</td><td>Juhász Mihály</td><td>2016-11-01</td><td>2016-11-04</td><td>3</td><td>4</td></tr>",
                            "<tr><td>MIHALYJ</td><td>Juhász Mihály</td><td>2017-02-06</td><td>2017-02-12</td><td>4</td><td>6</td></tr>",
                            "<tr><td>miklos2</td><td>Gondos Miklós</td><td>2016-04-19</td><td>2016-04-21</td><td>3</td><td>NULL</td></tr>",
                            "<tr><td>miklos2</td><td>Gondos Miklós</td><td>2016-10-08</td><td>2016-10-09</td><td>1</td><td>3</td></tr>",
                            "<tr><td>miklos2</td><td>Gondos Miklós</td><td>2016-11-16</td><td>2016-11-18</td><td>3</td><td>4</td></tr>",
                            "<tr><td>MIKLOSB</td><td>Balla Miklós</td><td>2016-07-18</td><td>2016-07-21</td><td>2</td><td>NULL</td></tr>",
                            "<tr><td>MIKLOSB</td><td>Balla Miklós</td><td>2016-06-26</td><td>2016-06-30</td><td>2</td><td>2</td></tr>",
                            "<tr><td>MIKLOSB</td><td>Balla Miklós</td><td>2016-12-05</td><td>2016-12-10</td><td>2</td><td>4</td></tr>",
                            "<tr><td>MONIKAM</td><td>Mohos Mónika</td><td>2016-04-29</td><td>2016-05-01</td><td>2</td><td>NULL</td></tr>",
                            "<tr><td>MONIKAM</td><td>Mohos Mónika</td><td>2016-07-23</td><td>2016-07-30</td><td>1</td><td>2</td></tr>",
                            "<tr><td>MONIKAM</td><td>Mohos Mónika</td><td>2016-11-09</td><td>2016-11-16</td><td>2</td><td>3</td></tr>",
                            "<tr><td>MONIKAM</td><td>Mohos Mónika</td><td>2017-01-17</td><td>2017-01-24</td><td>1</td><td>5</td></tr>",
                            "<tr><td>MONIKAM</td><td>Mohos Mónika</td><td>2017-02-06</td><td>2017-02-09</td><td>2</td><td>4</td></tr>",
                            "<tr><td>MONIKAM</td><td>Mohos Mónika</td><td>2017-02-23</td><td>2017-02-26</td><td>2</td><td>5</td></tr>",
                            "<tr><td>NANDORF</td><td>Fő Nándor</td><td>2016-04-06</td><td>2016-04-10</td><td>3</td><td>NULL</td></tr>",
                            "<tr><td>NANDORF</td><td>Fő Nándor</td><td>2016-11-03</td><td>2016-11-04</td><td>3</td><td>3</td></tr>",
                            "<tr><td>NANDORF</td><td>Fő Nándor</td><td>2017-02-05</td><td>2017-02-08</td><td>3</td><td>6</td></tr>",
                            "<tr><td>nikolett3</td><td>Horváth Nikolett</td><td>2016-05-24</td><td>2016-05-29</td><td>2</td><td>NULL</td></tr>",
                            "<tr><td>nikolett3</td><td>Horváth Nikolett</td><td>2016-06-03</td><td>2016-06-09</td><td>1</td><td>2</td></tr>",
                            "<tr><td>nikolett3</td><td>Horváth Nikolett</td><td>2016-06-22</td><td>2016-06-24</td><td>1</td><td>3</td></tr>",
                            "<tr><td>nikolett3</td><td>Horváth Nikolett</td><td>2016-10-22</td><td>2016-10-29</td><td>3</td><td>4</td></tr>",
                            "<tr><td>nikoletta4</td><td>Kő Nikoletta</td><td>2016-04-08</td><td>2016-04-10</td><td>2</td><td>NULL</td></tr>",
                            "<tr><td>nikoletta4</td><td>Kő Nikoletta</td><td>2016-05-09</td><td>2016-05-15</td><td>2</td><td>2</td></tr>",
                            "<tr><td>nikoletta4</td><td>Kő Nikoletta</td><td>2016-08-13</td><td>2016-08-17</td><td>3</td><td>4</td></tr>",
                            "<tr><td>nikoletta4</td><td>Kő Nikoletta</td><td>2016-05-30</td><td>2016-06-03</td><td>3</td><td>7</td></tr>",
                            "<tr><td>nikoletta4</td><td>Kő Nikoletta</td><td>2016-06-29</td><td>2016-07-06</td><td>2</td><td>8</td></tr>",
                            "<tr><td>nikoletta4</td><td>Kő Nikoletta</td><td>2016-12-08</td><td>2016-12-10</td><td>5</td><td>8</td></tr>",
                            "<tr><td>nikoletta4</td><td>Kő Nikoletta</td><td>2017-02-01</td><td>2017-02-04</td><td>2</td><td>10</td></tr>",
                            "<tr><td>NIKOLETTAT</td><td>Tatár Nikoletta</td><td>2016-05-22</td><td>2016-05-23</td><td>4</td><td>NULL</td></tr>",
                            "<tr><td>NIKOLETTAT</td><td>Tatár Nikoletta</td><td>2016-07-27</td><td>2016-07-29</td><td>4</td><td>4</td></tr>",
                            "<tr><td>NIKOLETTAT</td><td>Tatár Nikoletta</td><td>2016-06-07</td><td>2016-06-09</td><td>2</td><td>8</td></tr>",
                            "<tr><td>NIKOLETTAT</td><td>Tatár Nikoletta</td><td>2016-09-21</td><td>2016-09-26</td><td>2</td><td>10</td></tr>",
                            "<tr><td>norbert</td><td>Szűcs Norbert</td><td>2016-07-08</td><td>2016-07-13</td><td>1</td><td>NULL</td></tr>",
                            "<tr><td>norbert</td><td>Szűcs Norbert</td><td>2016-11-16</td><td>2016-11-23</td><td>3</td><td>1</td></tr>",
                            "<tr><td>norbert</td><td>Szűcs Norbert</td><td>2016-12-15</td><td>2016-12-18</td><td>2</td><td>4</td></tr>",
                            "<tr><td>norbert</td><td>Szűcs Norbert</td><td>2017-02-13</td><td>2017-02-15</td><td>3</td><td>6</td></tr>",
                            "<tr><td>norbert</td><td>Szűcs Norbert</td><td>2017-02-26</td><td>2017-03-01</td><td>1</td><td>8</td></tr>",
                            "<tr><td>norbert2</td><td>Hegedűs Norbert</td><td>2016-04-19</td><td>2016-04-26</td><td>1</td><td>NULL</td></tr>",
                            "<tr><td>norbert2</td><td>Hegedűs Norbert</td><td>2016-05-09</td><td>2016-05-10</td><td>2</td><td>1</td></tr>",
                            "<tr><td>norbert2</td><td>Hegedűs Norbert</td><td>2016-07-27</td><td>2016-08-02</td><td>2</td><td>3</td></tr>",
                            "<tr><td>norbert2</td><td>Hegedűs Norbert</td><td>2016-08-16</td><td>2016-08-19</td><td>1</td><td>5</td></tr>",
                            "<tr><td>norbert2</td><td>Hegedűs Norbert</td><td>2016-07-13</td><td>2016-07-15</td><td>3</td><td>5</td></tr>",
                            "<tr><td>norbert2</td><td>Hegedűs Norbert</td><td>2016-10-31</td><td>2016-11-07</td><td>2</td><td>6</td></tr>",
                            "<tr><td>norbert2</td><td>Hegedűs Norbert</td><td>2017-01-29</td><td>2017-02-05</td><td>3</td><td>6</td></tr>",
                            "<tr><td>norbert4</td><td>Mile Norbert</td><td>2016-04-10</td><td>2016-04-13</td><td>2</td><td>NULL</td></tr>",
                            "<tr><td>norbert4</td><td>Mile Norbert</td><td>2016-05-29</td><td>2016-06-03</td><td>3</td><td>2</td></tr>",
                            "<tr><td>norbert4</td><td>Mile Norbert</td><td>2016-06-16</td><td>2016-06-17</td><td>4</td><td>5</td></tr>",
                            "<tr><td>norbert4</td><td>Mile Norbert</td><td>2016-06-16</td><td>2016-06-21</td><td>3</td><td>9</td></tr>",
                            "<tr><td>norbert4</td><td>Mile Norbert</td><td>2016-10-05</td><td>2016-10-10</td><td>3</td><td>10</td></tr>",
                            "<tr><td>norbert4</td><td>Mile Norbert</td><td>2016-10-28</td><td>2016-10-31</td><td>3</td><td>10</td></tr>",
                            "<tr><td>norbert4</td><td>Mile Norbert</td><td>2016-11-30</td><td>2016-12-06</td><td>3</td><td>9</td></tr>",
                            "<tr><td>norbert4</td><td>Mile Norbert</td><td>2017-02-16</td><td>2017-02-17</td><td>1</td><td>9</td></tr>",
                            "<tr><td>norbert4</td><td>Mile Norbert</td><td>2017-03-03</td><td>2017-03-07</td><td>2</td><td>7</td></tr>",
                            "<tr><td>norbert5</td><td>Béres Norbert</td><td>2016-08-10</td><td>2016-08-11</td><td>2</td><td>NULL</td></tr>",
                            "<tr><td>norbert5</td><td>Béres Norbert</td><td>2016-06-24</td><td>2016-06-28</td><td>2</td><td>2</td></tr>",
                            "<tr><td>norbert5</td><td>Béres Norbert</td><td>2016-11-05</td><td>2016-11-07</td><td>1</td><td>4</td></tr>",
                            "<tr><td>pal</td><td>Barabás Pál</td><td>2016-08-14</td><td>2016-08-18</td><td>3</td><td>NULL</td></tr>",
                            "<tr><td>pal</td><td>Barabás Pál</td><td>2016-09-16</td><td>2016-09-19</td><td>2</td><td>3</td></tr>",
                            "<tr><td>pal</td><td>Barabás Pál</td><td>2016-12-17</td><td>2016-12-23</td><td>3</td><td>5</td></tr>",
                            "<tr><td>pal</td><td>Barabás Pál</td><td>2017-02-13</td><td>2017-02-19</td><td>3</td><td>8</td></tr>",
                            "<tr><td>pal</td><td>Barabás Pál</td><td>2017-02-20</td><td>2017-02-22</td><td>3</td><td>8</td></tr>",
                            "<tr><td>peter1</td><td>Kozma Péter</td><td>2016-07-14</td><td>2016-07-18</td><td>3</td><td>NULL</td></tr>",
                            "<tr><td>peter1</td><td>Kozma Péter</td><td>2016-10-26</td><td>2016-11-01</td><td>3</td><td>3</td></tr>",
                            "<tr><td>peter1</td><td>Kozma Péter</td><td>2017-02-23</td><td>2017-02-26</td><td>3</td><td>6</td></tr>",
                            "<tr><td>peter1</td><td>Kozma Péter</td><td>2017-02-28</td><td>2017-03-05</td><td>3</td><td>9</td></tr>",
                            "<tr><td>peter2</td><td>Bozsó Péter</td><td>2016-07-03</td><td>2016-07-08</td><td>2</td><td>NULL</td></tr>",
                            "<tr><td>peter2</td><td>Bozsó Péter</td><td>2016-10-10</td><td>2016-10-16</td><td>2</td><td>2</td></tr>",
                            "<tr><td>peter2</td><td>Bozsó Péter</td><td>2016-11-01</td><td>2016-11-02</td><td>2</td><td>4</td></tr>",
                            "<tr><td>peter2</td><td>Bozsó Péter</td><td>2016-11-15</td><td>2016-11-21</td><td>3</td><td>6</td></tr>",
                            "<tr><td>peter3</td><td>Szalai Péter</td><td>2016-07-27</td><td>2016-07-31</td><td>4</td><td>NULL</td></tr>",
                            "<tr><td>peter3</td><td>Szalai Péter</td><td>2016-06-30</td><td>2016-07-05</td><td>3</td><td>4</td></tr>",
                            "<tr><td>peter3</td><td>Szalai Péter</td><td>2016-10-30</td><td>2016-11-06</td><td>2</td><td>7</td></tr>",
                            "<tr><td>peter3</td><td>Szalai Péter</td><td>2016-12-25</td><td>2016-12-28</td><td>1</td><td>9</td></tr>",
                            "<tr><td>peter3</td><td>Szalai Péter</td><td>2017-01-12</td><td>2017-01-17</td><td>1</td><td>6</td></tr>",
                            "<tr><td>peter3</td><td>Szalai Péter</td><td>2017-02-21</td><td>2017-02-24</td><td>2</td><td>4</td></tr>",
                            "<tr><td>peter4</td><td>Bíró Péter</td><td>2016-04-12</td><td>2016-04-15</td><td>3</td><td>NULL</td></tr>",
                            "<tr><td>peter4</td><td>Bíró Péter</td><td>2016-08-06</td><td>2016-08-13</td><td>2</td><td>3</td></tr>",
                            "<tr><td>peter4</td><td>Bíró Péter</td><td>2016-08-24</td><td>2016-08-25</td><td>3</td><td>5</td></tr>",
                            "<tr><td>peter4</td><td>Bíró Péter</td><td>2016-09-11</td><td>2016-09-17</td><td>4</td><td>8</td></tr>",
                            "<tr><td>peter4</td><td>Bíró Péter</td><td>2016-09-25</td><td>2016-09-26</td><td>3</td><td>9</td></tr>",
                            "<tr><td>peter4</td><td>Bíró Péter</td><td>2016-09-30</td><td>2016-10-06</td><td>3</td><td>10</td></tr>",
                            "<tr><td>peter4</td><td>Bíró Péter</td><td>2016-10-09</td><td>2016-10-16</td><td>3</td><td>10</td></tr>",
                            "<tr><td>peter4</td><td>Bíró Péter</td><td>2016-10-24</td><td>2016-10-25</td><td>2</td><td>9</td></tr>",
                            "<tr><td>peter4</td><td>Bíró Péter</td><td>2016-10-30</td><td>2016-11-01</td><td>3</td><td>8</td></tr>",
                            "<tr><td>peter4</td><td>Bíró Péter</td><td>2016-11-10</td><td>2016-11-17</td><td>3</td><td>8</td></tr>",
                            "<tr><td>peter4</td><td>Bíró Péter</td><td>2016-11-25</td><td>2016-11-30</td><td>3</td><td>8</td></tr>",
                            "<tr><td>peter4</td><td>Bíró Péter</td><td>2017-02-05</td><td>2017-02-09</td><td>3</td><td>9</td></tr>",
                            "<tr><td>PETERB</td><td>Berendi Péter</td><td>2016-04-06</td><td>2016-04-10</td><td>1</td><td>NULL</td></tr>",
                            "<tr><td>PETERB</td><td>Berendi Péter</td><td>2016-07-20</td><td>2016-07-24</td><td>2</td><td>1</td></tr>",
                            "<tr><td>PETERB</td><td>Berendi Péter</td><td>2016-08-16</td><td>2016-08-23</td><td>1</td><td>3</td></tr>",
                            "<tr><td>PETERB</td><td>Berendi Péter</td><td>2016-10-19</td><td>2016-10-20</td><td>4</td><td>4</td></tr>",
                            "<tr><td>PETERB</td><td>Berendi Péter</td><td>2016-11-17</td><td>2016-11-20</td><td>2</td><td>7</td></tr>",
                            "<tr><td>polla</td><td>Palágyi Polla</td><td>2016-04-17</td><td>2016-04-22</td><td>3</td><td>NULL</td></tr>",
                            "<tr><td>polla</td><td>Palágyi Polla</td><td>2016-08-14</td><td>2016-08-17</td><td>2</td><td>3</td></tr>",
                            "<tr><td>polla</td><td>Palágyi Polla</td><td>2016-08-16</td><td>2016-08-19</td><td>4</td><td>5</td></tr>",
                            "<tr><td>polla</td><td>Palágyi Polla</td><td>2016-05-28</td><td>2016-06-04</td><td>2</td><td>9</td></tr>",
                            "<tr><td>polla</td><td>Palágyi Polla</td><td>2017-01-29</td><td>2017-02-01</td><td>2</td><td>8</td></tr>",
                            "<tr><td>polla</td><td>Palágyi Polla</td><td>2017-02-11</td><td>2017-02-16</td><td>2</td><td>8</td></tr>",
                            "<tr><td>rajmond4</td><td>Rácz Rajmond</td><td>2016-09-05</td><td>2016-09-07</td><td>3</td><td>NULL</td></tr>",
                            "<tr><td>rajmond4</td><td>Rácz Rajmond</td><td>2016-10-03</td><td>2016-10-04</td><td>3</td><td>3</td></tr>",
                            "<tr><td>rajmond4</td><td>Rácz Rajmond</td><td>2016-11-08</td><td>2016-11-09</td><td>4</td><td>6</td></tr>",
                            "<tr><td>rajmond4</td><td>Rácz Rajmond</td><td>2016-11-16</td><td>2016-11-20</td><td>2</td><td>10</td></tr>",
                            "<tr><td>reka4</td><td>Szikszai Réka</td><td>2016-07-27</td><td>2016-07-31</td><td>2</td><td>NULL</td></tr>",
                            "<tr><td>reka4</td><td>Szikszai Réka</td><td>2016-08-02</td><td>2016-08-04</td><td>4</td><td>2</td></tr>",
                            "<tr><td>reka4</td><td>Szikszai Réka</td><td>2016-09-05</td><td>2016-09-07</td><td>3</td><td>6</td></tr>",
                            "<tr><td>reka4</td><td>Szikszai Réka</td><td>2016-09-30</td><td>2016-10-06</td><td>2</td><td>9</td></tr>",
                            "<tr><td>reka4</td><td>Szikszai Réka</td><td>2017-02-26</td><td>2017-03-04</td><td>2</td><td>9</td></tr>",
                            "<tr><td>RENATAK</td><td>Kardos Renáta</td><td>2016-10-27</td><td>2016-10-29</td><td>4</td><td>NULL</td></tr>",
                            "<tr><td>RENATAK</td><td>Kardos Renáta</td><td>2016-10-30</td><td>2016-10-31</td><td>1</td><td>4</td></tr>",
                            "<tr><td>RENATAK</td><td>Kardos Renáta</td><td>2016-11-23</td><td>2016-11-26</td><td>1</td><td>5</td></tr>",
                            "<tr><td>RENATAK</td><td>Kardos Renáta</td><td>2017-01-23</td><td>2017-01-24</td><td>3</td><td>6</td></tr>",
                            "<tr><td>RENATAK</td><td>Kardos Renáta</td><td>2017-02-16</td><td>2017-02-23</td><td>1</td><td>5</td></tr>",
                            "<tr><td>RENATAK</td><td>Kardos Renáta</td><td>2017-03-01</td><td>2017-03-06</td><td>1</td><td>5</td></tr>",
                            "<tr><td>RENATAS</td><td>Szirmai Renáta</td><td>2016-05-04</td><td>2016-05-11</td><td>2</td><td>NULL</td></tr>",
                            "<tr><td>RENATAS</td><td>Szirmai Renáta</td><td>2016-05-11</td><td>2016-05-16</td><td>2</td><td>2</td></tr>",
                            "<tr><td>RENATAS</td><td>Szirmai Renáta</td><td>2016-06-24</td><td>2016-06-30</td><td>5</td><td>4</td></tr>",
                            "<tr><td>RENATAS</td><td>Szirmai Renáta</td><td>2017-02-13</td><td>2017-02-17</td><td>1</td><td>9</td></tr>",
                            "<tr><td>RENATAS</td><td>Szirmai Renáta</td><td>2017-02-14</td><td>2017-02-17</td><td>2</td><td>8</td></tr>",
                            "<tr><td>robert2</td><td>Patay Róbert</td><td>2016-05-15</td><td>2016-05-18</td><td>2</td><td>NULL</td></tr>",
                            "<tr><td>robert2</td><td>Patay Róbert</td><td>2016-08-20</td><td>2016-08-27</td><td>2</td><td>2</td></tr>",
                            "<tr><td>robert2</td><td>Patay Róbert</td><td>2016-10-23</td><td>2016-10-28</td><td>3</td><td>4</td></tr>",
                            "<tr><td>robert2</td><td>Patay Róbert</td><td>2016-12-17</td><td>2016-12-22</td><td>1</td><td>7</td></tr>",
                            "<tr><td>ROBERTI</td><td>Iván Róbert</td><td>2016-08-16</td><td>2016-08-21</td><td>2</td><td>NULL</td></tr>",
                            "<tr><td>ROBERTI</td><td>Iván Róbert</td><td>2016-08-23</td><td>2016-08-25</td><td>2</td><td>2</td></tr>",
                            "<tr><td>ROBERTI</td><td>Iván Róbert</td><td>2016-07-12</td><td>2016-07-19</td><td>4</td><td>4</td></tr>",
                            "<tr><td>ROBERTI</td><td>Iván Róbert</td><td>2016-10-08</td><td>2016-10-12</td><td>3</td><td>8</td></tr>",
                            "<tr><td>ROBERTI</td><td>Iván Róbert</td><td>2016-10-09</td><td>2016-10-10</td><td>2</td><td>9</td></tr>",
                            "<tr><td>ROBERTI</td><td>Iván Róbert</td><td>2016-10-23</td><td>2016-10-29</td><td>1</td><td>9</td></tr>",
                            "<tr><td>ROBERTI</td><td>Iván Róbert</td><td>2016-10-26</td><td>2016-11-01</td><td>2</td><td>6</td></tr>",
                            "<tr><td>ROBERTI</td><td>Iván Róbert</td><td>2017-02-17</td><td>2017-02-20</td><td>2</td><td>5</td></tr>",
                            "<tr><td>ROBERTP</td><td>Pásztor Róbert</td><td>2016-07-30</td><td>2016-08-05</td><td>2</td><td>NULL</td></tr>",
                            "<tr><td>ROBERTP</td><td>Pásztor Róbert</td><td>2016-09-08</td><td>2016-09-11</td><td>4</td><td>2</td></tr>",
                            "<tr><td>roland</td><td>Tóth Roland</td><td>2016-09-04</td><td>2016-09-05</td><td>2</td><td>NULL</td></tr>",
                            "<tr><td>roland</td><td>Tóth Roland</td><td>2016-06-09</td><td>2016-06-13</td><td>3</td><td>2</td></tr>",
                            "<tr><td>roland</td><td>Tóth Roland</td><td>2016-06-22</td><td>2016-06-23</td><td>3</td><td>5</td></tr>",
                            "<tr><td>roland</td><td>Tóth Roland</td><td>2016-11-19</td><td>2016-11-24</td><td>2</td><td>8</td></tr>",
                            "<tr><td>roland1</td><td>Ferencz Roland</td><td>2016-11-05</td><td>2016-11-07</td><td>3</td><td>NULL</td></tr>",
                            "<tr><td>roland1</td><td>Ferencz Roland</td><td>2016-12-22</td><td>2016-12-29</td><td>1</td><td>3</td></tr>",
                            "<tr><td>roland1</td><td>Ferencz Roland</td><td>2017-01-04</td><td>2017-01-08</td><td>3</td><td>4</td></tr>",
                            "<tr><td>roland1</td><td>Ferencz Roland</td><td>2017-01-16</td><td>2017-01-22</td><td>2</td><td>7</td></tr>",
                            "<tr><td>roza2</td><td>Bucskó Róza</td><td>2016-09-10</td><td>2016-09-13</td><td>2</td><td>NULL</td></tr>",
                            "<tr><td>roza2</td><td>Bucskó Róza</td><td>2017-01-11</td><td>2017-01-17</td><td>3</td><td>2</td></tr>",
                            "<tr><td>roza2</td><td>Bucskó Róza</td><td>2017-02-18</td><td>2017-02-21</td><td>3</td><td>5</td></tr>",
                            "<tr><td>sandor</td><td>Karasz Sándor</td><td>2016-07-18</td><td>2016-07-24</td><td>2</td><td>NULL</td></tr>",
                            "<tr><td>sandor</td><td>Karasz Sándor</td><td>2016-08-20</td><td>2016-08-25</td><td>2</td><td>2</td></tr>",
                            "<tr><td>sandor</td><td>Karasz Sándor</td><td>2016-07-04</td><td>2016-07-06</td><td>2</td><td>4</td></tr>",
                            "<tr><td>sandor</td><td>Karasz Sándor</td><td>2016-09-19</td><td>2016-09-26</td><td>4</td><td>6</td></tr>",
                            "<tr><td>sandor3</td><td>Farkas Sándor</td><td>2016-05-12</td><td>2016-05-15</td><td>2</td><td>NULL</td></tr>",
                            "<tr><td>sandor3</td><td>Farkas Sándor</td><td>2016-05-25</td><td>2016-05-30</td><td>1</td><td>2</td></tr>",
                            "<tr><td>sandor3</td><td>Farkas Sándor</td><td>2016-10-09</td><td>2016-10-14</td><td>2</td><td>3</td></tr>",
                            "<tr><td>sandor3</td><td>Farkas Sándor</td><td>2016-10-23</td><td>2016-10-29</td><td>3</td><td>5</td></tr>",
                            "<tr><td>sandor3</td><td>Farkas Sándor</td><td>2016-11-10</td><td>2016-11-11</td><td>2</td><td>6</td></tr>",
                            "<tr><td>sandor4</td><td>Nagy Sándor</td><td>2016-10-15</td><td>2016-10-18</td><td>1</td><td>NULL</td></tr>",
                            "<tr><td>sandor4</td><td>Nagy Sándor</td><td>2016-11-29</td><td>2016-12-03</td><td>2</td><td>1</td></tr>",
                            "<tr><td>sandor4</td><td>Nagy Sándor</td><td>2016-12-03</td><td>2016-12-09</td><td>1</td><td>3</td></tr>",
                            "<tr><td>sandor4</td><td>Nagy Sándor</td><td>2017-01-22</td><td>2017-01-26</td><td>2</td><td>4</td></tr>",
                            "<tr><td>sara</td><td>Farkas Sára</td><td>2016-07-15</td><td>2016-07-17</td><td>3</td><td>NULL</td></tr>",
                            "<tr><td>sara</td><td>Farkas Sára</td><td>2016-07-24</td><td>2016-07-27</td><td>3</td><td>3</td></tr>",
                            "<tr><td>sara</td><td>Farkas Sára</td><td>2016-05-28</td><td>2016-05-30</td><td>2</td><td>6</td></tr>",
                            "<tr><td>sara</td><td>Farkas Sára</td><td>2016-05-30</td><td>2016-05-31</td><td>2</td><td>8</td></tr>",
                            "<tr><td>sara</td><td>Farkas Sára</td><td>2016-06-06</td><td>2016-06-08</td><td>2</td><td>7</td></tr>",
                            "<tr><td>sara</td><td>Farkas Sára</td><td>2016-10-06</td><td>2016-10-12</td><td>3</td><td>6</td></tr>",
                            "<tr><td>sara</td><td>Farkas Sára</td><td>2016-10-11</td><td>2016-10-14</td><td>3</td><td>7</td></tr>",
                            "<tr><td>sara</td><td>Farkas Sára</td><td>2016-10-28</td><td>2016-11-03</td><td>2</td><td>8</td></tr>",
                            "<tr><td>sara</td><td>Farkas Sára</td><td>2016-11-18</td><td>2016-11-21</td><td>3</td><td>8</td></tr>",
                            "<tr><td>sara</td><td>Farkas Sára</td><td>2016-11-23</td><td>2016-11-30</td><td>4</td><td>8</td></tr>",
                            "<tr><td>sara</td><td>Farkas Sára</td><td>2016-12-06</td><td>2016-12-10</td><td>1</td><td>9</td></tr>",
                            "<tr><td>sara</td><td>Farkas Sára</td><td>2016-12-25</td><td>2016-12-30</td><td>2</td><td>8</td></tr>",
                            "<tr><td>SEBASTIANF</td><td>Foltényi Sebastián</td><td>2016-04-06</td><td>2016-04-12</td><td>2</td><td>NULL</td></tr>",
                            "<tr><td>SEBASTIANF</td><td>Foltényi Sebastián</td><td>2016-07-17</td><td>2016-07-21</td><td>2</td><td>2</td></tr>",
                            "<tr><td>SEBASTIANF</td><td>Foltényi Sebastián</td><td>2016-07-30</td><td>2016-08-06</td><td>4</td><td>4</td></tr>",
                            "<tr><td>SEBASTIANF</td><td>Foltényi Sebastián</td><td>2016-09-14</td><td>2016-09-15</td><td>3</td><td>8</td></tr>",
                            "<tr><td>SEBASTIANF</td><td>Foltényi Sebastián</td><td>2016-09-17</td><td>2016-09-20</td><td>3</td><td>9</td></tr>",
                            "<tr><td>sebestyen</td><td>Rab Sebestyén</td><td>2016-04-07</td><td>2016-04-12</td><td>4</td><td>NULL</td></tr>",
                            "<tr><td>sebestyen</td><td>Rab Sebestyén</td><td>2016-04-26</td><td>2016-05-02</td><td>4</td><td>4</td></tr>",
                            "<tr><td>sebestyen</td><td>Rab Sebestyén</td><td>2016-06-09</td><td>2016-06-14</td><td>4</td><td>8</td></tr>",
                            "<tr><td>sebestyen</td><td>Rab Sebestyén</td><td>2016-10-26</td><td>2016-11-01</td><td>5</td><td>12</td></tr>",
                            "<tr><td>szabolcs</td><td>Bodor Szabolcs</td><td>2016-12-05</td><td>2016-12-07</td><td>2</td><td>NULL</td></tr>",
                            "<tr><td>SZABOLCSM</td><td>Miklós Szabolcs</td><td>2016-07-28</td><td>2016-08-03</td><td>2</td><td>NULL</td></tr>",
                            "<tr><td>SZABOLCSM</td><td>Miklós Szabolcs</td><td>2016-06-18</td><td>2016-06-21</td><td>3</td><td>2</td></tr>",
                            "<tr><td>SZABOLCSM</td><td>Miklós Szabolcs</td><td>2016-10-17</td><td>2016-10-19</td><td>2</td><td>5</td></tr>",
                            "<tr><td>SZABOLCSM</td><td>Miklós Szabolcs</td><td>2016-10-28</td><td>2016-11-03</td><td>3</td><td>7</td></tr>",
                            "<tr><td>SZABOLCSM</td><td>Miklós Szabolcs</td><td>2016-11-12</td><td>2016-11-13</td><td>2</td><td>8</td></tr>",
                            "<tr><td>SZABOLCSM</td><td>Miklós Szabolcs</td><td>2017-01-07</td><td>2017-01-08</td><td>2</td><td>7</td></tr>",
                            "<tr><td>SZABOLCSM</td><td>Miklós Szabolcs</td><td>2017-02-04</td><td>2017-02-05</td><td>3</td><td>7</td></tr>",
                            "<tr><td>SZILARDS</td><td>Szalai Szilárd</td><td>2016-04-23</td><td>2016-04-30</td><td>3</td><td>NULL</td></tr>",
                            "<tr><td>SZILARDS</td><td>Szalai Szilárd</td><td>2016-07-27</td><td>2016-08-03</td><td>5</td><td>3</td></tr>",
                            "<tr><td>SZILARDS</td><td>Szalai Szilárd</td><td>2016-08-28</td><td>2016-08-29</td><td>4</td><td>8</td></tr>",
                            "<tr><td>SZILARDS</td><td>Szalai Szilárd</td><td>2016-09-20</td><td>2016-09-24</td><td>3</td><td>12</td></tr>",
                            "<tr><td>SZILARDS</td><td>Szalai Szilárd</td><td>2016-10-01</td><td>2016-10-08</td><td>3</td><td>12</td></tr>",
                            "<tr><td>SZILARDS</td><td>Szalai Szilárd</td><td>2017-01-16</td><td>2017-01-19</td><td>3</td><td>10</td></tr>",
                            "<tr><td>SZILARDS</td><td>Szalai Szilárd</td><td>2017-02-08</td><td>2017-02-15</td><td>1</td><td>9</td></tr>",
                            "<tr><td>szilvia1</td><td>Tari Szilvia</td><td>2016-05-14</td><td>2016-05-21</td><td>2</td><td>NULL</td></tr>",
                            "<tr><td>szilvia1</td><td>Tari Szilvia</td><td>2016-07-25</td><td>2016-07-28</td><td>2</td><td>2</td></tr>",
                            "<tr><td>szilvia1</td><td>Tari Szilvia</td><td>2016-05-28</td><td>2016-06-03</td><td>2</td><td>4</td></tr>",
                            "<tr><td>szilvia1</td><td>Tari Szilvia</td><td>2016-10-09</td><td>2016-10-10</td><td>3</td><td>6</td></tr>",
                            "<tr><td>szilvia1</td><td>Tari Szilvia</td><td>2016-10-25</td><td>2016-10-31</td><td>3</td><td>7</td></tr>",
                            "<tr><td>szilvia1</td><td>Tari Szilvia</td><td>2016-10-27</td><td>2016-10-28</td><td>2</td><td>8</td></tr>",
                            "<tr><td>szilvia1</td><td>Tari Szilvia</td><td>2016-12-25</td><td>2016-12-29</td><td>5</td><td>8</td></tr>",
                            "<tr><td>szilvia1</td><td>Tari Szilvia</td><td>2016-12-27</td><td>2017-01-02</td><td>2</td><td>10</td></tr>",
                            "<tr><td>szilvia1</td><td>Tari Szilvia</td><td>2017-01-28</td><td>2017-02-03</td><td>2</td><td>9</td></tr>",
                            "<tr><td>tamara2</td><td>Miklós Tamara</td><td>2016-08-12</td><td>2016-08-15</td><td>3</td><td>NULL</td></tr>",
                            "<tr><td>tamara2</td><td>Miklós Tamara</td><td>2016-11-15</td><td>2016-11-18</td><td>2</td><td>3</td></tr>",
                            "<tr><td>tamas</td><td>Antal Tamás</td><td>2016-05-17</td><td>2016-05-22</td><td>2</td><td>NULL</td></tr>",
                            "<tr><td>tamas</td><td>Antal Tamás</td><td>2016-08-24</td><td>2016-08-27</td><td>3</td><td>2</td></tr>",
                            "<tr><td>tamas</td><td>Antal Tamás</td><td>2016-06-14</td><td>2016-06-21</td><td>2</td><td>5</td></tr>",
                            "<tr><td>tamas</td><td>Antal Tamás</td><td>2017-02-14</td><td>2017-02-19</td><td>3</td><td>7</td></tr>",
                            "<tr><td>TAMASF</td><td>Fényes Tamás</td><td>2016-05-03</td><td>2016-05-04</td><td>2</td><td>NULL</td></tr>",
                            "<tr><td>TAMASF</td><td>Fényes Tamás</td><td>2016-06-10</td><td>2016-06-13</td><td>3</td><td>2</td></tr>",
                            "<tr><td>TAMASF</td><td>Fényes Tamás</td><td>2016-06-28</td><td>2016-07-05</td><td>3</td><td>5</td></tr>",
                            "<tr><td>TAMASF</td><td>Fényes Tamás</td><td>2016-07-04</td><td>2016-07-10</td><td>2</td><td>8</td></tr>",
                            "<tr><td>TAMASF</td><td>Fényes Tamás</td><td>2016-09-12</td><td>2016-09-18</td><td>3</td><td>8</td></tr>",
                            "<tr><td>TAMASF</td><td>Fényes Tamás</td><td>2016-12-02</td><td>2016-12-04</td><td>1</td><td>8</td></tr>",
                            "<tr><td>TAMASF</td><td>Fényes Tamás</td><td>2016-12-10</td><td>2016-12-14</td><td>3</td><td>6</td></tr>",
                            "<tr><td>TAMASF</td><td>Fényes Tamás</td><td>2017-02-12</td><td>2017-02-17</td><td>2</td><td>7</td></tr>",
                            "<tr><td>TAMASF</td><td>Fényes Tamás</td><td>2017-02-16</td><td>2017-02-19</td><td>4</td><td>6</td></tr>",
                            "<tr><td>tibor</td><td>Gombos Tibor</td><td>2016-10-09</td><td>2016-10-13</td><td>2</td><td>NULL</td></tr>",
                            "<tr><td>tibor</td><td>Gombos Tibor</td><td>2016-11-05</td><td>2016-11-09</td><td>1</td><td>2</td></tr>",
                            "<tr><td>tibor2</td><td>Dániel Tibor</td><td>2016-10-20</td><td>2016-10-25</td><td>2</td><td>NULL</td></tr>",
                            "<tr><td>tihamer</td><td>Kazy Tihamér</td><td>2016-07-20</td><td>2016-07-24</td><td>3</td><td>NULL</td></tr>",
                            "<tr><td>tihamer</td><td>Kazy Tihamér</td><td>2016-08-18</td><td>2016-08-22</td><td>3</td><td>3</td></tr>",
                            "<tr><td>tihamer</td><td>Kazy Tihamér</td><td>2016-05-30</td><td>2016-06-05</td><td>1</td><td>6</td></tr>",
                            "<tr><td>tihamer</td><td>Kazy Tihamér</td><td>2016-06-03</td><td>2016-06-08</td><td>5</td><td>7</td></tr>",
                            "<tr><td>tihamer</td><td>Kazy Tihamér</td><td>2016-10-19</td><td>2016-10-23</td><td>2</td><td>9</td></tr>",
                            "<tr><td>tihamer</td><td>Kazy Tihamér</td><td>2016-12-25</td><td>2016-12-26</td><td>2</td><td>8</td></tr>",
                            "<tr><td>timea</td><td>Papós Tímea</td><td>2016-12-26</td><td>2016-12-27</td><td>2</td><td>NULL</td></tr>",
                            "<tr><td>timea2</td><td>Dusha Tímea</td><td>2016-08-07</td><td>2016-08-10</td><td>3</td><td>NULL</td></tr>",
                            "<tr><td>timea2</td><td>Dusha Tímea</td><td>2016-06-06</td><td>2016-06-07</td><td>2</td><td>3</td></tr>",
                            "<tr><td>timea2</td><td>Dusha Tímea</td><td>2016-10-26</td><td>2016-10-29</td><td>3</td><td>5</td></tr>",
                            "<tr><td>timea2</td><td>Dusha Tímea</td><td>2016-11-27</td><td>2016-12-01</td><td>4</td><td>8</td></tr>",
                            "<tr><td>timea2</td><td>Dusha Tímea</td><td>2016-12-14</td><td>2016-12-16</td><td>4</td><td>9</td></tr>",
                            "<tr><td>tunde</td><td>Turcsik Tünde</td><td>2016-07-14</td><td>2016-07-21</td><td>1</td><td>NULL</td></tr>",
                            "<tr><td>tunde</td><td>Turcsik Tünde</td><td>2016-09-05</td><td>2016-09-12</td><td>2</td><td>1</td></tr>",
                            "<tr><td>tunde</td><td>Turcsik Tünde</td><td>2016-06-03</td><td>2016-06-07</td><td>3</td><td>3</td></tr>",
                            "<tr><td>tunde</td><td>Turcsik Tünde</td><td>2016-06-06</td><td>2016-06-12</td><td>3</td><td>6</td></tr>",
                            "<tr><td>tunde</td><td>Turcsik Tünde</td><td>2016-10-24</td><td>2016-10-30</td><td>3</td><td>8</td></tr>",
                            "<tr><td>tunde</td><td>Turcsik Tünde</td><td>2016-11-19</td><td>2016-11-20</td><td>3</td><td>9</td></tr>",
                            "<tr><td>tunde</td><td>Turcsik Tünde</td><td>2016-12-15</td><td>2016-12-20</td><td>3</td><td>9</td></tr>",
                            "<tr><td>tunde</td><td>Turcsik Tünde</td><td>2017-01-03</td><td>2017-01-06</td><td>5</td><td>9</td></tr>",
                            "<tr><td>valentin</td><td>Feró Valentin</td><td>2016-07-24</td><td>2016-07-29</td><td>1</td><td>NULL</td></tr>",
                            "<tr><td>valentin</td><td>Feró Valentin</td><td>2016-05-24</td><td>2016-05-30</td><td>4</td><td>1</td></tr>",
                            "<tr><td>valentin</td><td>Feró Valentin</td><td>2016-10-26</td><td>2016-10-30</td><td>3</td><td>5</td></tr>",
                            "<tr><td>valentin</td><td>Feró Valentin</td><td>2016-11-11</td><td>2016-11-17</td><td>3</td><td>8</td></tr>",
                            "<tr><td>valentin</td><td>Feró Valentin</td><td>2016-12-01</td><td>2016-12-05</td><td>3</td><td>10</td></tr>",
                            "<tr><td>veronika4</td><td>Tankó Veronika</td><td>2016-07-20</td><td>2016-07-26</td><td>3</td><td>NULL</td></tr>",
                            "<tr><td>veronika4</td><td>Tankó Veronika</td><td>2016-08-16</td><td>2016-08-21</td><td>1</td><td>3</td></tr>",
                            "<tr><td>veronika4</td><td>Tankó Veronika</td><td>2016-05-30</td><td>2016-06-04</td><td>2</td><td>4</td></tr>",
                            "<tr><td>veronika4</td><td>Tankó Veronika</td><td>2016-09-26</td><td>2016-10-03</td><td>2</td><td>6</td></tr>",
                            "<tr><td>veronika4</td><td>Tankó Veronika</td><td>2017-01-19</td><td>2017-01-24</td><td>3</td><td>5</td></tr>",
                            "<tr><td>veronika4</td><td>Tankó Veronika</td><td>2017-02-03</td><td>2017-02-05</td><td>2</td><td>7</td></tr>",
                            "<tr><td>VIKTORIAU</td><td>Urbán Viktoria</td><td>2016-04-30</td><td>2016-05-03</td><td>1</td><td>NULL</td></tr>",
                            "<tr><td>VIKTORIAU</td><td>Urbán Viktoria</td><td>2016-08-03</td><td>2016-08-04</td><td>2</td><td>1</td></tr>",
                            "<tr><td>VIKTORIAU</td><td>Urbán Viktoria</td><td>2016-10-14</td><td>2016-10-15</td><td>3</td><td>3</td></tr>",
                            "<tr><td>VIKTORIAU</td><td>Urbán Viktoria</td><td>2016-10-26</td><td>2016-11-02</td><td>4</td><td>6</td></tr>",
                            "<tr><td>VIKTORK</td><td>Keresztúri Viktor</td><td>2016-05-30</td><td>2016-06-01</td><td>2</td><td>NULL</td></tr>",
                            "<tr><td>VIKTORK</td><td>Keresztúri Viktor</td><td>2016-06-06</td><td>2016-06-07</td><td>4</td><td>2</td></tr>",
                            "<tr><td>vivien3</td><td>Boros Vivien</td><td>2016-05-02</td><td>2016-05-05</td><td>3</td><td>NULL</td></tr>",
                            "<tr><td>vivien3</td><td>Boros Vivien</td><td>2016-08-13</td><td>2016-08-18</td><td>2</td><td>3</td></tr>",
                            "<tr><td>vivien3</td><td>Boros Vivien</td><td>2016-09-01</td><td>2016-09-05</td><td>2</td><td>5</td></tr>",
                            "<tr><td>vivien3</td><td>Boros Vivien</td><td>2016-10-01</td><td>2016-10-04</td><td>1</td><td>7</td></tr>",
                            "<tr><td>vivien3</td><td>Boros Vivien</td><td>2016-11-17</td><td>2016-11-20</td><td>2</td><td>5</td></tr>",
                            "<tr><td>vivien3</td><td>Boros Vivien</td><td>2016-12-17</td><td>2016-12-21</td><td>2</td><td>5</td></tr>",
                            "<tr><td>vivien3</td><td>Boros Vivien</td><td>2016-12-24</td><td>2016-12-26</td><td>3</td><td>5</td></tr>",
                            "<tr><td>zoltan</td><td>Fodor Zoltán</td><td>2016-08-24</td><td>2016-08-31</td><td>2</td><td>NULL</td></tr>",
                            "<tr><td>zoltan</td><td>Fodor Zoltán</td><td>2016-09-05</td><td>2016-09-09</td><td>3</td><td>2</td></tr>",
                            "<tr><td>zoltan4</td><td>Barna Zoltán</td><td>2016-05-12</td><td>2016-05-16</td><td>3</td><td>NULL</td></tr>",
                            "<tr><td>zoltan4</td><td>Barna Zoltán</td><td>2016-05-13</td><td>2016-05-16</td><td>3</td><td>3</td></tr>",
                            "<tr><td>zoltan4</td><td>Barna Zoltán</td><td>2016-08-15</td><td>2016-08-21</td><td>1</td><td>6</td></tr>",
                            "<tr><td>zoltan4</td><td>Barna Zoltán</td><td>2016-08-16</td><td>2016-08-23</td><td>2</td><td>7</td></tr>",
                            "<tr><td>zoltan4</td><td>Barna Zoltán</td><td>2016-06-03</td><td>2016-06-06</td><td>1</td><td>6</td></tr>",
                            "<tr><td>zoltan4</td><td>Barna Zoltán</td><td>2016-09-30</td><td>2016-10-07</td><td>3</td><td>4</td></tr>",
                            "<tr><td>zoltan4</td><td>Barna Zoltán</td><td>2016-10-21</td><td>2016-10-24</td><td>5</td><td>6</td></tr>",
                            "<tr><td>zoltan4</td><td>Barna Zoltán</td><td>2016-10-26</td><td>2016-10-30</td><td>2</td><td>9</td></tr>",
                            "<tr><td>zoltan4</td><td>Barna Zoltán</td><td>2016-10-30</td><td>2016-11-06</td><td>1</td><td>10</td></tr>",
                            "<tr><td>zoltan4</td><td>Barna Zoltán</td><td>2016-11-19</td><td>2016-11-21</td><td>2</td><td>8</td></tr>",
                            "<tr><td>zoltan4</td><td>Barna Zoltán</td><td>2016-12-29</td><td>2017-01-04</td><td>1</td><td>5</td></tr>",
                            "<tr><td>zoltan4</td><td>Barna Zoltán</td><td>2017-01-01</td><td>2017-01-02</td><td>3</td><td>4</td></tr>",
                            "<tr><td>ZOLTANP</td><td>Pintér Zoltán</td><td>2016-07-20</td><td>2016-07-25</td><td>3</td><td>NULL</td></tr>",
                            "<tr><td>ZOLTANP</td><td>Pintér Zoltán</td><td>2016-06-05</td><td>2016-06-08</td><td>2</td><td>3</td></tr>",
                            "<tr><td>ZOLTANP</td><td>Pintér Zoltán</td><td>2016-06-06</td><td>2016-06-08</td><td>2</td><td>5</td></tr>",
                            "<tr><td>ZOLTANP</td><td>Pintér Zoltán</td><td>2016-10-19</td><td>2016-10-25</td><td>2</td><td>7</td></tr>",
                            "<tr><td>ZOLTANP</td><td>Pintér Zoltán</td><td>2016-12-07</td><td>2016-12-10</td><td>3</td><td>6</td></tr>",
                            "<tr><td>ZOLTANP</td><td>Pintér Zoltán</td><td>2016-12-25</td><td>2016-12-29</td><td>2</td><td>7</td></tr>",
                            "<tr><td>ZOLTANT</td><td>Tóth Zoltán</td><td>2016-05-01</td><td>2016-05-04</td><td>3</td><td>NULL</td></tr>",
                            "<tr><td>ZOLTANT</td><td>Tóth Zoltán</td><td>2016-07-14</td><td>2016-07-15</td><td>3</td><td>3</td></tr>",
                            "<tr><td>ZOLTANT</td><td>Tóth Zoltán</td><td>2017-01-16</td><td>2017-01-20</td><td>2</td><td>6</td></tr>",
                            "<tr><td>zsofi1</td><td>Molnár Zsófi</td><td>2016-06-16</td><td>2016-06-17</td><td>2</td><td>NULL</td></tr>",
                            "<tr><td>zsofi1</td><td>Molnár Zsófi</td><td>2017-02-18</td><td>2017-02-19</td><td>3</td><td>2</td></tr>",
                            "<tr><td>zsolt1</td><td>Pulai Zsolt</td><td>2016-04-14</td><td>2016-04-17</td><td>2</td><td>NULL</td></tr>",
                            "<tr><td>zsolt1</td><td>Pulai Zsolt</td><td>2016-07-31</td><td>2016-08-02</td><td>2</td><td>2</td></tr>",
                            "<tr><td>zsolt1</td><td>Pulai Zsolt</td><td>2016-06-06</td><td>2016-06-08</td><td>2</td><td>4</td></tr>",
                            "<tr><td>zsolt1</td><td>Pulai Zsolt</td><td>2016-06-07</td><td>2016-06-10</td><td>4</td><td>6</td></tr>",
                            "<tr><td>ZSOLTJ</td><td>Józsa Zsolt</td><td>2016-04-24</td><td>2016-04-26</td><td>4</td><td>NULL</td></tr>",
                            "<tr><td>ZSOLTJ</td><td>Józsa Zsolt</td><td>2016-05-09</td><td>2016-05-11</td><td>2</td><td>4</td></tr>",
                            "<tr><td>ZSOLTJ</td><td>Józsa Zsolt</td><td>2016-07-18</td><td>2016-07-19</td><td>2</td><td>6</td></tr>",
                            "<tr><td>ZSOLTJ</td><td>Józsa Zsolt</td><td>2016-05-28</td><td>2016-06-03</td><td>1</td><td>8</td></tr>",
                            "<tr><td>ZSOLTJ</td><td>Józsa Zsolt</td><td>2016-06-17</td><td>2016-06-19</td><td>2</td><td>5</td></tr>",
                            "<tr><td>ZSOLTJ</td><td>Józsa Zsolt</td><td>2016-10-01</td><td>2016-10-06</td><td>2</td><td>5</td></tr>",
                            "<tr><td>zsuzsa</td><td>Pusztai Zsuzsanna</td><td>2016-07-24</td><td>2016-07-25</td><td>3</td><td>NULL</td></tr>",
                            "<tr><td>zsuzsa</td><td>Pusztai Zsuzsanna</td><td>2016-08-28</td><td>2016-08-30</td><td>2</td><td>3</td></tr>",
                            "<tr><td>zsuzsa</td><td>Pusztai Zsuzsanna</td><td>2016-11-28</td><td>2016-12-04</td><td>3</td><td>5</td></tr>",
                            "<tr><td>zsuzsa3</td><td>Varsányi Zsuzsa</td><td>2016-07-30</td><td>2016-08-02</td><td>2</td><td>NULL</td></tr>",
                            "<tr><td>zsuzsa3</td><td>Varsányi Zsuzsa</td><td>2016-09-09</td><td>2016-09-10</td><td>2</td><td>2</td></tr>",
                            "<tr><td>zsuzsa3</td><td>Varsányi Zsuzsa</td><td>2016-09-28</td><td>2016-10-03</td><td>2</td><td>4</td></tr>",
                            "<tr><td>zsuzsa3</td><td>Varsányi Zsuzsa</td><td>2016-10-27</td><td>2016-11-03</td><td>4</td><td>6</td></tr>",
                            "<tr><td>zsuzsanna</td><td>Barta Zsuzsanna</td><td>2016-05-17</td><td>2016-05-23</td><td>2</td><td>NULL</td></tr>",
                            "<tr><td>zsuzsanna</td><td>Barta Zsuzsanna</td><td>2016-07-12</td><td>2016-07-15</td><td>2</td><td>2</td></tr>",
                            "<tr><td>zsuzsanna</td><td>Barta Zsuzsanna</td><td>2017-01-09</td><td>2017-01-16</td><td>1</td><td>4</td></tr>",
                            "<tr><td>zsuzsanna</td><td>Barta Zsuzsanna</td><td>2017-01-16</td><td>2017-01-22</td><td>2</td><td>5</td></tr>",
                            "<tr><td>ZSUZSAV</td><td>Vajda Zsuzsa</td><td>2016-04-14</td><td>2016-04-16</td><td>2</td><td>NULL</td></tr>",
                            "<tr><td>ZSUZSAV</td><td>Vajda Zsuzsa</td><td>2016-05-28</td><td>2016-06-01</td><td>4</td><td>2</td></tr>",
                            "<tr><td>ZSUZSAV</td><td>Vajda Zsuzsa</td><td>2016-06-15</td><td>2016-06-21</td><td>3</td><td>6</td></tr>",
                            "<tr><td>ZSUZSAV</td><td>Vajda Zsuzsa</td><td>2016-09-18</td><td>2016-09-20</td><td>2</td><td>9</td></tr>",
                            "<tr><td>ZSUZSAV</td><td>Vajda Zsuzsa</td><td>2016-10-26</td><td>2016-10-28</td><td>1</td><td>9</td></tr>",
                            "<tr><td>ZSUZSAV</td><td>Vajda Zsuzsa</td><td>2016-11-21</td><td>2016-11-24</td><td>3</td><td>6</td></tr>",
                            "</table>"
                        ]
                    }
                }
            ],
            "execution_count": 24
        },
        {
            "cell_type": "markdown",
            "source": [
                "4. <span style=\"background-color: rgb(255, 255, 255); color: rgb(0, 0, 0); font-family: &quot;Open Sans&quot;, sans-serif; font-size: 14.44px;\">Készítsünk listát arról, hogy az egyes szálláshelyeken évente hány foglalás történt!&nbsp;</span> \n",
                "\n",
                "a. A lista jelenítse meg a szálláshely azonosítóját, nevét, az évet, és a foglalások számát!\n",
                "\n",
                "b. Egy új oszlopban jelenítsük meg a szálláshely eddigi éves foglalásainak számát is (az aktuálisat is beleértve). \n",
                "\n",
                "c. Az évnél a METTOL dátumot vegyük figyelembe! \n",
                "\n",
                "d. A lista ne tartalmazzon duplikált sorokat!"
            ],
            "metadata": {
                "azdata_cell_guid": "8e7fef82-8022-49a0-8255-fc2846c2134b"
            },
            "attachments": {}
        },
        {
            "cell_type": "code",
            "source": [
                ""
            ],
            "metadata": {
                "azdata_cell_guid": "36f7b396-4a1f-45e5-8720-2302537c91bc",
                "language": "sql"
            },
            "outputs": [],
            "execution_count": null
        },
        {
            "cell_type": "markdown",
            "source": [
                "5. <span style=\"background-color: rgb(255, 255, 255); color: rgb(0, 0, 0); font-family: &quot;Open Sans&quot;, sans-serif; font-size: 14.44px;\">Készítsük listát a szálláshelyekről! A lista tartalmazza a szálláshely azonosítóját, nevét, és a csillagok számát csillagszám szerint csökkenő, azon belül szállásnév szerint növekvő sorrendben!&nbsp;</span> \n",
                "\n",
                "a. Vegyünk fel két új oszlopot, amely a sorrend szerint előző szálláshely nevét, illetve azonosítóját is megjeleníti!"
            ],
            "metadata": {
                "azdata_cell_guid": "84239ca2-6b5e-49f5-9860-d44c11d6de32"
            },
            "attachments": {}
        },
        {
            "cell_type": "code",
            "source": [
                "SELECT szallas_id, szallas_nev,csillagok_szama, LAG(szallas_nev) over (ORDER BY CSILLAGOK_SZAMA DESC,SZALLAS_NEV),\r\n",
                "LAG(szallas_id) over (ORDER BY CSILLAGOK_SZAMA DESC,SZALLAS_NEV)\r\n",
                "from szallashely\r\n",
                "ORDER BY (CSILLAGOK_SZAMA) DESC,SZALLAS_NEV\r\n",
                ""
            ],
            "metadata": {
                "azdata_cell_guid": "06d9a62b-9430-424b-a135-d80e675f0eb3",
                "language": "sql"
            },
            "outputs": [
                {
                    "output_type": "display_data",
                    "data": {
                        "text/html": "(21 rows affected)"
                    },
                    "metadata": {}
                },
                {
                    "output_type": "display_data",
                    "data": {
                        "text/html": "Total execution time: 00:00:00.017"
                    },
                    "metadata": {}
                },
                {
                    "output_type": "execute_result",
                    "metadata": {},
                    "execution_count": 26,
                    "data": {
                        "application/vnd.dataresource+json": {
                            "schema": {
                                "fields": [
                                    {
                                        "name": "szallas_id"
                                    },
                                    {
                                        "name": "szallas_nev"
                                    },
                                    {
                                        "name": "csillagok_szama"
                                    },
                                    {
                                        "name": "(No column name)"
                                    },
                                    {
                                        "name": "(No column name)"
                                    }
                                ]
                            },
                            "data": [
                                {
                                    "szallas_id": "8",
                                    "szallas_nev": "Hotel Három Hattyú",
                                    "csillagok_szama": "4",
                                    "(No column name)": "NULL"
                                },
                                {
                                    "szallas_id": "10",
                                    "szallas_nev": "Lagúna Hotel",
                                    "csillagok_szama": "4",
                                    "(No column name)": "8"
                                },
                                {
                                    "szallas_id": "17",
                                    "szallas_nev": "Szarvas Hotel",
                                    "csillagok_szama": "4",
                                    "(No column name)": "10"
                                },
                                {
                                    "szallas_id": "16",
                                    "szallas_nev": "Bagoly Hotel",
                                    "csillagok_szama": "3",
                                    "(No column name)": "17"
                                },
                                {
                                    "szallas_id": "4",
                                    "szallas_nev": "Fortuna panzió",
                                    "csillagok_szama": "3",
                                    "(No column name)": "16"
                                },
                                {
                                    "szallas_id": "5",
                                    "szallas_nev": "Fortuna Panzió",
                                    "csillagok_szama": "3",
                                    "(No column name)": "4"
                                },
                                {
                                    "szallas_id": "12",
                                    "szallas_nev": "Gold Hotel",
                                    "csillagok_szama": "3",
                                    "(No column name)": "5"
                                },
                                {
                                    "szallas_id": "9",
                                    "szallas_nev": "Jáde panzió",
                                    "csillagok_szama": "3",
                                    "(No column name)": "12"
                                },
                                {
                                    "szallas_id": "6",
                                    "szallas_nev": "Kentaur Hotel",
                                    "csillagok_szama": "3",
                                    "(No column name)": "9"
                                },
                                {
                                    "szallas_id": "13",
                                    "szallas_nev": "Riviéra Panzió",
                                    "csillagok_szama": "3",
                                    "(No column name)": "6"
                                },
                                {
                                    "szallas_id": "15",
                                    "szallas_nev": "Tímárház Panzió",
                                    "csillagok_szama": "3",
                                    "(No column name)": "13"
                                },
                                {
                                    "szallas_id": "2",
                                    "szallas_nev": "Családi Ház",
                                    "csillagok_szama": "0",
                                    "(No column name)": "15"
                                },
                                {
                                    "szallas_id": "3",
                                    "szallas_nev": "Fortuna Apartman",
                                    "csillagok_szama": "0",
                                    "(No column name)": "2"
                                },
                                {
                                    "szallas_id": "18",
                                    "szallas_nev": "Fortuna Apartman",
                                    "csillagok_szama": "0",
                                    "(No column name)": "3"
                                },
                                {
                                    "szallas_id": "20",
                                    "szallas_nev": "Kollégium",
                                    "csillagok_szama": "0",
                                    "(No column name)": "18"
                                },
                                {
                                    "szallas_id": "21",
                                    "szallas_nev": "Müller Vendégház",
                                    "csillagok_szama": "0",
                                    "(No column name)": "20"
                                },
                                {
                                    "szallas_id": "19",
                                    "szallas_nev": "Nyárfás Vendégház",
                                    "csillagok_szama": "0",
                                    "(No column name)": "21"
                                },
                                {
                                    "szallas_id": "14",
                                    "szallas_nev": "Nyárfás Vendégház",
                                    "csillagok_szama": "0",
                                    "(No column name)": "19"
                                },
                                {
                                    "szallas_id": "11",
                                    "szallas_nev": "Partiszél Vendégház",
                                    "csillagok_szama": "0",
                                    "(No column name)": "14"
                                },
                                {
                                    "szallas_id": "1",
                                    "szallas_nev": "Sába-Ház",
                                    "csillagok_szama": "0",
                                    "(No column name)": "11"
                                },
                                {
                                    "szallas_id": "7",
                                    "szallas_nev": "Szieszta Apartmanház",
                                    "csillagok_szama": "0",
                                    "(No column name)": "1"
                                }
                            ]
                        },
                        "text/html": [
                            "<table>",
                            "<tr><th>szallas_id</th><th>szallas_nev</th><th>csillagok_szama</th><th>(No column name)</th><th>(No column name)</th></tr>",
                            "<tr><td>8</td><td>Hotel Három Hattyú</td><td>4</td><td>NULL</td><td>NULL</td></tr>",
                            "<tr><td>10</td><td>Lagúna Hotel</td><td>4</td><td>Hotel Három Hattyú</td><td>8</td></tr>",
                            "<tr><td>17</td><td>Szarvas Hotel</td><td>4</td><td>Lagúna Hotel</td><td>10</td></tr>",
                            "<tr><td>16</td><td>Bagoly Hotel</td><td>3</td><td>Szarvas Hotel</td><td>17</td></tr>",
                            "<tr><td>4</td><td>Fortuna panzió</td><td>3</td><td>Bagoly Hotel</td><td>16</td></tr>",
                            "<tr><td>5</td><td>Fortuna Panzió</td><td>3</td><td>Fortuna panzió</td><td>4</td></tr>",
                            "<tr><td>12</td><td>Gold Hotel</td><td>3</td><td>Fortuna Panzió</td><td>5</td></tr>",
                            "<tr><td>9</td><td>Jáde panzió</td><td>3</td><td>Gold Hotel</td><td>12</td></tr>",
                            "<tr><td>6</td><td>Kentaur Hotel</td><td>3</td><td>Jáde panzió</td><td>9</td></tr>",
                            "<tr><td>13</td><td>Riviéra Panzió</td><td>3</td><td>Kentaur Hotel</td><td>6</td></tr>",
                            "<tr><td>15</td><td>Tímárház Panzió</td><td>3</td><td>Riviéra Panzió</td><td>13</td></tr>",
                            "<tr><td>2</td><td>Családi Ház</td><td>0</td><td>Tímárház Panzió</td><td>15</td></tr>",
                            "<tr><td>3</td><td>Fortuna Apartman</td><td>0</td><td>Családi Ház</td><td>2</td></tr>",
                            "<tr><td>18</td><td>Fortuna Apartman</td><td>0</td><td>Fortuna Apartman</td><td>3</td></tr>",
                            "<tr><td>20</td><td>Kollégium</td><td>0</td><td>Fortuna Apartman</td><td>18</td></tr>",
                            "<tr><td>21</td><td>Müller Vendégház</td><td>0</td><td>Kollégium</td><td>20</td></tr>",
                            "<tr><td>19</td><td>Nyárfás Vendégház</td><td>0</td><td>Müller Vendégház</td><td>21</td></tr>",
                            "<tr><td>14</td><td>Nyárfás Vendégház</td><td>0</td><td>Nyárfás Vendégház</td><td>19</td></tr>",
                            "<tr><td>11</td><td>Partiszél Vendégház</td><td>0</td><td>Nyárfás Vendégház</td><td>14</td></tr>",
                            "<tr><td>1</td><td>Sába-Ház</td><td>0</td><td>Partiszél Vendégház</td><td>11</td></tr>",
                            "<tr><td>7</td><td>Szieszta Apartmanház</td><td>0</td><td>Sába-Ház</td><td>1</td></tr>",
                            "</table>"
                        ]
                    }
                }
            ],
            "execution_count": 26
        },
        {
            "cell_type": "markdown",
            "source": [
                "6. <span style=\"background-color: rgb(255, 255, 255); color: rgb(0, 0, 0); font-family: &quot;Open Sans&quot;, sans-serif; font-size: 14.44px;\">Listázzuk azon termékeket, amelyekből az átlagosnál kevesebb van raktáron!&nbsp;</span> \n",
                "\n",
                "a. Csak a termék kódja és megnevezése jelenjen meg!"
            ],
            "metadata": {
                "azdata_cell_guid": "b0d15045-3c43-4f3a-b8d4-76b4f24e5546"
            },
            "attachments": {}
        },
        {
            "cell_type": "code",
            "source": [
                "SELECT termekkod\r\n",
                "from Termek\r\n",
                "WHERE keszlet< (select AVG(KESZLET) from termek)"
            ],
            "metadata": {
                "azdata_cell_guid": "f2b7400d-1255-40ac-9250-4d57f9da5357",
                "language": "sql"
            },
            "outputs": [
                {
                    "output_type": "display_data",
                    "data": {
                        "text/html": "(437 rows affected)"
                    },
                    "metadata": {}
                },
                {
                    "output_type": "display_data",
                    "data": {
                        "text/html": "Total execution time: 00:00:00.009"
                    },
                    "metadata": {}
                },
                {
                    "output_type": "execute_result",
                    "metadata": {},
                    "execution_count": 27,
                    "data": {
                        "application/vnd.dataresource+json": {
                            "schema": {
                                "fields": [
                                    {
                                        "name": "termekkod"
                                    }
                                ]
                            },
                            "data": [
                                {
                                    "termekkod": "01010110T"
                                },
                                {
                                    "termekkod": "01010304T"
                                },
                                {
                                    "termekkod": "01020300T"
                                },
                                {
                                    "termekkod": "01030091T"
                                },
                                {
                                    "termekkod": "01030092T"
                                },
                                {
                                    "termekkod": "01040307T"
                                },
                                {
                                    "termekkod": "01040502T"
                                },
                                {
                                    "termekkod": "01080093T"
                                },
                                {
                                    "termekkod": "01080512T"
                                },
                                {
                                    "termekkod": "01080513T"
                                },
                                {
                                    "termekkod": "01090499T"
                                },
                                {
                                    "termekkod": "01090500T"
                                },
                                {
                                    "termekkod": "01090501T"
                                },
                                {
                                    "termekkod": "01090515T"
                                },
                                {
                                    "termekkod": "01090516T"
                                },
                                {
                                    "termekkod": "01090517T"
                                },
                                {
                                    "termekkod": "01100070T"
                                },
                                {
                                    "termekkod": "01100072T"
                                },
                                {
                                    "termekkod": "01100094T"
                                },
                                {
                                    "termekkod": "01100095T"
                                },
                                {
                                    "termekkod": "01100096T"
                                },
                                {
                                    "termekkod": "01100496T"
                                },
                                {
                                    "termekkod": "01100497T"
                                },
                                {
                                    "termekkod": "01100503T"
                                },
                                {
                                    "termekkod": "01100504T"
                                },
                                {
                                    "termekkod": "01100505T"
                                },
                                {
                                    "termekkod": "01100509T"
                                },
                                {
                                    "termekkod": "01100510T"
                                },
                                {
                                    "termekkod": "02010028T"
                                },
                                {
                                    "termekkod": "02020029T"
                                },
                                {
                                    "termekkod": "02020032T"
                                },
                                {
                                    "termekkod": "02020033T"
                                },
                                {
                                    "termekkod": "02020037T"
                                },
                                {
                                    "termekkod": "02020245T"
                                },
                                {
                                    "termekkod": "02030040T"
                                },
                                {
                                    "termekkod": "02040025T"
                                },
                                {
                                    "termekkod": "02040145T"
                                },
                                {
                                    "termekkod": "02040147T"
                                },
                                {
                                    "termekkod": "02040148T"
                                },
                                {
                                    "termekkod": "02040176T"
                                },
                                {
                                    "termekkod": "02040177T"
                                },
                                {
                                    "termekkod": "02040178T"
                                },
                                {
                                    "termekkod": "02040194T"
                                },
                                {
                                    "termekkod": "02040195T"
                                },
                                {
                                    "termekkod": "02040196T"
                                },
                                {
                                    "termekkod": "02040197T"
                                },
                                {
                                    "termekkod": "02040198T"
                                },
                                {
                                    "termekkod": "02040199T"
                                },
                                {
                                    "termekkod": "02040200T"
                                },
                                {
                                    "termekkod": "02040206T"
                                },
                                {
                                    "termekkod": "02040207T"
                                },
                                {
                                    "termekkod": "02040208T"
                                },
                                {
                                    "termekkod": "02040209T"
                                },
                                {
                                    "termekkod": "02040211T"
                                },
                                {
                                    "termekkod": "02040214T"
                                },
                                {
                                    "termekkod": "02040290T"
                                },
                                {
                                    "termekkod": "02040291T"
                                },
                                {
                                    "termekkod": "02040294T"
                                },
                                {
                                    "termekkod": "02040298T"
                                },
                                {
                                    "termekkod": "02040308T"
                                },
                                {
                                    "termekkod": "02040309T"
                                },
                                {
                                    "termekkod": "02040401T"
                                },
                                {
                                    "termekkod": "02040402T"
                                },
                                {
                                    "termekkod": "02040403T"
                                },
                                {
                                    "termekkod": "02040404T"
                                },
                                {
                                    "termekkod": "02040405T"
                                },
                                {
                                    "termekkod": "02040506T"
                                },
                                {
                                    "termekkod": "02040507T"
                                },
                                {
                                    "termekkod": "02040508T"
                                },
                                {
                                    "termekkod": "02050460T"
                                },
                                {
                                    "termekkod": "02050461T"
                                },
                                {
                                    "termekkod": "02060034T"
                                },
                                {
                                    "termekkod": "02060038T"
                                },
                                {
                                    "termekkod": "02060039T"
                                },
                                {
                                    "termekkod": "02060447T"
                                },
                                {
                                    "termekkod": "02060448T"
                                },
                                {
                                    "termekkod": "02080069T"
                                },
                                {
                                    "termekkod": "02080081T"
                                },
                                {
                                    "termekkod": "02080109T"
                                },
                                {
                                    "termekkod": "02080226T"
                                },
                                {
                                    "termekkod": "02080431T"
                                },
                                {
                                    "termekkod": "02080432T"
                                },
                                {
                                    "termekkod": "02080433T"
                                },
                                {
                                    "termekkod": "02080434T"
                                },
                                {
                                    "termekkod": "02080436T"
                                },
                                {
                                    "termekkod": "02080449T"
                                },
                                {
                                    "termekkod": "02080450T"
                                },
                                {
                                    "termekkod": "02080451T"
                                },
                                {
                                    "termekkod": "02080452T"
                                },
                                {
                                    "termekkod": "02080453T"
                                },
                                {
                                    "termekkod": "02080454T"
                                },
                                {
                                    "termekkod": "02080455T"
                                },
                                {
                                    "termekkod": "02080456T"
                                },
                                {
                                    "termekkod": "02080511T"
                                },
                                {
                                    "termekkod": "02080514T"
                                },
                                {
                                    "termekkod": "03010342T"
                                },
                                {
                                    "termekkod": "03010344T"
                                },
                                {
                                    "termekkod": "03010345T"
                                },
                                {
                                    "termekkod": "03050076T"
                                },
                                {
                                    "termekkod": "03050077T"
                                },
                                {
                                    "termekkod": "03050078T"
                                },
                                {
                                    "termekkod": "03080003T"
                                },
                                {
                                    "termekkod": "03080004T"
                                },
                                {
                                    "termekkod": "03080006T"
                                },
                                {
                                    "termekkod": "03080009T"
                                },
                                {
                                    "termekkod": "03080012T"
                                },
                                {
                                    "termekkod": "03080013T"
                                },
                                {
                                    "termekkod": "03080014T"
                                },
                                {
                                    "termekkod": "03080015T"
                                },
                                {
                                    "termekkod": "03080016T"
                                },
                                {
                                    "termekkod": "03080017T"
                                },
                                {
                                    "termekkod": "03080019T"
                                },
                                {
                                    "termekkod": "03080020T"
                                },
                                {
                                    "termekkod": "03080021T"
                                },
                                {
                                    "termekkod": "03080030T"
                                },
                                {
                                    "termekkod": "03080439T"
                                },
                                {
                                    "termekkod": "04020445T"
                                },
                                {
                                    "termekkod": "04030235T"
                                },
                                {
                                    "termekkod": "04030237T"
                                },
                                {
                                    "termekkod": "04030238T"
                                },
                                {
                                    "termekkod": "04030239T"
                                },
                                {
                                    "termekkod": "04030243T"
                                },
                                {
                                    "termekkod": "04030261T"
                                },
                                {
                                    "termekkod": "04030262T"
                                },
                                {
                                    "termekkod": "04030263T"
                                },
                                {
                                    "termekkod": "04030264T"
                                },
                                {
                                    "termekkod": "04030265T"
                                },
                                {
                                    "termekkod": "04030266T"
                                },
                                {
                                    "termekkod": "04030285T"
                                },
                                {
                                    "termekkod": "04030286T"
                                },
                                {
                                    "termekkod": "04030288T"
                                },
                                {
                                    "termekkod": "04040387T"
                                },
                                {
                                    "termekkod": "04050022T"
                                },
                                {
                                    "termekkod": "04050023T"
                                },
                                {
                                    "termekkod": "04050024T"
                                },
                                {
                                    "termekkod": "04050035T"
                                },
                                {
                                    "termekkod": "04050073T"
                                },
                                {
                                    "termekkod": "04050074T"
                                },
                                {
                                    "termekkod": "04050075T"
                                },
                                {
                                    "termekkod": "04050171T"
                                },
                                {
                                    "termekkod": "04050187T"
                                },
                                {
                                    "termekkod": "04050203T"
                                },
                                {
                                    "termekkod": "04050204T"
                                },
                                {
                                    "termekkod": "04050220T"
                                },
                                {
                                    "termekkod": "04050221T"
                                },
                                {
                                    "termekkod": "04050222T"
                                },
                                {
                                    "termekkod": "04050223T"
                                },
                                {
                                    "termekkod": "04050224T"
                                },
                                {
                                    "termekkod": "04050252T"
                                },
                                {
                                    "termekkod": "04050253T"
                                },
                                {
                                    "termekkod": "04050254T"
                                },
                                {
                                    "termekkod": "04050269T"
                                },
                                {
                                    "termekkod": "04050320T"
                                },
                                {
                                    "termekkod": "04050322T"
                                },
                                {
                                    "termekkod": "04050358T"
                                },
                                {
                                    "termekkod": "04080270T"
                                },
                                {
                                    "termekkod": "04080271T"
                                },
                                {
                                    "termekkod": "04080272T"
                                },
                                {
                                    "termekkod": "04080443T"
                                },
                                {
                                    "termekkod": "04110066T"
                                },
                                {
                                    "termekkod": "04110067T"
                                },
                                {
                                    "termekkod": "04110068T"
                                },
                                {
                                    "termekkod": "04110227T"
                                },
                                {
                                    "termekkod": "04110228T"
                                },
                                {
                                    "termekkod": "04110229T"
                                },
                                {
                                    "termekkod": "04110230T"
                                },
                                {
                                    "termekkod": "04110231T"
                                },
                                {
                                    "termekkod": "04110232T"
                                },
                                {
                                    "termekkod": "04110233T"
                                },
                                {
                                    "termekkod": "04110258T"
                                },
                                {
                                    "termekkod": "04110274T"
                                },
                                {
                                    "termekkod": "04110275T"
                                },
                                {
                                    "termekkod": "04110276T"
                                },
                                {
                                    "termekkod": "04110277T"
                                },
                                {
                                    "termekkod": "04110278T"
                                },
                                {
                                    "termekkod": "04110279T"
                                },
                                {
                                    "termekkod": "04110280T"
                                },
                                {
                                    "termekkod": "04110281T"
                                },
                                {
                                    "termekkod": "04110282T"
                                },
                                {
                                    "termekkod": "04110283T"
                                },
                                {
                                    "termekkod": "04110284T"
                                },
                                {
                                    "termekkod": "04110362T"
                                },
                                {
                                    "termekkod": "05010026T"
                                },
                                {
                                    "termekkod": "05010369T"
                                },
                                {
                                    "termekkod": "05010370T"
                                },
                                {
                                    "termekkod": "05040310T"
                                },
                                {
                                    "termekkod": "05040348T"
                                },
                                {
                                    "termekkod": "05040349T"
                                },
                                {
                                    "termekkod": "05050045T"
                                },
                                {
                                    "termekkod": "05050046T"
                                },
                                {
                                    "termekkod": "05050170T"
                                },
                                {
                                    "termekkod": "05050346T"
                                },
                                {
                                    "termekkod": "05080340T"
                                },
                                {
                                    "termekkod": "05080341T"
                                },
                                {
                                    "termekkod": "05110359T"
                                },
                                {
                                    "termekkod": "05110360T"
                                },
                                {
                                    "termekkod": "05110361T"
                                },
                                {
                                    "termekkod": "05110363T"
                                },
                                {
                                    "termekkod": "05110364T"
                                },
                                {
                                    "termekkod": "06010036T"
                                },
                                {
                                    "termekkod": "06010082T"
                                },
                                {
                                    "termekkod": "06010083T"
                                },
                                {
                                    "termekkod": "06010084T"
                                },
                                {
                                    "termekkod": "06010085T"
                                },
                                {
                                    "termekkod": "06010111T"
                                },
                                {
                                    "termekkod": "06010112T"
                                },
                                {
                                    "termekkod": "06010114T"
                                },
                                {
                                    "termekkod": "06010115T"
                                },
                                {
                                    "termekkod": "06010201T"
                                },
                                {
                                    "termekkod": "06010202T"
                                },
                                {
                                    "termekkod": "06010305T"
                                },
                                {
                                    "termekkod": "06010365T"
                                },
                                {
                                    "termekkod": "06010366T"
                                },
                                {
                                    "termekkod": "06010367T"
                                },
                                {
                                    "termekkod": "06010368T"
                                },
                                {
                                    "termekkod": "06010375T"
                                },
                                {
                                    "termekkod": "06010376T"
                                },
                                {
                                    "termekkod": "06010377T"
                                },
                                {
                                    "termekkod": "06040089T"
                                },
                                {
                                    "termekkod": "06040175T"
                                },
                                {
                                    "termekkod": "06040179T"
                                },
                                {
                                    "termekkod": "06040180T"
                                },
                                {
                                    "termekkod": "06040183T"
                                },
                                {
                                    "termekkod": "06040184T"
                                },
                                {
                                    "termekkod": "06040186T"
                                },
                                {
                                    "termekkod": "06040205T"
                                },
                                {
                                    "termekkod": "06040206T"
                                },
                                {
                                    "termekkod": "06040212T"
                                },
                                {
                                    "termekkod": "06040213T"
                                },
                                {
                                    "termekkod": "06040246T"
                                },
                                {
                                    "termekkod": "06040248T"
                                },
                                {
                                    "termekkod": "06040323T"
                                },
                                {
                                    "termekkod": "06040324T"
                                },
                                {
                                    "termekkod": "06040326T"
                                },
                                {
                                    "termekkod": "06040330T"
                                },
                                {
                                    "termekkod": "06040331T"
                                },
                                {
                                    "termekkod": "06040347T"
                                },
                                {
                                    "termekkod": "06040350T"
                                },
                                {
                                    "termekkod": "06040351T"
                                },
                                {
                                    "termekkod": "06040352T"
                                },
                                {
                                    "termekkod": "06040353T"
                                },
                                {
                                    "termekkod": "06040354T"
                                },
                                {
                                    "termekkod": "06040355T"
                                },
                                {
                                    "termekkod": "06040356T"
                                },
                                {
                                    "termekkod": "06040378T"
                                },
                                {
                                    "termekkod": "06040379T"
                                },
                                {
                                    "termekkod": "06040380T"
                                },
                                {
                                    "termekkod": "06040381T"
                                },
                                {
                                    "termekkod": "06040382T"
                                },
                                {
                                    "termekkod": "06040383T"
                                },
                                {
                                    "termekkod": "06040384T"
                                },
                                {
                                    "termekkod": "06040385T"
                                },
                                {
                                    "termekkod": "06040386T"
                                },
                                {
                                    "termekkod": "06040392T"
                                },
                                {
                                    "termekkod": "06040393T"
                                },
                                {
                                    "termekkod": "06040394T"
                                },
                                {
                                    "termekkod": "06040395T"
                                },
                                {
                                    "termekkod": "06040397T"
                                },
                                {
                                    "termekkod": "06040398T"
                                },
                                {
                                    "termekkod": "06040399T"
                                },
                                {
                                    "termekkod": "06040400T"
                                },
                                {
                                    "termekkod": "06040446T"
                                },
                                {
                                    "termekkod": "06050249T"
                                },
                                {
                                    "termekkod": "06050301T"
                                },
                                {
                                    "termekkod": "06050302T"
                                },
                                {
                                    "termekkod": "06050303T"
                                },
                                {
                                    "termekkod": "06080116T"
                                },
                                {
                                    "termekkod": "06080117T"
                                },
                                {
                                    "termekkod": "06080118T"
                                },
                                {
                                    "termekkod": "06080119T"
                                },
                                {
                                    "termekkod": "06080120T"
                                },
                                {
                                    "termekkod": "06080121T"
                                },
                                {
                                    "termekkod": "06080122T"
                                },
                                {
                                    "termekkod": "06080124T"
                                },
                                {
                                    "termekkod": "06080125T"
                                },
                                {
                                    "termekkod": "06080126T"
                                },
                                {
                                    "termekkod": "06080188T"
                                },
                                {
                                    "termekkod": "06080189T"
                                },
                                {
                                    "termekkod": "06080190T"
                                },
                                {
                                    "termekkod": "06080191T"
                                },
                                {
                                    "termekkod": "06080192T"
                                },
                                {
                                    "termekkod": "06080193T"
                                },
                                {
                                    "termekkod": "06080259T"
                                },
                                {
                                    "termekkod": "06080332T"
                                },
                                {
                                    "termekkod": "06080333T"
                                },
                                {
                                    "termekkod": "06080335T"
                                },
                                {
                                    "termekkod": "06080337T"
                                },
                                {
                                    "termekkod": "06080339T"
                                },
                                {
                                    "termekkod": "06080407T"
                                },
                                {
                                    "termekkod": "06080408T"
                                },
                                {
                                    "termekkod": "06080409T"
                                },
                                {
                                    "termekkod": "06080410T"
                                },
                                {
                                    "termekkod": "06080411T"
                                },
                                {
                                    "termekkod": "06080412T"
                                },
                                {
                                    "termekkod": "06080413T"
                                },
                                {
                                    "termekkod": "06080415T"
                                },
                                {
                                    "termekkod": "06080416T"
                                },
                                {
                                    "termekkod": "06080417T"
                                },
                                {
                                    "termekkod": "06080422T"
                                },
                                {
                                    "termekkod": "06080423T"
                                },
                                {
                                    "termekkod": "06080424T"
                                },
                                {
                                    "termekkod": "06080425T"
                                },
                                {
                                    "termekkod": "06080426T"
                                },
                                {
                                    "termekkod": "06080427T"
                                },
                                {
                                    "termekkod": "06080428T"
                                },
                                {
                                    "termekkod": "06080429T"
                                },
                                {
                                    "termekkod": "06080430T"
                                },
                                {
                                    "termekkod": "06080441T"
                                },
                                {
                                    "termekkod": "07010137T"
                                },
                                {
                                    "termekkod": "07010139T"
                                },
                                {
                                    "termekkod": "07010140T"
                                },
                                {
                                    "termekkod": "07010141T"
                                },
                                {
                                    "termekkod": "07010142T"
                                },
                                {
                                    "termekkod": "07010143T"
                                },
                                {
                                    "termekkod": "07010144T"
                                },
                                {
                                    "termekkod": "07010244T"
                                },
                                {
                                    "termekkod": "07030103T"
                                },
                                {
                                    "termekkod": "07030104T"
                                },
                                {
                                    "termekkod": "07030105T"
                                },
                                {
                                    "termekkod": "07030106T"
                                },
                                {
                                    "termekkod": "07030107T"
                                },
                                {
                                    "termekkod": "07030108T"
                                },
                                {
                                    "termekkod": "07040047T"
                                },
                                {
                                    "termekkod": "07040049T"
                                },
                                {
                                    "termekkod": "07040050T"
                                },
                                {
                                    "termekkod": "07040051T"
                                },
                                {
                                    "termekkod": "07040052T"
                                },
                                {
                                    "termekkod": "07040053T"
                                },
                                {
                                    "termekkod": "07040054T"
                                },
                                {
                                    "termekkod": "07040055T"
                                },
                                {
                                    "termekkod": "07040056T"
                                },
                                {
                                    "termekkod": "07040057T"
                                },
                                {
                                    "termekkod": "07040058T"
                                },
                                {
                                    "termekkod": "07040059T"
                                },
                                {
                                    "termekkod": "07040060T"
                                },
                                {
                                    "termekkod": "07040061T"
                                },
                                {
                                    "termekkod": "07040097T"
                                },
                                {
                                    "termekkod": "07040098T"
                                },
                                {
                                    "termekkod": "07040099T"
                                },
                                {
                                    "termekkod": "07040100T"
                                },
                                {
                                    "termekkod": "07040101T"
                                },
                                {
                                    "termekkod": "07040102T"
                                },
                                {
                                    "termekkod": "07040127T"
                                },
                                {
                                    "termekkod": "07040128T"
                                },
                                {
                                    "termekkod": "07040129T"
                                },
                                {
                                    "termekkod": "07040130T"
                                },
                                {
                                    "termekkod": "07040132T"
                                },
                                {
                                    "termekkod": "07040133T"
                                },
                                {
                                    "termekkod": "07040165T"
                                },
                                {
                                    "termekkod": "07040166T"
                                },
                                {
                                    "termekkod": "07040167T"
                                },
                                {
                                    "termekkod": "07040168T"
                                },
                                {
                                    "termekkod": "07040169T"
                                },
                                {
                                    "termekkod": "07040215T"
                                },
                                {
                                    "termekkod": "07040216T"
                                },
                                {
                                    "termekkod": "07040217T"
                                },
                                {
                                    "termekkod": "07040218T"
                                },
                                {
                                    "termekkod": "07040219T"
                                },
                                {
                                    "termekkod": "07040257T"
                                },
                                {
                                    "termekkod": "07040388T"
                                },
                                {
                                    "termekkod": "07040389T"
                                },
                                {
                                    "termekkod": "07040390T"
                                },
                                {
                                    "termekkod": "07040391T"
                                },
                                {
                                    "termekkod": "07050462T"
                                },
                                {
                                    "termekkod": "07050463T"
                                },
                                {
                                    "termekkod": "07050464T"
                                },
                                {
                                    "termekkod": "07080062T"
                                },
                                {
                                    "termekkod": "07080063T"
                                },
                                {
                                    "termekkod": "07080064T"
                                },
                                {
                                    "termekkod": "07080065T"
                                },
                                {
                                    "termekkod": "07080150T"
                                },
                                {
                                    "termekkod": "07080151T"
                                },
                                {
                                    "termekkod": "07080152T"
                                },
                                {
                                    "termekkod": "07080153T"
                                },
                                {
                                    "termekkod": "07080154T"
                                },
                                {
                                    "termekkod": "07080155T"
                                },
                                {
                                    "termekkod": "07080156T"
                                },
                                {
                                    "termekkod": "07080157T"
                                },
                                {
                                    "termekkod": "07080159T"
                                },
                                {
                                    "termekkod": "07080160T"
                                },
                                {
                                    "termekkod": "07080161T"
                                },
                                {
                                    "termekkod": "07080162T"
                                },
                                {
                                    "termekkod": "07080316T"
                                },
                                {
                                    "termekkod": "07080421T"
                                },
                                {
                                    "termekkod": "07080466T"
                                },
                                {
                                    "termekkod": "08070472T"
                                },
                                {
                                    "termekkod": "08070473T"
                                },
                                {
                                    "termekkod": "08070474T"
                                },
                                {
                                    "termekkod": "08070477T"
                                },
                                {
                                    "termekkod": "08070478T"
                                },
                                {
                                    "termekkod": "08070479T"
                                },
                                {
                                    "termekkod": "08070481T"
                                },
                                {
                                    "termekkod": "08070482T"
                                },
                                {
                                    "termekkod": "08070483T"
                                },
                                {
                                    "termekkod": "08070484T"
                                },
                                {
                                    "termekkod": "08070485T"
                                },
                                {
                                    "termekkod": "08070486T"
                                },
                                {
                                    "termekkod": "08070487T"
                                },
                                {
                                    "termekkod": "08070490T"
                                },
                                {
                                    "termekkod": "08070491T"
                                },
                                {
                                    "termekkod": "08070492T"
                                },
                                {
                                    "termekkod": "08070493T"
                                },
                                {
                                    "termekkod": "08070494T"
                                },
                                {
                                    "termekkod": "08070495T"
                                },
                                {
                                    "termekkod": "F001-KB101"
                                },
                                {
                                    "termekkod": "F007-NA201"
                                },
                                {
                                    "termekkod": "F013-NA207"
                                },
                                {
                                    "termekkod": "F021-IN215"
                                },
                                {
                                    "termekkod": "G001-KB101"
                                },
                                {
                                    "termekkod": "G013-NA201"
                                },
                                {
                                    "termekkod": "G019-NA207"
                                },
                                {
                                    "termekkod": "G023-FE301"
                                },
                                {
                                    "termekkod": "G029-FE307"
                                },
                                {
                                    "termekkod": "G038-FE316"
                                },
                                {
                                    "termekkod": "G041-AL211"
                                },
                                {
                                    "termekkod": "G048-PO218"
                                },
                                {
                                    "termekkod": "G064-CI401"
                                },
                                {
                                    "termekkod": "G073-CI410"
                                },
                                {
                                    "termekkod": "G082-CI419"
                                },
                                {
                                    "termekkod": "L001-KB101"
                                },
                                {
                                    "termekkod": "L013-NA201"
                                },
                                {
                                    "termekkod": "L019-NA207"
                                },
                                {
                                    "termekkod": "L023-FE301"
                                },
                                {
                                    "termekkod": "L029-FE307"
                                },
                                {
                                    "termekkod": "L033-FE311"
                                },
                                {
                                    "termekkod": "L041-AL211"
                                },
                                {
                                    "termekkod": "L048-PO218"
                                },
                                {
                                    "termekkod": "L064-CI401"
                                },
                                {
                                    "termekkod": "L073-CI410"
                                },
                                {
                                    "termekkod": "L082-CI419"
                                },
                                {
                                    "termekkod": "N001-KB101"
                                },
                                {
                                    "termekkod": "N008-NA201"
                                },
                                {
                                    "termekkod": "N019-FE301"
                                },
                                {
                                    "termekkod": "N029-AL212"
                                },
                                {
                                    "termekkod": "N035-AL218"
                                },
                                {
                                    "termekkod": "N039-AL222"
                                },
                                {
                                    "termekkod": "U001-KI501"
                                }
                            ]
                        },
                        "text/html": [
                            "<table>",
                            "<tr><th>termekkod</th></tr>",
                            "<tr><td>01010110T</td></tr>",
                            "<tr><td>01010304T</td></tr>",
                            "<tr><td>01020300T</td></tr>",
                            "<tr><td>01030091T</td></tr>",
                            "<tr><td>01030092T</td></tr>",
                            "<tr><td>01040307T</td></tr>",
                            "<tr><td>01040502T</td></tr>",
                            "<tr><td>01080093T</td></tr>",
                            "<tr><td>01080512T</td></tr>",
                            "<tr><td>01080513T</td></tr>",
                            "<tr><td>01090499T</td></tr>",
                            "<tr><td>01090500T</td></tr>",
                            "<tr><td>01090501T</td></tr>",
                            "<tr><td>01090515T</td></tr>",
                            "<tr><td>01090516T</td></tr>",
                            "<tr><td>01090517T</td></tr>",
                            "<tr><td>01100070T</td></tr>",
                            "<tr><td>01100072T</td></tr>",
                            "<tr><td>01100094T</td></tr>",
                            "<tr><td>01100095T</td></tr>",
                            "<tr><td>01100096T</td></tr>",
                            "<tr><td>01100496T</td></tr>",
                            "<tr><td>01100497T</td></tr>",
                            "<tr><td>01100503T</td></tr>",
                            "<tr><td>01100504T</td></tr>",
                            "<tr><td>01100505T</td></tr>",
                            "<tr><td>01100509T</td></tr>",
                            "<tr><td>01100510T</td></tr>",
                            "<tr><td>02010028T</td></tr>",
                            "<tr><td>02020029T</td></tr>",
                            "<tr><td>02020032T</td></tr>",
                            "<tr><td>02020033T</td></tr>",
                            "<tr><td>02020037T</td></tr>",
                            "<tr><td>02020245T</td></tr>",
                            "<tr><td>02030040T</td></tr>",
                            "<tr><td>02040025T</td></tr>",
                            "<tr><td>02040145T</td></tr>",
                            "<tr><td>02040147T</td></tr>",
                            "<tr><td>02040148T</td></tr>",
                            "<tr><td>02040176T</td></tr>",
                            "<tr><td>02040177T</td></tr>",
                            "<tr><td>02040178T</td></tr>",
                            "<tr><td>02040194T</td></tr>",
                            "<tr><td>02040195T</td></tr>",
                            "<tr><td>02040196T</td></tr>",
                            "<tr><td>02040197T</td></tr>",
                            "<tr><td>02040198T</td></tr>",
                            "<tr><td>02040199T</td></tr>",
                            "<tr><td>02040200T</td></tr>",
                            "<tr><td>02040206T</td></tr>",
                            "<tr><td>02040207T</td></tr>",
                            "<tr><td>02040208T</td></tr>",
                            "<tr><td>02040209T</td></tr>",
                            "<tr><td>02040211T</td></tr>",
                            "<tr><td>02040214T</td></tr>",
                            "<tr><td>02040290T</td></tr>",
                            "<tr><td>02040291T</td></tr>",
                            "<tr><td>02040294T</td></tr>",
                            "<tr><td>02040298T</td></tr>",
                            "<tr><td>02040308T</td></tr>",
                            "<tr><td>02040309T</td></tr>",
                            "<tr><td>02040401T</td></tr>",
                            "<tr><td>02040402T</td></tr>",
                            "<tr><td>02040403T</td></tr>",
                            "<tr><td>02040404T</td></tr>",
                            "<tr><td>02040405T</td></tr>",
                            "<tr><td>02040506T</td></tr>",
                            "<tr><td>02040507T</td></tr>",
                            "<tr><td>02040508T</td></tr>",
                            "<tr><td>02050460T</td></tr>",
                            "<tr><td>02050461T</td></tr>",
                            "<tr><td>02060034T</td></tr>",
                            "<tr><td>02060038T</td></tr>",
                            "<tr><td>02060039T</td></tr>",
                            "<tr><td>02060447T</td></tr>",
                            "<tr><td>02060448T</td></tr>",
                            "<tr><td>02080069T</td></tr>",
                            "<tr><td>02080081T</td></tr>",
                            "<tr><td>02080109T</td></tr>",
                            "<tr><td>02080226T</td></tr>",
                            "<tr><td>02080431T</td></tr>",
                            "<tr><td>02080432T</td></tr>",
                            "<tr><td>02080433T</td></tr>",
                            "<tr><td>02080434T</td></tr>",
                            "<tr><td>02080436T</td></tr>",
                            "<tr><td>02080449T</td></tr>",
                            "<tr><td>02080450T</td></tr>",
                            "<tr><td>02080451T</td></tr>",
                            "<tr><td>02080452T</td></tr>",
                            "<tr><td>02080453T</td></tr>",
                            "<tr><td>02080454T</td></tr>",
                            "<tr><td>02080455T</td></tr>",
                            "<tr><td>02080456T</td></tr>",
                            "<tr><td>02080511T</td></tr>",
                            "<tr><td>02080514T</td></tr>",
                            "<tr><td>03010342T</td></tr>",
                            "<tr><td>03010344T</td></tr>",
                            "<tr><td>03010345T</td></tr>",
                            "<tr><td>03050076T</td></tr>",
                            "<tr><td>03050077T</td></tr>",
                            "<tr><td>03050078T</td></tr>",
                            "<tr><td>03080003T</td></tr>",
                            "<tr><td>03080004T</td></tr>",
                            "<tr><td>03080006T</td></tr>",
                            "<tr><td>03080009T</td></tr>",
                            "<tr><td>03080012T</td></tr>",
                            "<tr><td>03080013T</td></tr>",
                            "<tr><td>03080014T</td></tr>",
                            "<tr><td>03080015T</td></tr>",
                            "<tr><td>03080016T</td></tr>",
                            "<tr><td>03080017T</td></tr>",
                            "<tr><td>03080019T</td></tr>",
                            "<tr><td>03080020T</td></tr>",
                            "<tr><td>03080021T</td></tr>",
                            "<tr><td>03080030T</td></tr>",
                            "<tr><td>03080439T</td></tr>",
                            "<tr><td>04020445T</td></tr>",
                            "<tr><td>04030235T</td></tr>",
                            "<tr><td>04030237T</td></tr>",
                            "<tr><td>04030238T</td></tr>",
                            "<tr><td>04030239T</td></tr>",
                            "<tr><td>04030243T</td></tr>",
                            "<tr><td>04030261T</td></tr>",
                            "<tr><td>04030262T</td></tr>",
                            "<tr><td>04030263T</td></tr>",
                            "<tr><td>04030264T</td></tr>",
                            "<tr><td>04030265T</td></tr>",
                            "<tr><td>04030266T</td></tr>",
                            "<tr><td>04030285T</td></tr>",
                            "<tr><td>04030286T</td></tr>",
                            "<tr><td>04030288T</td></tr>",
                            "<tr><td>04040387T</td></tr>",
                            "<tr><td>04050022T</td></tr>",
                            "<tr><td>04050023T</td></tr>",
                            "<tr><td>04050024T</td></tr>",
                            "<tr><td>04050035T</td></tr>",
                            "<tr><td>04050073T</td></tr>",
                            "<tr><td>04050074T</td></tr>",
                            "<tr><td>04050075T</td></tr>",
                            "<tr><td>04050171T</td></tr>",
                            "<tr><td>04050187T</td></tr>",
                            "<tr><td>04050203T</td></tr>",
                            "<tr><td>04050204T</td></tr>",
                            "<tr><td>04050220T</td></tr>",
                            "<tr><td>04050221T</td></tr>",
                            "<tr><td>04050222T</td></tr>",
                            "<tr><td>04050223T</td></tr>",
                            "<tr><td>04050224T</td></tr>",
                            "<tr><td>04050252T</td></tr>",
                            "<tr><td>04050253T</td></tr>",
                            "<tr><td>04050254T</td></tr>",
                            "<tr><td>04050269T</td></tr>",
                            "<tr><td>04050320T</td></tr>",
                            "<tr><td>04050322T</td></tr>",
                            "<tr><td>04050358T</td></tr>",
                            "<tr><td>04080270T</td></tr>",
                            "<tr><td>04080271T</td></tr>",
                            "<tr><td>04080272T</td></tr>",
                            "<tr><td>04080443T</td></tr>",
                            "<tr><td>04110066T</td></tr>",
                            "<tr><td>04110067T</td></tr>",
                            "<tr><td>04110068T</td></tr>",
                            "<tr><td>04110227T</td></tr>",
                            "<tr><td>04110228T</td></tr>",
                            "<tr><td>04110229T</td></tr>",
                            "<tr><td>04110230T</td></tr>",
                            "<tr><td>04110231T</td></tr>",
                            "<tr><td>04110232T</td></tr>",
                            "<tr><td>04110233T</td></tr>",
                            "<tr><td>04110258T</td></tr>",
                            "<tr><td>04110274T</td></tr>",
                            "<tr><td>04110275T</td></tr>",
                            "<tr><td>04110276T</td></tr>",
                            "<tr><td>04110277T</td></tr>",
                            "<tr><td>04110278T</td></tr>",
                            "<tr><td>04110279T</td></tr>",
                            "<tr><td>04110280T</td></tr>",
                            "<tr><td>04110281T</td></tr>",
                            "<tr><td>04110282T</td></tr>",
                            "<tr><td>04110283T</td></tr>",
                            "<tr><td>04110284T</td></tr>",
                            "<tr><td>04110362T</td></tr>",
                            "<tr><td>05010026T</td></tr>",
                            "<tr><td>05010369T</td></tr>",
                            "<tr><td>05010370T</td></tr>",
                            "<tr><td>05040310T</td></tr>",
                            "<tr><td>05040348T</td></tr>",
                            "<tr><td>05040349T</td></tr>",
                            "<tr><td>05050045T</td></tr>",
                            "<tr><td>05050046T</td></tr>",
                            "<tr><td>05050170T</td></tr>",
                            "<tr><td>05050346T</td></tr>",
                            "<tr><td>05080340T</td></tr>",
                            "<tr><td>05080341T</td></tr>",
                            "<tr><td>05110359T</td></tr>",
                            "<tr><td>05110360T</td></tr>",
                            "<tr><td>05110361T</td></tr>",
                            "<tr><td>05110363T</td></tr>",
                            "<tr><td>05110364T</td></tr>",
                            "<tr><td>06010036T</td></tr>",
                            "<tr><td>06010082T</td></tr>",
                            "<tr><td>06010083T</td></tr>",
                            "<tr><td>06010084T</td></tr>",
                            "<tr><td>06010085T</td></tr>",
                            "<tr><td>06010111T</td></tr>",
                            "<tr><td>06010112T</td></tr>",
                            "<tr><td>06010114T</td></tr>",
                            "<tr><td>06010115T</td></tr>",
                            "<tr><td>06010201T</td></tr>",
                            "<tr><td>06010202T</td></tr>",
                            "<tr><td>06010305T</td></tr>",
                            "<tr><td>06010365T</td></tr>",
                            "<tr><td>06010366T</td></tr>",
                            "<tr><td>06010367T</td></tr>",
                            "<tr><td>06010368T</td></tr>",
                            "<tr><td>06010375T</td></tr>",
                            "<tr><td>06010376T</td></tr>",
                            "<tr><td>06010377T</td></tr>",
                            "<tr><td>06040089T</td></tr>",
                            "<tr><td>06040175T</td></tr>",
                            "<tr><td>06040179T</td></tr>",
                            "<tr><td>06040180T</td></tr>",
                            "<tr><td>06040183T</td></tr>",
                            "<tr><td>06040184T</td></tr>",
                            "<tr><td>06040186T</td></tr>",
                            "<tr><td>06040205T</td></tr>",
                            "<tr><td>06040206T</td></tr>",
                            "<tr><td>06040212T</td></tr>",
                            "<tr><td>06040213T</td></tr>",
                            "<tr><td>06040246T</td></tr>",
                            "<tr><td>06040248T</td></tr>",
                            "<tr><td>06040323T</td></tr>",
                            "<tr><td>06040324T</td></tr>",
                            "<tr><td>06040326T</td></tr>",
                            "<tr><td>06040330T</td></tr>",
                            "<tr><td>06040331T</td></tr>",
                            "<tr><td>06040347T</td></tr>",
                            "<tr><td>06040350T</td></tr>",
                            "<tr><td>06040351T</td></tr>",
                            "<tr><td>06040352T</td></tr>",
                            "<tr><td>06040353T</td></tr>",
                            "<tr><td>06040354T</td></tr>",
                            "<tr><td>06040355T</td></tr>",
                            "<tr><td>06040356T</td></tr>",
                            "<tr><td>06040378T</td></tr>",
                            "<tr><td>06040379T</td></tr>",
                            "<tr><td>06040380T</td></tr>",
                            "<tr><td>06040381T</td></tr>",
                            "<tr><td>06040382T</td></tr>",
                            "<tr><td>06040383T</td></tr>",
                            "<tr><td>06040384T</td></tr>",
                            "<tr><td>06040385T</td></tr>",
                            "<tr><td>06040386T</td></tr>",
                            "<tr><td>06040392T</td></tr>",
                            "<tr><td>06040393T</td></tr>",
                            "<tr><td>06040394T</td></tr>",
                            "<tr><td>06040395T</td></tr>",
                            "<tr><td>06040397T</td></tr>",
                            "<tr><td>06040398T</td></tr>",
                            "<tr><td>06040399T</td></tr>",
                            "<tr><td>06040400T</td></tr>",
                            "<tr><td>06040446T</td></tr>",
                            "<tr><td>06050249T</td></tr>",
                            "<tr><td>06050301T</td></tr>",
                            "<tr><td>06050302T</td></tr>",
                            "<tr><td>06050303T</td></tr>",
                            "<tr><td>06080116T</td></tr>",
                            "<tr><td>06080117T</td></tr>",
                            "<tr><td>06080118T</td></tr>",
                            "<tr><td>06080119T</td></tr>",
                            "<tr><td>06080120T</td></tr>",
                            "<tr><td>06080121T</td></tr>",
                            "<tr><td>06080122T</td></tr>",
                            "<tr><td>06080124T</td></tr>",
                            "<tr><td>06080125T</td></tr>",
                            "<tr><td>06080126T</td></tr>",
                            "<tr><td>06080188T</td></tr>",
                            "<tr><td>06080189T</td></tr>",
                            "<tr><td>06080190T</td></tr>",
                            "<tr><td>06080191T</td></tr>",
                            "<tr><td>06080192T</td></tr>",
                            "<tr><td>06080193T</td></tr>",
                            "<tr><td>06080259T</td></tr>",
                            "<tr><td>06080332T</td></tr>",
                            "<tr><td>06080333T</td></tr>",
                            "<tr><td>06080335T</td></tr>",
                            "<tr><td>06080337T</td></tr>",
                            "<tr><td>06080339T</td></tr>",
                            "<tr><td>06080407T</td></tr>",
                            "<tr><td>06080408T</td></tr>",
                            "<tr><td>06080409T</td></tr>",
                            "<tr><td>06080410T</td></tr>",
                            "<tr><td>06080411T</td></tr>",
                            "<tr><td>06080412T</td></tr>",
                            "<tr><td>06080413T</td></tr>",
                            "<tr><td>06080415T</td></tr>",
                            "<tr><td>06080416T</td></tr>",
                            "<tr><td>06080417T</td></tr>",
                            "<tr><td>06080422T</td></tr>",
                            "<tr><td>06080423T</td></tr>",
                            "<tr><td>06080424T</td></tr>",
                            "<tr><td>06080425T</td></tr>",
                            "<tr><td>06080426T</td></tr>",
                            "<tr><td>06080427T</td></tr>",
                            "<tr><td>06080428T</td></tr>",
                            "<tr><td>06080429T</td></tr>",
                            "<tr><td>06080430T</td></tr>",
                            "<tr><td>06080441T</td></tr>",
                            "<tr><td>07010137T</td></tr>",
                            "<tr><td>07010139T</td></tr>",
                            "<tr><td>07010140T</td></tr>",
                            "<tr><td>07010141T</td></tr>",
                            "<tr><td>07010142T</td></tr>",
                            "<tr><td>07010143T</td></tr>",
                            "<tr><td>07010144T</td></tr>",
                            "<tr><td>07010244T</td></tr>",
                            "<tr><td>07030103T</td></tr>",
                            "<tr><td>07030104T</td></tr>",
                            "<tr><td>07030105T</td></tr>",
                            "<tr><td>07030106T</td></tr>",
                            "<tr><td>07030107T</td></tr>",
                            "<tr><td>07030108T</td></tr>",
                            "<tr><td>07040047T</td></tr>",
                            "<tr><td>07040049T</td></tr>",
                            "<tr><td>07040050T</td></tr>",
                            "<tr><td>07040051T</td></tr>",
                            "<tr><td>07040052T</td></tr>",
                            "<tr><td>07040053T</td></tr>",
                            "<tr><td>07040054T</td></tr>",
                            "<tr><td>07040055T</td></tr>",
                            "<tr><td>07040056T</td></tr>",
                            "<tr><td>07040057T</td></tr>",
                            "<tr><td>07040058T</td></tr>",
                            "<tr><td>07040059T</td></tr>",
                            "<tr><td>07040060T</td></tr>",
                            "<tr><td>07040061T</td></tr>",
                            "<tr><td>07040097T</td></tr>",
                            "<tr><td>07040098T</td></tr>",
                            "<tr><td>07040099T</td></tr>",
                            "<tr><td>07040100T</td></tr>",
                            "<tr><td>07040101T</td></tr>",
                            "<tr><td>07040102T</td></tr>",
                            "<tr><td>07040127T</td></tr>",
                            "<tr><td>07040128T</td></tr>",
                            "<tr><td>07040129T</td></tr>",
                            "<tr><td>07040130T</td></tr>",
                            "<tr><td>07040132T</td></tr>",
                            "<tr><td>07040133T</td></tr>",
                            "<tr><td>07040165T</td></tr>",
                            "<tr><td>07040166T</td></tr>",
                            "<tr><td>07040167T</td></tr>",
                            "<tr><td>07040168T</td></tr>",
                            "<tr><td>07040169T</td></tr>",
                            "<tr><td>07040215T</td></tr>",
                            "<tr><td>07040216T</td></tr>",
                            "<tr><td>07040217T</td></tr>",
                            "<tr><td>07040218T</td></tr>",
                            "<tr><td>07040219T</td></tr>",
                            "<tr><td>07040257T</td></tr>",
                            "<tr><td>07040388T</td></tr>",
                            "<tr><td>07040389T</td></tr>",
                            "<tr><td>07040390T</td></tr>",
                            "<tr><td>07040391T</td></tr>",
                            "<tr><td>07050462T</td></tr>",
                            "<tr><td>07050463T</td></tr>",
                            "<tr><td>07050464T</td></tr>",
                            "<tr><td>07080062T</td></tr>",
                            "<tr><td>07080063T</td></tr>",
                            "<tr><td>07080064T</td></tr>",
                            "<tr><td>07080065T</td></tr>",
                            "<tr><td>07080150T</td></tr>",
                            "<tr><td>07080151T</td></tr>",
                            "<tr><td>07080152T</td></tr>",
                            "<tr><td>07080153T</td></tr>",
                            "<tr><td>07080154T</td></tr>",
                            "<tr><td>07080155T</td></tr>",
                            "<tr><td>07080156T</td></tr>",
                            "<tr><td>07080157T</td></tr>",
                            "<tr><td>07080159T</td></tr>",
                            "<tr><td>07080160T</td></tr>",
                            "<tr><td>07080161T</td></tr>",
                            "<tr><td>07080162T</td></tr>",
                            "<tr><td>07080316T</td></tr>",
                            "<tr><td>07080421T</td></tr>",
                            "<tr><td>07080466T</td></tr>",
                            "<tr><td>08070472T</td></tr>",
                            "<tr><td>08070473T</td></tr>",
                            "<tr><td>08070474T</td></tr>",
                            "<tr><td>08070477T</td></tr>",
                            "<tr><td>08070478T</td></tr>",
                            "<tr><td>08070479T</td></tr>",
                            "<tr><td>08070481T</td></tr>",
                            "<tr><td>08070482T</td></tr>",
                            "<tr><td>08070483T</td></tr>",
                            "<tr><td>08070484T</td></tr>",
                            "<tr><td>08070485T</td></tr>",
                            "<tr><td>08070486T</td></tr>",
                            "<tr><td>08070487T</td></tr>",
                            "<tr><td>08070490T</td></tr>",
                            "<tr><td>08070491T</td></tr>",
                            "<tr><td>08070492T</td></tr>",
                            "<tr><td>08070493T</td></tr>",
                            "<tr><td>08070494T</td></tr>",
                            "<tr><td>08070495T</td></tr>",
                            "<tr><td>F001-KB101</td></tr>",
                            "<tr><td>F007-NA201</td></tr>",
                            "<tr><td>F013-NA207</td></tr>",
                            "<tr><td>F021-IN215</td></tr>",
                            "<tr><td>G001-KB101</td></tr>",
                            "<tr><td>G013-NA201</td></tr>",
                            "<tr><td>G019-NA207</td></tr>",
                            "<tr><td>G023-FE301</td></tr>",
                            "<tr><td>G029-FE307</td></tr>",
                            "<tr><td>G038-FE316</td></tr>",
                            "<tr><td>G041-AL211</td></tr>",
                            "<tr><td>G048-PO218</td></tr>",
                            "<tr><td>G064-CI401</td></tr>",
                            "<tr><td>G073-CI410</td></tr>",
                            "<tr><td>G082-CI419</td></tr>",
                            "<tr><td>L001-KB101</td></tr>",
                            "<tr><td>L013-NA201</td></tr>",
                            "<tr><td>L019-NA207</td></tr>",
                            "<tr><td>L023-FE301</td></tr>",
                            "<tr><td>L029-FE307</td></tr>",
                            "<tr><td>L033-FE311</td></tr>",
                            "<tr><td>L041-AL211</td></tr>",
                            "<tr><td>L048-PO218</td></tr>",
                            "<tr><td>L064-CI401</td></tr>",
                            "<tr><td>L073-CI410</td></tr>",
                            "<tr><td>L082-CI419</td></tr>",
                            "<tr><td>N001-KB101</td></tr>",
                            "<tr><td>N008-NA201</td></tr>",
                            "<tr><td>N019-FE301</td></tr>",
                            "<tr><td>N029-AL212</td></tr>",
                            "<tr><td>N035-AL218</td></tr>",
                            "<tr><td>N039-AL222</td></tr>",
                            "<tr><td>U001-KI501</td></tr>",
                            "</table>"
                        ]
                    }
                }
            ],
            "execution_count": 27
        },
        {
            "cell_type": "markdown",
            "source": [
                "7. <span style=\"background-color: rgb(255, 255, 255); color: rgb(0, 0, 0); font-family: &quot;Open Sans&quot;, sans-serif; font-size: 14.44px;\">Listázzuk azon ügyfeleket, akik még nem fizettek bankkártyával!&nbsp;</span> \n",
                "\n",
                "a. Csak az ügyfelek neve jelenjen meg!"
            ],
            "metadata": {
                "azdata_cell_guid": "7ebf7ddd-1bd2-4246-815a-be8ae37e3b5b"
            },
            "attachments": {}
        },
        {
            "cell_type": "code",
            "source": [
                "select NEV \r\n",
                "from Ugyfel\r\n",
                "where login not in (select login from Rendeles WHERE FIZ_MOD='bankkártya')"
            ],
            "metadata": {
                "azdata_cell_guid": "84b7e896-f36e-4985-88f5-e0f706494fef",
                "language": "sql"
            },
            "outputs": [
                {
                    "output_type": "display_data",
                    "data": {
                        "text/html": "(9 rows affected)"
                    },
                    "metadata": {}
                },
                {
                    "output_type": "display_data",
                    "data": {
                        "text/html": "Total execution time: 00:00:00.054"
                    },
                    "metadata": {}
                },
                {
                    "output_type": "execute_result",
                    "metadata": {},
                    "execution_count": 30,
                    "data": {
                        "application/vnd.dataresource+json": {
                            "schema": {
                                "fields": [
                                    {
                                        "name": "NEV"
                                    }
                                ]
                            },
                            "data": [
                                {
                                    "NEV": "Biró Alexander"
                                },
                                {
                                    "NEV": "Csóti Attila"
                                },
                                {
                                    "NEV": "Bagi Beáta"
                                },
                                {
                                    "NEV": "Mór Ottó"
                                },
                                {
                                    "NEV": "Molnár Eszter"
                                },
                                {
                                    "NEV": "Kiss Anita"
                                },
                                {
                                    "NEV": "Kispál Márk"
                                },
                                {
                                    "NEV": "Nagy Péter"
                                },
                                {
                                    "NEV": "Szűcs Norbert"
                                }
                            ]
                        },
                        "text/html": [
                            "<table>",
                            "<tr><th>NEV</th></tr>",
                            "<tr><td>Biró Alexander</td></tr>",
                            "<tr><td>Csóti Attila</td></tr>",
                            "<tr><td>Bagi Beáta</td></tr>",
                            "<tr><td>Mór Ottó</td></tr>",
                            "<tr><td>Molnár Eszter</td></tr>",
                            "<tr><td>Kiss Anita</td></tr>",
                            "<tr><td>Kispál Márk</td></tr>",
                            "<tr><td>Nagy Péter</td></tr>",
                            "<tr><td>Szűcs Norbert</td></tr>",
                            "</table>"
                        ]
                    }
                }
            ],
            "execution_count": 30
        },
        {
            "cell_type": "markdown",
            "source": [
                "8. <span style=\"background-color: rgb(255, 255, 255); color: rgb(0, 0, 0); font-family: &quot;Open Sans&quot;, sans-serif; font-size: 14.44px;\">Mennyibe kerül a második legnagyobb listaárú termék?</span>"
            ],
            "metadata": {
                "azdata_cell_guid": "27a3d3dc-eafb-4a5e-b103-9f465b9eda8f"
            },
            "attachments": {}
        },
        {
            "cell_type": "code",
            "source": [
                "SELECT listaar \r\n",
                "from Termek\r\n",
                "ORDER BY LISTAAR desc\r\n",
                "limit 2;"
            ],
            "metadata": {
                "azdata_cell_guid": "f09edb3f-649b-4a96-958e-9e12774ae8b7",
                "language": "sql"
            },
            "outputs": [
                {
                    "output_type": "error",
                    "evalue": "Msg 102, Level 15, State 1, Line 4\r\nIncorrect syntax near 'limit'.",
                    "ename": "",
                    "traceback": []
                },
                {
                    "output_type": "display_data",
                    "data": {
                        "text/html": "Total execution time: 00:00:00.001"
                    },
                    "metadata": {}
                }
            ],
            "execution_count": 33
        },
        {
            "cell_type": "markdown",
            "source": [
                "9. <span style=\"background-color: rgb(255, 255, 255); color: rgb(0, 0, 0); font-family: &quot;Open Sans&quot;, sans-serif; font-size: 14.44px;\">Melyik raktár(ak)ban van az a termék, amelyből a legnagyobb készlet van?&nbsp;</span> \n",
                "\n",
                "a. Csak a raktár(ak) neve jelenjen meg!"
            ],
            "metadata": {
                "azdata_cell_guid": "f12a331a-0e26-4d3d-9c68-812316286577"
            },
            "attachments": {}
        },
        {
            "cell_type": "code",
            "source": [
                ""
            ],
            "metadata": {
                "azdata_cell_guid": "10a77fc9-e61a-46fc-a401-59720d82bc50",
                "language": "sql"
            },
            "outputs": [],
            "execution_count": null
        },
        {
            "cell_type": "markdown",
            "source": [
                "10. <span style=\"background-color: rgb(255, 255, 255); color: rgb(0, 0, 0); font-family: &quot;Open Sans&quot;, sans-serif; font-size: 14.44px;\">Melyek azok a termékek, amelyek listaára nagyobb, mint bármelyik olyan terméké, amelynek nevében az Ajándék szó szerepel?&nbsp;</span> \n",
                "\n",
                "a. A termékek kódját és nevét is jelenítsük meg!"
            ],
            "metadata": {
                "azdata_cell_guid": "9229e2b6-e200-4499-b95b-2d0222149831"
            },
            "attachments": {}
        },
        {
            "cell_type": "code",
            "source": [
                ""
            ],
            "metadata": {
                "azdata_cell_guid": "8b49ed67-28c6-4880-82a8-cd369e5bba99",
                "language": "sql"
            },
            "outputs": [],
            "execution_count": null
        },
        {
            "cell_type": "markdown",
            "source": [
                "11. <span style=\"background-color: rgb(255, 255, 255); color: rgb(0, 0, 0); font-family: &quot;Open Sans&quot;, sans-serif; font-size: 14.44px;\">Melyik hónapokban adtak le az ügyfelek több rendelést, mint januárban?&nbsp;</span> \n",
                "\n",
                "a. Elég a hónapok sorszámait megjeleníteni. \n",
                "\n",
                "b. A listát rendezzük a hónapok száma szerint növekvő sorrendbe!"
            ],
            "metadata": {
                "azdata_cell_guid": "7f5fc7a7-3b6a-4d89-b292-490830afb0c6"
            },
            "attachments": {}
        },
        {
            "cell_type": "code",
            "source": [
                ""
            ],
            "metadata": {
                "azdata_cell_guid": "4a9ece40-f782-4c0d-92cd-9c21969067ed",
                "language": "sql"
            },
            "outputs": [],
            "execution_count": null
        },
        {
            "cell_type": "markdown",
            "source": [
                "12. <span style=\"background-color: rgb(255, 255, 255); color: rgb(0, 0, 0); font-family: &quot;Open Sans&quot;, sans-serif; font-size: 14.44px;\">Melyek azok a termékek, amelyek listaára az átlagostól max. 20%-kal tér el?&nbsp;</span> \n",
                "\n",
                "a. A termék kódját és nevét is jelenítsük meg!"
            ],
            "metadata": {
                "azdata_cell_guid": "5a483c52-bb98-44bb-bd03-1146d4b0abfa"
            },
            "attachments": {}
        },
        {
            "cell_type": "code",
            "source": [
                ""
            ],
            "metadata": {
                "azdata_cell_guid": "dd6e89bd-08f9-4b18-8460-03c45b503df0",
                "language": "sql"
            },
            "outputs": [],
            "execution_count": null
        },
        {
            "cell_type": "markdown",
            "source": [
                "13. <span style=\"background-color: rgb(255, 255, 255); color: rgb(0, 0, 0); font-family: &quot;Open Sans&quot;, sans-serif; font-size: 14.44px;\">Készítsünk listát (sorszámonként) az egyes rendelések teljes összegéről!&nbsp;</span> \n",
                "\n",
                "a. Szűrjünk azon tételekre, ahol ez az érték nagyobb, mint Viktor Éva rendeléseinek teljes összege! \n",
                "\n",
                "b. A teljes összeg oszlopot nevezzük el értelemszerűen!"
            ],
            "metadata": {
                "azdata_cell_guid": "85d5cb66-96c6-42de-99cf-85ab22d08548"
            },
            "attachments": {}
        },
        {
            "cell_type": "code",
            "source": [
                ""
            ],
            "metadata": {
                "azdata_cell_guid": "cb07d64b-0eaa-498b-b4d2-0b46971e95ce",
                "language": "sql"
            },
            "outputs": [],
            "execution_count": null
        },
        {
            "cell_type": "markdown",
            "source": [
                "14. <span style=\"background-color: rgb(255, 255, 255); color: rgb(0, 0, 0); font-family: &quot;Open Sans&quot;, sans-serif; font-size: 14.44px;\">Listázzuk azokat a termékkategóriákat, amelyből 2017 januárban nem történt rendelés!&nbsp;</span> \n",
                "\n",
                "a. Elég a kategóriák nevét megjeleníteni!"
            ],
            "metadata": {
                "azdata_cell_guid": "f95ad665-a807-4099-bf06-64ed974f866f"
            },
            "attachments": {}
        },
        {
            "cell_type": "code",
            "source": [
                "select kat_nev\r\n",
                "FROM termekkategoria tk\r\n",
                "JOIN termek t on t.KAT_ID=tk.KAT_ID\r\n",
                "WHERE not EXISTS (select *\r\n",
                "from Rendeles_tetel rt JOIN rendeles r on rt.SORSZAM=r.SORSZAM\r\n",
                "JOIN termek t on rt.TERMEKKOD=t.TERMEKKOD\r\n",
                "WHERE YEAR(r.REND_DATUM)=2017 AND\r\n",
                "MONTH(r.REND_DATUM)= 1 and tk.KAT_ID=t.KAT_ID)"
            ],
            "metadata": {
                "azdata_cell_guid": "74c7ec8a-ae4a-4d03-b1c4-e8f6bb1be12c",
                "language": "sql"
            },
            "outputs": [
                {
                    "output_type": "display_data",
                    "data": {
                        "text/html": "(2 rows affected)"
                    },
                    "metadata": {}
                },
                {
                    "output_type": "display_data",
                    "data": {
                        "text/html": "Total execution time: 00:00:00.053"
                    },
                    "metadata": {}
                },
                {
                    "output_type": "execute_result",
                    "metadata": {},
                    "execution_count": 40,
                    "data": {
                        "application/vnd.dataresource+json": {
                            "schema": {
                                "fields": [
                                    {
                                        "name": "kat_nev"
                                    }
                                ]
                            },
                            "data": [
                                {
                                    "kat_nev": "indigó"
                                },
                                {
                                    "kat_nev": "indigó"
                                }
                            ]
                        },
                        "text/html": [
                            "<table>",
                            "<tr><th>kat_nev</th></tr>",
                            "<tr><td>indigó</td></tr>",
                            "<tr><td>indigó</td></tr>",
                            "</table>"
                        ]
                    }
                }
            ],
            "execution_count": 40
        },
        {
            "cell_type": "markdown",
            "source": [
                "15. <span style=\"background-color: rgb(255, 255, 255); color: rgb(0, 0, 0); font-family: &quot;Open Sans&quot;, sans-serif; font-size: 14.44px;\">Listázzuk azon rendelési tételeket, amelynek értéke nagyobb, mint a legdrágább termék listaára azon termékek közül, amelyek szülő kategóriája a ruha!</span>"
            ],
            "metadata": {
                "azdata_cell_guid": "93552388-ffec-49ff-99e5-ae8dc8072601"
            },
            "attachments": {}
        },
        {
            "cell_type": "code",
            "source": [
                ""
            ],
            "metadata": {
                "azdata_cell_guid": "0e7f547f-7d96-4611-b1c2-0fa84a581e79",
                "language": "sql"
            },
            "outputs": [],
            "execution_count": null
        },
        {
            "cell_type": "code",
            "source": [
                "SELECT *, (2025-szulev) AS age,\r\n",
                "from Ugyfel"
            ],
            "metadata": {
                "azdata_cell_guid": "f943e1c5-c84d-47fa-80dc-ed9a885df7d4",
                "language": "sql"
            },
            "outputs": [
                {
                    "output_type": "display_data",
                    "data": {
                        "text/html": "(200 rows affected)"
                    },
                    "metadata": {}
                },
                {
                    "output_type": "display_data",
                    "data": {
                        "text/html": "Total execution time: 00:00:00.033"
                    },
                    "metadata": {}
                },
                {
                    "output_type": "execute_result",
                    "metadata": {},
                    "execution_count": 42,
                    "data": {
                        "application/vnd.dataresource+json": {
                            "schema": {
                                "fields": [
                                    {
                                        "name": "LOGIN"
                                    },
                                    {
                                        "name": "EMAIL"
                                    },
                                    {
                                        "name": "NEV"
                                    },
                                    {
                                        "name": "SZULEV"
                                    },
                                    {
                                        "name": "NEM"
                                    },
                                    {
                                        "name": "CIM"
                                    },
                                    {
                                        "name": "age"
                                    }
                                ]
                            },
                            "data": [
                                {
                                    "LOGIN": "adam1",
                                    "EMAIL": "ádám.kiss@mail.hu",
                                    "NEV": "Kiss Ádám",
                                    "SZULEV": "1991",
                                    "NEM": "F",
                                    "CIM": "5630 Békés, Szolnoki út 8.",
                                    "age": "34"
                                },
                                {
                                    "LOGIN": "adam3",
                                    "EMAIL": "adam3@gmail.com",
                                    "NEV": "Barkóci Ádám",
                                    "SZULEV": "1970",
                                    "NEM": "F",
                                    "CIM": "3910 Tokaj, Dózsa György utca 37.",
                                    "age": "55"
                                },
                                {
                                    "LOGIN": "adam4",
                                    "EMAIL": "ádám.bieniek@mail.hu",
                                    "NEV": "Bieniek Ádám",
                                    "SZULEV": "1976",
                                    "NEM": "F",
                                    "CIM": "8630 Balatonboglár, Juhászföldi út 1.",
                                    "age": "49"
                                },
                                {
                                    "LOGIN": "agnes",
                                    "EMAIL": "agnes@gmail.com",
                                    "NEV": "Lengyel Ágnes",
                                    "SZULEV": "1979",
                                    "NEM": "N",
                                    "CIM": "5200 Törökszentmiklós, Deák Ferenc út 5.",
                                    "age": "46"
                                },
                                {
                                    "LOGIN": "agnes3",
                                    "EMAIL": "agnes3@gmail.com",
                                    "NEV": "Hartyánszky Ágnes",
                                    "SZULEV": "1967",
                                    "NEM": "N",
                                    "CIM": "6430 Bácsalmás, Posta köz 2.",
                                    "age": "58"
                                },
                                {
                                    "LOGIN": "AGNESH",
                                    "EMAIL": "AGNESH@gmail.com",
                                    "NEV": "Horváth Ágnes",
                                    "SZULEV": "1981",
                                    "NEM": "N",
                                    "CIM": "8200 Veszprém, Rákóczi utca 21.",
                                    "age": "44"
                                },
                                {
                                    "LOGIN": "AGNESK",
                                    "EMAIL": "AGNESK@gmail.com",
                                    "NEV": "Kovács Ágnes",
                                    "SZULEV": "1988",
                                    "NEM": "N",
                                    "CIM": "1084 Budapest, Endrődi Sándor utca 47.",
                                    "age": "37"
                                },
                                {
                                    "LOGIN": "akos",
                                    "EMAIL": "ákos.bíró@mail.hu",
                                    "NEV": "Bíró Ákos",
                                    "SZULEV": "1982",
                                    "NEM": "F",
                                    "CIM": "9023 Győr, Kossuth Lajos utca 47/b.",
                                    "age": "43"
                                },
                                {
                                    "LOGIN": "aladar",
                                    "EMAIL": "aladár.dunai@mail.hu",
                                    "NEV": "Dunai Aladár",
                                    "SZULEV": "1980",
                                    "NEM": "F",
                                    "CIM": "5931 Nagyszénás, Árpád utca 23.",
                                    "age": "45"
                                },
                                {
                                    "LOGIN": "alexandra",
                                    "EMAIL": "alexandra.bagóczki@mail.hu",
                                    "NEV": "Bagóczki Alexandra",
                                    "SZULEV": "1992",
                                    "NEM": "N",
                                    "CIM": "2381 Táborfalva, Petőfi utca 1/2.",
                                    "age": "33"
                                },
                                {
                                    "LOGIN": "alexis",
                                    "EMAIL": "alexbiro@gmail.com",
                                    "NEV": "Biró Alexander",
                                    "SZULEV": "2000",
                                    "NEM": "F",
                                    "CIM": "6914 Pitvaros, Deák F. u. 38.",
                                    "age": "25"
                                },
                                {
                                    "LOGIN": "andi",
                                    "EMAIL": "andrea.maródi@mail.hu",
                                    "NEV": "Maródi Andrea",
                                    "SZULEV": "1968",
                                    "NEM": "N",
                                    "CIM": "5465 Cserkeszőlő, Árpád utca 4.",
                                    "age": "57"
                                },
                                {
                                    "LOGIN": "andras2",
                                    "EMAIL": "andrás.tóth@mail.hu",
                                    "NEV": "Tóth András",
                                    "SZULEV": "1997",
                                    "NEM": "F",
                                    "CIM": "4071 Egyek, Petőfi utca 30.",
                                    "age": "28"
                                },
                                {
                                    "LOGIN": "andras21",
                                    "EMAIL": "andrás.molnár@mail.hu",
                                    "NEV": "Molnár András",
                                    "SZULEV": "1977",
                                    "NEM": "F",
                                    "CIM": "7900 Szigetvár, Rákóczi utca 67.",
                                    "age": "48"
                                },
                                {
                                    "LOGIN": "andras3",
                                    "EMAIL": "andrás.vígh@mail.hu",
                                    "NEV": "Vígh András",
                                    "SZULEV": "1971",
                                    "NEM": "F",
                                    "CIM": "1118 Budapest, Arany János utca 1.",
                                    "age": "54"
                                },
                                {
                                    "LOGIN": "andras4",
                                    "EMAIL": "andras4@gmail.com",
                                    "NEV": "Back András",
                                    "SZULEV": "1984",
                                    "NEM": "F",
                                    "CIM": "3783 Edelény, Fő út 169.",
                                    "age": "41"
                                },
                                {
                                    "LOGIN": "andras41",
                                    "EMAIL": "andras41@gmail.com",
                                    "NEV": "Komjáti András",
                                    "SZULEV": "1997",
                                    "NEM": "F",
                                    "CIM": "5065 Nagykörű, Kossuth út 24.",
                                    "age": "28"
                                },
                                {
                                    "LOGIN": "ANDRASE",
                                    "EMAIL": "ANDRASE@gmail.com",
                                    "NEV": "Erdei András",
                                    "SZULEV": "1997",
                                    "NEM": "F",
                                    "CIM": "5071 Besenyszög, Szolnoki út 8.",
                                    "age": "28"
                                },
                                {
                                    "LOGIN": "ANDRASN",
                                    "EMAIL": "andrás.nagy@mail.hu",
                                    "NEV": "Nagy András",
                                    "SZULEV": "1980",
                                    "NEM": "F",
                                    "CIM": "6500 Baja, Fő út 169.",
                                    "age": "45"
                                },
                                {
                                    "LOGIN": "andrea",
                                    "EMAIL": "andrea.kiss@mail.hu",
                                    "NEV": "Kiss Andrea",
                                    "SZULEV": "1993",
                                    "NEM": "N",
                                    "CIM": "1113 Budapest, Petőfi Sándor utca 87.",
                                    "age": "32"
                                },
                                {
                                    "LOGIN": "andrea3",
                                    "EMAIL": "andrea3@gmail.com",
                                    "NEV": "Szomor Andrea",
                                    "SZULEV": "1996",
                                    "NEM": "N",
                                    "CIM": "7960 Sellye, Bécsi utca 82.",
                                    "age": "29"
                                },
                                {
                                    "LOGIN": "andrea4",
                                    "EMAIL": "andrea4@gmail.com",
                                    "NEV": "Neizer Andrea",
                                    "SZULEV": "1981",
                                    "NEM": "N",
                                    "CIM": "1124 Budapest, Kiss u. 8.",
                                    "age": "44"
                                },
                                {
                                    "LOGIN": "ANDREAT",
                                    "EMAIL": "ANDREAT@gmail.com",
                                    "NEV": "Tornyos Andrea",
                                    "SZULEV": "1986",
                                    "NEM": "N",
                                    "CIM": "6131 Szank, Bécsi utca 82.",
                                    "age": "39"
                                },
                                {
                                    "LOGIN": "anett3",
                                    "EMAIL": "anett.pivarcsi@mail.hu",
                                    "NEV": "Pivarcsi Anett",
                                    "SZULEV": "1967",
                                    "NEM": "N",
                                    "CIM": "1149 Budapest, Fő út 60.",
                                    "age": "58"
                                },
                                {
                                    "LOGIN": "aniko",
                                    "EMAIL": "aniko@gmail.com",
                                    "NEV": "Tóth Anikó",
                                    "SZULEV": "1973",
                                    "NEM": "N",
                                    "CIM": "2085 Pilisvörösvár, Deák Ferenc út 5.",
                                    "age": "52"
                                },
                                {
                                    "LOGIN": "aniko4",
                                    "EMAIL": "aniko4@gmail.com",
                                    "NEV": "Böröcz Anikó",
                                    "SZULEV": "1978",
                                    "NEM": "N",
                                    "CIM": "2484 Agárd, Petőfi Sándor tér 1.",
                                    "age": "47"
                                },
                                {
                                    "LOGIN": "ANIKOS",
                                    "EMAIL": "ANIKOS@gmail.com",
                                    "NEV": "Simon Anikó",
                                    "SZULEV": "1988",
                                    "NEM": "N",
                                    "CIM": "5137 Jászkisér, Bécsi utca 82.",
                                    "age": "37"
                                },
                                {
                                    "LOGIN": "anita",
                                    "EMAIL": "anita.hamvay-kovács@mail.hu",
                                    "NEV": "Hamvay-Kovács Anita",
                                    "SZULEV": "1971",
                                    "NEM": "N",
                                    "CIM": "7220 Sarkad, Táncsics utca 19.",
                                    "age": "54"
                                },
                                {
                                    "LOGIN": "annamaria1",
                                    "EMAIL": "annamária.szűcs@mail.hu",
                                    "NEV": "Szűcs Annamária",
                                    "SZULEV": "1990",
                                    "NEM": "N",
                                    "CIM": "1191 Budapest, Rendeki utca 21.",
                                    "age": "35"
                                },
                                {
                                    "LOGIN": "ANNAMARIAR",
                                    "EMAIL": "ANNAMARIAR@gmail.com",
                                    "NEV": "Regős Annamária",
                                    "SZULEV": "1977",
                                    "NEM": "N",
                                    "CIM": "8283 Káptalantóti, Petőfi Sándor tér 1.",
                                    "age": "48"
                                },
                                {
                                    "LOGIN": "aron2",
                                    "EMAIL": "aron2@gmail.com",
                                    "NEV": "Jakab Áron",
                                    "SZULEV": "1971",
                                    "NEM": "F",
                                    "CIM": "7133 Fadd, Bajcsy-Zsilinszky utca 4.",
                                    "age": "54"
                                },
                                {
                                    "LOGIN": "ARONK",
                                    "EMAIL": "áron.kelemen@mail.hu",
                                    "NEV": "Kelemen Áron",
                                    "SZULEV": "1989",
                                    "NEM": "F",
                                    "CIM": "8200 Veszprém, Petőfi utca 8.",
                                    "age": "36"
                                },
                                {
                                    "LOGIN": "arpad2",
                                    "EMAIL": "árpád.ötvös@mail.hu",
                                    "NEV": "Ötvös Árpád",
                                    "SZULEV": "1990",
                                    "NEM": "F",
                                    "CIM": "2600 Vác, Padragi út 158.",
                                    "age": "35"
                                },
                                {
                                    "LOGIN": "ARPADH",
                                    "EMAIL": "árpád.horváth@mail.hu",
                                    "NEV": "Horváth Árpád",
                                    "SZULEV": "1990",
                                    "NEM": "F",
                                    "CIM": "7349 Szászvár, Dózsa György u. 1.",
                                    "age": "35"
                                },
                                {
                                    "LOGIN": "ARPADM",
                                    "EMAIL": "árpád.móricz@mail.hu",
                                    "NEV": "Móricz Árpád",
                                    "SZULEV": "1986",
                                    "NEM": "F",
                                    "CIM": "3910 Tokaj, Rákóczi utca 67.",
                                    "age": "39"
                                },
                                {
                                    "LOGIN": "attila",
                                    "EMAIL": "attila@gmail.com",
                                    "NEV": "Csóti Attila",
                                    "SZULEV": "1979",
                                    "NEM": "F",
                                    "CIM": "3000 Hatvan, Bajcsy-Zsilinszky utca 4.",
                                    "age": "46"
                                },
                                {
                                    "LOGIN": "attila1",
                                    "EMAIL": "attila.gulyás@mail.hu",
                                    "NEV": "Gulyás Attila",
                                    "SZULEV": "1982",
                                    "NEM": "F",
                                    "CIM": "3881 Abaújszántó, Szolnoki út 8.",
                                    "age": "43"
                                },
                                {
                                    "LOGIN": "attila4",
                                    "EMAIL": "attila.baróti@mail.hu",
                                    "NEV": "Baróti Attila",
                                    "SZULEV": "1975",
                                    "NEM": "F",
                                    "CIM": "7149 Báta, Arany János utca 3.",
                                    "age": "50"
                                },
                                {
                                    "LOGIN": "ATTILAO",
                                    "EMAIL": "ATTILAO@gmail.com",
                                    "NEV": "Opra Attila",
                                    "SZULEV": "1995",
                                    "NEM": "F",
                                    "CIM": "8283 Káptalantóti, Rákóczi út 200.",
                                    "age": "30"
                                },
                                {
                                    "LOGIN": "balazs1",
                                    "EMAIL": "balázs.bozsik@mail.hu",
                                    "NEV": "Bozsik Balázs",
                                    "SZULEV": "1992",
                                    "NEM": "F",
                                    "CIM": "2300 Ráckeve, Bécsi utca 82.",
                                    "age": "33"
                                },
                                {
                                    "LOGIN": "balazs2",
                                    "EMAIL": "balázs.szűcs@mail.hu",
                                    "NEV": "Szűcs Balázs",
                                    "SZULEV": "1984",
                                    "NEM": "F",
                                    "CIM": "3170 Szécsény, Szabadság utca 95.",
                                    "age": "41"
                                },
                                {
                                    "LOGIN": "balazs3",
                                    "EMAIL": "balazs3@gmail.com",
                                    "NEV": "Bakódy Balázs",
                                    "SZULEV": "1986",
                                    "NEM": "F",
                                    "CIM": "2131 Göd, Arany János utca 1.",
                                    "age": "39"
                                },
                                {
                                    "LOGIN": "balint",
                                    "EMAIL": "balint@gmail.com",
                                    "NEV": "Horváth Bálint",
                                    "SZULEV": "1996",
                                    "NEM": "F",
                                    "CIM": "6646 Tömörkény, Endrődi Sándor utca 47.",
                                    "age": "29"
                                },
                                {
                                    "LOGIN": "balint1",
                                    "EMAIL": "balint1@gmail.com",
                                    "NEV": "Molnár Bálint",
                                    "SZULEV": "1989",
                                    "NEM": "F",
                                    "CIM": "9181 Kimle, Fő út 169.",
                                    "age": "36"
                                },
                                {
                                    "LOGIN": "balint2",
                                    "EMAIL": "balint2@gmail.com",
                                    "NEV": "Vukasinovity Bálint",
                                    "SZULEV": "1997",
                                    "NEM": "F",
                                    "CIM": "2330 Dunaharaszti, Béke utca 7.",
                                    "age": "28"
                                },
                                {
                                    "LOGIN": "balu",
                                    "EMAIL": "bálint.endresz@mail.hu",
                                    "NEV": "Endresz Bálint",
                                    "SZULEV": "1976",
                                    "NEM": "F",
                                    "CIM": "3973 Cigánd, Fő út 169.",
                                    "age": "49"
                                },
                                {
                                    "LOGIN": "beata4",
                                    "EMAIL": "beáta.bagi@mail.hu",
                                    "NEV": "Bagi Beáta",
                                    "SZULEV": "1994",
                                    "NEM": "N",
                                    "CIM": "8477 Tüskevár, Felszabadulás utca 32.",
                                    "age": "31"
                                },
                                {
                                    "LOGIN": "BEATRIXK",
                                    "EMAIL": "beatrix.kerényi@mail.hu",
                                    "NEV": "Kerényi Beatrix",
                                    "SZULEV": "1972",
                                    "NEM": "N",
                                    "CIM": "7396 Magyarszék, Kossuth Lajos utca 47/b.",
                                    "age": "53"
                                },
                                {
                                    "LOGIN": "BEATRIXS",
                                    "EMAIL": "beatrix.szekendi@mail.hu",
                                    "NEV": "Szekendi Beatrix",
                                    "SZULEV": "1981",
                                    "NEM": "N",
                                    "CIM": "4060 Balmazújváros, Jászai tér 21.",
                                    "age": "44"
                                },
                                {
                                    "LOGIN": "BELAF",
                                    "EMAIL": "BELAF@gmail.com",
                                    "NEV": "Farkas Béla",
                                    "SZULEV": "1995",
                                    "NEM": "F",
                                    "CIM": "5530 Vésztő, Petőfi Sándor utca 3.",
                                    "age": "30"
                                },
                                {
                                    "LOGIN": "bence",
                                    "EMAIL": "bence@gmail.com",
                                    "NEV": "Győrffy Bence",
                                    "SZULEV": "1987",
                                    "NEM": "F",
                                    "CIM": "6900 Makó, Árpád utca 23.",
                                    "age": "38"
                                },
                                {
                                    "LOGIN": "BENCEB",
                                    "EMAIL": "bence.bajusz@mail.hu",
                                    "NEV": "Bajusz Bence",
                                    "SZULEV": "1973",
                                    "NEM": "F",
                                    "CIM": "8391 Sármellék, Fő utca 56.",
                                    "age": "52"
                                },
                                {
                                    "LOGIN": "bernadett1",
                                    "EMAIL": "bernadett1@gmail.com",
                                    "NEV": "Simon Bernadett",
                                    "SZULEV": "1984",
                                    "NEM": "N",
                                    "CIM": "2300 Ráckeve, Fő utca 108.",
                                    "age": "41"
                                },
                                {
                                    "LOGIN": "bernadett2",
                                    "EMAIL": "bernadett.kovács@mail.hu",
                                    "NEV": "Kovács Bernadett",
                                    "SZULEV": "1996",
                                    "NEM": "N",
                                    "CIM": "4200 Hajdúszoboszló, Fő út 122.",
                                    "age": "29"
                                },
                                {
                                    "LOGIN": "BERNADETTO",
                                    "EMAIL": "bernadett.orbán@mail.hu",
                                    "NEV": "Orbán Bernadett",
                                    "SZULEV": "1987",
                                    "NEM": "N",
                                    "CIM": "5085 Rákóczifalva, Arany János utca 1.",
                                    "age": "38"
                                },
                                {
                                    "LOGIN": "bertalan",
                                    "EMAIL": "bertalan@gmail.com",
                                    "NEV": "Csiger Bertalan",
                                    "SZULEV": "1977",
                                    "NEM": "F",
                                    "CIM": "1192 Budapest, Fő út 169.",
                                    "age": "48"
                                },
                                {
                                    "LOGIN": "brigitta",
                                    "EMAIL": "brigitta.székely@mail.hu",
                                    "NEV": "Székely Brigitta",
                                    "SZULEV": "1978",
                                    "NEM": "N",
                                    "CIM": "2462 Martonvásár, Fő utca 47.",
                                    "age": "47"
                                },
                                {
                                    "LOGIN": "brigitta3",
                                    "EMAIL": "brigitta.pataki@mail.hu",
                                    "NEV": "Pataki Brigitta",
                                    "SZULEV": "1991",
                                    "NEM": "N",
                                    "CIM": "2730 Albertirsa, Rendeki utca 21.",
                                    "age": "34"
                                },
                                {
                                    "LOGIN": "csongor3",
                                    "EMAIL": "csongor.nagymihály@mail.hu",
                                    "NEV": "Nagymihály Csongor",
                                    "SZULEV": "1984",
                                    "NEM": "F",
                                    "CIM": "9181 Kimle, Deák Ferenc út 5.",
                                    "age": "41"
                                },
                                {
                                    "LOGIN": "dani",
                                    "EMAIL": "daniel@gmail.com",
                                    "NEV": "Vörös Dániel",
                                    "SZULEV": "1986",
                                    "NEM": "F",
                                    "CIM": "7150 Bonyhád, Dózsa György u. 1.",
                                    "age": "39"
                                },
                                {
                                    "LOGIN": "daniel",
                                    "EMAIL": "dániel.rácz@mail.hu",
                                    "NEV": "Rácz Dániel",
                                    "SZULEV": "1978",
                                    "NEM": "F",
                                    "CIM": "9181 Kimle, Szabadság tér 9.",
                                    "age": "47"
                                },
                                {
                                    "LOGIN": "daniel1",
                                    "EMAIL": "dániel.keszler@mail.hu",
                                    "NEV": "Keszler Dániel",
                                    "SZULEV": "1969",
                                    "NEM": "F",
                                    "CIM": "3580 Tiszaújváros, Kossuth Lajos utca 6.",
                                    "age": "56"
                                },
                                {
                                    "LOGIN": "david",
                                    "EMAIL": "david@gmail.com",
                                    "NEV": "Ambrus Dávid",
                                    "SZULEV": "1974",
                                    "NEM": "F",
                                    "CIM": "1149 Budapest, Fő út 18.",
                                    "age": "51"
                                },
                                {
                                    "LOGIN": "david1",
                                    "EMAIL": "david1@gmail.com",
                                    "NEV": "Sobják Dávid",
                                    "SZULEV": "1970",
                                    "NEM": "F",
                                    "CIM": "5083 Kengyel, Arany János utca 3.",
                                    "age": "55"
                                },
                                {
                                    "LOGIN": "david4",
                                    "EMAIL": "david4@gmail.com",
                                    "NEV": "Berta Dávid",
                                    "SZULEV": "1990",
                                    "NEM": "F",
                                    "CIM": "3500 Miskolc, Balatoni út 12.",
                                    "age": "35"
                                },
                                {
                                    "LOGIN": "debora",
                                    "EMAIL": "debóra.barna@mail.hu",
                                    "NEV": "Barna Debóra",
                                    "SZULEV": "1976",
                                    "NEM": "N",
                                    "CIM": "1155 Budapest, Fő út 169.",
                                    "age": "49"
                                },
                                {
                                    "LOGIN": "denes",
                                    "EMAIL": "denes@gmail.com",
                                    "NEV": "Tömböly Dénes",
                                    "SZULEV": "1975",
                                    "NEM": "F",
                                    "CIM": "2400 Dunaújváros, Kossuth út 39.",
                                    "age": "50"
                                },
                                {
                                    "LOGIN": "desdemona",
                                    "EMAIL": "mor.otto@mail.hu",
                                    "NEV": "Mór Ottó",
                                    "SZULEV": "1968",
                                    "NEM": "F",
                                    "CIM": "9200 Mosonmagyaróvár Fő u. 12.",
                                    "age": "57"
                                },
                                {
                                    "LOGIN": "dora3",
                                    "EMAIL": "dóra.sarodi@mail.hu",
                                    "NEV": "Sarodi Dóra",
                                    "SZULEV": "1995",
                                    "NEM": "N",
                                    "CIM": "2855 Bokod, Fő út 18.",
                                    "age": "30"
                                },
                                {
                                    "LOGIN": "edit",
                                    "EMAIL": "edit.bittmann@mail.hu",
                                    "NEV": "Bittmann Edit",
                                    "SZULEV": "1984",
                                    "NEM": "N",
                                    "CIM": "6077 Orgovány, Fő utca 60.",
                                    "age": "41"
                                },
                                {
                                    "LOGIN": "emese",
                                    "EMAIL": "emese.kuruc@mail.hu",
                                    "NEV": "Kuruc Emese",
                                    "SZULEV": "1989",
                                    "NEM": "N",
                                    "CIM": "6700 Szeged, Rákóczi utca 67.",
                                    "age": "36"
                                },
                                {
                                    "LOGIN": "eszter",
                                    "EMAIL": "eszter.molnár@mail.hu",
                                    "NEV": "Molnár Eszter",
                                    "SZULEV": "1987",
                                    "NEM": "N",
                                    "CIM": "6800 Hódmezővásárhely, Fő út 77.",
                                    "age": "38"
                                },
                                {
                                    "LOGIN": "eszter2",
                                    "EMAIL": "eszter.balogh@mail.hu",
                                    "NEV": "Balogh Eszter",
                                    "SZULEV": "1998",
                                    "NEM": "N",
                                    "CIM": "6760 Kistelek, Kossuth utca 11.",
                                    "age": "27"
                                },
                                {
                                    "LOGIN": "eszter4",
                                    "EMAIL": "eszter.fülöp@mail.hu",
                                    "NEV": "Fülöp Eszter",
                                    "SZULEV": "1993",
                                    "NEM": "N",
                                    "CIM": "3643 Dédestapolcsány, Kossuth Lajos utca 47/b.",
                                    "age": "32"
                                },
                                {
                                    "LOGIN": "ESZTERE",
                                    "EMAIL": "eszter.érsek@mail.hu",
                                    "NEV": "Érsek Eszter",
                                    "SZULEV": "1978",
                                    "NEM": "N",
                                    "CIM": "6785 Pusztamérges, Kossuth Lajos utca 6.",
                                    "age": "47"
                                },
                                {
                                    "LOGIN": "eva",
                                    "EMAIL": "eva@gmail.com",
                                    "NEV": "Enyedi Éva",
                                    "SZULEV": "1967",
                                    "NEM": "N",
                                    "CIM": "4231 Bököny, Petőfi utca 8.",
                                    "age": "58"
                                },
                                {
                                    "LOGIN": "eva2",
                                    "EMAIL": "eva2@gmail.com",
                                    "NEV": "Perlinger Éva",
                                    "SZULEV": "1971",
                                    "NEM": "N",
                                    "CIM": "9653 Répcelak, Bécsi utca 82.",
                                    "age": "54"
                                },
                                {
                                    "LOGIN": "EVAV",
                                    "EMAIL": "EVAV@gmail.com",
                                    "NEV": "Viktor Éva",
                                    "SZULEV": "1980",
                                    "NEM": "N",
                                    "CIM": "6913 Csanádpalota, Arany János utca 3.",
                                    "age": "45"
                                },
                                {
                                    "LOGIN": "ferenc1",
                                    "EMAIL": "ferenc.orosz@mail.hu",
                                    "NEV": "Orosz Ferenc",
                                    "SZULEV": "1983",
                                    "NEM": "F",
                                    "CIM": "5061 Tiszasüly, Arany János utca 3.",
                                    "age": "42"
                                },
                                {
                                    "LOGIN": "fruzsina4",
                                    "EMAIL": "fruzsina4@gmail.com",
                                    "NEV": "Frank Fruzsina",
                                    "SZULEV": "1996",
                                    "NEM": "N",
                                    "CIM": "9700 Szombathely, Szabadság utca 95.",
                                    "age": "29"
                                },
                                {
                                    "LOGIN": "gabor1",
                                    "EMAIL": "gabor1@gmail.com",
                                    "NEV": "Köves Gábor",
                                    "SZULEV": "1973",
                                    "NEM": "F",
                                    "CIM": "6762 Sándorfalva, Árpád utca 23.",
                                    "age": "52"
                                },
                                {
                                    "LOGIN": "gabor4",
                                    "EMAIL": "gábor.telek@mail.hu",
                                    "NEV": "Telek Gábor",
                                    "SZULEV": "1987",
                                    "NEM": "F",
                                    "CIM": "9071 Görbeháza, Fő út 169.",
                                    "age": "38"
                                },
                                {
                                    "LOGIN": "GABORS",
                                    "EMAIL": "GABORS@gmail.com",
                                    "NEV": "Szöllősi Gábor",
                                    "SZULEV": "1990",
                                    "NEM": "F",
                                    "CIM": "3630 Putnok, Kossuth utca 27.",
                                    "age": "35"
                                },
                                {
                                    "LOGIN": "gabriella1",
                                    "EMAIL": "gabriella1@gmail.com",
                                    "NEV": "Nagy Gabriella",
                                    "SZULEV": "1982",
                                    "NEM": "N",
                                    "CIM": "1077 Budapest, Dob utca 1",
                                    "age": "43"
                                },
                                {
                                    "LOGIN": "gabriella10",
                                    "EMAIL": "gabriella10@gmail.com",
                                    "NEV": "Vida Gabriella",
                                    "SZULEV": "1969",
                                    "NEM": "N",
                                    "CIM": "2484 Agárd, Arany János utca 3.",
                                    "age": "56"
                                },
                                {
                                    "LOGIN": "georgij",
                                    "EMAIL": "georgij.nyíri@mail.hu",
                                    "NEV": "Nyíri Georgij",
                                    "SZULEV": "1983",
                                    "NEM": "F",
                                    "CIM": "8391 Sármellék, Grassalkovich út 10.",
                                    "age": "42"
                                },
                                {
                                    "LOGIN": "gusztav",
                                    "EMAIL": "gusztav@gmail.com",
                                    "NEV": "Bárci Gusztáv",
                                    "SZULEV": "1967",
                                    "NEM": "F",
                                    "CIM": "3643 Dédestapolcsány, Endrődi Sándor utca 47.",
                                    "age": "58"
                                },
                                {
                                    "LOGIN": "GYONGYIK",
                                    "EMAIL": "gyöngyi.kornseé@mail.hu",
                                    "NEV": "Kornseé Gyöngyi",
                                    "SZULEV": "1974",
                                    "NEM": "N",
                                    "CIM": "8800 Nagykanizsa, Fő út 60.",
                                    "age": "51"
                                },
                                {
                                    "LOGIN": "GYORGYO",
                                    "EMAIL": "GYORGYO@gmail.com",
                                    "NEV": "Oroszi György",
                                    "SZULEV": "1980",
                                    "NEM": "F",
                                    "CIM": "7220 Sarkad, Dózsa György u. 1.",
                                    "age": "45"
                                },
                                {
                                    "LOGIN": "henrik3",
                                    "EMAIL": "henrik.nádudvari@mail.hu",
                                    "NEV": "Nádudvari Henrik",
                                    "SZULEV": "1986",
                                    "NEM": "F",
                                    "CIM": "1077 Budapest, Tanácsköztársaság tér 1.",
                                    "age": "39"
                                },
                                {
                                    "LOGIN": "IBOLYAA",
                                    "EMAIL": "ibolya.andor@mail.hu",
                                    "NEV": "Andor Ibolya",
                                    "SZULEV": "1983",
                                    "NEM": "N",
                                    "CIM": "9023 Győr, Posta köz 2.",
                                    "age": "42"
                                },
                                {
                                    "LOGIN": "ilona3",
                                    "EMAIL": "ilona3@gmail.com",
                                    "NEV": "Bosnyák Ilona",
                                    "SZULEV": "1990",
                                    "NEM": "N",
                                    "CIM": "2483 Gárdony, Posta köz 2.",
                                    "age": "35"
                                },
                                {
                                    "LOGIN": "imre",
                                    "EMAIL": "imre.búza@mail.hu",
                                    "NEV": "Búza Imre",
                                    "SZULEV": "1988",
                                    "NEM": "F",
                                    "CIM": "9181 Kimle, Petőfi Sándor tér 1.",
                                    "age": "37"
                                },
                                {
                                    "LOGIN": "imre1",
                                    "EMAIL": "imre.papp@mail.hu",
                                    "NEV": "Papp Imre",
                                    "SZULEV": "1976",
                                    "NEM": "F",
                                    "CIM": "1077 Budapest, Szolnoki út 8.",
                                    "age": "49"
                                },
                                {
                                    "LOGIN": "istvan",
                                    "EMAIL": "istvan@gmail.com",
                                    "NEV": "Soós István",
                                    "SZULEV": "1986",
                                    "NEM": "F",
                                    "CIM": "2370 Dabas, Kossuth utca 27.",
                                    "age": "39"
                                },
                                {
                                    "LOGIN": "istvan1",
                                    "EMAIL": "istván.vizi@mail.hu",
                                    "NEV": "Vizi István",
                                    "SZULEV": "1997",
                                    "NEM": "F",
                                    "CIM": "7086 Ozora, Rákóczi utca 1.",
                                    "age": "28"
                                },
                                {
                                    "LOGIN": "ISTVANV",
                                    "EMAIL": "ISTVANV@gmail.com",
                                    "NEV": "Varga István",
                                    "SZULEV": "1989",
                                    "NEM": "F",
                                    "CIM": "6320 Solt, Hősök tere 11.",
                                    "age": "36"
                                },
                                {
                                    "LOGIN": "janos3",
                                    "EMAIL": "janos3@gmail.com",
                                    "NEV": "Harangozó János",
                                    "SZULEV": "1967",
                                    "NEM": "F",
                                    "CIM": "8700 Marcali, Petőfi Sándor tér 1.",
                                    "age": "58"
                                },
                                {
                                    "LOGIN": "JANOSG",
                                    "EMAIL": "JANOSG@gmail.com",
                                    "NEV": "Giliga János",
                                    "SZULEV": "1975",
                                    "NEM": "F",
                                    "CIM": "3300 Eger, Deák Ferenc út 5.",
                                    "age": "50"
                                },
                                {
                                    "LOGIN": "JANOSP",
                                    "EMAIL": "JANOSP@gmail.com",
                                    "NEV": "Pálinkás János",
                                    "SZULEV": "1984",
                                    "NEM": "F",
                                    "CIM": "5920 Csorvás, Padragi út 158.",
                                    "age": "41"
                                },
                                {
                                    "LOGIN": "jozsef",
                                    "EMAIL": "jozsef@gmail.com",
                                    "NEV": "Gergely József",
                                    "SZULEV": "1985",
                                    "NEM": "F",
                                    "CIM": "6050 Lajosmizse, Fő út 18.",
                                    "age": "40"
                                },
                                {
                                    "LOGIN": "jozsef2",
                                    "EMAIL": "józsef.vajda@mail.hu",
                                    "NEV": "Vajda József",
                                    "SZULEV": "1978",
                                    "NEM": "F",
                                    "CIM": "6700 Szeged, Baracsi László utca 14.",
                                    "age": "47"
                                },
                                {
                                    "LOGIN": "JOZSEFG",
                                    "EMAIL": "józsef.gyuris@mail.hu",
                                    "NEV": "Gyuris József",
                                    "SZULEV": "1975",
                                    "NEM": "F",
                                    "CIM": "2660 Balassagyarmat, Petőfi utca 1/2.",
                                    "age": "50"
                                },
                                {
                                    "LOGIN": "JUDITH",
                                    "EMAIL": "JUDITH@gmail.com",
                                    "NEV": "Hídasi Judit",
                                    "SZULEV": "1997",
                                    "NEM": "N",
                                    "CIM": "2100 Gödöllő, Fő út 169.",
                                    "age": "28"
                                },
                                {
                                    "LOGIN": "julia",
                                    "EMAIL": "julia@gmail.com",
                                    "NEV": "Tóth Júlia",
                                    "SZULEV": "1993",
                                    "NEM": "N",
                                    "CIM": "5310 Kisújszállás, Árpád utca 4.",
                                    "age": "32"
                                },
                                {
                                    "LOGIN": "julia4",
                                    "EMAIL": "julia4@gmail.com",
                                    "NEV": "Nagy Júlia",
                                    "SZULEV": "1985",
                                    "NEM": "N",
                                    "CIM": "7000 Sárbogárd, Jászai tér 21.",
                                    "age": "40"
                                },
                                {
                                    "LOGIN": "julianna4",
                                    "EMAIL": "julianna4@gmail.com",
                                    "NEV": "Szabó Julianna",
                                    "SZULEV": "1990",
                                    "NEM": "N",
                                    "CIM": "6700 Szeged, Kossuth Lajos utca 6.",
                                    "age": "35"
                                },
                                {
                                    "LOGIN": "kanita12",
                                    "EMAIL": "anita.kiss12@gmail.com",
                                    "NEV": "Kiss Anita",
                                    "SZULEV": "1975",
                                    "NEM": "N",
                                    "CIM": "2230 Gyömrő Fő tér 3.",
                                    "age": "50"
                                },
                                {
                                    "LOGIN": "kata",
                                    "EMAIL": "katalin.gondos@mail.hu",
                                    "NEV": "Gondos Katalin",
                                    "SZULEV": "1968",
                                    "NEM": "N",
                                    "CIM": "8237 Tihany, Kossuth Lajos utca 6.",
                                    "age": "57"
                                },
                                {
                                    "LOGIN": "katalin",
                                    "EMAIL": "katalin.horváth@mail.hu",
                                    "NEV": "Horváth Katalin",
                                    "SZULEV": "1968",
                                    "NEM": "N",
                                    "CIM": "2424 Előszállás, Rákóczi út 200.",
                                    "age": "57"
                                },
                                {
                                    "LOGIN": "katalin4",
                                    "EMAIL": "katalin4@gmail.com",
                                    "NEV": "Kertész Katalin",
                                    "SZULEV": "1986",
                                    "NEM": "N",
                                    "CIM": "2800 Tatabánya, Búvár utca 4.",
                                    "age": "39"
                                },
                                {
                                    "LOGIN": "kati",
                                    "EMAIL": "katalin.zatykó@mail.hu",
                                    "NEV": "Zatykó Katalin",
                                    "SZULEV": "1995",
                                    "NEM": "N",
                                    "CIM": "7511 Ötvöskónyi, Kossuth Lajos utca 6.",
                                    "age": "30"
                                },
                                {
                                    "LOGIN": "katka",
                                    "EMAIL": "katalin.kovács@mail.hu",
                                    "NEV": "Kovács Katalin",
                                    "SZULEV": "1975",
                                    "NEM": "N",
                                    "CIM": "8254 Kővágóörs, Petőfi utca 22.",
                                    "age": "50"
                                },
                                {
                                    "LOGIN": "klaudia2",
                                    "EMAIL": "klaudia.bakó@mail.hu",
                                    "NEV": "Bakó Klaudia",
                                    "SZULEV": "1982",
                                    "NEM": "N",
                                    "CIM": "8254 Kővágóörs, Kossuth Lajos utca 6.",
                                    "age": "43"
                                },
                                {
                                    "LOGIN": "kornel4",
                                    "EMAIL": "kornél.lukács@mail.hu",
                                    "NEV": "Lukács Kornél",
                                    "SZULEV": "1975",
                                    "NEM": "F",
                                    "CIM": "2053 Herceghalom, Bécsi utca 82.",
                                    "age": "50"
                                },
                                {
                                    "LOGIN": "kristof4",
                                    "EMAIL": "kristof4@gmail.com",
                                    "NEV": "Poprádi Kristóf",
                                    "SZULEV": "1984",
                                    "NEM": "F",
                                    "CIM": "8220 Balatonalmádi, Mészáros utca 7.",
                                    "age": "41"
                                },
                                {
                                    "LOGIN": "kriszti",
                                    "EMAIL": "kriszti@gmail.com",
                                    "NEV": "Horváth Krisztina",
                                    "SZULEV": "1978",
                                    "NEM": "N",
                                    "CIM": "6060 Tiszakécske, Árpád utca 4.",
                                    "age": "47"
                                },
                                {
                                    "LOGIN": "krisztian4",
                                    "EMAIL": "krisztián.czérna@mail.hu",
                                    "NEV": "Czérna Krisztián",
                                    "SZULEV": "1970",
                                    "NEM": "F",
                                    "CIM": "1107 Budapest, Dózsa György utca 37.",
                                    "age": "55"
                                },
                                {
                                    "LOGIN": "KRISZTIANM",
                                    "EMAIL": "KRISZTIANM@gmail.com",
                                    "NEV": "Mogyródi Krisztián",
                                    "SZULEV": "1968",
                                    "NEM": "F",
                                    "CIM": "9155 Lébény, Jászai tér 21.",
                                    "age": "57"
                                },
                                {
                                    "LOGIN": "krisztina",
                                    "EMAIL": "krisztina@gmail.com",
                                    "NEV": "Szedlár Krisztina",
                                    "SZULEV": "1979",
                                    "NEM": "N",
                                    "CIM": "6646 Tömörkény, Arany János utca 1.",
                                    "age": "46"
                                },
                                {
                                    "LOGIN": "krisztina1",
                                    "EMAIL": "krisztina.bori@mail.hu",
                                    "NEV": "Bori Krisztina",
                                    "SZULEV": "1969",
                                    "NEM": "N",
                                    "CIM": "2115 Vácszentlászló, Fő utca 47.",
                                    "age": "56"
                                },
                                {
                                    "LOGIN": "KRISZTINAG",
                                    "EMAIL": "KRISZTINAG@gmail.com",
                                    "NEV": "Gyárfás Krisztina",
                                    "SZULEV": "1987",
                                    "NEM": "N",
                                    "CIM": "6762 Sándorfalva, Arany János utca 1.",
                                    "age": "38"
                                },
                                {
                                    "LOGIN": "lajos",
                                    "EMAIL": "lajos.kiss@mail.hu",
                                    "NEV": "Kiss Lajos",
                                    "SZULEV": "1978",
                                    "NEM": "F",
                                    "CIM": "1077 Budapest, Dob utca 1",
                                    "age": "47"
                                },
                                {
                                    "LOGIN": "lala",
                                    "EMAIL": "lajos.nagymihály@mail.hu",
                                    "NEV": "Nagymihály Lajos",
                                    "SZULEV": "1997",
                                    "NEM": "F",
                                    "CIM": "8638 Balatonlelle, Rákóczi út 200.",
                                    "age": "28"
                                },
                                {
                                    "LOGIN": "laszlo1",
                                    "EMAIL": "lászló.farkas@mail.hu",
                                    "NEV": "Farkas László",
                                    "SZULEV": "1967",
                                    "NEM": "F",
                                    "CIM": "5200 Törökszentmiklós, Rendeki utca 21.",
                                    "age": "58"
                                },
                                {
                                    "LOGIN": "laszlo2",
                                    "EMAIL": "lászló.móra@mail.hu",
                                    "NEV": "Móra László",
                                    "SZULEV": "1975",
                                    "NEM": "F",
                                    "CIM": "9970 Szentgotthárd, Petőfi utca 1/2.",
                                    "age": "50"
                                },
                                {
                                    "LOGIN": "LASZLOA",
                                    "EMAIL": "lászló.antal@mail.hu",
                                    "NEV": "Antal László",
                                    "SZULEV": "1969",
                                    "NEM": "F",
                                    "CIM": "2484 Agárd, Bécsi utca 82.",
                                    "age": "56"
                                },
                                {
                                    "LOGIN": "LASZLON",
                                    "EMAIL": "lászló.nagy@mail.hu",
                                    "NEV": "Nagy László",
                                    "SZULEV": "1969",
                                    "NEM": "F",
                                    "CIM": "1173 Budapest, Jászai tér 21.",
                                    "age": "56"
                                },
                                {
                                    "LOGIN": "maria1",
                                    "EMAIL": "mária.baráth@mail.hu",
                                    "NEV": "Baráth Mária",
                                    "SZULEV": "1995",
                                    "NEM": "N",
                                    "CIM": "1047 Budapest, Posta köz 2.",
                                    "age": "30"
                                },
                                {
                                    "LOGIN": "mark",
                                    "EMAIL": "márk.kispál@mail.hu",
                                    "NEV": "Kispál Márk",
                                    "SZULEV": "1996",
                                    "NEM": "F",
                                    "CIM": "1086 Budapest, Juhászföldi út 1.",
                                    "age": "29"
                                },
                                {
                                    "LOGIN": "MARKH",
                                    "EMAIL": "márk.horváth@mail.hu",
                                    "NEV": "Horváth Márk",
                                    "SZULEV": "1997",
                                    "NEM": "F",
                                    "CIM": "4400 Nyíregyháza, Badacsonyi utca 12.",
                                    "age": "28"
                                },
                                {
                                    "LOGIN": "marton",
                                    "EMAIL": "marton@gmail.com",
                                    "NEV": "Kalacsi Márton",
                                    "SZULEV": "1989",
                                    "NEM": "F",
                                    "CIM": "5137 Jászkisér, Fő út 169.",
                                    "age": "36"
                                },
                                {
                                    "LOGIN": "MATEK",
                                    "EMAIL": "máté.koza@mail.hu",
                                    "NEV": "Koza Máté",
                                    "SZULEV": "1997",
                                    "NEM": "F",
                                    "CIM": "1011 Budapest, Központi telep 3.",
                                    "age": "28"
                                },
                                {
                                    "LOGIN": "matyas2",
                                    "EMAIL": "matyas2@gmail.com",
                                    "NEV": "Botka Mátyás",
                                    "SZULEV": "1972",
                                    "NEM": "F",
                                    "CIM": "2700 Cegléd, Kossuth Lajos utca 6.",
                                    "age": "53"
                                },
                                {
                                    "LOGIN": "MATYASS",
                                    "EMAIL": "mátyás.szilágyi@mail.hu",
                                    "NEV": "Szilágyi Mátyás",
                                    "SZULEV": "1975",
                                    "NEM": "F",
                                    "CIM": "9023 Győr, Kossuth Lajos utca 6.",
                                    "age": "50"
                                },
                                {
                                    "LOGIN": "melissza",
                                    "EMAIL": "nagy_peter@indamail.hu",
                                    "NEV": "Nagy Péter",
                                    "SZULEV": "1998",
                                    "NEM": "F",
                                    "CIM": "6800 Hódmezővásárhely, Oldalkosát u. 1.",
                                    "age": "27"
                                },
                                {
                                    "LOGIN": "MIHALYJ",
                                    "EMAIL": "mihály.juhász@mail.hu",
                                    "NEV": "Juhász Mihály",
                                    "SZULEV": "1979",
                                    "NEM": "F",
                                    "CIM": "6786 Ruzsa, Rákóczi utca 1.",
                                    "age": "46"
                                },
                                {
                                    "LOGIN": "miklos2",
                                    "EMAIL": "miklos2@gmail.com",
                                    "NEV": "Gondos Miklós",
                                    "SZULEV": "1995",
                                    "NEM": "F",
                                    "CIM": "2100 Gödöllő, Árpád utca 23.",
                                    "age": "30"
                                },
                                {
                                    "LOGIN": "MIKLOSB",
                                    "EMAIL": "miklós.balla@mail.hu",
                                    "NEV": "Balla Miklós",
                                    "SZULEV": "1979",
                                    "NEM": "F",
                                    "CIM": "4060 Balmazújváros, Szent István utca 2.",
                                    "age": "46"
                                },
                                {
                                    "LOGIN": "MONIKAM",
                                    "EMAIL": "mónika.mohos@mail.hu",
                                    "NEV": "Mohos Mónika",
                                    "SZULEV": "1974",
                                    "NEM": "N",
                                    "CIM": "2241 Sülysáp, Baracsi László utca 14.",
                                    "age": "51"
                                },
                                {
                                    "LOGIN": "NANDORF",
                                    "EMAIL": "nándor.fő@mail.hu",
                                    "NEV": "Fő Nándor",
                                    "SZULEV": "1968",
                                    "NEM": "F",
                                    "CIM": "5920 Csorvás, Bécsi utca 82.",
                                    "age": "57"
                                },
                                {
                                    "LOGIN": "nikolett3",
                                    "EMAIL": "nikolett3@gmail.com",
                                    "NEV": "Horváth Nikolett",
                                    "SZULEV": "1981",
                                    "NEM": "N",
                                    "CIM": "1072 Budapest, Arany János utca 1.",
                                    "age": "44"
                                },
                                {
                                    "LOGIN": "nikoletta4",
                                    "EMAIL": "nikoletta4@gmail.com",
                                    "NEV": "Kő Nikoletta",
                                    "SZULEV": "1972",
                                    "NEM": "N",
                                    "CIM": "5537 Zsadány, Fő út 18.",
                                    "age": "53"
                                },
                                {
                                    "LOGIN": "NIKOLETTAT",
                                    "EMAIL": "nikoletta.tatár@mail.hu",
                                    "NEV": "Tatár Nikoletta",
                                    "SZULEV": "1997",
                                    "NEM": "N",
                                    "CIM": "1067 Budapest, Győri utca 12.",
                                    "age": "28"
                                },
                                {
                                    "LOGIN": "norbert",
                                    "EMAIL": "norbert@gmail.com",
                                    "NEV": "Szűcs Norbert",
                                    "SZULEV": "1969",
                                    "NEM": "F",
                                    "CIM": "5071 Besenyszög, Győri utca 12.",
                                    "age": "56"
                                },
                                {
                                    "LOGIN": "norbert2",
                                    "EMAIL": "norbert.hegedűs@mail.hu",
                                    "NEV": "Hegedűs Norbert",
                                    "SZULEV": "1991",
                                    "NEM": "F",
                                    "CIM": "2081 Piliscsaba, Rendeki utca 21.",
                                    "age": "34"
                                },
                                {
                                    "LOGIN": "norbert4",
                                    "EMAIL": "norbert4@gmail.com",
                                    "NEV": "Mile Norbert",
                                    "SZULEV": "1983",
                                    "NEM": "F",
                                    "CIM": "3973 Cigánd, Bajcsy-Zsilinszky utca 4.",
                                    "age": "42"
                                },
                                {
                                    "LOGIN": "norbert5",
                                    "EMAIL": "norbert5@gmail.com",
                                    "NEV": "Béres Norbert",
                                    "SZULEV": "1975",
                                    "NEM": "F",
                                    "CIM": "8640 Fonyód, Bajcsy-Zsilinszky utca 4.",
                                    "age": "50"
                                },
                                {
                                    "LOGIN": "pal",
                                    "EMAIL": "pál.barabás@mail.hu",
                                    "NEV": "Barabás Pál",
                                    "SZULEV": "1968",
                                    "NEM": "F",
                                    "CIM": "1183 Budapest, Szolnoki út 8.",
                                    "age": "57"
                                },
                                {
                                    "LOGIN": "peter1",
                                    "EMAIL": "peter1@gmail.com",
                                    "NEV": "Kozma Péter",
                                    "SZULEV": "1976",
                                    "NEM": "F",
                                    "CIM": "6913 Csanádpalota, Központi telep 3.",
                                    "age": "49"
                                },
                                {
                                    "LOGIN": "peter2",
                                    "EMAIL": "peter2@gmail.com",
                                    "NEV": "Bozsó Péter",
                                    "SZULEV": "1976",
                                    "NEM": "F",
                                    "CIM": "4800 Vásárosnamény, Zombori út 2/A",
                                    "age": "49"
                                },
                                {
                                    "LOGIN": "peter3",
                                    "EMAIL": "peter3@gmail.com",
                                    "NEV": "Szalai Péter",
                                    "SZULEV": "1983",
                                    "NEM": "F",
                                    "CIM": "1155 Budapest, Arany János utca 3.",
                                    "age": "42"
                                },
                                {
                                    "LOGIN": "peter4",
                                    "EMAIL": "péter.bíró@mail.hu",
                                    "NEV": "Bíró Péter",
                                    "SZULEV": "1985",
                                    "NEM": "F",
                                    "CIM": "5137 Jászkisér, Rákóczi utca 67.",
                                    "age": "40"
                                },
                                {
                                    "LOGIN": "PETERB",
                                    "EMAIL": "péter.berendi@mail.hu",
                                    "NEV": "Berendi Péter",
                                    "SZULEV": "1969",
                                    "NEM": "F",
                                    "CIM": "3980 Sátoraljaújhely, Vasút utca 4/10.",
                                    "age": "56"
                                },
                                {
                                    "LOGIN": "polla",
                                    "EMAIL": "polla@gmail.com",
                                    "NEV": "Palágyi Polla",
                                    "SZULEV": "1994",
                                    "NEM": "N",
                                    "CIM": "2484 Agárd, Fő út 18.",
                                    "age": "31"
                                },
                                {
                                    "LOGIN": "rajmond4",
                                    "EMAIL": "rajmond.rácz@mail.hu",
                                    "NEV": "Rácz Rajmond",
                                    "SZULEV": "1993",
                                    "NEM": "F",
                                    "CIM": "9155 Lébény, Petőfi utca 1/2.",
                                    "age": "32"
                                },
                                {
                                    "LOGIN": "reka4",
                                    "EMAIL": "réka.szikszai@mail.hu",
                                    "NEV": "Szikszai Réka",
                                    "SZULEV": "1969",
                                    "NEM": "N",
                                    "CIM": "8254 Kővágóörs, Templom utca 73.",
                                    "age": "56"
                                },
                                {
                                    "LOGIN": "RENATAK",
                                    "EMAIL": "renáta.kardos@mail.hu",
                                    "NEV": "Kardos Renáta",
                                    "SZULEV": "1988",
                                    "NEM": "N",
                                    "CIM": "7086 Ozora, Bécsi utca 82.",
                                    "age": "37"
                                },
                                {
                                    "LOGIN": "RENATAS",
                                    "EMAIL": "RENATAS@gmail.com",
                                    "NEV": "Szirmai Renáta",
                                    "SZULEV": "1991",
                                    "NEM": "N",
                                    "CIM": "2053 Herceghalom, Kossuth utca 27.",
                                    "age": "34"
                                },
                                {
                                    "LOGIN": "robert2",
                                    "EMAIL": "robert2@gmail.com",
                                    "NEV": "Patay Róbert",
                                    "SZULEV": "1977",
                                    "NEM": "F",
                                    "CIM": "2370 Dabas, Rákóczi utca 21.",
                                    "age": "48"
                                },
                                {
                                    "LOGIN": "ROBERTI",
                                    "EMAIL": "róbert.iván@mail.hu",
                                    "NEV": "Iván Róbert",
                                    "SZULEV": "1967",
                                    "NEM": "F",
                                    "CIM": "2377 Örkény, Petőfi Sándor utca 3.",
                                    "age": "58"
                                },
                                {
                                    "LOGIN": "ROBERTP",
                                    "EMAIL": "ROBERTP@gmail.com",
                                    "NEV": "Pásztor Róbert",
                                    "SZULEV": "1972",
                                    "NEM": "F",
                                    "CIM": "5137 Jászkisér, Ady Endre út 27.",
                                    "age": "53"
                                },
                                {
                                    "LOGIN": "roland",
                                    "EMAIL": "roland@gmail.com",
                                    "NEV": "Tóth Roland",
                                    "SZULEV": "1968",
                                    "NEM": "F",
                                    "CIM": "2000 Szentendre, Fő út 169.",
                                    "age": "57"
                                },
                                {
                                    "LOGIN": "roland1",
                                    "EMAIL": "roland.ferencz@mail.hu",
                                    "NEV": "Ferencz Roland",
                                    "SZULEV": "1985",
                                    "NEM": "F",
                                    "CIM": "2424 Előszállás, Fő út 169.",
                                    "age": "40"
                                },
                                {
                                    "LOGIN": "roza2",
                                    "EMAIL": "roza2@gmail.com",
                                    "NEV": "Bucskó Róza",
                                    "SZULEV": "1988",
                                    "NEM": "N",
                                    "CIM": "5661 Újkígyós, Arany János utca 3.",
                                    "age": "37"
                                },
                                {
                                    "LOGIN": "sandor",
                                    "EMAIL": "sandor@gmail.com",
                                    "NEV": "Karasz Sándor",
                                    "SZULEV": "1970",
                                    "NEM": "F",
                                    "CIM": "8283 Káptalantóti, Kossuth Lajos utca 1/a.",
                                    "age": "55"
                                },
                                {
                                    "LOGIN": "sandor3",
                                    "EMAIL": "sándor.farkas@mail.hu",
                                    "NEV": "Farkas Sándor",
                                    "SZULEV": "1989",
                                    "NEM": "F",
                                    "CIM": "8640 Fonyód, Tanácsköztársaság tér 1.",
                                    "age": "36"
                                },
                                {
                                    "LOGIN": "sandor4",
                                    "EMAIL": "sandor4@gmail.com",
                                    "NEV": "Nagy Sándor",
                                    "SZULEV": "1997",
                                    "NEM": "F",
                                    "CIM": "4600 Kisvárda, Fő utca 47.",
                                    "age": "28"
                                },
                                {
                                    "LOGIN": "sara",
                                    "EMAIL": "sára.farkas@mail.hu",
                                    "NEV": "Farkas Sára",
                                    "SZULEV": "1973",
                                    "NEM": "N",
                                    "CIM": "5940 Tótkomlós, Felszabadulás utca 32.",
                                    "age": "52"
                                },
                                {
                                    "LOGIN": "SEBASTIANF",
                                    "EMAIL": "SEBASTIANF@gmail.com",
                                    "NEV": "Foltényi Sebastián",
                                    "SZULEV": "1992",
                                    "NEM": "F",
                                    "CIM": "7960 Sellye, Grassalkovich út 10.",
                                    "age": "33"
                                },
                                {
                                    "LOGIN": "sebestyen",
                                    "EMAIL": "sebestyen@gmail.com",
                                    "NEV": "Rab Sebestyén",
                                    "SZULEV": "1992",
                                    "NEM": "F",
                                    "CIM": "7130 Tolna, Központi telep 3.",
                                    "age": "33"
                                },
                                {
                                    "LOGIN": "szabolcs",
                                    "EMAIL": "szabolcs.bodor@mail.hu",
                                    "NEV": "Bodor Szabolcs",
                                    "SZULEV": "1990",
                                    "NEM": "F",
                                    "CIM": "6786 Ruzsa, Ady Endre út 27.",
                                    "age": "35"
                                },
                                {
                                    "LOGIN": "SZABOLCSM",
                                    "EMAIL": "szabolcs.miklós@mail.hu",
                                    "NEV": "Miklós Szabolcs",
                                    "SZULEV": "1980",
                                    "NEM": "F",
                                    "CIM": "1102 Budapest, Fő út 169.",
                                    "age": "45"
                                },
                                {
                                    "LOGIN": "SZILARDS",
                                    "EMAIL": "szilárd.szalai@mail.hu",
                                    "NEV": "Szalai Szilárd",
                                    "SZULEV": "1967",
                                    "NEM": "F",
                                    "CIM": "1077 Budapest, Fő út 18.",
                                    "age": "58"
                                },
                                {
                                    "LOGIN": "szilvia1",
                                    "EMAIL": "szilvia.tari@mail.hu",
                                    "NEV": "Tari Szilvia",
                                    "SZULEV": "1971",
                                    "NEM": "N",
                                    "CIM": "6080 Szabadszállás, Bécsi utca 82.",
                                    "age": "54"
                                },
                                {
                                    "LOGIN": "tamara2",
                                    "EMAIL": "tamara.miklós@mail.hu",
                                    "NEV": "Miklós Tamara",
                                    "SZULEV": "1980",
                                    "NEM": "N",
                                    "CIM": "3910 Tokaj, Kossuth út 39.",
                                    "age": "45"
                                },
                                {
                                    "LOGIN": "tamas",
                                    "EMAIL": "tamás.antal@mail.hu",
                                    "NEV": "Antal Tamás",
                                    "SZULEV": "1984",
                                    "NEM": "F",
                                    "CIM": "4440 Tiszavasvári, Posta köz 2.",
                                    "age": "41"
                                },
                                {
                                    "LOGIN": "TAMASF",
                                    "EMAIL": "TAMASF@gmail.com",
                                    "NEV": "Fényes Tamás",
                                    "SZULEV": "1997",
                                    "NEM": "F",
                                    "CIM": "9023 Győr, Arany János utca 1.",
                                    "age": "28"
                                },
                                {
                                    "LOGIN": "tibor",
                                    "EMAIL": "tibor.gombos@mail.hu",
                                    "NEV": "Gombos Tibor",
                                    "SZULEV": "1993",
                                    "NEM": "F",
                                    "CIM": "7100 Szekszárd, Kossuth utca 77.",
                                    "age": "32"
                                },
                                {
                                    "LOGIN": "tibor2",
                                    "EMAIL": "tibor2@gmail.com",
                                    "NEV": "Dániel Tibor",
                                    "SZULEV": "1985",
                                    "NEM": "F",
                                    "CIM": "6646 Tömörkény, Árpád utca 23.",
                                    "age": "40"
                                },
                                {
                                    "LOGIN": "tihamer",
                                    "EMAIL": "tihamér.kazy@mail.hu",
                                    "NEV": "Kazy Tihamér",
                                    "SZULEV": "1991",
                                    "NEM": "F",
                                    "CIM": "2370 Dabas, Fő utca 60.",
                                    "age": "34"
                                },
                                {
                                    "LOGIN": "timea",
                                    "EMAIL": "timea@gmail.com",
                                    "NEV": "Papós Tímea",
                                    "SZULEV": "1996",
                                    "NEM": "N",
                                    "CIM": "1035 Budapest,  Kossuth út 77.",
                                    "age": "29"
                                },
                                {
                                    "LOGIN": "timea2",
                                    "EMAIL": "tímea.dusha@mail.hu",
                                    "NEV": "Dusha Tímea",
                                    "SZULEV": "1975",
                                    "NEM": "N",
                                    "CIM": "5920 Csorvás, Kossuth utca 8.",
                                    "age": "50"
                                },
                                {
                                    "LOGIN": "tunde",
                                    "EMAIL": "tunde@gmail.com",
                                    "NEV": "Turcsik Tünde",
                                    "SZULEV": "1974",
                                    "NEM": "N",
                                    "CIM": "7130 Tolna, Fő út 122.",
                                    "age": "51"
                                },
                                {
                                    "LOGIN": "valentin",
                                    "EMAIL": "valentin.feró@mail.hu",
                                    "NEV": "Feró Valentin",
                                    "SZULEV": "1986",
                                    "NEM": "F",
                                    "CIM": "3895 Gönc, Búvár utca 4.",
                                    "age": "39"
                                },
                                {
                                    "LOGIN": "veronika4",
                                    "EMAIL": "veronika4@gmail.com",
                                    "NEV": "Tankó Veronika",
                                    "SZULEV": "1983",
                                    "NEM": "N",
                                    "CIM": "6412 Balotaszállás, Rendeki utca 21.",
                                    "age": "42"
                                },
                                {
                                    "LOGIN": "VIKTORIAU",
                                    "EMAIL": "viktoria.urbán@mail.hu",
                                    "NEV": "Urbán Viktoria",
                                    "SZULEV": "1996",
                                    "NEM": "N",
                                    "CIM": "3860 Encs, Népboltsor  2.",
                                    "age": "29"
                                },
                                {
                                    "LOGIN": "VIKTORK",
                                    "EMAIL": "viktor.keresztúri@mail.hu",
                                    "NEV": "Keresztúri Viktor",
                                    "SZULEV": "1989",
                                    "NEM": "F",
                                    "CIM": "2532 Tokodaltáró, Nagy Lajos tér 4.",
                                    "age": "36"
                                },
                                {
                                    "LOGIN": "vivien3",
                                    "EMAIL": "vivien3@gmail.com",
                                    "NEV": "Boros Vivien",
                                    "SZULEV": "1991",
                                    "NEM": "N",
                                    "CIM": "2117 Isaszeg, Fő út 122.",
                                    "age": "34"
                                },
                                {
                                    "LOGIN": "zoltan",
                                    "EMAIL": "zoltán.fodor@mail.hu",
                                    "NEV": "Fodor Zoltán",
                                    "SZULEV": "1979",
                                    "NEM": "F",
                                    "CIM": "3441 Mezőkeresztes, Fő utca 23.",
                                    "age": "46"
                                },
                                {
                                    "LOGIN": "zoltan4",
                                    "EMAIL": "zoltan4@gmail.com",
                                    "NEV": "Barna Zoltán",
                                    "SZULEV": "1986",
                                    "NEM": "F",
                                    "CIM": "8313 Balatongyörök, Jászai tér 21.",
                                    "age": "39"
                                },
                                {
                                    "LOGIN": "ZOLTANP",
                                    "EMAIL": "zoltán.pintér@mail.hu",
                                    "NEV": "Pintér Zoltán",
                                    "SZULEV": "1977",
                                    "NEM": "F",
                                    "CIM": "6050 Lajosmizse, Fő út 18.",
                                    "age": "48"
                                },
                                {
                                    "LOGIN": "ZOLTANT",
                                    "EMAIL": "zoltán.tóth@mail.hu",
                                    "NEV": "Tóth Zoltán",
                                    "SZULEV": "1985",
                                    "NEM": "F",
                                    "CIM": "4244 Újfehértó, Posta köz 2.",
                                    "age": "40"
                                },
                                {
                                    "LOGIN": "zsofi1",
                                    "EMAIL": "zsofi1@gmail.com",
                                    "NEV": "Molnár Zsófi",
                                    "SZULEV": "1983",
                                    "NEM": "N",
                                    "CIM": "2730 Albertirsa, Árpád utca 23.",
                                    "age": "42"
                                },
                                {
                                    "LOGIN": "zsolt1",
                                    "EMAIL": "zsolt.pulai@mail.hu",
                                    "NEV": "Pulai Zsolt",
                                    "SZULEV": "1988",
                                    "NEM": "F",
                                    "CIM": "8391 Sármellék, Fő utca 60.",
                                    "age": "37"
                                },
                                {
                                    "LOGIN": "ZSOLTJ",
                                    "EMAIL": "ZSOLTJ@gmail.com",
                                    "NEV": "Józsa Zsolt",
                                    "SZULEV": "1983",
                                    "NEM": "F",
                                    "CIM": "8315 Gyenesdiás, Bajcsy-Zsilinszky utca 4.",
                                    "age": "42"
                                },
                                {
                                    "LOGIN": "zsuzsa",
                                    "EMAIL": "zsuzsanna@gmail.com",
                                    "NEV": "Pusztai Zsuzsanna",
                                    "SZULEV": "1980",
                                    "NEM": "N",
                                    "CIM": "6783 Ásotthalom, Badacsonyi utca 12.",
                                    "age": "45"
                                },
                                {
                                    "LOGIN": "zsuzsa3",
                                    "EMAIL": "zsuzsa.varsányi@mail.hu",
                                    "NEV": "Varsányi Zsuzsa",
                                    "SZULEV": "1979",
                                    "NEM": "N",
                                    "CIM": "8600 Siófok, Árpád utca 4.",
                                    "age": "46"
                                },
                                {
                                    "LOGIN": "zsuzsanna",
                                    "EMAIL": "zsuzsanna.barta@mail.hu",
                                    "NEV": "Barta Zsuzsanna",
                                    "SZULEV": "1994",
                                    "NEM": "N",
                                    "CIM": "4172 Biharnagybajom, Dózsa György utca 37.",
                                    "age": "31"
                                },
                                {
                                    "LOGIN": "ZSUZSAV",
                                    "EMAIL": "zsuzsa.vajda@mail.hu",
                                    "NEV": "Vajda Zsuzsa",
                                    "SZULEV": "1976",
                                    "NEM": "N",
                                    "CIM": "6786 Ruzsa, Kossuth utca 77.",
                                    "age": "49"
                                }
                            ]
                        },
                        "text/html": [
                            "<table>",
                            "<tr><th>LOGIN</th><th>EMAIL</th><th>NEV</th><th>SZULEV</th><th>NEM</th><th>CIM</th><th>age</th></tr>",
                            "<tr><td>adam1</td><td>ádám.kiss@mail.hu</td><td>Kiss Ádám</td><td>1991</td><td>F</td><td>5630 Békés, Szolnoki út 8.</td><td>34</td></tr>",
                            "<tr><td>adam3</td><td>adam3@gmail.com</td><td>Barkóci Ádám</td><td>1970</td><td>F</td><td>3910 Tokaj, Dózsa György utca 37.</td><td>55</td></tr>",
                            "<tr><td>adam4</td><td>ádám.bieniek@mail.hu</td><td>Bieniek Ádám</td><td>1976</td><td>F</td><td>8630 Balatonboglár, Juhászföldi út 1.</td><td>49</td></tr>",
                            "<tr><td>agnes</td><td>agnes@gmail.com</td><td>Lengyel Ágnes</td><td>1979</td><td>N</td><td>5200 Törökszentmiklós, Deák Ferenc út 5.</td><td>46</td></tr>",
                            "<tr><td>agnes3</td><td>agnes3@gmail.com</td><td>Hartyánszky Ágnes</td><td>1967</td><td>N</td><td>6430 Bácsalmás, Posta köz 2.</td><td>58</td></tr>",
                            "<tr><td>AGNESH</td><td>AGNESH@gmail.com</td><td>Horváth Ágnes</td><td>1981</td><td>N</td><td>8200 Veszprém, Rákóczi utca 21.</td><td>44</td></tr>",
                            "<tr><td>AGNESK</td><td>AGNESK@gmail.com</td><td>Kovács Ágnes</td><td>1988</td><td>N</td><td>1084 Budapest, Endrődi Sándor utca 47.</td><td>37</td></tr>",
                            "<tr><td>akos</td><td>ákos.bíró@mail.hu</td><td>Bíró Ákos</td><td>1982</td><td>F</td><td>9023 Győr, Kossuth Lajos utca 47/b.</td><td>43</td></tr>",
                            "<tr><td>aladar</td><td>aladár.dunai@mail.hu</td><td>Dunai Aladár</td><td>1980</td><td>F</td><td>5931 Nagyszénás, Árpád utca 23.</td><td>45</td></tr>",
                            "<tr><td>alexandra</td><td>alexandra.bagóczki@mail.hu</td><td>Bagóczki Alexandra</td><td>1992</td><td>N</td><td>2381 Táborfalva, Petőfi utca 1/2.</td><td>33</td></tr>",
                            "<tr><td>alexis</td><td>alexbiro@gmail.com</td><td>Biró Alexander</td><td>2000</td><td>F</td><td>6914 Pitvaros, Deák F. u. 38.</td><td>25</td></tr>",
                            "<tr><td>andi</td><td>andrea.maródi@mail.hu</td><td>Maródi Andrea</td><td>1968</td><td>N</td><td>5465 Cserkeszőlő, Árpád utca 4.</td><td>57</td></tr>",
                            "<tr><td>andras2</td><td>andrás.tóth@mail.hu</td><td>Tóth András</td><td>1997</td><td>F</td><td>4071 Egyek, Petőfi utca 30.</td><td>28</td></tr>",
                            "<tr><td>andras21</td><td>andrás.molnár@mail.hu</td><td>Molnár András</td><td>1977</td><td>F</td><td>7900 Szigetvár, Rákóczi utca 67.</td><td>48</td></tr>",
                            "<tr><td>andras3</td><td>andrás.vígh@mail.hu</td><td>Vígh András</td><td>1971</td><td>F</td><td>1118 Budapest, Arany János utca 1.</td><td>54</td></tr>",
                            "<tr><td>andras4</td><td>andras4@gmail.com</td><td>Back András</td><td>1984</td><td>F</td><td>3783 Edelény, Fő út 169.</td><td>41</td></tr>",
                            "<tr><td>andras41</td><td>andras41@gmail.com</td><td>Komjáti András</td><td>1997</td><td>F</td><td>5065 Nagykörű, Kossuth út 24.</td><td>28</td></tr>",
                            "<tr><td>ANDRASE</td><td>ANDRASE@gmail.com</td><td>Erdei András</td><td>1997</td><td>F</td><td>5071 Besenyszög, Szolnoki út 8.</td><td>28</td></tr>",
                            "<tr><td>ANDRASN</td><td>andrás.nagy@mail.hu</td><td>Nagy András</td><td>1980</td><td>F</td><td>6500 Baja, Fő út 169.</td><td>45</td></tr>",
                            "<tr><td>andrea</td><td>andrea.kiss@mail.hu</td><td>Kiss Andrea</td><td>1993</td><td>N</td><td>1113 Budapest, Petőfi Sándor utca 87.</td><td>32</td></tr>",
                            "<tr><td>andrea3</td><td>andrea3@gmail.com</td><td>Szomor Andrea</td><td>1996</td><td>N</td><td>7960 Sellye, Bécsi utca 82.</td><td>29</td></tr>",
                            "<tr><td>andrea4</td><td>andrea4@gmail.com</td><td>Neizer Andrea</td><td>1981</td><td>N</td><td>1124 Budapest, Kiss u. 8.</td><td>44</td></tr>",
                            "<tr><td>ANDREAT</td><td>ANDREAT@gmail.com</td><td>Tornyos Andrea</td><td>1986</td><td>N</td><td>6131 Szank, Bécsi utca 82.</td><td>39</td></tr>",
                            "<tr><td>anett3</td><td>anett.pivarcsi@mail.hu</td><td>Pivarcsi Anett</td><td>1967</td><td>N</td><td>1149 Budapest, Fő út 60.</td><td>58</td></tr>",
                            "<tr><td>aniko</td><td>aniko@gmail.com</td><td>Tóth Anikó</td><td>1973</td><td>N</td><td>2085 Pilisvörösvár, Deák Ferenc út 5.</td><td>52</td></tr>",
                            "<tr><td>aniko4</td><td>aniko4@gmail.com</td><td>Böröcz Anikó</td><td>1978</td><td>N</td><td>2484 Agárd, Petőfi Sándor tér 1.</td><td>47</td></tr>",
                            "<tr><td>ANIKOS</td><td>ANIKOS@gmail.com</td><td>Simon Anikó</td><td>1988</td><td>N</td><td>5137 Jászkisér, Bécsi utca 82.</td><td>37</td></tr>",
                            "<tr><td>anita</td><td>anita.hamvay-kovács@mail.hu</td><td>Hamvay-Kovács Anita</td><td>1971</td><td>N</td><td>7220 Sarkad, Táncsics utca 19.</td><td>54</td></tr>",
                            "<tr><td>annamaria1</td><td>annamária.szűcs@mail.hu</td><td>Szűcs Annamária</td><td>1990</td><td>N</td><td>1191 Budapest, Rendeki utca 21.</td><td>35</td></tr>",
                            "<tr><td>ANNAMARIAR</td><td>ANNAMARIAR@gmail.com</td><td>Regős Annamária</td><td>1977</td><td>N</td><td>8283 Káptalantóti, Petőfi Sándor tér 1.</td><td>48</td></tr>",
                            "<tr><td>aron2</td><td>aron2@gmail.com</td><td>Jakab Áron</td><td>1971</td><td>F</td><td>7133 Fadd, Bajcsy-Zsilinszky utca 4.</td><td>54</td></tr>",
                            "<tr><td>ARONK</td><td>áron.kelemen@mail.hu</td><td>Kelemen Áron</td><td>1989</td><td>F</td><td>8200 Veszprém, Petőfi utca 8.</td><td>36</td></tr>",
                            "<tr><td>arpad2</td><td>árpád.ötvös@mail.hu</td><td>Ötvös Árpád</td><td>1990</td><td>F</td><td>2600 Vác, Padragi út 158.</td><td>35</td></tr>",
                            "<tr><td>ARPADH</td><td>árpád.horváth@mail.hu</td><td>Horváth Árpád</td><td>1990</td><td>F</td><td>7349 Szászvár, Dózsa György u. 1.</td><td>35</td></tr>",
                            "<tr><td>ARPADM</td><td>árpád.móricz@mail.hu</td><td>Móricz Árpád</td><td>1986</td><td>F</td><td>3910 Tokaj, Rákóczi utca 67.</td><td>39</td></tr>",
                            "<tr><td>attila</td><td>attila@gmail.com</td><td>Csóti Attila</td><td>1979</td><td>F</td><td>3000 Hatvan, Bajcsy-Zsilinszky utca 4.</td><td>46</td></tr>",
                            "<tr><td>attila1</td><td>attila.gulyás@mail.hu</td><td>Gulyás Attila</td><td>1982</td><td>F</td><td>3881 Abaújszántó, Szolnoki út 8.</td><td>43</td></tr>",
                            "<tr><td>attila4</td><td>attila.baróti@mail.hu</td><td>Baróti Attila</td><td>1975</td><td>F</td><td>7149 Báta, Arany János utca 3.</td><td>50</td></tr>",
                            "<tr><td>ATTILAO</td><td>ATTILAO@gmail.com</td><td>Opra Attila</td><td>1995</td><td>F</td><td>8283 Káptalantóti, Rákóczi út 200.</td><td>30</td></tr>",
                            "<tr><td>balazs1</td><td>balázs.bozsik@mail.hu</td><td>Bozsik Balázs</td><td>1992</td><td>F</td><td>2300 Ráckeve, Bécsi utca 82.</td><td>33</td></tr>",
                            "<tr><td>balazs2</td><td>balázs.szűcs@mail.hu</td><td>Szűcs Balázs</td><td>1984</td><td>F</td><td>3170 Szécsény, Szabadság utca 95.</td><td>41</td></tr>",
                            "<tr><td>balazs3</td><td>balazs3@gmail.com</td><td>Bakódy Balázs</td><td>1986</td><td>F</td><td>2131 Göd, Arany János utca 1.</td><td>39</td></tr>",
                            "<tr><td>balint</td><td>balint@gmail.com</td><td>Horváth Bálint</td><td>1996</td><td>F</td><td>6646 Tömörkény, Endrődi Sándor utca 47.</td><td>29</td></tr>",
                            "<tr><td>balint1</td><td>balint1@gmail.com</td><td>Molnár Bálint</td><td>1989</td><td>F</td><td>9181 Kimle, Fő út 169.</td><td>36</td></tr>",
                            "<tr><td>balint2</td><td>balint2@gmail.com</td><td>Vukasinovity Bálint</td><td>1997</td><td>F</td><td>2330 Dunaharaszti, Béke utca 7.</td><td>28</td></tr>",
                            "<tr><td>balu</td><td>bálint.endresz@mail.hu</td><td>Endresz Bálint</td><td>1976</td><td>F</td><td>3973 Cigánd, Fő út 169.</td><td>49</td></tr>",
                            "<tr><td>beata4</td><td>beáta.bagi@mail.hu</td><td>Bagi Beáta</td><td>1994</td><td>N</td><td>8477 Tüskevár, Felszabadulás utca 32.</td><td>31</td></tr>",
                            "<tr><td>BEATRIXK</td><td>beatrix.kerényi@mail.hu</td><td>Kerényi Beatrix</td><td>1972</td><td>N</td><td>7396 Magyarszék, Kossuth Lajos utca 47/b.</td><td>53</td></tr>",
                            "<tr><td>BEATRIXS</td><td>beatrix.szekendi@mail.hu</td><td>Szekendi Beatrix</td><td>1981</td><td>N</td><td>4060 Balmazújváros, Jászai tér 21.</td><td>44</td></tr>",
                            "<tr><td>BELAF</td><td>BELAF@gmail.com</td><td>Farkas Béla</td><td>1995</td><td>F</td><td>5530 Vésztő, Petőfi Sándor utca 3.</td><td>30</td></tr>",
                            "<tr><td>bence</td><td>bence@gmail.com</td><td>Győrffy Bence</td><td>1987</td><td>F</td><td>6900 Makó, Árpád utca 23.</td><td>38</td></tr>",
                            "<tr><td>BENCEB</td><td>bence.bajusz@mail.hu</td><td>Bajusz Bence</td><td>1973</td><td>F</td><td>8391 Sármellék, Fő utca 56.</td><td>52</td></tr>",
                            "<tr><td>bernadett1</td><td>bernadett1@gmail.com</td><td>Simon Bernadett</td><td>1984</td><td>N</td><td>2300 Ráckeve, Fő utca 108.</td><td>41</td></tr>",
                            "<tr><td>bernadett2</td><td>bernadett.kovács@mail.hu</td><td>Kovács Bernadett</td><td>1996</td><td>N</td><td>4200 Hajdúszoboszló, Fő út 122.</td><td>29</td></tr>",
                            "<tr><td>BERNADETTO</td><td>bernadett.orbán@mail.hu</td><td>Orbán Bernadett</td><td>1987</td><td>N</td><td>5085 Rákóczifalva, Arany János utca 1.</td><td>38</td></tr>",
                            "<tr><td>bertalan</td><td>bertalan@gmail.com</td><td>Csiger Bertalan</td><td>1977</td><td>F</td><td>1192 Budapest, Fő út 169.</td><td>48</td></tr>",
                            "<tr><td>brigitta</td><td>brigitta.székely@mail.hu</td><td>Székely Brigitta</td><td>1978</td><td>N</td><td>2462 Martonvásár, Fő utca 47.</td><td>47</td></tr>",
                            "<tr><td>brigitta3</td><td>brigitta.pataki@mail.hu</td><td>Pataki Brigitta</td><td>1991</td><td>N</td><td>2730 Albertirsa, Rendeki utca 21.</td><td>34</td></tr>",
                            "<tr><td>csongor3</td><td>csongor.nagymihály@mail.hu</td><td>Nagymihály Csongor</td><td>1984</td><td>F</td><td>9181 Kimle, Deák Ferenc út 5.</td><td>41</td></tr>",
                            "<tr><td>dani</td><td>daniel@gmail.com</td><td>Vörös Dániel</td><td>1986</td><td>F</td><td>7150 Bonyhád, Dózsa György u. 1.</td><td>39</td></tr>",
                            "<tr><td>daniel</td><td>dániel.rácz@mail.hu</td><td>Rácz Dániel</td><td>1978</td><td>F</td><td>9181 Kimle, Szabadság tér 9.</td><td>47</td></tr>",
                            "<tr><td>daniel1</td><td>dániel.keszler@mail.hu</td><td>Keszler Dániel</td><td>1969</td><td>F</td><td>3580 Tiszaújváros, Kossuth Lajos utca 6.</td><td>56</td></tr>",
                            "<tr><td>david</td><td>david@gmail.com</td><td>Ambrus Dávid</td><td>1974</td><td>F</td><td>1149 Budapest, Fő út 18.</td><td>51</td></tr>",
                            "<tr><td>david1</td><td>david1@gmail.com</td><td>Sobják Dávid</td><td>1970</td><td>F</td><td>5083 Kengyel, Arany János utca 3.</td><td>55</td></tr>",
                            "<tr><td>david4</td><td>david4@gmail.com</td><td>Berta Dávid</td><td>1990</td><td>F</td><td>3500 Miskolc, Balatoni út 12.</td><td>35</td></tr>",
                            "<tr><td>debora</td><td>debóra.barna@mail.hu</td><td>Barna Debóra</td><td>1976</td><td>N</td><td>1155 Budapest, Fő út 169.</td><td>49</td></tr>",
                            "<tr><td>denes</td><td>denes@gmail.com</td><td>Tömböly Dénes</td><td>1975</td><td>F</td><td>2400 Dunaújváros, Kossuth út 39.</td><td>50</td></tr>",
                            "<tr><td>desdemona</td><td>mor.otto@mail.hu</td><td>Mór Ottó</td><td>1968</td><td>F</td><td>9200 Mosonmagyaróvár Fő u. 12.</td><td>57</td></tr>",
                            "<tr><td>dora3</td><td>dóra.sarodi@mail.hu</td><td>Sarodi Dóra</td><td>1995</td><td>N</td><td>2855 Bokod, Fő út 18.</td><td>30</td></tr>",
                            "<tr><td>edit</td><td>edit.bittmann@mail.hu</td><td>Bittmann Edit</td><td>1984</td><td>N</td><td>6077 Orgovány, Fő utca 60.</td><td>41</td></tr>",
                            "<tr><td>emese</td><td>emese.kuruc@mail.hu</td><td>Kuruc Emese</td><td>1989</td><td>N</td><td>6700 Szeged, Rákóczi utca 67.</td><td>36</td></tr>",
                            "<tr><td>eszter</td><td>eszter.molnár@mail.hu</td><td>Molnár Eszter</td><td>1987</td><td>N</td><td>6800 Hódmezővásárhely, Fő út 77.</td><td>38</td></tr>",
                            "<tr><td>eszter2</td><td>eszter.balogh@mail.hu</td><td>Balogh Eszter</td><td>1998</td><td>N</td><td>6760 Kistelek, Kossuth utca 11.</td><td>27</td></tr>",
                            "<tr><td>eszter4</td><td>eszter.fülöp@mail.hu</td><td>Fülöp Eszter</td><td>1993</td><td>N</td><td>3643 Dédestapolcsány, Kossuth Lajos utca 47/b.</td><td>32</td></tr>",
                            "<tr><td>ESZTERE</td><td>eszter.érsek@mail.hu</td><td>Érsek Eszter</td><td>1978</td><td>N</td><td>6785 Pusztamérges, Kossuth Lajos utca 6.</td><td>47</td></tr>",
                            "<tr><td>eva</td><td>eva@gmail.com</td><td>Enyedi Éva</td><td>1967</td><td>N</td><td>4231 Bököny, Petőfi utca 8.</td><td>58</td></tr>",
                            "<tr><td>eva2</td><td>eva2@gmail.com</td><td>Perlinger Éva</td><td>1971</td><td>N</td><td>9653 Répcelak, Bécsi utca 82.</td><td>54</td></tr>",
                            "<tr><td>EVAV</td><td>EVAV@gmail.com</td><td>Viktor Éva</td><td>1980</td><td>N</td><td>6913 Csanádpalota, Arany János utca 3.</td><td>45</td></tr>",
                            "<tr><td>ferenc1</td><td>ferenc.orosz@mail.hu</td><td>Orosz Ferenc</td><td>1983</td><td>F</td><td>5061 Tiszasüly, Arany János utca 3.</td><td>42</td></tr>",
                            "<tr><td>fruzsina4</td><td>fruzsina4@gmail.com</td><td>Frank Fruzsina</td><td>1996</td><td>N</td><td>9700 Szombathely, Szabadság utca 95.</td><td>29</td></tr>",
                            "<tr><td>gabor1</td><td>gabor1@gmail.com</td><td>Köves Gábor</td><td>1973</td><td>F</td><td>6762 Sándorfalva, Árpád utca 23.</td><td>52</td></tr>",
                            "<tr><td>gabor4</td><td>gábor.telek@mail.hu</td><td>Telek Gábor</td><td>1987</td><td>F</td><td>9071 Görbeháza, Fő út 169.</td><td>38</td></tr>",
                            "<tr><td>GABORS</td><td>GABORS@gmail.com</td><td>Szöllősi Gábor</td><td>1990</td><td>F</td><td>3630 Putnok, Kossuth utca 27.</td><td>35</td></tr>",
                            "<tr><td>gabriella1</td><td>gabriella1@gmail.com</td><td>Nagy Gabriella</td><td>1982</td><td>N</td><td>1077 Budapest, Dob utca 1</td><td>43</td></tr>",
                            "<tr><td>gabriella10</td><td>gabriella10@gmail.com</td><td>Vida Gabriella</td><td>1969</td><td>N</td><td>2484 Agárd, Arany János utca 3.</td><td>56</td></tr>",
                            "<tr><td>georgij</td><td>georgij.nyíri@mail.hu</td><td>Nyíri Georgij</td><td>1983</td><td>F</td><td>8391 Sármellék, Grassalkovich út 10.</td><td>42</td></tr>",
                            "<tr><td>gusztav</td><td>gusztav@gmail.com</td><td>Bárci Gusztáv</td><td>1967</td><td>F</td><td>3643 Dédestapolcsány, Endrődi Sándor utca 47.</td><td>58</td></tr>",
                            "<tr><td>GYONGYIK</td><td>gyöngyi.kornseé@mail.hu</td><td>Kornseé Gyöngyi</td><td>1974</td><td>N</td><td>8800 Nagykanizsa, Fő út 60.</td><td>51</td></tr>",
                            "<tr><td>GYORGYO</td><td>GYORGYO@gmail.com</td><td>Oroszi György</td><td>1980</td><td>F</td><td>7220 Sarkad, Dózsa György u. 1.</td><td>45</td></tr>",
                            "<tr><td>henrik3</td><td>henrik.nádudvari@mail.hu</td><td>Nádudvari Henrik</td><td>1986</td><td>F</td><td>1077 Budapest, Tanácsköztársaság tér 1.</td><td>39</td></tr>",
                            "<tr><td>IBOLYAA</td><td>ibolya.andor@mail.hu</td><td>Andor Ibolya</td><td>1983</td><td>N</td><td>9023 Győr, Posta köz 2.</td><td>42</td></tr>",
                            "<tr><td>ilona3</td><td>ilona3@gmail.com</td><td>Bosnyák Ilona</td><td>1990</td><td>N</td><td>2483 Gárdony, Posta köz 2.</td><td>35</td></tr>",
                            "<tr><td>imre</td><td>imre.búza@mail.hu</td><td>Búza Imre</td><td>1988</td><td>F</td><td>9181 Kimle, Petőfi Sándor tér 1.</td><td>37</td></tr>",
                            "<tr><td>imre1</td><td>imre.papp@mail.hu</td><td>Papp Imre</td><td>1976</td><td>F</td><td>1077 Budapest, Szolnoki út 8.</td><td>49</td></tr>",
                            "<tr><td>istvan</td><td>istvan@gmail.com</td><td>Soós István</td><td>1986</td><td>F</td><td>2370 Dabas, Kossuth utca 27.</td><td>39</td></tr>",
                            "<tr><td>istvan1</td><td>istván.vizi@mail.hu</td><td>Vizi István</td><td>1997</td><td>F</td><td>7086 Ozora, Rákóczi utca 1.</td><td>28</td></tr>",
                            "<tr><td>ISTVANV</td><td>ISTVANV@gmail.com</td><td>Varga István</td><td>1989</td><td>F</td><td>6320 Solt, Hősök tere 11.</td><td>36</td></tr>",
                            "<tr><td>janos3</td><td>janos3@gmail.com</td><td>Harangozó János</td><td>1967</td><td>F</td><td>8700 Marcali, Petőfi Sándor tér 1.</td><td>58</td></tr>",
                            "<tr><td>JANOSG</td><td>JANOSG@gmail.com</td><td>Giliga János</td><td>1975</td><td>F</td><td>3300 Eger, Deák Ferenc út 5.</td><td>50</td></tr>",
                            "<tr><td>JANOSP</td><td>JANOSP@gmail.com</td><td>Pálinkás János</td><td>1984</td><td>F</td><td>5920 Csorvás, Padragi út 158.</td><td>41</td></tr>",
                            "<tr><td>jozsef</td><td>jozsef@gmail.com</td><td>Gergely József</td><td>1985</td><td>F</td><td>6050 Lajosmizse, Fő út 18.</td><td>40</td></tr>",
                            "<tr><td>jozsef2</td><td>józsef.vajda@mail.hu</td><td>Vajda József</td><td>1978</td><td>F</td><td>6700 Szeged, Baracsi László utca 14.</td><td>47</td></tr>",
                            "<tr><td>JOZSEFG</td><td>józsef.gyuris@mail.hu</td><td>Gyuris József</td><td>1975</td><td>F</td><td>2660 Balassagyarmat, Petőfi utca 1/2.</td><td>50</td></tr>",
                            "<tr><td>JUDITH</td><td>JUDITH@gmail.com</td><td>Hídasi Judit</td><td>1997</td><td>N</td><td>2100 Gödöllő, Fő út 169.</td><td>28</td></tr>",
                            "<tr><td>julia</td><td>julia@gmail.com</td><td>Tóth Júlia</td><td>1993</td><td>N</td><td>5310 Kisújszállás, Árpád utca 4.</td><td>32</td></tr>",
                            "<tr><td>julia4</td><td>julia4@gmail.com</td><td>Nagy Júlia</td><td>1985</td><td>N</td><td>7000 Sárbogárd, Jászai tér 21.</td><td>40</td></tr>",
                            "<tr><td>julianna4</td><td>julianna4@gmail.com</td><td>Szabó Julianna</td><td>1990</td><td>N</td><td>6700 Szeged, Kossuth Lajos utca 6.</td><td>35</td></tr>",
                            "<tr><td>kanita12</td><td>anita.kiss12@gmail.com</td><td>Kiss Anita</td><td>1975</td><td>N</td><td>2230 Gyömrő Fő tér 3.</td><td>50</td></tr>",
                            "<tr><td>kata</td><td>katalin.gondos@mail.hu</td><td>Gondos Katalin</td><td>1968</td><td>N</td><td>8237 Tihany, Kossuth Lajos utca 6.</td><td>57</td></tr>",
                            "<tr><td>katalin</td><td>katalin.horváth@mail.hu</td><td>Horváth Katalin</td><td>1968</td><td>N</td><td>2424 Előszállás, Rákóczi út 200.</td><td>57</td></tr>",
                            "<tr><td>katalin4</td><td>katalin4@gmail.com</td><td>Kertész Katalin</td><td>1986</td><td>N</td><td>2800 Tatabánya, Búvár utca 4.</td><td>39</td></tr>",
                            "<tr><td>kati</td><td>katalin.zatykó@mail.hu</td><td>Zatykó Katalin</td><td>1995</td><td>N</td><td>7511 Ötvöskónyi, Kossuth Lajos utca 6.</td><td>30</td></tr>",
                            "<tr><td>katka</td><td>katalin.kovács@mail.hu</td><td>Kovács Katalin</td><td>1975</td><td>N</td><td>8254 Kővágóörs, Petőfi utca 22.</td><td>50</td></tr>",
                            "<tr><td>klaudia2</td><td>klaudia.bakó@mail.hu</td><td>Bakó Klaudia</td><td>1982</td><td>N</td><td>8254 Kővágóörs, Kossuth Lajos utca 6.</td><td>43</td></tr>",
                            "<tr><td>kornel4</td><td>kornél.lukács@mail.hu</td><td>Lukács Kornél</td><td>1975</td><td>F</td><td>2053 Herceghalom, Bécsi utca 82.</td><td>50</td></tr>",
                            "<tr><td>kristof4</td><td>kristof4@gmail.com</td><td>Poprádi Kristóf</td><td>1984</td><td>F</td><td>8220 Balatonalmádi, Mészáros utca 7.</td><td>41</td></tr>",
                            "<tr><td>kriszti</td><td>kriszti@gmail.com</td><td>Horváth Krisztina</td><td>1978</td><td>N</td><td>6060 Tiszakécske, Árpád utca 4.</td><td>47</td></tr>",
                            "<tr><td>krisztian4</td><td>krisztián.czérna@mail.hu</td><td>Czérna Krisztián</td><td>1970</td><td>F</td><td>1107 Budapest, Dózsa György utca 37.</td><td>55</td></tr>",
                            "<tr><td>KRISZTIANM</td><td>KRISZTIANM@gmail.com</td><td>Mogyródi Krisztián</td><td>1968</td><td>F</td><td>9155 Lébény, Jászai tér 21.</td><td>57</td></tr>",
                            "<tr><td>krisztina</td><td>krisztina@gmail.com</td><td>Szedlár Krisztina</td><td>1979</td><td>N</td><td>6646 Tömörkény, Arany János utca 1.</td><td>46</td></tr>",
                            "<tr><td>krisztina1</td><td>krisztina.bori@mail.hu</td><td>Bori Krisztina</td><td>1969</td><td>N</td><td>2115 Vácszentlászló, Fő utca 47.</td><td>56</td></tr>",
                            "<tr><td>KRISZTINAG</td><td>KRISZTINAG@gmail.com</td><td>Gyárfás Krisztina</td><td>1987</td><td>N</td><td>6762 Sándorfalva, Arany János utca 1.</td><td>38</td></tr>",
                            "<tr><td>lajos</td><td>lajos.kiss@mail.hu</td><td>Kiss Lajos</td><td>1978</td><td>F</td><td>1077 Budapest, Dob utca 1</td><td>47</td></tr>",
                            "<tr><td>lala</td><td>lajos.nagymihály@mail.hu</td><td>Nagymihály Lajos</td><td>1997</td><td>F</td><td>8638 Balatonlelle, Rákóczi út 200.</td><td>28</td></tr>",
                            "<tr><td>laszlo1</td><td>lászló.farkas@mail.hu</td><td>Farkas László</td><td>1967</td><td>F</td><td>5200 Törökszentmiklós, Rendeki utca 21.</td><td>58</td></tr>",
                            "<tr><td>laszlo2</td><td>lászló.móra@mail.hu</td><td>Móra László</td><td>1975</td><td>F</td><td>9970 Szentgotthárd, Petőfi utca 1/2.</td><td>50</td></tr>",
                            "<tr><td>LASZLOA</td><td>lászló.antal@mail.hu</td><td>Antal László</td><td>1969</td><td>F</td><td>2484 Agárd, Bécsi utca 82.</td><td>56</td></tr>",
                            "<tr><td>LASZLON</td><td>lászló.nagy@mail.hu</td><td>Nagy László</td><td>1969</td><td>F</td><td>1173 Budapest, Jászai tér 21.</td><td>56</td></tr>",
                            "<tr><td>maria1</td><td>mária.baráth@mail.hu</td><td>Baráth Mária</td><td>1995</td><td>N</td><td>1047 Budapest, Posta köz 2.</td><td>30</td></tr>",
                            "<tr><td>mark</td><td>márk.kispál@mail.hu</td><td>Kispál Márk</td><td>1996</td><td>F</td><td>1086 Budapest, Juhászföldi út 1.</td><td>29</td></tr>",
                            "<tr><td>MARKH</td><td>márk.horváth@mail.hu</td><td>Horváth Márk</td><td>1997</td><td>F</td><td>4400 Nyíregyháza, Badacsonyi utca 12.</td><td>28</td></tr>",
                            "<tr><td>marton</td><td>marton@gmail.com</td><td>Kalacsi Márton</td><td>1989</td><td>F</td><td>5137 Jászkisér, Fő út 169.</td><td>36</td></tr>",
                            "<tr><td>MATEK</td><td>máté.koza@mail.hu</td><td>Koza Máté</td><td>1997</td><td>F</td><td>1011 Budapest, Központi telep 3.</td><td>28</td></tr>",
                            "<tr><td>matyas2</td><td>matyas2@gmail.com</td><td>Botka Mátyás</td><td>1972</td><td>F</td><td>2700 Cegléd, Kossuth Lajos utca 6.</td><td>53</td></tr>",
                            "<tr><td>MATYASS</td><td>mátyás.szilágyi@mail.hu</td><td>Szilágyi Mátyás</td><td>1975</td><td>F</td><td>9023 Győr, Kossuth Lajos utca 6.</td><td>50</td></tr>",
                            "<tr><td>melissza</td><td>nagy_peter@indamail.hu</td><td>Nagy Péter</td><td>1998</td><td>F</td><td>6800 Hódmezővásárhely, Oldalkosát u. 1.</td><td>27</td></tr>",
                            "<tr><td>MIHALYJ</td><td>mihály.juhász@mail.hu</td><td>Juhász Mihály</td><td>1979</td><td>F</td><td>6786 Ruzsa, Rákóczi utca 1.</td><td>46</td></tr>",
                            "<tr><td>miklos2</td><td>miklos2@gmail.com</td><td>Gondos Miklós</td><td>1995</td><td>F</td><td>2100 Gödöllő, Árpád utca 23.</td><td>30</td></tr>",
                            "<tr><td>MIKLOSB</td><td>miklós.balla@mail.hu</td><td>Balla Miklós</td><td>1979</td><td>F</td><td>4060 Balmazújváros, Szent István utca 2.</td><td>46</td></tr>",
                            "<tr><td>MONIKAM</td><td>mónika.mohos@mail.hu</td><td>Mohos Mónika</td><td>1974</td><td>N</td><td>2241 Sülysáp, Baracsi László utca 14.</td><td>51</td></tr>",
                            "<tr><td>NANDORF</td><td>nándor.fő@mail.hu</td><td>Fő Nándor</td><td>1968</td><td>F</td><td>5920 Csorvás, Bécsi utca 82.</td><td>57</td></tr>",
                            "<tr><td>nikolett3</td><td>nikolett3@gmail.com</td><td>Horváth Nikolett</td><td>1981</td><td>N</td><td>1072 Budapest, Arany János utca 1.</td><td>44</td></tr>",
                            "<tr><td>nikoletta4</td><td>nikoletta4@gmail.com</td><td>Kő Nikoletta</td><td>1972</td><td>N</td><td>5537 Zsadány, Fő út 18.</td><td>53</td></tr>",
                            "<tr><td>NIKOLETTAT</td><td>nikoletta.tatár@mail.hu</td><td>Tatár Nikoletta</td><td>1997</td><td>N</td><td>1067 Budapest, Győri utca 12.</td><td>28</td></tr>",
                            "<tr><td>norbert</td><td>norbert@gmail.com</td><td>Szűcs Norbert</td><td>1969</td><td>F</td><td>5071 Besenyszög, Győri utca 12.</td><td>56</td></tr>",
                            "<tr><td>norbert2</td><td>norbert.hegedűs@mail.hu</td><td>Hegedűs Norbert</td><td>1991</td><td>F</td><td>2081 Piliscsaba, Rendeki utca 21.</td><td>34</td></tr>",
                            "<tr><td>norbert4</td><td>norbert4@gmail.com</td><td>Mile Norbert</td><td>1983</td><td>F</td><td>3973 Cigánd, Bajcsy-Zsilinszky utca 4.</td><td>42</td></tr>",
                            "<tr><td>norbert5</td><td>norbert5@gmail.com</td><td>Béres Norbert</td><td>1975</td><td>F</td><td>8640 Fonyód, Bajcsy-Zsilinszky utca 4.</td><td>50</td></tr>",
                            "<tr><td>pal</td><td>pál.barabás@mail.hu</td><td>Barabás Pál</td><td>1968</td><td>F</td><td>1183 Budapest, Szolnoki út 8.</td><td>57</td></tr>",
                            "<tr><td>peter1</td><td>peter1@gmail.com</td><td>Kozma Péter</td><td>1976</td><td>F</td><td>6913 Csanádpalota, Központi telep 3.</td><td>49</td></tr>",
                            "<tr><td>peter2</td><td>peter2@gmail.com</td><td>Bozsó Péter</td><td>1976</td><td>F</td><td>4800 Vásárosnamény, Zombori út 2/A</td><td>49</td></tr>",
                            "<tr><td>peter3</td><td>peter3@gmail.com</td><td>Szalai Péter</td><td>1983</td><td>F</td><td>1155 Budapest, Arany János utca 3.</td><td>42</td></tr>",
                            "<tr><td>peter4</td><td>péter.bíró@mail.hu</td><td>Bíró Péter</td><td>1985</td><td>F</td><td>5137 Jászkisér, Rákóczi utca 67.</td><td>40</td></tr>",
                            "<tr><td>PETERB</td><td>péter.berendi@mail.hu</td><td>Berendi Péter</td><td>1969</td><td>F</td><td>3980 Sátoraljaújhely, Vasút utca 4/10.</td><td>56</td></tr>",
                            "<tr><td>polla</td><td>polla@gmail.com</td><td>Palágyi Polla</td><td>1994</td><td>N</td><td>2484 Agárd, Fő út 18.</td><td>31</td></tr>",
                            "<tr><td>rajmond4</td><td>rajmond.rácz@mail.hu</td><td>Rácz Rajmond</td><td>1993</td><td>F</td><td>9155 Lébény, Petőfi utca 1/2.</td><td>32</td></tr>",
                            "<tr><td>reka4</td><td>réka.szikszai@mail.hu</td><td>Szikszai Réka</td><td>1969</td><td>N</td><td>8254 Kővágóörs, Templom utca 73.</td><td>56</td></tr>",
                            "<tr><td>RENATAK</td><td>renáta.kardos@mail.hu</td><td>Kardos Renáta</td><td>1988</td><td>N</td><td>7086 Ozora, Bécsi utca 82.</td><td>37</td></tr>",
                            "<tr><td>RENATAS</td><td>RENATAS@gmail.com</td><td>Szirmai Renáta</td><td>1991</td><td>N</td><td>2053 Herceghalom, Kossuth utca 27.</td><td>34</td></tr>",
                            "<tr><td>robert2</td><td>robert2@gmail.com</td><td>Patay Róbert</td><td>1977</td><td>F</td><td>2370 Dabas, Rákóczi utca 21.</td><td>48</td></tr>",
                            "<tr><td>ROBERTI</td><td>róbert.iván@mail.hu</td><td>Iván Róbert</td><td>1967</td><td>F</td><td>2377 Örkény, Petőfi Sándor utca 3.</td><td>58</td></tr>",
                            "<tr><td>ROBERTP</td><td>ROBERTP@gmail.com</td><td>Pásztor Róbert</td><td>1972</td><td>F</td><td>5137 Jászkisér, Ady Endre út 27.</td><td>53</td></tr>",
                            "<tr><td>roland</td><td>roland@gmail.com</td><td>Tóth Roland</td><td>1968</td><td>F</td><td>2000 Szentendre, Fő út 169.</td><td>57</td></tr>",
                            "<tr><td>roland1</td><td>roland.ferencz@mail.hu</td><td>Ferencz Roland</td><td>1985</td><td>F</td><td>2424 Előszállás, Fő út 169.</td><td>40</td></tr>",
                            "<tr><td>roza2</td><td>roza2@gmail.com</td><td>Bucskó Róza</td><td>1988</td><td>N</td><td>5661 Újkígyós, Arany János utca 3.</td><td>37</td></tr>",
                            "<tr><td>sandor</td><td>sandor@gmail.com</td><td>Karasz Sándor</td><td>1970</td><td>F</td><td>8283 Káptalantóti, Kossuth Lajos utca 1/a.</td><td>55</td></tr>",
                            "<tr><td>sandor3</td><td>sándor.farkas@mail.hu</td><td>Farkas Sándor</td><td>1989</td><td>F</td><td>8640 Fonyód, Tanácsköztársaság tér 1.</td><td>36</td></tr>",
                            "<tr><td>sandor4</td><td>sandor4@gmail.com</td><td>Nagy Sándor</td><td>1997</td><td>F</td><td>4600 Kisvárda, Fő utca 47.</td><td>28</td></tr>",
                            "<tr><td>sara</td><td>sára.farkas@mail.hu</td><td>Farkas Sára</td><td>1973</td><td>N</td><td>5940 Tótkomlós, Felszabadulás utca 32.</td><td>52</td></tr>",
                            "<tr><td>SEBASTIANF</td><td>SEBASTIANF@gmail.com</td><td>Foltényi Sebastián</td><td>1992</td><td>F</td><td>7960 Sellye, Grassalkovich út 10.</td><td>33</td></tr>",
                            "<tr><td>sebestyen</td><td>sebestyen@gmail.com</td><td>Rab Sebestyén</td><td>1992</td><td>F</td><td>7130 Tolna, Központi telep 3.</td><td>33</td></tr>",
                            "<tr><td>szabolcs</td><td>szabolcs.bodor@mail.hu</td><td>Bodor Szabolcs</td><td>1990</td><td>F</td><td>6786 Ruzsa, Ady Endre út 27.</td><td>35</td></tr>",
                            "<tr><td>SZABOLCSM</td><td>szabolcs.miklós@mail.hu</td><td>Miklós Szabolcs</td><td>1980</td><td>F</td><td>1102 Budapest, Fő út 169.</td><td>45</td></tr>",
                            "<tr><td>SZILARDS</td><td>szilárd.szalai@mail.hu</td><td>Szalai Szilárd</td><td>1967</td><td>F</td><td>1077 Budapest, Fő út 18.</td><td>58</td></tr>",
                            "<tr><td>szilvia1</td><td>szilvia.tari@mail.hu</td><td>Tari Szilvia</td><td>1971</td><td>N</td><td>6080 Szabadszállás, Bécsi utca 82.</td><td>54</td></tr>",
                            "<tr><td>tamara2</td><td>tamara.miklós@mail.hu</td><td>Miklós Tamara</td><td>1980</td><td>N</td><td>3910 Tokaj, Kossuth út 39.</td><td>45</td></tr>",
                            "<tr><td>tamas</td><td>tamás.antal@mail.hu</td><td>Antal Tamás</td><td>1984</td><td>F</td><td>4440 Tiszavasvári, Posta köz 2.</td><td>41</td></tr>",
                            "<tr><td>TAMASF</td><td>TAMASF@gmail.com</td><td>Fényes Tamás</td><td>1997</td><td>F</td><td>9023 Győr, Arany János utca 1.</td><td>28</td></tr>",
                            "<tr><td>tibor</td><td>tibor.gombos@mail.hu</td><td>Gombos Tibor</td><td>1993</td><td>F</td><td>7100 Szekszárd, Kossuth utca 77.</td><td>32</td></tr>",
                            "<tr><td>tibor2</td><td>tibor2@gmail.com</td><td>Dániel Tibor</td><td>1985</td><td>F</td><td>6646 Tömörkény, Árpád utca 23.</td><td>40</td></tr>",
                            "<tr><td>tihamer</td><td>tihamér.kazy@mail.hu</td><td>Kazy Tihamér</td><td>1991</td><td>F</td><td>2370 Dabas, Fő utca 60.</td><td>34</td></tr>",
                            "<tr><td>timea</td><td>timea@gmail.com</td><td>Papós Tímea</td><td>1996</td><td>N</td><td>1035 Budapest,  Kossuth út 77.</td><td>29</td></tr>",
                            "<tr><td>timea2</td><td>tímea.dusha@mail.hu</td><td>Dusha Tímea</td><td>1975</td><td>N</td><td>5920 Csorvás, Kossuth utca 8.</td><td>50</td></tr>",
                            "<tr><td>tunde</td><td>tunde@gmail.com</td><td>Turcsik Tünde</td><td>1974</td><td>N</td><td>7130 Tolna, Fő út 122.</td><td>51</td></tr>",
                            "<tr><td>valentin</td><td>valentin.feró@mail.hu</td><td>Feró Valentin</td><td>1986</td><td>F</td><td>3895 Gönc, Búvár utca 4.</td><td>39</td></tr>",
                            "<tr><td>veronika4</td><td>veronika4@gmail.com</td><td>Tankó Veronika</td><td>1983</td><td>N</td><td>6412 Balotaszállás, Rendeki utca 21.</td><td>42</td></tr>",
                            "<tr><td>VIKTORIAU</td><td>viktoria.urbán@mail.hu</td><td>Urbán Viktoria</td><td>1996</td><td>N</td><td>3860 Encs, Népboltsor  2.</td><td>29</td></tr>",
                            "<tr><td>VIKTORK</td><td>viktor.keresztúri@mail.hu</td><td>Keresztúri Viktor</td><td>1989</td><td>F</td><td>2532 Tokodaltáró, Nagy Lajos tér 4.</td><td>36</td></tr>",
                            "<tr><td>vivien3</td><td>vivien3@gmail.com</td><td>Boros Vivien</td><td>1991</td><td>N</td><td>2117 Isaszeg, Fő út 122.</td><td>34</td></tr>",
                            "<tr><td>zoltan</td><td>zoltán.fodor@mail.hu</td><td>Fodor Zoltán</td><td>1979</td><td>F</td><td>3441 Mezőkeresztes, Fő utca 23.</td><td>46</td></tr>",
                            "<tr><td>zoltan4</td><td>zoltan4@gmail.com</td><td>Barna Zoltán</td><td>1986</td><td>F</td><td>8313 Balatongyörök, Jászai tér 21.</td><td>39</td></tr>",
                            "<tr><td>ZOLTANP</td><td>zoltán.pintér@mail.hu</td><td>Pintér Zoltán</td><td>1977</td><td>F</td><td>6050 Lajosmizse, Fő út 18.</td><td>48</td></tr>",
                            "<tr><td>ZOLTANT</td><td>zoltán.tóth@mail.hu</td><td>Tóth Zoltán</td><td>1985</td><td>F</td><td>4244 Újfehértó, Posta köz 2.</td><td>40</td></tr>",
                            "<tr><td>zsofi1</td><td>zsofi1@gmail.com</td><td>Molnár Zsófi</td><td>1983</td><td>N</td><td>2730 Albertirsa, Árpád utca 23.</td><td>42</td></tr>",
                            "<tr><td>zsolt1</td><td>zsolt.pulai@mail.hu</td><td>Pulai Zsolt</td><td>1988</td><td>F</td><td>8391 Sármellék, Fő utca 60.</td><td>37</td></tr>",
                            "<tr><td>ZSOLTJ</td><td>ZSOLTJ@gmail.com</td><td>Józsa Zsolt</td><td>1983</td><td>F</td><td>8315 Gyenesdiás, Bajcsy-Zsilinszky utca 4.</td><td>42</td></tr>",
                            "<tr><td>zsuzsa</td><td>zsuzsanna@gmail.com</td><td>Pusztai Zsuzsanna</td><td>1980</td><td>N</td><td>6783 Ásotthalom, Badacsonyi utca 12.</td><td>45</td></tr>",
                            "<tr><td>zsuzsa3</td><td>zsuzsa.varsányi@mail.hu</td><td>Varsányi Zsuzsa</td><td>1979</td><td>N</td><td>8600 Siófok, Árpád utca 4.</td><td>46</td></tr>",
                            "<tr><td>zsuzsanna</td><td>zsuzsanna.barta@mail.hu</td><td>Barta Zsuzsanna</td><td>1994</td><td>N</td><td>4172 Biharnagybajom, Dózsa György utca 37.</td><td>31</td></tr>",
                            "<tr><td>ZSUZSAV</td><td>zsuzsa.vajda@mail.hu</td><td>Vajda Zsuzsa</td><td>1976</td><td>N</td><td>6786 Ruzsa, Kossuth utca 77.</td><td>49</td></tr>",
                            "</table>"
                        ]
                    }
                }
            ],
            "execution_count": 42
        }
    ]
}